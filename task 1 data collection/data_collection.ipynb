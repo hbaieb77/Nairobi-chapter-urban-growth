{
 "cells": [
  {
   "cell_type": "code",
   "execution_count": 80,
   "id": "58574371-dd4d-479f-934c-1c0608ed437f",
   "metadata": {},
   "outputs": [],
   "source": [
    "import numpy as np\n",
    "import xarray as xr\n",
    "import pandas as pd\n",
    "import os\n",
    "import folium\n",
    "\n",
    "from geopy.geocoders import Nominatim\n",
    "from geopy.distance import distance"
   ]
  },
  {
   "cell_type": "markdown",
   "id": "b5e51b01-8377-4b92-b2cd-1ab702e255c7",
   "metadata": {},
   "source": [
    "## Geospatial data for population growth in African countries\n",
    "This is a short script to process the Population Count, v4.11 (2000, 2005, 2010, 2015, 2020), with the gridded population of the world in 5km grids. You can find this dataset [here](https://sedac.ciesin.columbia.edu/data/set/gpw-v4-population-count-rev11/data-download). This dataset is part of the Earth Engine datasets [here](https://developers.google.com/earth-engine/datasets/catalog/CIESIN_GPWv411_GPW_Population_Count?hl=en#citations). It could also be accessed through an API.\n",
    "\n",
    "### References\n",
    "\n",
    "Center for International Earth Science Information Network - CIESIN - Columbia University. 2018. Gridded Population of the World, Version 4 (GPWv4): Population Count, Revision 11. Palisades, NY: NASA Socioeconomic Data and Applications Center (SEDAC). https://doi.org/10.7927/H4JW8BX5. Accessed 24 Mar 2023."
   ]
  },
  {
   "cell_type": "code",
   "execution_count": null,
   "id": "d234ad58-4b22-45e5-8e4a-c7153c704d9a",
   "metadata": {},
   "outputs": [],
   "source": [
    "# Helper function\n",
    "def find_point(lat, long, miles, bearing):\n",
    "    return distance(miles=miles).destination((lat, long), bearing=bearing)"
   ]
  },
  {
   "cell_type": "code",
   "execution_count": null,
   "id": "83eb98f5-9ed1-4f5c-94d5-a5348ac3f314",
   "metadata": {},
   "outputs": [],
   "source": [
    "# Importing the whole dataset and the country references\n",
    "data_pop = 'gpw-v4-population-count-rev11_totpop_2pt5_min_nc/gpw_v4_population_count_rev11_2pt5_min.nc'\n",
    "countries_df = pd.read_csv('gpw-v4-population-count-rev11_totpop_2pt5_min_nc/gpw_v4_national_identifier_grid_rev11_lookup.txt', sep=\"\\t\")\n",
    "\n",
    "# The ds has 3 dimensions and has long x lat x rasters elements\n",
    "ds = xr.open_dataset(data_pop)\n",
    "\n",
    "# These are the raster names for clarity\n",
    "raster_name = {1: 'Adjusted-Population-Count_2000',\n",
    "               2: 'Adjusted-Population-Count_2005',\n",
    "               3: 'Adjusted-Population-Count_2010',\n",
    "               4: 'Adjusted-Population-Count_2015',\n",
    "               5: 'Adjusted-Population-Count_2020',\n",
    "               6: 'Data-Quality_Data-Context_2010',\n",
    "               7: 'Data-Quality_Mean-Administrative-Unit-Area_2010',\n",
    "               8: 'Data-Quality_Water-Mask_2010',\n",
    "               9: 'Land-Area_2010',\n",
    "               10: 'Water-Area_2010',\n",
    "               11: 'National-Identifier-Grid_2010',\n",
    "               12: 'Data-Code_2010',\n",
    "               13: 'Input-Data-Year_2010',\n",
    "               14: 'Input-Data-Level_2010',\n",
    "               15: 'Input-Data-Sex_2010',\n",
    "               16: 'Input-Data-Age_2010',\n",
    "               17: 'Growth-Rate-Start-Year_2010',\n",
    "               18: 'Growth-Rate-End-Year_2010',\n",
    "               19: 'Growth_Rate-Admin-Level_2010',\n",
    "               20: 'Year-most-recent-Census_2010'}"
   ]
  },
  {
   "cell_type": "code",
   "execution_count": null,
   "id": "1109110e-5366-4a16-8187-7faf2eb412c6",
   "metadata": {},
   "outputs": [],
   "source": [
    "# The smallest I can get is country level information, pre-filter of the cities\n",
    "# I will get the countries from the decided top 20 cities \n",
    "countries_to_filter = ['AGO', 'CMR', 'CIV', 'EGY', 'ETH', \n",
    "                       'MAR', 'NGA', 'ZAF', 'SDN', 'TZA', \n",
    "                       'COD', 'MDG', 'KEN']\n",
    "filtered_countries_df = countries_df[countries_df['ISOCODE'].isin(countries_to_filter)]\n",
    "filtered_countries_list = filtered_countries_df['Value'].tolist()"
   ]
  },
  {
   "cell_type": "code",
   "execution_count": null,
   "id": "51370254-5925-4b0a-bb8e-1bfadac75eb0",
   "metadata": {},
   "outputs": [],
   "source": [
    "# Viewing the countries\n",
    "filtered_countries_df"
   ]
  },
  {
   "cell_type": "code",
   "execution_count": null,
   "id": "48c203dc-286c-4fd1-8315-9f366c188e64",
   "metadata": {},
   "outputs": [],
   "source": [
    "# Raster 11 represents the country codes, so I filtered the countries in raster 11 and then broadcasted\n",
    "# to get every piece of information for the countries\n",
    "# This takes a minute or two running\n",
    "filtered_ds = ds.sel(raster=11).isin(filtered_countries_list)\n",
    "filtered2, _ = xr.broadcast(filtered_ds, ds)\n",
    "ds_africa = ds.where(filtered2, drop=True)"
   ]
  },
  {
   "cell_type": "code",
   "execution_count": null,
   "id": "592692c1-0d47-4e31-ac4d-bc3b4dad49f9",
   "metadata": {},
   "outputs": [],
   "source": [
    "# Here I am just cleaning turning the ds into a df and cleaning it, dropping NAs, adding labels to rasters\n",
    "Top_20_Africa_df = ds_africa.to_dataframe().dropna().reset_index()\\\n",
    "                            .rename(columns = {'Population Count, v4.11 (2000, 2005, 2010, 2015, 2020): 2.5 arc-minutes': 'value'})\n"
   ]
  },
  {
   "cell_type": "code",
   "execution_count": null,
   "id": "70ff44b1-14c7-4594-9672-88e292f7aa0a",
   "metadata": {},
   "outputs": [],
   "source": [
    "# Just doing a bit more cleaning\n",
    "Top_20_Africa_df['raster_name'] = Top_20_Africa_df['raster'].apply(lambda x: raster_name[x])\n",
    "Top_20_Africa_df2 = Top_20_Africa_df.drop(columns = ['raster'])\\\n",
    "                                    .pivot(index= ['latitude', 'longitude'],\n",
    "                                           columns = ['raster_name'],\n",
    "                                           values = ['value'])\n",
    "\n",
    "# this is to paste the country names, I just did it quickly with dict and parallel computing because I\n",
    "# am scared of joinig the tables\n",
    "country_values = filtered_countries_df['Value'].tolist()\n",
    "country_names = filtered_countries_df['NAME0'].tolist()\n",
    "country_dic = dict(zip(country_values,country_names))\n",
    "\n",
    "Top_20_Africa_df2[('value','Country_Name')] = Top_20_Africa_df2[('value','National-Identifier-Grid_2010')].apply(lambda x: country_dic[x])\n",
    "Top_20_Africa_df2.columns = Top_20_Africa_df2.columns.map(lambda x: x[1])"
   ]
  },
  {
   "cell_type": "code",
   "execution_count": null,
   "id": "c4b181f1-2d9c-4a43-b1c1-4a125758deaa",
   "metadata": {},
   "outputs": [],
   "source": [
    "# Printing the document\n",
    "Top_20_Africa_df2.to_csv('Top-20_population-count_2000-2020.csv')\n",
    "Top_20_Africa_df2.head()"
   ]
  },
  {
   "cell_type": "code",
   "execution_count": null,
   "id": "9cc67ef8-785e-42f1-a182-8779300cdfc4",
   "metadata": {},
   "outputs": [],
   "source": [
    "Top_20_Africa_df2.query('Country_Name == \"United Republic of Tanzania\"')"
   ]
  },
  {
   "cell_type": "code",
   "execution_count": null,
   "id": "33173076-56aa-4fe0-b0e5-b63d844377eb",
   "metadata": {},
   "outputs": [],
   "source": [
    "# Checking the population as of 2020 just to be cautious\n",
    "Top_20_Africa_df2[['Country_Name', 'Adjusted-Population-Count_2020']].groupby('Country_Name').sum()"
   ]
  },
  {
   "cell_type": "markdown",
   "id": "dbf8c3d1-c53f-497a-ad2a-b3a53c285254",
   "metadata": {},
   "source": [
    "## Filtering by City"
   ]
  },
  {
   "cell_type": "markdown",
   "id": "4b19c0fe-d65e-4ac7-a860-1aa7fdb31bea",
   "metadata": {},
   "source": [
    "So, we have the country-level data but we want the specific top 20 cities. To filter it we will geolocate the cities"
   ]
  },
  {
   "cell_type": "code",
   "execution_count": 89,
   "id": "4d133119-e060-47a9-a719-f1819288d604",
   "metadata": {},
   "outputs": [],
   "source": [
    "# Initialize Nominatim API\n",
    "geolocator = Nominatim(user_agent=\"MyApp\")\n",
    "locations_dict = {}\n",
    "#Top cities\n",
    "cities = ['Dar es-Salam, Coastal Zone, Tanzania', 'Kinsasa, República Democrática del Congo', \n",
    "          'City of Johannesburg, South Africa', 'Lagos, Nigeria', 'Luanda, Angola', 'Jartum, Sudán',\n",
    "          'Abiyán, Costa de Marfil', 'Alexandria, Egypt', 'Addis Ababa, Ethiopia', 'Ciudad del Cabo, Sudáfrica',\n",
    "          'Yaoundé, Cameroon', 'Kano, Nigeria', 'Ekurhuleni, South Africa', 'Douala, Cameroon',\n",
    "          'Casablanca, Morocco', 'Ibadan, Nigeria', 'Antananarivo, Madagascar', 'Nairobi, Kenya']\n",
    "\n",
    "for i in cities:\n",
    "    location = geolocator.geocode(i)\n",
    "    locations_dict[i] = (location.latitude, location.longitude)"
   ]
  },
  {
   "cell_type": "code",
   "execution_count": 90,
   "id": "87898feb-84fc-4148-bd59-03b3d47cf13d",
   "metadata": {},
   "outputs": [],
   "source": [
    "locations_df = pd.DataFrame(locations_dict, index = ['latitude','longitude']).T\\\n",
    "                 .reset_index().rename(columns = {'index': 'City'})\n",
    "miles=20\n",
    "\n",
    "# With the function distance from geopy, I can find a lat long given a distance\n",
    "locations_df['North_bound'] = locations_df[['latitude', 'longitude']].apply(lambda x: find_point(x['latitude'], x['longitude'], miles, 0).latitude, axis=1)\n",
    "locations_df['South_bound'] = locations_df[['latitude', 'longitude']].apply(lambda x: find_point(x['latitude'], x['longitude'], miles, 180).latitude, axis=1)\n",
    "locations_df['East_bound'] = locations_df[['latitude', 'longitude']].apply(lambda x: find_point(x['latitude'], x['longitude'], miles, 90).longitude, axis=1)\n",
    "locations_df['West_bound'] = locations_df[['latitude', 'longitude']].apply(lambda x: find_point(x['latitude'], x['longitude'], miles, 270).longitude, axis=1)"
   ]
  },
  {
   "cell_type": "code",
   "execution_count": 91,
   "id": "52c19a1c-c96d-4c55-a63e-1ef722694f6c",
   "metadata": {},
   "outputs": [],
   "source": [
    "# just printing the locations because we will use them later\n",
    "locations_df.to_csv('city_coordinates.csv', index=False)"
   ]
  },
  {
   "cell_type": "code",
   "execution_count": null,
   "id": "34546f09-b937-4812-a252-819e059e1cbe",
   "metadata": {},
   "outputs": [],
   "source": [
    "list_dfs = []\n",
    "names_html = []\n",
    "\n",
    "for index, row in locations_df.iterrows():\n",
    "    north_bound = row['North_bound']\n",
    "    south_bound = row['South_bound']\n",
    "    east_bound = row['East_bound']\n",
    "    west_bound = row['West_bound']\n",
    "    \n",
    "    query = 'latitude <= @north_bound & latitude >= @south_bound & longitude <= @east_bound & longitude >= @west_bound'\n",
    "    filtered_df = Top_20_Africa_df2.query(query)\n",
    "    filtered_df['City'] = row['City']\n",
    "    list_dfs.append(filtered_df)\n",
    "    \n",
    "    m = folium.Map([row['latitude'], row['longitude']], zoom_start=10)\n",
    "    \n",
    "    for index_2, row_2 in filtered_df.reset_index().iterrows():\n",
    "        folium.CircleMarker(location=(row_2['latitude'], row_2['longitude']), radius = row_2['Adjusted-Population-Count_2020']/50000).add_to(m)\n",
    "    \n",
    "    name = f'images/population/{row[\"City\"]}.html'\n",
    "    names_html.append(name)\n",
    "    m.save(name)"
   ]
  },
  {
   "cell_type": "code",
   "execution_count": 93,
   "id": "e70466b7-e9c5-4aeb-971d-b0194f65111f",
   "metadata": {},
   "outputs": [],
   "source": [
    "Top_20_Africa_filtered = pd.concat(list_dfs,axis=0)\n",
    "Top_20_Africa_filtered.to_csv('Top-20_population-count_2000-2020.csv')"
   ]
  },
  {
   "cell_type": "code",
   "execution_count": null,
   "id": "f4ab5669-69cf-4a95-a2bb-68b0310d36e0",
   "metadata": {},
   "outputs": [],
   "source": [
    "#half_point = Top_20_Africa_df2.shape[0]//2"
   ]
  },
  {
   "cell_type": "code",
   "execution_count": null,
   "id": "9a0c1cb6-25fc-4573-a094-a0982ddeeca0",
   "metadata": {},
   "outputs": [],
   "source": [
    "#Top_20_Africa_df2.iloc[:half_point].to_csv('Top-20_population-count_2000-2020_part1.csv')\n",
    "#Top_20_Africa_df2.iloc[half_point:].to_csv('Top-20_population-count_2000-2020_part2.csv')"
   ]
  },
  {
   "cell_type": "markdown",
   "id": "182a7b3c-b276-4969-95ea-db0c051b9d97",
   "metadata": {},
   "source": [
    "### This is just for checking specific countries"
   ]
  },
  {
   "cell_type": "code",
   "execution_count": null,
   "id": "90b24e6e-e210-4dba-a259-10a54703793b",
   "metadata": {},
   "outputs": [],
   "source": [
    "from operator import itemgetter"
   ]
  },
  {
   "cell_type": "code",
   "execution_count": null,
   "id": "6a59eb39-6f27-46ea-940c-d6b897155114",
   "metadata": {},
   "outputs": [],
   "source": [
    "indexes_list = Top_20_Africa_df2.query('Country_Name == \"United Republic of Tanzania\"').index"
   ]
  },
  {
   "cell_type": "code",
   "execution_count": null,
   "id": "6b8f7bef-614a-4ba4-8d1b-17bf033e6784",
   "metadata": {},
   "outputs": [],
   "source": [
    "print(f'Max lat: {max(indexes_list, key = itemgetter(0))[0]}')\n",
    "print(f'Min lat: {min(indexes_list, key = itemgetter(0))[0]}')\n",
    "print(f'Max long: {max(indexes_list, key = itemgetter(1))[0]}')\n",
    "print(f'Min long: {min(indexes_list, key = itemgetter(1))[0]}')"
   ]
  },
  {
   "cell_type": "code",
   "execution_count": null,
   "id": "0cf01e34-75bd-4779-ba52-bbb012cefa01",
   "metadata": {},
   "outputs": [],
   "source": [
    "Top_20_Africa_df2.query('Country_Name == \"United Republic of Tanzania\"')"
   ]
  }
 ],
 "metadata": {
  "kernelspec": {
   "display_name": "Python 3 (ipykernel)",
   "language": "python",
   "name": "python3"
  },
  "language_info": {
   "codemirror_mode": {
    "name": "ipython",
    "version": 3
   },
   "file_extension": ".py",
   "mimetype": "text/x-python",
   "name": "python",
   "nbconvert_exporter": "python",
   "pygments_lexer": "ipython3",
   "version": "3.10.9"
  }
 },
 "nbformat": 4,
 "nbformat_minor": 5
}

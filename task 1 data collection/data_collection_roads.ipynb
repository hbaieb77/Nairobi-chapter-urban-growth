{
 "cells": [
  {
   "cell_type": "code",
   "execution_count": 28,
   "id": "9e72a7ff-135a-4508-be1e-d5596ad6c001",
   "metadata": {},
   "outputs": [],
   "source": [
    "import osmnx as ox\n",
    "import pickle"
   ]
  },
  {
   "cell_type": "code",
   "execution_count": 15,
   "id": "4bbc5236-d96e-489e-80cd-b32a990fd523",
   "metadata": {},
   "outputs": [],
   "source": [
    "import folium"
   ]
  },
  {
   "cell_type": "code",
   "execution_count": 12,
   "id": "4c4d7cdd-b1b7-4171-8d84-a20a67e0771d",
   "metadata": {},
   "outputs": [],
   "source": [
    "nodes, streets = ox.graph_to_gdfs(graph)"
   ]
  },
  {
   "cell_type": "code",
   "execution_count": 21,
   "id": "44dad55e-906f-40f1-9d86-cf2cc67f9b43",
   "metadata": {},
   "outputs": [],
   "source": [
    "roads_dict = {}\n",
    "\n",
    "places = ['Yaoundé, Cameroon', 'Kano, Nigeria', 'Casablanca, Morocco', 'Antananarivo, Madagascar',\n",
    "          'Nairobi, Kenya', 'Kinsasa, República Democrática del Congo', 'Lagos, Nigeria',\n",
    "          'Luanda, Angola', 'Jartum, Sudán', 'Alexandria, Egypt', 'Addis Ababa, Ethiopia',\n",
    "          'Douala, Cameroon']\n"
   ]
  },
  {
   "cell_type": "code",
   "execution_count": 23,
   "id": "192f12bb-8872-4771-9521-ac104b76a896",
   "metadata": {},
   "outputs": [],
   "source": [
    "for i in range(len(places)):\n",
    "    roads = ox.graph_from_place(places[i], network_type='drive')\n",
    "    nodes, streets = ox.graph_to_gdfs(graph)\n",
    "    roads_dict[places[i]] = (nodes,streets,roads)"
   ]
  },
  {
   "cell_type": "code",
   "execution_count": null,
   "id": "511a823b-543c-4f4b-bb5a-ac9708df8858",
   "metadata": {},
   "outputs": [],
   "source": [
    "for key, value in roads_dict.items():\n",
    "    m = ox.folium.plot_graph_folium(value[2])\n",
    "    name = f'images/roads/{key}.html'\n",
    "    m.save(name)"
   ]
  },
  {
   "cell_type": "code",
   "execution_count": 40,
   "id": "4795c2c6-660b-4685-a831-61d27b4a2de8",
   "metadata": {},
   "outputs": [],
   "source": [
    "roads_dict2 = {}\n",
    "for key, value in roads_dict.items():\n",
    "    roads_dict2[key] = value[2]"
   ]
  },
  {
   "cell_type": "code",
   "execution_count": null,
   "id": "5d7451bb-381a-41af-b4e3-16d88f1758fe",
   "metadata": {},
   "outputs": [],
   "source": [
    "\n",
    "with open('roads/city_roads.pkl', 'wb') as outp:\n",
    "    pickle.dump(roads_dict, outp, pickle.HIGHEST_PROTOCOL)\n"
   ]
  },
  {
   "cell_type": "code",
   "execution_count": 42,
   "id": "598c12e0-7c79-4b15-a43b-97239bc5eb49",
   "metadata": {},
   "outputs": [
    {
     "name": "stderr",
     "output_type": "stream",
     "text": [
      "/var/folders/gc/nh457gv968xc7gm4dfvcm5k00000gn/T/ipykernel_43036/287384442.py:1: ResourceWarning: unclosed file <_io.BufferedWriter name='roads/city_roads.pkl'>\n",
      "  with open('roads/city_roads2.pkl', 'wb') as outp:\n",
      "ResourceWarning: Enable tracemalloc to get the object allocation traceback\n"
     ]
    }
   ],
   "source": [
    "\n",
    "with open('roads/city_roads2.pkl', 'wb') as outp:\n",
    "    pickle.dump(roads_dict2, outp, pickle.HIGHEST_PROTOCOL)"
   ]
  }
 ],
 "metadata": {
  "kernelspec": {
   "display_name": "Python 3 (ipykernel)",
   "language": "python",
   "name": "python3"
  },
  "language_info": {
   "codemirror_mode": {
    "name": "ipython",
    "version": 3
   },
   "file_extension": ".py",
   "mimetype": "text/x-python",
   "name": "python",
   "nbconvert_exporter": "python",
   "pygments_lexer": "ipython3",
   "version": "3.10.9"
  }
 },
 "nbformat": 4,
 "nbformat_minor": 5
}

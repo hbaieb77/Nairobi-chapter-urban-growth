{
 "cells": [
  {
   "cell_type": "code",
   "execution_count": 6,
   "id": "9e72a7ff-135a-4508-be1e-d5596ad6c001",
   "metadata": {},
   "outputs": [],
   "source": [
    "import osmnx as ox\n",
    "from geopy.geocoders import Nominatim\n",
    "import folium\n",
    "\n",
    "# Initialize Nominatim API\n",
    "geolocator = Nominatim(user_agent=\"MyApp\")"
   ]
  },
  {
   "cell_type": "code",
   "execution_count": 9,
   "id": "44dad55e-906f-40f1-9d86-cf2cc67f9b43",
   "metadata": {},
   "outputs": [],
   "source": [
    "places = ['Yaoundé, Cameroon', 'Kano, Nigeria', 'Casablanca, Morocco', 'Antananarivo, Madagascar', 'Nairobi, Kenya', \n",
    "          'Kinsasa, República Democrática del Congo', 'Lagos, Nigeria',\n",
    "          'Luanda, Angola', 'Jartum, Sudán', 'Alexandria, Egypt', \n",
    "          'Addis Ababa, Ethiopia','Douala, Cameroon']\n",
    "\n",
    "documents_names = ['yaounde-cameroon', 'kano-nigeria', 'casablanca-morocco', 'antananarivo-madagascar',\n",
    "                   'nairobi-kenya', 'kinsasa-DRC', 'lagos-nigeria', 'luanda-angola',\n",
    "                   'jartum-sudan', 'alexandria-egypt','addis-ababa-ethiopia','douala-cameroon']\n",
    "                  \n",
    "#place = 'Dar es-Salam, Coastal Zone, Tanzania'\n",
    "#place = 'Kinsasa, República Democrática del Congo'\n",
    "#place = 'City of Johannesburg, South Africa'\n",
    "#place = 'Lagos, Nigeria'\n",
    "#place = 'Luanda, Angola'\n",
    "#place = 'Jartum, Sudán'\n",
    "#place = 'Abiyán, Costa de Marfil'\n",
    "#place = 'Alexandria, Egypt'\n",
    "#place = 'Addis Ababa, Ethiopia'\n",
    "#place = 'Ciudad del Cabo, Sudáfrica'\n",
    "#place = 'Yaoundé, Cameroon'\n",
    "#place = 'Kano, Nigeria'\n",
    "#place = 'Ekurhuleni, South Africa'\n",
    "#place = 'Douala, Cameroon'\n",
    "#place = 'Casablanca, Morocco'\n",
    "#place = 'Ibadan, Nigeria'\n",
    "#place = 'Antananarivo, Madagascar'"
   ]
  },
  {
   "cell_type": "code",
   "execution_count": null,
   "id": "192f12bb-8872-4771-9521-ac104b76a896",
   "metadata": {},
   "outputs": [
    {
     "name": "stdout",
     "output_type": "stream",
     "text": [
      "Yaoundé, Cameroon\n",
      "Retreiving data\n",
      "Locating place\n",
      "Creating graph\n",
      "Kano, Nigeria\n",
      "Retreiving data\n",
      "Locating place\n",
      "Creating graph\n",
      "Casablanca, Morocco\n",
      "Retreiving data\n",
      "Locating place\n",
      "Creating graph\n",
      "Antananarivo, Madagascar\n",
      "Retreiving data\n"
     ]
    }
   ],
   "source": [
    "tags = {'building':True}\n",
    "cols = ['amenity','building', 'name', 'tourism', 'geometry']\n",
    "\n",
    "for i in range(len(places)):\n",
    "    print(places[i])\n",
    "    print('Retreiving data')\n",
    "    building = ox.geometries_from_place(places[i], tags)\n",
    "    building[cols].to_csv(f\"buildings/{documents_names[i]}.csv\")\n",
    "    \n",
    "    buildings = building[building.geom_type == 'Polygon']\n",
    "    print('Locating place')\n",
    "    location = geolocator.geocode(places[i])\n",
    "    \n",
    "    print('Creating graph')\n",
    "    m = folium.Map([location.latitude, location.longitude], zoom_start=10, tiles='CartoDb dark_matter')\n",
    "    folium.GeoJson(buildings[:1000]).add_to(m)\n",
    "    \n",
    "    name = f'images/buildings/{places[i]}.html'\n",
    "    m.save(name)"
   ]
  }
 ],
 "metadata": {
  "kernelspec": {
   "display_name": "Python 3 (ipykernel)",
   "language": "python",
   "name": "python3"
  },
  "language_info": {
   "codemirror_mode": {
    "name": "ipython",
    "version": 3
   },
   "file_extension": ".py",
   "mimetype": "text/x-python",
   "name": "python",
   "nbconvert_exporter": "python",
   "pygments_lexer": "ipython3",
   "version": "3.10.9"
  }
 },
 "nbformat": 4,
 "nbformat_minor": 5
}

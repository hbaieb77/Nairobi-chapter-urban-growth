{
 "cells": [
  {
   "cell_type": "code",
   "execution_count": 1,
   "id": "8c01b05e",
   "metadata": {},
   "outputs": [],
   "source": [
    "import pandas as pd"
   ]
  },
  {
   "cell_type": "code",
   "execution_count": 2,
   "id": "e9da4869",
   "metadata": {},
   "outputs": [],
   "source": [
    "df = pd.read_csv('UN_city_pop_projections_long.csv')"
   ]
  },
  {
   "cell_type": "code",
   "execution_count": 3,
   "id": "86c6a024",
   "metadata": {},
   "outputs": [
    {
     "data": {
      "text/html": [
       "<div>\n",
       "<style scoped>\n",
       "    .dataframe tbody tr th:only-of-type {\n",
       "        vertical-align: middle;\n",
       "    }\n",
       "\n",
       "    .dataframe tbody tr th {\n",
       "        vertical-align: top;\n",
       "    }\n",
       "\n",
       "    .dataframe thead th {\n",
       "        text-align: right;\n",
       "    }\n",
       "</style>\n",
       "<table border=\"1\" class=\"dataframe\">\n",
       "  <thead>\n",
       "    <tr style=\"text-align: right;\">\n",
       "      <th></th>\n",
       "      <th>Unnamed: 0</th>\n",
       "      <th>Region</th>\n",
       "      <th>Country_Code</th>\n",
       "      <th>Country_or_area</th>\n",
       "      <th>City_Code</th>\n",
       "      <th>City</th>\n",
       "      <th>City_Definition</th>\n",
       "      <th>Latitude</th>\n",
       "      <th>Longitude</th>\n",
       "      <th>year</th>\n",
       "      <th>population</th>\n",
       "    </tr>\n",
       "  </thead>\n",
       "  <tbody>\n",
       "    <tr>\n",
       "      <th>0</th>\n",
       "      <td>0</td>\n",
       "      <td>Africa</td>\n",
       "      <td>12</td>\n",
       "      <td>Algeria</td>\n",
       "      <td>20009</td>\n",
       "      <td>Annaba</td>\n",
       "      <td>Urban Agglomeration</td>\n",
       "      <td>36.900000</td>\n",
       "      <td>7.766670</td>\n",
       "      <td>1950</td>\n",
       "      <td>99.741</td>\n",
       "    </tr>\n",
       "    <tr>\n",
       "      <th>1</th>\n",
       "      <td>1</td>\n",
       "      <td>Africa</td>\n",
       "      <td>12</td>\n",
       "      <td>Algeria</td>\n",
       "      <td>20011</td>\n",
       "      <td>Batna</td>\n",
       "      <td>City Proper</td>\n",
       "      <td>35.555970</td>\n",
       "      <td>6.174140</td>\n",
       "      <td>1950</td>\n",
       "      <td>13.046</td>\n",
       "    </tr>\n",
       "    <tr>\n",
       "      <th>2</th>\n",
       "      <td>2</td>\n",
       "      <td>Africa</td>\n",
       "      <td>12</td>\n",
       "      <td>Algeria</td>\n",
       "      <td>20015</td>\n",
       "      <td>Blida</td>\n",
       "      <td>Urban Agglomeration</td>\n",
       "      <td>36.480781</td>\n",
       "      <td>2.831943</td>\n",
       "      <td>1950</td>\n",
       "      <td>33.970</td>\n",
       "    </tr>\n",
       "    <tr>\n",
       "      <th>3</th>\n",
       "      <td>3</td>\n",
       "      <td>Africa</td>\n",
       "      <td>12</td>\n",
       "      <td>Algeria</td>\n",
       "      <td>20006</td>\n",
       "      <td>El Djazaïr  (Algiers)</td>\n",
       "      <td>Urban Agglomeration</td>\n",
       "      <td>36.752500</td>\n",
       "      <td>3.041970</td>\n",
       "      <td>1950</td>\n",
       "      <td>516.450</td>\n",
       "    </tr>\n",
       "    <tr>\n",
       "      <th>4</th>\n",
       "      <td>4</td>\n",
       "      <td>Africa</td>\n",
       "      <td>12</td>\n",
       "      <td>Algeria</td>\n",
       "      <td>20020</td>\n",
       "      <td>El Djelfa</td>\n",
       "      <td>Urban Agglomeration</td>\n",
       "      <td>34.672790</td>\n",
       "      <td>3.263000</td>\n",
       "      <td>1950</td>\n",
       "      <td>10.450</td>\n",
       "    </tr>\n",
       "    <tr>\n",
       "      <th>...</th>\n",
       "      <td>...</td>\n",
       "      <td>...</td>\n",
       "      <td>...</td>\n",
       "      <td>...</td>\n",
       "      <td>...</td>\n",
       "      <td>...</td>\n",
       "      <td>...</td>\n",
       "      <td>...</td>\n",
       "      <td>...</td>\n",
       "      <td>...</td>\n",
       "      <td>...</td>\n",
       "    </tr>\n",
       "    <tr>\n",
       "      <th>19001</th>\n",
       "      <td>19001</td>\n",
       "      <td>Africa</td>\n",
       "      <td>894</td>\n",
       "      <td>Zambia</td>\n",
       "      <td>23277</td>\n",
       "      <td>Lusaka</td>\n",
       "      <td>Urban Agglomeration</td>\n",
       "      <td>-15.413374</td>\n",
       "      <td>28.277148</td>\n",
       "      <td>2035</td>\n",
       "      <td>5182.669</td>\n",
       "    </tr>\n",
       "    <tr>\n",
       "      <th>19002</th>\n",
       "      <td>19002</td>\n",
       "      <td>Africa</td>\n",
       "      <td>894</td>\n",
       "      <td>Zambia</td>\n",
       "      <td>23279</td>\n",
       "      <td>Ndola</td>\n",
       "      <td>City Proper</td>\n",
       "      <td>-12.958670</td>\n",
       "      <td>28.636590</td>\n",
       "      <td>2035</td>\n",
       "      <td>925.726</td>\n",
       "    </tr>\n",
       "    <tr>\n",
       "      <th>19003</th>\n",
       "      <td>19003</td>\n",
       "      <td>Africa</td>\n",
       "      <td>716</td>\n",
       "      <td>Zimbabwe</td>\n",
       "      <td>22510</td>\n",
       "      <td>Bulawayo</td>\n",
       "      <td>City Proper</td>\n",
       "      <td>-20.150000</td>\n",
       "      <td>28.583330</td>\n",
       "      <td>2035</td>\n",
       "      <td>874.479</td>\n",
       "    </tr>\n",
       "    <tr>\n",
       "      <th>19004</th>\n",
       "      <td>19004</td>\n",
       "      <td>Africa</td>\n",
       "      <td>716</td>\n",
       "      <td>Zimbabwe</td>\n",
       "      <td>22511</td>\n",
       "      <td>Chitungwiza</td>\n",
       "      <td>City Proper</td>\n",
       "      <td>-18.012740</td>\n",
       "      <td>31.075550</td>\n",
       "      <td>2035</td>\n",
       "      <td>552.027</td>\n",
       "    </tr>\n",
       "    <tr>\n",
       "      <th>19005</th>\n",
       "      <td>19005</td>\n",
       "      <td>Africa</td>\n",
       "      <td>716</td>\n",
       "      <td>Zimbabwe</td>\n",
       "      <td>22513</td>\n",
       "      <td>Harare</td>\n",
       "      <td>City Proper</td>\n",
       "      <td>-17.829350</td>\n",
       "      <td>31.053890</td>\n",
       "      <td>2035</td>\n",
       "      <td>2141.738</td>\n",
       "    </tr>\n",
       "  </tbody>\n",
       "</table>\n",
       "<p>19006 rows × 11 columns</p>\n",
       "</div>"
      ],
      "text/plain": [
       "       Unnamed: 0  Region  Country_Code Country_or_area  City_Code  \\\n",
       "0               0  Africa            12         Algeria      20009   \n",
       "1               1  Africa            12         Algeria      20011   \n",
       "2               2  Africa            12         Algeria      20015   \n",
       "3               3  Africa            12         Algeria      20006   \n",
       "4               4  Africa            12         Algeria      20020   \n",
       "...           ...     ...           ...             ...        ...   \n",
       "19001       19001  Africa           894          Zambia      23277   \n",
       "19002       19002  Africa           894          Zambia      23279   \n",
       "19003       19003  Africa           716        Zimbabwe      22510   \n",
       "19004       19004  Africa           716        Zimbabwe      22511   \n",
       "19005       19005  Africa           716        Zimbabwe      22513   \n",
       "\n",
       "                        City      City_Definition   Latitude  Longitude  year  \\\n",
       "0                     Annaba  Urban Agglomeration  36.900000   7.766670  1950   \n",
       "1                      Batna          City Proper  35.555970   6.174140  1950   \n",
       "2                      Blida  Urban Agglomeration  36.480781   2.831943  1950   \n",
       "3      El Djazaïr  (Algiers)  Urban Agglomeration  36.752500   3.041970  1950   \n",
       "4                  El Djelfa  Urban Agglomeration  34.672790   3.263000  1950   \n",
       "...                      ...                  ...        ...        ...   ...   \n",
       "19001                 Lusaka  Urban Agglomeration -15.413374  28.277148  2035   \n",
       "19002                  Ndola          City Proper -12.958670  28.636590  2035   \n",
       "19003               Bulawayo          City Proper -20.150000  28.583330  2035   \n",
       "19004            Chitungwiza          City Proper -18.012740  31.075550  2035   \n",
       "19005                 Harare          City Proper -17.829350  31.053890  2035   \n",
       "\n",
       "       population  \n",
       "0          99.741  \n",
       "1          13.046  \n",
       "2          33.970  \n",
       "3         516.450  \n",
       "4          10.450  \n",
       "...           ...  \n",
       "19001    5182.669  \n",
       "19002     925.726  \n",
       "19003     874.479  \n",
       "19004     552.027  \n",
       "19005    2141.738  \n",
       "\n",
       "[19006 rows x 11 columns]"
      ]
     },
     "execution_count": 3,
     "metadata": {},
     "output_type": "execute_result"
    }
   ],
   "source": [
    "df"
   ]
  },
  {
   "cell_type": "code",
   "execution_count": 4,
   "id": "e10f76cb",
   "metadata": {},
   "outputs": [
    {
     "data": {
      "text/plain": [
       "array(['Algeria', 'Angola', 'Benin', 'Burkina Faso', 'Burundi',\n",
       "       'Cameroon', 'Central African Republic', 'Chad', 'Congo',\n",
       "       \"Côte d'Ivoire\", 'Democratic Republic of the Congo', 'Djibouti',\n",
       "       'Egypt', 'Equatorial Guinea', 'Eritrea', 'Ethiopia', 'Gabon',\n",
       "       'Gambia', 'Ghana', 'Guinea', 'Guinea-Bissau', 'Kenya', 'Liberia',\n",
       "       'Libya', 'Madagascar', 'Malawi', 'Mali', 'Mauritania', 'Morocco',\n",
       "       'Mozambique', 'Namibia', 'Niger', 'Nigeria', 'Rwanda', 'Senegal',\n",
       "       'Sierra Leone', 'Somalia', 'South Africa', 'South Sudan', 'Sudan',\n",
       "       'Togo', 'Tunisia', 'Uganda', 'United Republic of Tanzania',\n",
       "       'Zambia', 'Zimbabwe'], dtype=object)"
      ]
     },
     "execution_count": 4,
     "metadata": {},
     "output_type": "execute_result"
    }
   ],
   "source": [
    "df.Country_or_area.unique()"
   ]
  },
  {
   "cell_type": "code",
   "execution_count": 5,
   "id": "5bd96b9c",
   "metadata": {},
   "outputs": [],
   "source": [
    "df = df[df['Country_or_area']=='Cameroon']"
   ]
  },
  {
   "cell_type": "code",
   "execution_count": 6,
   "id": "764c5b3f",
   "metadata": {},
   "outputs": [
    {
     "data": {
      "text/html": [
       "<div>\n",
       "<style scoped>\n",
       "    .dataframe tbody tr th:only-of-type {\n",
       "        vertical-align: middle;\n",
       "    }\n",
       "\n",
       "    .dataframe tbody tr th {\n",
       "        vertical-align: top;\n",
       "    }\n",
       "\n",
       "    .dataframe thead th {\n",
       "        text-align: right;\n",
       "    }\n",
       "</style>\n",
       "<table border=\"1\" class=\"dataframe\">\n",
       "  <thead>\n",
       "    <tr style=\"text-align: right;\">\n",
       "      <th></th>\n",
       "      <th>Unnamed: 0</th>\n",
       "      <th>Region</th>\n",
       "      <th>Country_Code</th>\n",
       "      <th>Country_or_area</th>\n",
       "      <th>City_Code</th>\n",
       "      <th>City</th>\n",
       "      <th>City_Definition</th>\n",
       "      <th>Latitude</th>\n",
       "      <th>Longitude</th>\n",
       "      <th>year</th>\n",
       "      <th>population</th>\n",
       "    </tr>\n",
       "  </thead>\n",
       "  <tbody>\n",
       "    <tr>\n",
       "      <th>24</th>\n",
       "      <td>24</td>\n",
       "      <td>Africa</td>\n",
       "      <td>120</td>\n",
       "      <td>Cameroon</td>\n",
       "      <td>20360</td>\n",
       "      <td>Bafoussam</td>\n",
       "      <td>City Proper</td>\n",
       "      <td>5.47366</td>\n",
       "      <td>10.41786</td>\n",
       "      <td>1950</td>\n",
       "      <td>10.095</td>\n",
       "    </tr>\n",
       "    <tr>\n",
       "      <th>25</th>\n",
       "      <td>25</td>\n",
       "      <td>Africa</td>\n",
       "      <td>120</td>\n",
       "      <td>Cameroon</td>\n",
       "      <td>20361</td>\n",
       "      <td>Bamenda</td>\n",
       "      <td>City Proper</td>\n",
       "      <td>5.95266</td>\n",
       "      <td>10.15824</td>\n",
       "      <td>1950</td>\n",
       "      <td>9.427</td>\n",
       "    </tr>\n",
       "    <tr>\n",
       "      <th>26</th>\n",
       "      <td>26</td>\n",
       "      <td>Africa</td>\n",
       "      <td>120</td>\n",
       "      <td>Cameroon</td>\n",
       "      <td>20362</td>\n",
       "      <td>Douala</td>\n",
       "      <td>Urban Agglomeration</td>\n",
       "      <td>4.04827</td>\n",
       "      <td>9.70428</td>\n",
       "      <td>1950</td>\n",
       "      <td>94.769</td>\n",
       "    </tr>\n",
       "    <tr>\n",
       "      <th>27</th>\n",
       "      <td>27</td>\n",
       "      <td>Africa</td>\n",
       "      <td>120</td>\n",
       "      <td>Cameroon</td>\n",
       "      <td>20363</td>\n",
       "      <td>Garoua</td>\n",
       "      <td>City Proper</td>\n",
       "      <td>9.30000</td>\n",
       "      <td>13.40000</td>\n",
       "      <td>1950</td>\n",
       "      <td>7.289</td>\n",
       "    </tr>\n",
       "    <tr>\n",
       "      <th>28</th>\n",
       "      <td>28</td>\n",
       "      <td>Africa</td>\n",
       "      <td>120</td>\n",
       "      <td>Cameroon</td>\n",
       "      <td>204222</td>\n",
       "      <td>Loum</td>\n",
       "      <td>City Proper</td>\n",
       "      <td>4.71820</td>\n",
       "      <td>9.73510</td>\n",
       "      <td>1950</td>\n",
       "      <td>4.802</td>\n",
       "    </tr>\n",
       "    <tr>\n",
       "      <th>...</th>\n",
       "      <td>...</td>\n",
       "      <td>...</td>\n",
       "      <td>...</td>\n",
       "      <td>...</td>\n",
       "      <td>...</td>\n",
       "      <td>...</td>\n",
       "      <td>...</td>\n",
       "      <td>...</td>\n",
       "      <td>...</td>\n",
       "      <td>...</td>\n",
       "      <td>...</td>\n",
       "    </tr>\n",
       "    <tr>\n",
       "      <th>18811</th>\n",
       "      <td>18811</td>\n",
       "      <td>Africa</td>\n",
       "      <td>120</td>\n",
       "      <td>Cameroon</td>\n",
       "      <td>20362</td>\n",
       "      <td>Douala</td>\n",
       "      <td>Urban Agglomeration</td>\n",
       "      <td>4.04827</td>\n",
       "      <td>9.70428</td>\n",
       "      <td>2035</td>\n",
       "      <td>5956.349</td>\n",
       "    </tr>\n",
       "    <tr>\n",
       "      <th>18812</th>\n",
       "      <td>18812</td>\n",
       "      <td>Africa</td>\n",
       "      <td>120</td>\n",
       "      <td>Cameroon</td>\n",
       "      <td>20363</td>\n",
       "      <td>Garoua</td>\n",
       "      <td>City Proper</td>\n",
       "      <td>9.30000</td>\n",
       "      <td>13.40000</td>\n",
       "      <td>2035</td>\n",
       "      <td>530.627</td>\n",
       "    </tr>\n",
       "    <tr>\n",
       "      <th>18813</th>\n",
       "      <td>18813</td>\n",
       "      <td>Africa</td>\n",
       "      <td>120</td>\n",
       "      <td>Cameroon</td>\n",
       "      <td>204222</td>\n",
       "      <td>Loum</td>\n",
       "      <td>City Proper</td>\n",
       "      <td>4.71820</td>\n",
       "      <td>9.73510</td>\n",
       "      <td>2035</td>\n",
       "      <td>862.621</td>\n",
       "    </tr>\n",
       "    <tr>\n",
       "      <th>18814</th>\n",
       "      <td>18814</td>\n",
       "      <td>Africa</td>\n",
       "      <td>120</td>\n",
       "      <td>Cameroon</td>\n",
       "      <td>204228</td>\n",
       "      <td>Mbouda</td>\n",
       "      <td>City Proper</td>\n",
       "      <td>5.62578</td>\n",
       "      <td>10.25517</td>\n",
       "      <td>2035</td>\n",
       "      <td>875.270</td>\n",
       "    </tr>\n",
       "    <tr>\n",
       "      <th>18815</th>\n",
       "      <td>18815</td>\n",
       "      <td>Africa</td>\n",
       "      <td>120</td>\n",
       "      <td>Cameroon</td>\n",
       "      <td>20365</td>\n",
       "      <td>Yaoundé</td>\n",
       "      <td>Urban Agglomeration</td>\n",
       "      <td>3.86667</td>\n",
       "      <td>11.51667</td>\n",
       "      <td>2035</td>\n",
       "      <td>6681.654</td>\n",
       "    </tr>\n",
       "  </tbody>\n",
       "</table>\n",
       "<p>602 rows × 11 columns</p>\n",
       "</div>"
      ],
      "text/plain": [
       "       Unnamed: 0  Region  Country_Code Country_or_area  City_Code       City  \\\n",
       "24             24  Africa           120        Cameroon      20360  Bafoussam   \n",
       "25             25  Africa           120        Cameroon      20361    Bamenda   \n",
       "26             26  Africa           120        Cameroon      20362     Douala   \n",
       "27             27  Africa           120        Cameroon      20363     Garoua   \n",
       "28             28  Africa           120        Cameroon     204222       Loum   \n",
       "...           ...     ...           ...             ...        ...        ...   \n",
       "18811       18811  Africa           120        Cameroon      20362     Douala   \n",
       "18812       18812  Africa           120        Cameroon      20363     Garoua   \n",
       "18813       18813  Africa           120        Cameroon     204222       Loum   \n",
       "18814       18814  Africa           120        Cameroon     204228     Mbouda   \n",
       "18815       18815  Africa           120        Cameroon      20365    Yaoundé   \n",
       "\n",
       "           City_Definition  Latitude  Longitude  year  population  \n",
       "24             City Proper   5.47366   10.41786  1950      10.095  \n",
       "25             City Proper   5.95266   10.15824  1950       9.427  \n",
       "26     Urban Agglomeration   4.04827    9.70428  1950      94.769  \n",
       "27             City Proper   9.30000   13.40000  1950       7.289  \n",
       "28             City Proper   4.71820    9.73510  1950       4.802  \n",
       "...                    ...       ...        ...   ...         ...  \n",
       "18811  Urban Agglomeration   4.04827    9.70428  2035    5956.349  \n",
       "18812          City Proper   9.30000   13.40000  2035     530.627  \n",
       "18813          City Proper   4.71820    9.73510  2035     862.621  \n",
       "18814          City Proper   5.62578   10.25517  2035     875.270  \n",
       "18815  Urban Agglomeration   3.86667   11.51667  2035    6681.654  \n",
       "\n",
       "[602 rows x 11 columns]"
      ]
     },
     "execution_count": 6,
     "metadata": {},
     "output_type": "execute_result"
    }
   ],
   "source": [
    "df"
   ]
  },
  {
   "cell_type": "code",
   "execution_count": 7,
   "id": "52eb8e13",
   "metadata": {},
   "outputs": [],
   "source": [
    "df = df.reset_index()"
   ]
  },
  {
   "cell_type": "code",
   "execution_count": 8,
   "id": "ac76bcfb",
   "metadata": {},
   "outputs": [
    {
     "data": {
      "text/html": [
       "<div>\n",
       "<style scoped>\n",
       "    .dataframe tbody tr th:only-of-type {\n",
       "        vertical-align: middle;\n",
       "    }\n",
       "\n",
       "    .dataframe tbody tr th {\n",
       "        vertical-align: top;\n",
       "    }\n",
       "\n",
       "    .dataframe thead th {\n",
       "        text-align: right;\n",
       "    }\n",
       "</style>\n",
       "<table border=\"1\" class=\"dataframe\">\n",
       "  <thead>\n",
       "    <tr style=\"text-align: right;\">\n",
       "      <th></th>\n",
       "      <th>index</th>\n",
       "      <th>Unnamed: 0</th>\n",
       "      <th>Region</th>\n",
       "      <th>Country_Code</th>\n",
       "      <th>Country_or_area</th>\n",
       "      <th>City_Code</th>\n",
       "      <th>City</th>\n",
       "      <th>City_Definition</th>\n",
       "      <th>Latitude</th>\n",
       "      <th>Longitude</th>\n",
       "      <th>year</th>\n",
       "      <th>population</th>\n",
       "    </tr>\n",
       "  </thead>\n",
       "  <tbody>\n",
       "    <tr>\n",
       "      <th>0</th>\n",
       "      <td>24</td>\n",
       "      <td>24</td>\n",
       "      <td>Africa</td>\n",
       "      <td>120</td>\n",
       "      <td>Cameroon</td>\n",
       "      <td>20360</td>\n",
       "      <td>Bafoussam</td>\n",
       "      <td>City Proper</td>\n",
       "      <td>5.47366</td>\n",
       "      <td>10.41786</td>\n",
       "      <td>1950</td>\n",
       "      <td>10.095</td>\n",
       "    </tr>\n",
       "    <tr>\n",
       "      <th>1</th>\n",
       "      <td>25</td>\n",
       "      <td>25</td>\n",
       "      <td>Africa</td>\n",
       "      <td>120</td>\n",
       "      <td>Cameroon</td>\n",
       "      <td>20361</td>\n",
       "      <td>Bamenda</td>\n",
       "      <td>City Proper</td>\n",
       "      <td>5.95266</td>\n",
       "      <td>10.15824</td>\n",
       "      <td>1950</td>\n",
       "      <td>9.427</td>\n",
       "    </tr>\n",
       "    <tr>\n",
       "      <th>2</th>\n",
       "      <td>26</td>\n",
       "      <td>26</td>\n",
       "      <td>Africa</td>\n",
       "      <td>120</td>\n",
       "      <td>Cameroon</td>\n",
       "      <td>20362</td>\n",
       "      <td>Douala</td>\n",
       "      <td>Urban Agglomeration</td>\n",
       "      <td>4.04827</td>\n",
       "      <td>9.70428</td>\n",
       "      <td>1950</td>\n",
       "      <td>94.769</td>\n",
       "    </tr>\n",
       "    <tr>\n",
       "      <th>3</th>\n",
       "      <td>27</td>\n",
       "      <td>27</td>\n",
       "      <td>Africa</td>\n",
       "      <td>120</td>\n",
       "      <td>Cameroon</td>\n",
       "      <td>20363</td>\n",
       "      <td>Garoua</td>\n",
       "      <td>City Proper</td>\n",
       "      <td>9.30000</td>\n",
       "      <td>13.40000</td>\n",
       "      <td>1950</td>\n",
       "      <td>7.289</td>\n",
       "    </tr>\n",
       "    <tr>\n",
       "      <th>4</th>\n",
       "      <td>28</td>\n",
       "      <td>28</td>\n",
       "      <td>Africa</td>\n",
       "      <td>120</td>\n",
       "      <td>Cameroon</td>\n",
       "      <td>204222</td>\n",
       "      <td>Loum</td>\n",
       "      <td>City Proper</td>\n",
       "      <td>4.71820</td>\n",
       "      <td>9.73510</td>\n",
       "      <td>1950</td>\n",
       "      <td>4.802</td>\n",
       "    </tr>\n",
       "    <tr>\n",
       "      <th>...</th>\n",
       "      <td>...</td>\n",
       "      <td>...</td>\n",
       "      <td>...</td>\n",
       "      <td>...</td>\n",
       "      <td>...</td>\n",
       "      <td>...</td>\n",
       "      <td>...</td>\n",
       "      <td>...</td>\n",
       "      <td>...</td>\n",
       "      <td>...</td>\n",
       "      <td>...</td>\n",
       "      <td>...</td>\n",
       "    </tr>\n",
       "    <tr>\n",
       "      <th>597</th>\n",
       "      <td>18811</td>\n",
       "      <td>18811</td>\n",
       "      <td>Africa</td>\n",
       "      <td>120</td>\n",
       "      <td>Cameroon</td>\n",
       "      <td>20362</td>\n",
       "      <td>Douala</td>\n",
       "      <td>Urban Agglomeration</td>\n",
       "      <td>4.04827</td>\n",
       "      <td>9.70428</td>\n",
       "      <td>2035</td>\n",
       "      <td>5956.349</td>\n",
       "    </tr>\n",
       "    <tr>\n",
       "      <th>598</th>\n",
       "      <td>18812</td>\n",
       "      <td>18812</td>\n",
       "      <td>Africa</td>\n",
       "      <td>120</td>\n",
       "      <td>Cameroon</td>\n",
       "      <td>20363</td>\n",
       "      <td>Garoua</td>\n",
       "      <td>City Proper</td>\n",
       "      <td>9.30000</td>\n",
       "      <td>13.40000</td>\n",
       "      <td>2035</td>\n",
       "      <td>530.627</td>\n",
       "    </tr>\n",
       "    <tr>\n",
       "      <th>599</th>\n",
       "      <td>18813</td>\n",
       "      <td>18813</td>\n",
       "      <td>Africa</td>\n",
       "      <td>120</td>\n",
       "      <td>Cameroon</td>\n",
       "      <td>204222</td>\n",
       "      <td>Loum</td>\n",
       "      <td>City Proper</td>\n",
       "      <td>4.71820</td>\n",
       "      <td>9.73510</td>\n",
       "      <td>2035</td>\n",
       "      <td>862.621</td>\n",
       "    </tr>\n",
       "    <tr>\n",
       "      <th>600</th>\n",
       "      <td>18814</td>\n",
       "      <td>18814</td>\n",
       "      <td>Africa</td>\n",
       "      <td>120</td>\n",
       "      <td>Cameroon</td>\n",
       "      <td>204228</td>\n",
       "      <td>Mbouda</td>\n",
       "      <td>City Proper</td>\n",
       "      <td>5.62578</td>\n",
       "      <td>10.25517</td>\n",
       "      <td>2035</td>\n",
       "      <td>875.270</td>\n",
       "    </tr>\n",
       "    <tr>\n",
       "      <th>601</th>\n",
       "      <td>18815</td>\n",
       "      <td>18815</td>\n",
       "      <td>Africa</td>\n",
       "      <td>120</td>\n",
       "      <td>Cameroon</td>\n",
       "      <td>20365</td>\n",
       "      <td>Yaoundé</td>\n",
       "      <td>Urban Agglomeration</td>\n",
       "      <td>3.86667</td>\n",
       "      <td>11.51667</td>\n",
       "      <td>2035</td>\n",
       "      <td>6681.654</td>\n",
       "    </tr>\n",
       "  </tbody>\n",
       "</table>\n",
       "<p>602 rows × 12 columns</p>\n",
       "</div>"
      ],
      "text/plain": [
       "     index  Unnamed: 0  Region  Country_Code Country_or_area  City_Code  \\\n",
       "0       24          24  Africa           120        Cameroon      20360   \n",
       "1       25          25  Africa           120        Cameroon      20361   \n",
       "2       26          26  Africa           120        Cameroon      20362   \n",
       "3       27          27  Africa           120        Cameroon      20363   \n",
       "4       28          28  Africa           120        Cameroon     204222   \n",
       "..     ...         ...     ...           ...             ...        ...   \n",
       "597  18811       18811  Africa           120        Cameroon      20362   \n",
       "598  18812       18812  Africa           120        Cameroon      20363   \n",
       "599  18813       18813  Africa           120        Cameroon     204222   \n",
       "600  18814       18814  Africa           120        Cameroon     204228   \n",
       "601  18815       18815  Africa           120        Cameroon      20365   \n",
       "\n",
       "          City      City_Definition  Latitude  Longitude  year  population  \n",
       "0    Bafoussam          City Proper   5.47366   10.41786  1950      10.095  \n",
       "1      Bamenda          City Proper   5.95266   10.15824  1950       9.427  \n",
       "2       Douala  Urban Agglomeration   4.04827    9.70428  1950      94.769  \n",
       "3       Garoua          City Proper   9.30000   13.40000  1950       7.289  \n",
       "4         Loum          City Proper   4.71820    9.73510  1950       4.802  \n",
       "..         ...                  ...       ...        ...   ...         ...  \n",
       "597     Douala  Urban Agglomeration   4.04827    9.70428  2035    5956.349  \n",
       "598     Garoua          City Proper   9.30000   13.40000  2035     530.627  \n",
       "599       Loum          City Proper   4.71820    9.73510  2035     862.621  \n",
       "600     Mbouda          City Proper   5.62578   10.25517  2035     875.270  \n",
       "601    Yaoundé  Urban Agglomeration   3.86667   11.51667  2035    6681.654  \n",
       "\n",
       "[602 rows x 12 columns]"
      ]
     },
     "execution_count": 8,
     "metadata": {},
     "output_type": "execute_result"
    }
   ],
   "source": [
    "df "
   ]
  },
  {
   "cell_type": "code",
   "execution_count": 11,
   "id": "9aa0dfa9",
   "metadata": {},
   "outputs": [],
   "source": [
    "df = df.drop(columns=['index','Unnamed: 0','Region','Country_Code','City_Code','Country_or_area','City_Definition'])"
   ]
  },
  {
   "cell_type": "code",
   "execution_count": 12,
   "id": "d37c5f84",
   "metadata": {},
   "outputs": [
    {
     "data": {
      "text/html": [
       "<div>\n",
       "<style scoped>\n",
       "    .dataframe tbody tr th:only-of-type {\n",
       "        vertical-align: middle;\n",
       "    }\n",
       "\n",
       "    .dataframe tbody tr th {\n",
       "        vertical-align: top;\n",
       "    }\n",
       "\n",
       "    .dataframe thead th {\n",
       "        text-align: right;\n",
       "    }\n",
       "</style>\n",
       "<table border=\"1\" class=\"dataframe\">\n",
       "  <thead>\n",
       "    <tr style=\"text-align: right;\">\n",
       "      <th></th>\n",
       "      <th>City</th>\n",
       "      <th>Latitude</th>\n",
       "      <th>Longitude</th>\n",
       "      <th>year</th>\n",
       "      <th>population</th>\n",
       "    </tr>\n",
       "  </thead>\n",
       "  <tbody>\n",
       "    <tr>\n",
       "      <th>0</th>\n",
       "      <td>Bafoussam</td>\n",
       "      <td>5.47366</td>\n",
       "      <td>10.41786</td>\n",
       "      <td>1950</td>\n",
       "      <td>10.095</td>\n",
       "    </tr>\n",
       "    <tr>\n",
       "      <th>1</th>\n",
       "      <td>Bamenda</td>\n",
       "      <td>5.95266</td>\n",
       "      <td>10.15824</td>\n",
       "      <td>1950</td>\n",
       "      <td>9.427</td>\n",
       "    </tr>\n",
       "    <tr>\n",
       "      <th>2</th>\n",
       "      <td>Douala</td>\n",
       "      <td>4.04827</td>\n",
       "      <td>9.70428</td>\n",
       "      <td>1950</td>\n",
       "      <td>94.769</td>\n",
       "    </tr>\n",
       "    <tr>\n",
       "      <th>3</th>\n",
       "      <td>Garoua</td>\n",
       "      <td>9.30000</td>\n",
       "      <td>13.40000</td>\n",
       "      <td>1950</td>\n",
       "      <td>7.289</td>\n",
       "    </tr>\n",
       "    <tr>\n",
       "      <th>4</th>\n",
       "      <td>Loum</td>\n",
       "      <td>4.71820</td>\n",
       "      <td>9.73510</td>\n",
       "      <td>1950</td>\n",
       "      <td>4.802</td>\n",
       "    </tr>\n",
       "    <tr>\n",
       "      <th>...</th>\n",
       "      <td>...</td>\n",
       "      <td>...</td>\n",
       "      <td>...</td>\n",
       "      <td>...</td>\n",
       "      <td>...</td>\n",
       "    </tr>\n",
       "    <tr>\n",
       "      <th>597</th>\n",
       "      <td>Douala</td>\n",
       "      <td>4.04827</td>\n",
       "      <td>9.70428</td>\n",
       "      <td>2035</td>\n",
       "      <td>5956.349</td>\n",
       "    </tr>\n",
       "    <tr>\n",
       "      <th>598</th>\n",
       "      <td>Garoua</td>\n",
       "      <td>9.30000</td>\n",
       "      <td>13.40000</td>\n",
       "      <td>2035</td>\n",
       "      <td>530.627</td>\n",
       "    </tr>\n",
       "    <tr>\n",
       "      <th>599</th>\n",
       "      <td>Loum</td>\n",
       "      <td>4.71820</td>\n",
       "      <td>9.73510</td>\n",
       "      <td>2035</td>\n",
       "      <td>862.621</td>\n",
       "    </tr>\n",
       "    <tr>\n",
       "      <th>600</th>\n",
       "      <td>Mbouda</td>\n",
       "      <td>5.62578</td>\n",
       "      <td>10.25517</td>\n",
       "      <td>2035</td>\n",
       "      <td>875.270</td>\n",
       "    </tr>\n",
       "    <tr>\n",
       "      <th>601</th>\n",
       "      <td>Yaoundé</td>\n",
       "      <td>3.86667</td>\n",
       "      <td>11.51667</td>\n",
       "      <td>2035</td>\n",
       "      <td>6681.654</td>\n",
       "    </tr>\n",
       "  </tbody>\n",
       "</table>\n",
       "<p>602 rows × 5 columns</p>\n",
       "</div>"
      ],
      "text/plain": [
       "          City  Latitude  Longitude  year  population\n",
       "0    Bafoussam   5.47366   10.41786  1950      10.095\n",
       "1      Bamenda   5.95266   10.15824  1950       9.427\n",
       "2       Douala   4.04827    9.70428  1950      94.769\n",
       "3       Garoua   9.30000   13.40000  1950       7.289\n",
       "4         Loum   4.71820    9.73510  1950       4.802\n",
       "..         ...       ...        ...   ...         ...\n",
       "597     Douala   4.04827    9.70428  2035    5956.349\n",
       "598     Garoua   9.30000   13.40000  2035     530.627\n",
       "599       Loum   4.71820    9.73510  2035     862.621\n",
       "600     Mbouda   5.62578   10.25517  2035     875.270\n",
       "601    Yaoundé   3.86667   11.51667  2035    6681.654\n",
       "\n",
       "[602 rows x 5 columns]"
      ]
     },
     "execution_count": 12,
     "metadata": {},
     "output_type": "execute_result"
    }
   ],
   "source": [
    "df"
   ]
  },
  {
   "cell_type": "code",
   "execution_count": 13,
   "id": "04bbc039",
   "metadata": {},
   "outputs": [
    {
     "data": {
      "text/plain": [
       "[<matplotlib.lines.Line2D at 0x1c5cdbee610>]"
      ]
     },
     "execution_count": 13,
     "metadata": {},
     "output_type": "execute_result"
    },
    {
     "data": {
      "image/png": "[encoded data removed]",
      "text/plain": [
       "<Figure size 640x480 with 1 Axes>"
      ]
     },
     "metadata": {},
     "output_type": "display_data"
    }
   ],
   "source": [
    "from matplotlib import pyplot as plt\n",
    "plt.plot(df['year'],df['population'])"
   ]
  },
  {
   "cell_type": "code",
   "execution_count": 14,
   "id": "9b5bddad",
   "metadata": {},
   "outputs": [],
   "source": [
    "train = df[(df['year'] >= 1950) & (df['year'] < 2018)]\n",
    "test = df[(df['year'] >= 2018) & (df['year'] <= 2035)]"
   ]
  },
  {
   "cell_type": "code",
   "execution_count": 15,
   "id": "bdae481b",
   "metadata": {},
   "outputs": [],
   "source": [
    "x_train = train[['Latitude','Longitude','year','City']]\n",
    "y_train = train[['population']]"
   ]
  },
  {
   "cell_type": "code",
   "execution_count": 16,
   "id": "c525e27f",
   "metadata": {},
   "outputs": [],
   "source": [
    "x_test = test[['Latitude','Longitude','year','City']]\n",
    "y_test = test[['population']]"
   ]
  },
  {
   "cell_type": "code",
   "execution_count": 17,
   "id": "c43196e6",
   "metadata": {},
   "outputs": [
    {
     "name": "stdout",
     "output_type": "stream",
     "text": [
      "(476, 4)\n",
      "(476, 1)\n",
      "(126, 4)\n",
      "(126, 1)\n"
     ]
    }
   ],
   "source": [
    "print(x_train.shape)\n",
    "print(y_train.shape)\n",
    "print(x_test.shape)\n",
    "print(y_test.shape)"
   ]
  },
  {
   "cell_type": "code",
   "execution_count": 18,
   "id": "67ed45c8",
   "metadata": {},
   "outputs": [
    {
     "name": "stderr",
     "output_type": "stream",
     "text": [
      "C:\\Users\\ASUS\\anaconda3\\lib\\site-packages\\sklearn\\preprocessing\\_label.py:116: DataConversionWarning: A column-vector y was passed when a 1d array was expected. Please change the shape of y to (n_samples, ), for example using ravel().\n",
      "  y = column_or_1d(y, warn=True)\n",
      "C:\\Users\\ASUS\\AppData\\Local\\Temp\\ipykernel_21168\\1267850018.py:3: SettingWithCopyWarning: \n",
      "A value is trying to be set on a copy of a slice from a DataFrame.\n",
      "Try using .loc[row_indexer,col_indexer] = value instead\n",
      "\n",
      "See the caveats in the documentation: https://pandas.pydata.org/pandas-docs/stable/user_guide/indexing.html#returning-a-view-versus-a-copy\n",
      "  x_train['City'] = encoding.fit_transform(x_train[['City']])\n",
      "C:\\Users\\ASUS\\anaconda3\\lib\\site-packages\\sklearn\\preprocessing\\_label.py:116: DataConversionWarning: A column-vector y was passed when a 1d array was expected. Please change the shape of y to (n_samples, ), for example using ravel().\n",
      "  y = column_or_1d(y, warn=True)\n",
      "C:\\Users\\ASUS\\AppData\\Local\\Temp\\ipykernel_21168\\1267850018.py:4: SettingWithCopyWarning: \n",
      "A value is trying to be set on a copy of a slice from a DataFrame.\n",
      "Try using .loc[row_indexer,col_indexer] = value instead\n",
      "\n",
      "See the caveats in the documentation: https://pandas.pydata.org/pandas-docs/stable/user_guide/indexing.html#returning-a-view-versus-a-copy\n",
      "  x_test['City'] = encoding.fit_transform(x_test[['City']])\n"
     ]
    }
   ],
   "source": [
    "from sklearn.preprocessing import LabelEncoder\n",
    "encoding  = LabelEncoder()\n",
    "x_train['City'] = encoding.fit_transform(x_train[['City']])\n",
    "x_test['City'] = encoding.fit_transform(x_test[['City']])"
   ]
  },
  {
   "cell_type": "code",
   "execution_count": 19,
   "id": "c57b65d8",
   "metadata": {},
   "outputs": [],
   "source": [
    "from sklearn.linear_model import LinearRegression"
   ]
  },
  {
   "cell_type": "code",
   "execution_count": 20,
   "id": "cf81632c",
   "metadata": {},
   "outputs": [],
   "source": [
    "reg = LinearRegression()"
   ]
  },
  {
   "cell_type": "code",
   "execution_count": 21,
   "id": "5d2a7d7b",
   "metadata": {},
   "outputs": [
    {
     "data": {
      "text/html": [
       "<style>#sk-container-id-1 {color: black;background-color: white;}#sk-container-id-1 pre{padding: 0;}#sk-container-id-1 div.sk-toggleable {background-color: white;}#sk-container-id-1 label.sk-toggleable__label {cursor: pointer;display: block;width: 100%;margin-bottom: 0;padding: 0.3em;box-sizing: border-box;text-align: center;}#sk-container-id-1 label.sk-toggleable__label-arrow:before {content: \"▸\";float: left;margin-right: 0.25em;color: #696969;}#sk-container-id-1 label.sk-toggleable__label-arrow:hover:before {color: black;}#sk-container-id-1 div.sk-estimator:hover label.sk-toggleable__label-arrow:before {color: black;}#sk-container-id-1 div.sk-toggleable__content {max-height: 0;max-width: 0;overflow: hidden;text-align: left;background-color: #f0f8ff;}#sk-container-id-1 div.sk-toggleable__content pre {margin: 0.2em;color: black;border-radius: 0.25em;background-color: #f0f8ff;}#sk-container-id-1 input.sk-toggleable__control:checked~div.sk-toggleable__content {max-height: 200px;max-width: 100%;overflow: auto;}#sk-container-id-1 input.sk-toggleable__control:checked~label.sk-toggleable__label-arrow:before {content: \"▾\";}#sk-container-id-1 div.sk-estimator input.sk-toggleable__control:checked~label.sk-toggleable__label {background-color: #d4ebff;}#sk-container-id-1 div.sk-label input.sk-toggleable__control:checked~label.sk-toggleable__label {background-color: #d4ebff;}#sk-container-id-1 input.sk-hidden--visually {border: 0;clip: rect(1px 1px 1px 1px);clip: rect(1px, 1px, 1px, 1px);height: 1px;margin: -1px;overflow: hidden;padding: 0;position: absolute;width: 1px;}#sk-container-id-1 div.sk-estimator {font-family: monospace;background-color: #f0f8ff;border: 1px dotted black;border-radius: 0.25em;box-sizing: border-box;margin-bottom: 0.5em;}#sk-container-id-1 div.sk-estimator:hover {background-color: #d4ebff;}#sk-container-id-1 div.sk-parallel-item::after {content: \"\";width: 100%;border-bottom: 1px solid gray;flex-grow: 1;}#sk-container-id-1 div.sk-label:hover label.sk-toggleable__label {background-color: #d4ebff;}#sk-container-id-1 div.sk-serial::before {content: \"\";position: absolute;border-left: 1px solid gray;box-sizing: border-box;top: 0;bottom: 0;left: 50%;z-index: 0;}#sk-container-id-1 div.sk-serial {display: flex;flex-direction: column;align-items: center;background-color: white;padding-right: 0.2em;padding-left: 0.2em;position: relative;}#sk-container-id-1 div.sk-item {position: relative;z-index: 1;}#sk-container-id-1 div.sk-parallel {display: flex;align-items: stretch;justify-content: center;background-color: white;position: relative;}#sk-container-id-1 div.sk-item::before, #sk-container-id-1 div.sk-parallel-item::before {content: \"\";position: absolute;border-left: 1px solid gray;box-sizing: border-box;top: 0;bottom: 0;left: 50%;z-index: -1;}#sk-container-id-1 div.sk-parallel-item {display: flex;flex-direction: column;z-index: 1;position: relative;background-color: white;}#sk-container-id-1 div.sk-parallel-item:first-child::after {align-self: flex-end;width: 50%;}#sk-container-id-1 div.sk-parallel-item:last-child::after {align-self: flex-start;width: 50%;}#sk-container-id-1 div.sk-parallel-item:only-child::after {width: 0;}#sk-container-id-1 div.sk-dashed-wrapped {border: 1px dashed gray;margin: 0 0.4em 0.5em 0.4em;box-sizing: border-box;padding-bottom: 0.4em;background-color: white;}#sk-container-id-1 div.sk-label label {font-family: monospace;font-weight: bold;display: inline-block;line-height: 1.2em;}#sk-container-id-1 div.sk-label-container {text-align: center;}#sk-container-id-1 div.sk-container {/* jupyter's `normalize.less` sets `[hidden] { display: none; }` but bootstrap.min.css set `[hidden] { display: none !important; }` so we also need the `!important` here to be able to override the default hidden behavior on the sphinx rendered scikit-learn.org. See: https://github.com/scikit-learn/scikit-learn/issues/21755 */display: inline-block !important;position: relative;}#sk-container-id-1 div.sk-text-repr-fallback {display: none;}</style><div id=\"sk-container-id-1\" class=\"sk-top-container\"><div class=\"sk-text-repr-fallback\"><pre>LinearRegression()</pre><b>In a Jupyter environment, please rerun this cell to show the HTML representation or trust the notebook. <br />On GitHub, the HTML representation is unable to render, please try loading this page with nbviewer.org.</b></div><div class=\"sk-container\" hidden><div class=\"sk-item\"><div class=\"sk-estimator sk-toggleable\"><input class=\"sk-toggleable__control sk-hidden--visually\" id=\"sk-estimator-id-1\" type=\"checkbox\" checked><label for=\"sk-estimator-id-1\" class=\"sk-toggleable__label sk-toggleable__label-arrow\">LinearRegression</label><div class=\"sk-toggleable__content\"><pre>LinearRegression()</pre></div></div></div></div></div>"
      ],
      "text/plain": [
       "LinearRegression()"
      ]
     },
     "execution_count": 21,
     "metadata": {},
     "output_type": "execute_result"
    }
   ],
   "source": [
    "reg.fit(x_train,y_train)"
   ]
  },
  {
   "cell_type": "code",
   "execution_count": 22,
   "id": "d017b70a",
   "metadata": {},
   "outputs": [],
   "source": [
    "predict_test = reg.predict(x_test)\n",
    "predict_train = reg.predict(x_train)"
   ]
  },
  {
   "cell_type": "code",
   "execution_count": 23,
   "id": "63b13d28",
   "metadata": {},
   "outputs": [],
   "source": [
    "from sklearn.metrics import mean_squared_error,r2_score"
   ]
  },
  {
   "cell_type": "code",
   "execution_count": 24,
   "id": "ae9d3367",
   "metadata": {},
   "outputs": [
    {
     "data": {
      "text/plain": [
       "3606703.170217319"
      ]
     },
     "execution_count": 24,
     "metadata": {},
     "output_type": "execute_result"
    }
   ],
   "source": [
    "mean_squared_error(y_test,predict_test)"
   ]
  },
  {
   "cell_type": "code",
   "execution_count": 25,
   "id": "192f2774",
   "metadata": {},
   "outputs": [
    {
     "data": {
      "text/plain": [
       "193669.3125903795"
      ]
     },
     "execution_count": 25,
     "metadata": {},
     "output_type": "execute_result"
    }
   ],
   "source": [
    "mean_squared_error(y_train,predict_train)"
   ]
  },
  {
   "cell_type": "code",
   "execution_count": 26,
   "id": "64008c58",
   "metadata": {},
   "outputs": [
    {
     "data": {
      "text/plain": [
       "0.09580692473279251"
      ]
     },
     "execution_count": 26,
     "metadata": {},
     "output_type": "execute_result"
    }
   ],
   "source": [
    "r2_score(y_test,predict_test)"
   ]
  },
  {
   "cell_type": "code",
   "execution_count": 27,
   "id": "251b030e",
   "metadata": {},
   "outputs": [
    {
     "data": {
      "text/plain": [
       "0.4975612801562427"
      ]
     },
     "execution_count": 27,
     "metadata": {},
     "output_type": "execute_result"
    }
   ],
   "source": [
    "r2_score(y_train,predict_train)"
   ]
  },
  {
   "cell_type": "code",
   "execution_count": 28,
   "id": "fc10ccd0",
   "metadata": {},
   "outputs": [],
   "source": [
    "from sklearn.preprocessing import PolynomialFeatures\n"
   ]
  },
  {
   "cell_type": "code",
   "execution_count": 61,
   "id": "4313210c",
   "metadata": {},
   "outputs": [],
   "source": [
    "poly_features = PolynomialFeatures(degree=9)\n",
    "X_train_poly = poly_features.fit_transform(x_train)\n",
    "X_test_poly = poly_features.transform(x_test)\n",
    "reg.fit(X_train_poly, y_train)\n",
    "\n",
    "train_predictions = reg.predict(X_train_poly)\n",
    "test_predictions = reg.predict(X_test_poly)\n"
   ]
  },
  {
   "cell_type": "code",
   "execution_count": 62,
   "id": "4ece9589",
   "metadata": {},
   "outputs": [
    {
     "data": {
      "text/plain": [
       "137790.0757493654"
      ]
     },
     "execution_count": 62,
     "metadata": {},
     "output_type": "execute_result"
    }
   ],
   "source": [
    "mean_squared_error(y_test,test_predictions)"
   ]
  },
  {
   "cell_type": "code",
   "execution_count": 63,
   "id": "4b973971",
   "metadata": {},
   "outputs": [
    {
     "data": {
      "text/plain": [
       "245.95259628463236"
      ]
     },
     "execution_count": 63,
     "metadata": {},
     "output_type": "execute_result"
    }
   ],
   "source": [
    "mean_squared_error(y_train,train_predictions)"
   ]
  },
  {
   "cell_type": "code",
   "execution_count": 64,
   "id": "62acd8f4",
   "metadata": {},
   "outputs": [
    {
     "data": {
      "text/plain": [
       "0.9993619221033697"
      ]
     },
     "execution_count": 64,
     "metadata": {},
     "output_type": "execute_result"
    }
   ],
   "source": [
    "r2_score(y_train,train_predictions)"
   ]
  },
  {
   "cell_type": "code",
   "execution_count": 65,
   "id": "01761afb",
   "metadata": {},
   "outputs": [
    {
     "data": {
      "text/plain": [
       "0.965456311081565"
      ]
     },
     "execution_count": 65,
     "metadata": {},
     "output_type": "execute_result"
    }
   ],
   "source": [
    "r2_score(y_test,test_predictions)"
   ]
  },
  {
   "cell_type": "code",
   "execution_count": 66,
   "id": "3690dc36",
   "metadata": {},
   "outputs": [],
   "source": [
    "y_test = y_test.values"
   ]
  },
  {
   "cell_type": "code",
   "execution_count": 67,
   "id": "548fa832",
   "metadata": {},
   "outputs": [
    {
     "data": {
      "text/html": [
       "<div>\n",
       "<style scoped>\n",
       "    .dataframe tbody tr th:only-of-type {\n",
       "        vertical-align: middle;\n",
       "    }\n",
       "\n",
       "    .dataframe tbody tr th {\n",
       "        vertical-align: top;\n",
       "    }\n",
       "\n",
       "    .dataframe thead th {\n",
       "        text-align: right;\n",
       "    }\n",
       "</style>\n",
       "<table border=\"1\" class=\"dataframe\">\n",
       "  <thead>\n",
       "    <tr style=\"text-align: right;\">\n",
       "      <th></th>\n",
       "      <th>Actual</th>\n",
       "      <th>predicted</th>\n",
       "    </tr>\n",
       "  </thead>\n",
       "  <tbody>\n",
       "    <tr>\n",
       "      <th>0</th>\n",
       "      <td>[398.987]</td>\n",
       "      <td>[497.9440360106528]</td>\n",
       "    </tr>\n",
       "    <tr>\n",
       "      <th>1</th>\n",
       "      <td>[494.822]</td>\n",
       "      <td>[508.9272837676108]</td>\n",
       "    </tr>\n",
       "    <tr>\n",
       "      <th>2</th>\n",
       "      <td>[3412.103]</td>\n",
       "      <td>[3339.750815872103]</td>\n",
       "    </tr>\n",
       "    <tr>\n",
       "      <th>3</th>\n",
       "      <td>[333.425]</td>\n",
       "      <td>[351.9545159395784]</td>\n",
       "    </tr>\n",
       "    <tr>\n",
       "      <th>4</th>\n",
       "      <td>[446.186]</td>\n",
       "      <td>[477.2268908265978]</td>\n",
       "    </tr>\n",
       "    <tr>\n",
       "      <th>...</th>\n",
       "      <td>...</td>\n",
       "      <td>...</td>\n",
       "    </tr>\n",
       "    <tr>\n",
       "      <th>121</th>\n",
       "      <td>[5956.349]</td>\n",
       "      <td>[6647.7795658148825]</td>\n",
       "    </tr>\n",
       "    <tr>\n",
       "      <th>122</th>\n",
       "      <td>[530.627]</td>\n",
       "      <td>[859.3147072866559]</td>\n",
       "    </tr>\n",
       "    <tr>\n",
       "      <th>123</th>\n",
       "      <td>[862.621]</td>\n",
       "      <td>[1557.7876572851092]</td>\n",
       "    </tr>\n",
       "    <tr>\n",
       "      <th>124</th>\n",
       "      <td>[875.27]</td>\n",
       "      <td>[1215.8002701848745]</td>\n",
       "    </tr>\n",
       "    <tr>\n",
       "      <th>125</th>\n",
       "      <td>[6681.654]</td>\n",
       "      <td>[7970.960740452632]</td>\n",
       "    </tr>\n",
       "  </tbody>\n",
       "</table>\n",
       "<p>126 rows × 2 columns</p>\n",
       "</div>"
      ],
      "text/plain": [
       "         Actual             predicted\n",
       "0     [398.987]   [497.9440360106528]\n",
       "1     [494.822]   [508.9272837676108]\n",
       "2    [3412.103]   [3339.750815872103]\n",
       "3     [333.425]   [351.9545159395784]\n",
       "4     [446.186]   [477.2268908265978]\n",
       "..          ...                   ...\n",
       "121  [5956.349]  [6647.7795658148825]\n",
       "122   [530.627]   [859.3147072866559]\n",
       "123   [862.621]  [1557.7876572851092]\n",
       "124    [875.27]  [1215.8002701848745]\n",
       "125  [6681.654]   [7970.960740452632]\n",
       "\n",
       "[126 rows x 2 columns]"
      ]
     },
     "execution_count": 67,
     "metadata": {},
     "output_type": "execute_result"
    }
   ],
   "source": [
    "pd.DataFrame(zip(y_test, test_predictions),columns=['Actual', 'predicted'])"
   ]
  },
  {
   "cell_type": "code",
   "execution_count": null,
   "id": "e0bbfea1",
   "metadata": {},
   "outputs": [],
   "source": []
  }
 ],
 "metadata": {
  "kernelspec": {
   "display_name": "Python 3 (ipykernel)",
   "language": "python",
   "name": "python3"
  },
  "language_info": {
   "codemirror_mode": {
    "name": "ipython",
    "version": 3
   },
   "file_extension": ".py",
   "mimetype": "text/x-python",
   "name": "python",
   "nbconvert_exporter": "python",
   "pygments_lexer": "ipython3",
   "version": "3.9.13"
  }
 },
 "nbformat": 4,
 "nbformat_minor": 5
}

{
 "cells": [
  {
   "cell_type": "code",
   "execution_count": 55,
   "id": "17f24a0d",
   "metadata": {},
   "outputs": [],
   "source": [
    "import numpy as np # linear algebra\n",
    "import pandas as pd # data processing, CSV file I/O (e.g. pd.read_csv)\n",
    "import matplotlib.pyplot as plt\n",
    "from sklearn.ensemble import RandomForestRegressor\n",
    "from sklearn.linear_model import LinearRegression\n",
    "from sklearn.model_selection import train_test_split"
   ]
  },
  {
   "cell_type": "code",
   "execution_count": 56,
   "id": "6da59282",
   "metadata": {},
   "outputs": [],
   "source": [
    "df=pd.read_csv(\"merged_output_v1.csv\")"
   ]
  },
  {
   "cell_type": "code",
   "execution_count": 57,
   "id": "73168e1f",
   "metadata": {},
   "outputs": [
    {
     "data": {
      "text/html": [
       "<div>\n",
       "<style scoped>\n",
       "    .dataframe tbody tr th:only-of-type {\n",
       "        vertical-align: middle;\n",
       "    }\n",
       "\n",
       "    .dataframe tbody tr th {\n",
       "        vertical-align: top;\n",
       "    }\n",
       "\n",
       "    .dataframe thead th {\n",
       "        text-align: right;\n",
       "    }\n",
       "</style>\n",
       "<table border=\"1\" class=\"dataframe\">\n",
       "  <thead>\n",
       "    <tr style=\"text-align: right;\">\n",
       "      <th></th>\n",
       "      <th>unnamed:_0</th>\n",
       "      <th>population_growth</th>\n",
       "      <th>population_growth_rate</th>\n",
       "      <th>population</th>\n",
       "      <th>year</th>\n",
       "      <th>city</th>\n",
       "      <th>country</th>\n",
       "      <th>land_area_(sq._km)</th>\n",
       "      <th>population_density_(no._per_sq._km)</th>\n",
       "      <th>real_gdp</th>\n",
       "    </tr>\n",
       "  </thead>\n",
       "  <tbody>\n",
       "    <tr>\n",
       "      <th>0</th>\n",
       "      <td>0</td>\n",
       "      <td>163737.0</td>\n",
       "      <td>0.023375</td>\n",
       "      <td>7168583.0</td>\n",
       "      <td>2035</td>\n",
       "      <td>Alexandria</td>\n",
       "      <td>Egypt</td>\n",
       "      <td>NaN</td>\n",
       "      <td>NaN</td>\n",
       "      <td>NaN</td>\n",
       "    </tr>\n",
       "    <tr>\n",
       "      <th>1</th>\n",
       "      <td>0</td>\n",
       "      <td>651072.0</td>\n",
       "      <td>0.023375</td>\n",
       "      <td>28504352.0</td>\n",
       "      <td>2035</td>\n",
       "      <td>Cairo</td>\n",
       "      <td>Egypt</td>\n",
       "      <td>NaN</td>\n",
       "      <td>NaN</td>\n",
       "      <td>NaN</td>\n",
       "    </tr>\n",
       "    <tr>\n",
       "      <th>2</th>\n",
       "      <td>1</td>\n",
       "      <td>156804.0</td>\n",
       "      <td>0.022898</td>\n",
       "      <td>7004846.0</td>\n",
       "      <td>2034</td>\n",
       "      <td>Alexandria</td>\n",
       "      <td>Egypt</td>\n",
       "      <td>NaN</td>\n",
       "      <td>NaN</td>\n",
       "      <td>NaN</td>\n",
       "    </tr>\n",
       "    <tr>\n",
       "      <th>3</th>\n",
       "      <td>1</td>\n",
       "      <td>623526.0</td>\n",
       "      <td>0.022899</td>\n",
       "      <td>27853280.0</td>\n",
       "      <td>2034</td>\n",
       "      <td>Cairo</td>\n",
       "      <td>Egypt</td>\n",
       "      <td>NaN</td>\n",
       "      <td>NaN</td>\n",
       "      <td>NaN</td>\n",
       "    </tr>\n",
       "    <tr>\n",
       "      <th>4</th>\n",
       "      <td>2</td>\n",
       "      <td>150073.0</td>\n",
       "      <td>0.022406</td>\n",
       "      <td>6848042.0</td>\n",
       "      <td>2033</td>\n",
       "      <td>Alexandria</td>\n",
       "      <td>Egypt</td>\n",
       "      <td>NaN</td>\n",
       "      <td>NaN</td>\n",
       "      <td>NaN</td>\n",
       "    </tr>\n",
       "    <tr>\n",
       "      <th>...</th>\n",
       "      <td>...</td>\n",
       "      <td>...</td>\n",
       "      <td>...</td>\n",
       "      <td>...</td>\n",
       "      <td>...</td>\n",
       "      <td>...</td>\n",
       "      <td>...</td>\n",
       "      <td>...</td>\n",
       "      <td>...</td>\n",
       "      <td>...</td>\n",
       "    </tr>\n",
       "    <tr>\n",
       "      <th>2956</th>\n",
       "      <td>8532</td>\n",
       "      <td>NaN</td>\n",
       "      <td>NaN</td>\n",
       "      <td>NaN</td>\n",
       "      <td>2023</td>\n",
       "      <td>NaN</td>\n",
       "      <td>Zimbabwe</td>\n",
       "      <td>NaN</td>\n",
       "      <td>NaN</td>\n",
       "      <td>2.844</td>\n",
       "    </tr>\n",
       "    <tr>\n",
       "      <th>2957</th>\n",
       "      <td>8533</td>\n",
       "      <td>NaN</td>\n",
       "      <td>NaN</td>\n",
       "      <td>NaN</td>\n",
       "      <td>2024</td>\n",
       "      <td>NaN</td>\n",
       "      <td>Zimbabwe</td>\n",
       "      <td>NaN</td>\n",
       "      <td>NaN</td>\n",
       "      <td>2.892</td>\n",
       "    </tr>\n",
       "    <tr>\n",
       "      <th>2958</th>\n",
       "      <td>8534</td>\n",
       "      <td>NaN</td>\n",
       "      <td>NaN</td>\n",
       "      <td>NaN</td>\n",
       "      <td>2025</td>\n",
       "      <td>NaN</td>\n",
       "      <td>Zimbabwe</td>\n",
       "      <td>NaN</td>\n",
       "      <td>NaN</td>\n",
       "      <td>2.948</td>\n",
       "    </tr>\n",
       "    <tr>\n",
       "      <th>2959</th>\n",
       "      <td>8535</td>\n",
       "      <td>NaN</td>\n",
       "      <td>NaN</td>\n",
       "      <td>NaN</td>\n",
       "      <td>2026</td>\n",
       "      <td>NaN</td>\n",
       "      <td>Zimbabwe</td>\n",
       "      <td>NaN</td>\n",
       "      <td>NaN</td>\n",
       "      <td>2.958</td>\n",
       "    </tr>\n",
       "    <tr>\n",
       "      <th>2960</th>\n",
       "      <td>8536</td>\n",
       "      <td>NaN</td>\n",
       "      <td>NaN</td>\n",
       "      <td>NaN</td>\n",
       "      <td>2027</td>\n",
       "      <td>NaN</td>\n",
       "      <td>Zimbabwe</td>\n",
       "      <td>NaN</td>\n",
       "      <td>NaN</td>\n",
       "      <td>2.959</td>\n",
       "    </tr>\n",
       "  </tbody>\n",
       "</table>\n",
       "<p>2961 rows × 10 columns</p>\n",
       "</div>"
      ],
      "text/plain": [
       "      unnamed:_0  population_growth  population_growth_rate  population  year  \\\n",
       "0              0           163737.0                0.023375   7168583.0  2035   \n",
       "1              0           651072.0                0.023375  28504352.0  2035   \n",
       "2              1           156804.0                0.022898   7004846.0  2034   \n",
       "3              1           623526.0                0.022899  27853280.0  2034   \n",
       "4              2           150073.0                0.022406   6848042.0  2033   \n",
       "...          ...                ...                     ...         ...   ...   \n",
       "2956        8532                NaN                     NaN         NaN  2023   \n",
       "2957        8533                NaN                     NaN         NaN  2024   \n",
       "2958        8534                NaN                     NaN         NaN  2025   \n",
       "2959        8535                NaN                     NaN         NaN  2026   \n",
       "2960        8536                NaN                     NaN         NaN  2027   \n",
       "\n",
       "            city   country  land_area_(sq._km)  \\\n",
       "0     Alexandria     Egypt                 NaN   \n",
       "1          Cairo     Egypt                 NaN   \n",
       "2     Alexandria     Egypt                 NaN   \n",
       "3          Cairo     Egypt                 NaN   \n",
       "4     Alexandria     Egypt                 NaN   \n",
       "...          ...       ...                 ...   \n",
       "2956         NaN  Zimbabwe                 NaN   \n",
       "2957         NaN  Zimbabwe                 NaN   \n",
       "2958         NaN  Zimbabwe                 NaN   \n",
       "2959         NaN  Zimbabwe                 NaN   \n",
       "2960         NaN  Zimbabwe                 NaN   \n",
       "\n",
       "      population_density_(no._per_sq._km)  real_gdp  \n",
       "0                                     NaN       NaN  \n",
       "1                                     NaN       NaN  \n",
       "2                                     NaN       NaN  \n",
       "3                                     NaN       NaN  \n",
       "4                                     NaN       NaN  \n",
       "...                                   ...       ...  \n",
       "2956                                  NaN     2.844  \n",
       "2957                                  NaN     2.892  \n",
       "2958                                  NaN     2.948  \n",
       "2959                                  NaN     2.958  \n",
       "2960                                  NaN     2.959  \n",
       "\n",
       "[2961 rows x 10 columns]"
      ]
     },
     "execution_count": 57,
     "metadata": {},
     "output_type": "execute_result"
    }
   ],
   "source": [
    "df"
   ]
  },
  {
   "cell_type": "code",
   "execution_count": 58,
   "id": "ffc30ed2",
   "metadata": {},
   "outputs": [
    {
     "name": "stdout",
     "output_type": "stream",
     "text": [
      "     unnamed:_0  population_growth  population_growth_rate  population  year  \\\n",
      "1             0           651072.0                0.023375  28504352.0  2035   \n",
      "3             1           623526.0                0.022899  27853280.0  2034   \n",
      "5             2           596806.0                0.022409  27229754.0  2033   \n",
      "7             3           570172.0                0.021877  26632948.0  2032   \n",
      "9             4           546080.0                0.021401  26062776.0  2031   \n",
      "..          ...                ...                     ...         ...   ...   \n",
      "163          81           111220.0                0.039688   2913563.0  1954   \n",
      "165          82           106830.0                0.039633   2802343.0  1953   \n",
      "167          83           103036.0                0.039744   2695513.0  1952   \n",
      "169          84            98963.0                0.039688   2592477.0  1951   \n",
      "171          85                0.0                0.000000   2493514.0  1950   \n",
      "\n",
      "      city country  land_area_(sq._km)  population_density_(no._per_sq._km)  \\\n",
      "1    Cairo   Egypt                 NaN                                  NaN   \n",
      "3    Cairo   Egypt                 NaN                                  NaN   \n",
      "5    Cairo   Egypt                 NaN                                  NaN   \n",
      "7    Cairo   Egypt                 NaN                                  NaN   \n",
      "9    Cairo   Egypt                 NaN                                  NaN   \n",
      "..     ...     ...                 ...                                  ...   \n",
      "163  Cairo   Egypt                 NaN                                  NaN   \n",
      "165  Cairo   Egypt                 NaN                                  NaN   \n",
      "167  Cairo   Egypt                 NaN                                  NaN   \n",
      "169  Cairo   Egypt                 NaN                                  NaN   \n",
      "171  Cairo   Egypt                 NaN                                  NaN   \n",
      "\n",
      "     real_gdp  \n",
      "1         NaN  \n",
      "3         NaN  \n",
      "5         NaN  \n",
      "7         NaN  \n",
      "9         NaN  \n",
      "..        ...  \n",
      "163       NaN  \n",
      "165       NaN  \n",
      "167       NaN  \n",
      "169       NaN  \n",
      "171       NaN  \n",
      "\n",
      "[86 rows x 10 columns]\n"
     ]
    }
   ],
   "source": [
    "\n",
    "df_new = df[df['city'] == 'Cairo']\n",
    " \n",
    "print(df_new)"
   ]
  },
  {
   "cell_type": "code",
   "execution_count": null,
   "id": "bd909ad5",
   "metadata": {},
   "outputs": [],
   "source": []
  },
  {
   "cell_type": "code",
   "execution_count": 59,
   "id": "34fec8ad",
   "metadata": {},
   "outputs": [
    {
     "data": {
      "text/plain": [
       "unnamed:_0                              0\n",
       "population_growth                       0\n",
       "population_growth_rate                  0\n",
       "population                              0\n",
       "year                                    0\n",
       "city                                    0\n",
       "country                                 0\n",
       "land_area_(sq._km)                     86\n",
       "population_density_(no._per_sq._km)    86\n",
       "real_gdp                               38\n",
       "dtype: int64"
      ]
     },
     "execution_count": 59,
     "metadata": {},
     "output_type": "execute_result"
    }
   ],
   "source": [
    "df_new.isnull().sum()"
   ]
  },
  {
   "cell_type": "code",
   "execution_count": 60,
   "id": "a67b8ee6",
   "metadata": {},
   "outputs": [],
   "source": [
    "df1=df_new.drop(columns =['unnamed:_0','land_area_(sq._km)','population_density_(no._per_sq._km)','real_gdp'])"
   ]
  },
  {
   "cell_type": "code",
   "execution_count": 61,
   "id": "30455a90",
   "metadata": {},
   "outputs": [],
   "source": [
    "\n",
    "df2 = df1[df1['year'] <= 2023]\n",
    "\n",
    "df2 = df2.reset_index()"
   ]
  },
  {
   "cell_type": "code",
   "execution_count": 62,
   "id": "ff18ef08",
   "metadata": {},
   "outputs": [
    {
     "data": {
      "text/html": [
       "<div>\n",
       "<style scoped>\n",
       "    .dataframe tbody tr th:only-of-type {\n",
       "        vertical-align: middle;\n",
       "    }\n",
       "\n",
       "    .dataframe tbody tr th {\n",
       "        vertical-align: top;\n",
       "    }\n",
       "\n",
       "    .dataframe thead th {\n",
       "        text-align: right;\n",
       "    }\n",
       "</style>\n",
       "<table border=\"1\" class=\"dataframe\">\n",
       "  <thead>\n",
       "    <tr style=\"text-align: right;\">\n",
       "      <th></th>\n",
       "      <th>index</th>\n",
       "      <th>population_growth</th>\n",
       "      <th>population_growth_rate</th>\n",
       "      <th>population</th>\n",
       "      <th>year</th>\n",
       "      <th>city</th>\n",
       "      <th>country</th>\n",
       "    </tr>\n",
       "  </thead>\n",
       "  <tbody>\n",
       "    <tr>\n",
       "      <th>0</th>\n",
       "      <td>25</td>\n",
       "      <td>433180.0</td>\n",
       "      <td>0.019916</td>\n",
       "      <td>22183200.0</td>\n",
       "      <td>2023</td>\n",
       "      <td>Cairo</td>\n",
       "      <td>Egypt</td>\n",
       "    </tr>\n",
       "    <tr>\n",
       "      <th>1</th>\n",
       "      <td>27</td>\n",
       "      <td>427270.0</td>\n",
       "      <td>0.020038</td>\n",
       "      <td>21750020.0</td>\n",
       "      <td>2022</td>\n",
       "      <td>Cairo</td>\n",
       "      <td>Egypt</td>\n",
       "    </tr>\n",
       "    <tr>\n",
       "      <th>2</th>\n",
       "      <td>29</td>\n",
       "      <td>422146.0</td>\n",
       "      <td>0.020198</td>\n",
       "      <td>21322750.0</td>\n",
       "      <td>2021</td>\n",
       "      <td>Cairo</td>\n",
       "      <td>Egypt</td>\n",
       "    </tr>\n",
       "    <tr>\n",
       "      <th>3</th>\n",
       "      <td>31</td>\n",
       "      <td>415640.0</td>\n",
       "      <td>0.020290</td>\n",
       "      <td>20900604.0</td>\n",
       "      <td>2020</td>\n",
       "      <td>Cairo</td>\n",
       "      <td>Egypt</td>\n",
       "    </tr>\n",
       "    <tr>\n",
       "      <th>4</th>\n",
       "      <td>33</td>\n",
       "      <td>408962.0</td>\n",
       "      <td>0.020371</td>\n",
       "      <td>20484964.0</td>\n",
       "      <td>2019</td>\n",
       "      <td>Cairo</td>\n",
       "      <td>Egypt</td>\n",
       "    </tr>\n",
       "    <tr>\n",
       "      <th>...</th>\n",
       "      <td>...</td>\n",
       "      <td>...</td>\n",
       "      <td>...</td>\n",
       "      <td>...</td>\n",
       "      <td>...</td>\n",
       "      <td>...</td>\n",
       "      <td>...</td>\n",
       "    </tr>\n",
       "    <tr>\n",
       "      <th>69</th>\n",
       "      <td>163</td>\n",
       "      <td>111220.0</td>\n",
       "      <td>0.039688</td>\n",
       "      <td>2913563.0</td>\n",
       "      <td>1954</td>\n",
       "      <td>Cairo</td>\n",
       "      <td>Egypt</td>\n",
       "    </tr>\n",
       "    <tr>\n",
       "      <th>70</th>\n",
       "      <td>165</td>\n",
       "      <td>106830.0</td>\n",
       "      <td>0.039633</td>\n",
       "      <td>2802343.0</td>\n",
       "      <td>1953</td>\n",
       "      <td>Cairo</td>\n",
       "      <td>Egypt</td>\n",
       "    </tr>\n",
       "    <tr>\n",
       "      <th>71</th>\n",
       "      <td>167</td>\n",
       "      <td>103036.0</td>\n",
       "      <td>0.039744</td>\n",
       "      <td>2695513.0</td>\n",
       "      <td>1952</td>\n",
       "      <td>Cairo</td>\n",
       "      <td>Egypt</td>\n",
       "    </tr>\n",
       "    <tr>\n",
       "      <th>72</th>\n",
       "      <td>169</td>\n",
       "      <td>98963.0</td>\n",
       "      <td>0.039688</td>\n",
       "      <td>2592477.0</td>\n",
       "      <td>1951</td>\n",
       "      <td>Cairo</td>\n",
       "      <td>Egypt</td>\n",
       "    </tr>\n",
       "    <tr>\n",
       "      <th>73</th>\n",
       "      <td>171</td>\n",
       "      <td>0.0</td>\n",
       "      <td>0.000000</td>\n",
       "      <td>2493514.0</td>\n",
       "      <td>1950</td>\n",
       "      <td>Cairo</td>\n",
       "      <td>Egypt</td>\n",
       "    </tr>\n",
       "  </tbody>\n",
       "</table>\n",
       "<p>74 rows × 7 columns</p>\n",
       "</div>"
      ],
      "text/plain": [
       "    index  population_growth  population_growth_rate  population  year   city  \\\n",
       "0      25           433180.0                0.019916  22183200.0  2023  Cairo   \n",
       "1      27           427270.0                0.020038  21750020.0  2022  Cairo   \n",
       "2      29           422146.0                0.020198  21322750.0  2021  Cairo   \n",
       "3      31           415640.0                0.020290  20900604.0  2020  Cairo   \n",
       "4      33           408962.0                0.020371  20484964.0  2019  Cairo   \n",
       "..    ...                ...                     ...         ...   ...    ...   \n",
       "69    163           111220.0                0.039688   2913563.0  1954  Cairo   \n",
       "70    165           106830.0                0.039633   2802343.0  1953  Cairo   \n",
       "71    167           103036.0                0.039744   2695513.0  1952  Cairo   \n",
       "72    169            98963.0                0.039688   2592477.0  1951  Cairo   \n",
       "73    171                0.0                0.000000   2493514.0  1950  Cairo   \n",
       "\n",
       "   country  \n",
       "0    Egypt  \n",
       "1    Egypt  \n",
       "2    Egypt  \n",
       "3    Egypt  \n",
       "4    Egypt  \n",
       "..     ...  \n",
       "69   Egypt  \n",
       "70   Egypt  \n",
       "71   Egypt  \n",
       "72   Egypt  \n",
       "73   Egypt  \n",
       "\n",
       "[74 rows x 7 columns]"
      ]
     },
     "execution_count": 62,
     "metadata": {},
     "output_type": "execute_result"
    }
   ],
   "source": [
    "df2"
   ]
  },
  {
   "cell_type": "code",
   "execution_count": 63,
   "id": "70589dea",
   "metadata": {},
   "outputs": [],
   "source": [
    "df2 = df2.drop(columns=['index'])"
   ]
  },
  {
   "cell_type": "code",
   "execution_count": 64,
   "id": "608e6c9c",
   "metadata": {
    "scrolled": true
   },
   "outputs": [
    {
     "data": {
      "text/plain": [
       "<AxesSubplot:xlabel='year', ylabel='population'>"
      ]
     },
     "execution_count": 64,
     "metadata": {},
     "output_type": "execute_result"
    },
    {
     "data": {
      "image/png": "[encoded data removed]",
      "text/plain": [
       "<Figure size 640x480 with 1 Axes>"
      ]
     },
     "metadata": {},
     "output_type": "display_data"
    }
   ],
   "source": [
    "import seaborn as sns\n",
    "sns.barplot(x=\"year\",y=\"population\",data=df2)"
   ]
  },
  {
   "cell_type": "code",
   "execution_count": 65,
   "id": "1020c77b",
   "metadata": {},
   "outputs": [
    {
     "data": {
      "text/plain": [
       "<AxesSubplot:xlabel='year', ylabel='population'>"
      ]
     },
     "execution_count": 65,
     "metadata": {},
     "output_type": "execute_result"
    },
    {
     "data": {
      "image/png": "[encoded data removed]",
      "text/plain": [
       "<Figure size 640x480 with 1 Axes>"
      ]
     },
     "metadata": {},
     "output_type": "display_data"
    }
   ],
   "source": [
    "sns.scatterplot(data=df2,x=\"year\",y=\"population\")"
   ]
  },
  {
   "cell_type": "code",
   "execution_count": 66,
   "id": "1a50a690",
   "metadata": {
    "scrolled": false
   },
   "outputs": [
    {
     "data": {
      "text/plain": [
       "array([[<AxesSubplot:title={'center':'population_growth'}>,\n",
       "        <AxesSubplot:title={'center':'population_growth_rate'}>],\n",
       "       [<AxesSubplot:title={'center':'population'}>,\n",
       "        <AxesSubplot:title={'center':'year'}>]], dtype=object)"
      ]
     },
     "execution_count": 66,
     "metadata": {},
     "output_type": "execute_result"
    },
    {
     "data": {
      "image/png": "[encoded data removed]",
      "text/plain": [
       "<Figure size 1000x2000 with 4 Axes>"
      ]
     },
     "metadata": {},
     "output_type": "display_data"
    }
   ],
   "source": [
    "df2.hist(figsize=(10,20))"
   ]
  },
  {
   "cell_type": "code",
   "execution_count": 67,
   "id": "114a3115",
   "metadata": {},
   "outputs": [
    {
     "name": "stdout",
     "output_type": "stream",
     "text": [
      "                        population_growth  population_growth_rate  population  \\\n",
      "population_growth                1.000000               -0.235778    0.874345   \n",
      "population_growth_rate          -0.235778                1.000000   -0.604169   \n",
      "population                       0.874345               -0.604169    1.000000   \n",
      "year                             0.892953               -0.601924    0.985061   \n",
      "\n",
      "                            year  \n",
      "population_growth       0.892953  \n",
      "population_growth_rate -0.601924  \n",
      "population              0.985061  \n",
      "year                    1.000000  \n"
     ]
    },
    {
     "data": {
      "image/png": "[encoded data removed]",
      "text/plain": [
       "<Figure size 640x480 with 2 Axes>"
      ]
     },
     "metadata": {},
     "output_type": "display_data"
    }
   ],
   "source": [
    "import seaborn as sb\n",
    "\n",
    "# import modules\n",
    "import matplotlib.pyplot as mp\n",
    "print(df2.corr())\n",
    "  \n",
    "# plotting correlation heatmap\n",
    "dataplot = sb.heatmap(df2.corr(), cmap=\"YlGnBu\", annot=True)\n",
    "  \n",
    "# displaying heatmap\n",
    "mp.show()"
   ]
  },
  {
   "cell_type": "code",
   "execution_count": 139,
   "id": "a4260fdc",
   "metadata": {},
   "outputs": [],
   "source": [
    "X = df2[['population_growth','population_growth_rate','year']]\n",
    "y = df2['population']"
   ]
  },
  {
   "cell_type": "code",
   "execution_count": 140,
   "id": "28036f7a",
   "metadata": {},
   "outputs": [
    {
     "data": {
      "text/html": [
       "<div>\n",
       "<style scoped>\n",
       "    .dataframe tbody tr th:only-of-type {\n",
       "        vertical-align: middle;\n",
       "    }\n",
       "\n",
       "    .dataframe tbody tr th {\n",
       "        vertical-align: top;\n",
       "    }\n",
       "\n",
       "    .dataframe thead th {\n",
       "        text-align: right;\n",
       "    }\n",
       "</style>\n",
       "<table border=\"1\" class=\"dataframe\">\n",
       "  <thead>\n",
       "    <tr style=\"text-align: right;\">\n",
       "      <th></th>\n",
       "      <th>population_growth</th>\n",
       "      <th>population_growth_rate</th>\n",
       "      <th>year</th>\n",
       "    </tr>\n",
       "  </thead>\n",
       "  <tbody>\n",
       "    <tr>\n",
       "      <th>0</th>\n",
       "      <td>433180.0</td>\n",
       "      <td>0.019916</td>\n",
       "      <td>2023</td>\n",
       "    </tr>\n",
       "    <tr>\n",
       "      <th>1</th>\n",
       "      <td>427270.0</td>\n",
       "      <td>0.020038</td>\n",
       "      <td>2022</td>\n",
       "    </tr>\n",
       "    <tr>\n",
       "      <th>2</th>\n",
       "      <td>422146.0</td>\n",
       "      <td>0.020198</td>\n",
       "      <td>2021</td>\n",
       "    </tr>\n",
       "    <tr>\n",
       "      <th>3</th>\n",
       "      <td>415640.0</td>\n",
       "      <td>0.020290</td>\n",
       "      <td>2020</td>\n",
       "    </tr>\n",
       "    <tr>\n",
       "      <th>4</th>\n",
       "      <td>408962.0</td>\n",
       "      <td>0.020371</td>\n",
       "      <td>2019</td>\n",
       "    </tr>\n",
       "    <tr>\n",
       "      <th>...</th>\n",
       "      <td>...</td>\n",
       "      <td>...</td>\n",
       "      <td>...</td>\n",
       "    </tr>\n",
       "    <tr>\n",
       "      <th>69</th>\n",
       "      <td>111220.0</td>\n",
       "      <td>0.039688</td>\n",
       "      <td>1954</td>\n",
       "    </tr>\n",
       "    <tr>\n",
       "      <th>70</th>\n",
       "      <td>106830.0</td>\n",
       "      <td>0.039633</td>\n",
       "      <td>1953</td>\n",
       "    </tr>\n",
       "    <tr>\n",
       "      <th>71</th>\n",
       "      <td>103036.0</td>\n",
       "      <td>0.039744</td>\n",
       "      <td>1952</td>\n",
       "    </tr>\n",
       "    <tr>\n",
       "      <th>72</th>\n",
       "      <td>98963.0</td>\n",
       "      <td>0.039688</td>\n",
       "      <td>1951</td>\n",
       "    </tr>\n",
       "    <tr>\n",
       "      <th>73</th>\n",
       "      <td>0.0</td>\n",
       "      <td>0.000000</td>\n",
       "      <td>1950</td>\n",
       "    </tr>\n",
       "  </tbody>\n",
       "</table>\n",
       "<p>74 rows × 3 columns</p>\n",
       "</div>"
      ],
      "text/plain": [
       "    population_growth  population_growth_rate  year\n",
       "0            433180.0                0.019916  2023\n",
       "1            427270.0                0.020038  2022\n",
       "2            422146.0                0.020198  2021\n",
       "3            415640.0                0.020290  2020\n",
       "4            408962.0                0.020371  2019\n",
       "..                ...                     ...   ...\n",
       "69           111220.0                0.039688  1954\n",
       "70           106830.0                0.039633  1953\n",
       "71           103036.0                0.039744  1952\n",
       "72            98963.0                0.039688  1951\n",
       "73                0.0                0.000000  1950\n",
       "\n",
       "[74 rows x 3 columns]"
      ]
     },
     "execution_count": 140,
     "metadata": {},
     "output_type": "execute_result"
    }
   ],
   "source": [
    "X"
   ]
  },
  {
   "cell_type": "code",
   "execution_count": 141,
   "id": "cf27373f",
   "metadata": {},
   "outputs": [
    {
     "data": {
      "text/plain": [
       "0     22183200.0\n",
       "1     21750020.0\n",
       "2     21322750.0\n",
       "3     20900604.0\n",
       "4     20484964.0\n",
       "         ...    \n",
       "69     2913563.0\n",
       "70     2802343.0\n",
       "71     2695513.0\n",
       "72     2592477.0\n",
       "73     2493514.0\n",
       "Name: population, Length: 74, dtype: float64"
      ]
     },
     "execution_count": 141,
     "metadata": {},
     "output_type": "execute_result"
    }
   ],
   "source": [
    "y"
   ]
  },
  {
   "cell_type": "code",
   "execution_count": 142,
   "id": "22542b0a",
   "metadata": {},
   "outputs": [],
   "source": [
    "\n",
    "X_train, X_test, y_train, y_test = train_test_split(X, y, test_size=0.3, random_state=101)"
   ]
  },
  {
   "cell_type": "code",
   "execution_count": 143,
   "id": "d59d9ea9",
   "metadata": {},
   "outputs": [],
   "source": [
    "model = LinearRegression()\n"
   ]
  },
  {
   "cell_type": "code",
   "execution_count": 144,
   "id": "82ef114d",
   "metadata": {},
   "outputs": [
    {
     "data": {
      "text/plain": [
       "LinearRegression()"
      ]
     },
     "execution_count": 144,
     "metadata": {},
     "output_type": "execute_result"
    }
   ],
   "source": [
    "model.fit(X_train,y_train)"
   ]
  },
  {
   "cell_type": "code",
   "execution_count": 145,
   "id": "720ac030",
   "metadata": {},
   "outputs": [],
   "source": [
    "y_pred_linear=model.predict(X_test)"
   ]
  },
  {
   "cell_type": "code",
   "execution_count": null,
   "id": "858fbef6",
   "metadata": {},
   "outputs": [],
   "source": []
  },
  {
   "cell_type": "code",
   "execution_count": 146,
   "id": "7211ac62",
   "metadata": {},
   "outputs": [
    {
     "data": {
      "text/plain": [
       "array([18461778.17264795,  5637829.99785447,  9599520.7096622 ,\n",
       "       11431374.86546874,  3880635.87683642, 16620117.1192975 ,\n",
       "       13612440.69214189, 10170738.65003085, 15812640.34195411,\n",
       "       12475392.2521292 , 11862648.55323398, 14169379.84702098,\n",
       "       16352106.01371586, 19623815.85125005, 19353542.98448932,\n",
       "       14445061.68258655,  1783894.0875057 , 19899491.5610429 ,\n",
       "       12921976.37047291, -1571891.18346298, 15541240.87417018,\n",
       "       13333014.59527361, 11210025.19060397])"
      ]
     },
     "execution_count": 146,
     "metadata": {},
     "output_type": "execute_result"
    }
   ],
   "source": [
    "model.predict(X_test)"
   ]
  },
  {
   "cell_type": "code",
   "execution_count": 147,
   "id": "95abd09e",
   "metadata": {},
   "outputs": [
    {
     "name": "stdout",
     "output_type": "stream",
     "text": [
      "860081.5308280665\n",
      "1613823464446.5842\n",
      "1270363.5166544197\n"
     ]
    }
   ],
   "source": [
    "test_predictions = model.predict(X_test)\n",
    "from sklearn.metrics import mean_absolute_error,mean_squared_error\n",
    "MAE = mean_absolute_error(y_test,test_predictions)\n",
    "print(MAE)\n",
    "MSE = mean_squared_error(y_test,test_predictions)\n",
    "print(MSE)\n",
    "RMSE = np.sqrt(MSE)\n",
    "print(RMSE)"
   ]
  },
  {
   "cell_type": "code",
   "execution_count": 148,
   "id": "e1ad374e",
   "metadata": {},
   "outputs": [
    {
     "data": {
      "text/plain": [
       "0.9475233561823627"
      ]
     },
     "execution_count": 148,
     "metadata": {},
     "output_type": "execute_result"
    }
   ],
   "source": [
    "from sklearn.metrics import r2_score\n",
    "er1=r2_score(y_test,y_pred_linear)\n",
    "er1"
   ]
  },
  {
   "cell_type": "code",
   "execution_count": 149,
   "id": "8286e67e",
   "metadata": {},
   "outputs": [
    {
     "name": "stdout",
     "output_type": "stream",
     "text": [
      "Intercept:  -629699683.2039813\n",
      "Coefficients:\n"
     ]
    },
    {
     "data": {
      "text/plain": [
       "[('population_growth', -7.05407067943724),\n",
       " ('population_growth_rate', 64524923.489369325),\n",
       " ('year', 322116.81642077863)]"
      ]
     },
     "execution_count": 149,
     "metadata": {},
     "output_type": "execute_result"
    }
   ],
   "source": [
    "print(\"Intercept: \", model.intercept_)\n",
    "print(\"Coefficients:\")\n",
    "list(zip(X, model.coef_))"
   ]
  },
  {
   "cell_type": "code",
   "execution_count": 150,
   "id": "2797d0ad",
   "metadata": {},
   "outputs": [
    {
     "data": {
      "text/html": [
       "<div>\n",
       "<style scoped>\n",
       "    .dataframe tbody tr th:only-of-type {\n",
       "        vertical-align: middle;\n",
       "    }\n",
       "\n",
       "    .dataframe tbody tr th {\n",
       "        vertical-align: top;\n",
       "    }\n",
       "\n",
       "    .dataframe thead th {\n",
       "        text-align: right;\n",
       "    }\n",
       "</style>\n",
       "<table border=\"1\" class=\"dataframe\">\n",
       "  <thead>\n",
       "    <tr style=\"text-align: right;\">\n",
       "      <th></th>\n",
       "      <th>Actual value</th>\n",
       "      <th>Predicted value</th>\n",
       "    </tr>\n",
       "  </thead>\n",
       "  <tbody>\n",
       "    <tr>\n",
       "      <th>6</th>\n",
       "      <td>19648312.0</td>\n",
       "      <td>1.846178e+07</td>\n",
       "    </tr>\n",
       "    <tr>\n",
       "      <th>53</th>\n",
       "      <td>5584507.0</td>\n",
       "      <td>5.637830e+06</td>\n",
       "    </tr>\n",
       "    <tr>\n",
       "      <th>39</th>\n",
       "      <td>8122659.0</td>\n",
       "      <td>9.599521e+06</td>\n",
       "    </tr>\n",
       "    <tr>\n",
       "      <th>32</th>\n",
       "      <td>10275264.0</td>\n",
       "      <td>1.143137e+07</td>\n",
       "    </tr>\n",
       "    <tr>\n",
       "      <th>62</th>\n",
       "      <td>3862355.0</td>\n",
       "      <td>3.880636e+06</td>\n",
       "    </tr>\n",
       "  </tbody>\n",
       "</table>\n",
       "</div>"
      ],
      "text/plain": [
       "    Actual value  Predicted value\n",
       "6     19648312.0     1.846178e+07\n",
       "53     5584507.0     5.637830e+06\n",
       "39     8122659.0     9.599521e+06\n",
       "32    10275264.0     1.143137e+07\n",
       "62     3862355.0     3.880636e+06"
      ]
     },
     "execution_count": 150,
     "metadata": {},
     "output_type": "execute_result"
    }
   ],
   "source": [
    "mlr_diff = pd.DataFrame({'Actual value': y_test, 'Predicted value': y_pred_linear})\n",
    "mlr_diff.head()"
   ]
  },
  {
   "cell_type": "code",
   "execution_count": null,
   "id": "61dc8e5c",
   "metadata": {},
   "outputs": [],
   "source": [
    "\n"
   ]
  },
  {
   "cell_type": "markdown",
   "id": "76c97020",
   "metadata": {},
   "source": [
    "Random forest"
   ]
  },
  {
   "cell_type": "code",
   "execution_count": 151,
   "id": "33d96bd4",
   "metadata": {},
   "outputs": [
    {
     "data": {
      "text/plain": [
       "RandomForestRegressor(n_estimators=10, random_state=0)"
      ]
     },
     "execution_count": 151,
     "metadata": {},
     "output_type": "execute_result"
    }
   ],
   "source": [
    "\n",
    "regressor1 = RandomForestRegressor(n_estimators = 10, random_state = 0)\n",
    "regressor1.fit(X_train, y_train)"
   ]
  },
  {
   "cell_type": "code",
   "execution_count": 152,
   "id": "f39141b1",
   "metadata": {},
   "outputs": [],
   "source": [
    "y_pred_random=regressor1.predict(X_test)"
   ]
  },
  {
   "cell_type": "code",
   "execution_count": 153,
   "id": "8a9ef2e2",
   "metadata": {},
   "outputs": [
    {
     "data": {
      "text/plain": [
       "0.967911247089262"
      ]
     },
     "execution_count": 153,
     "metadata": {},
     "output_type": "execute_result"
    }
   ],
   "source": [
    "from sklearn.metrics import r2_score\n",
    "er3=r2_score(y_test,y_pred_random)\n",
    "er3"
   ]
  },
  {
   "cell_type": "code",
   "execution_count": 154,
   "id": "83eb30e8",
   "metadata": {},
   "outputs": [
    {
     "data": {
      "text/plain": [
       "986831066638.6893"
      ]
     },
     "execution_count": 154,
     "metadata": {},
     "output_type": "execute_result"
    }
   ],
   "source": [
    "from sklearn.metrics import mean_squared_error\n",
    "mean_squared_error(y_test,y_pred_random)"
   ]
  },
  {
   "cell_type": "code",
   "execution_count": 155,
   "id": "4d091567",
   "metadata": {},
   "outputs": [],
   "source": [
    "df3= df1[df1['year'] >= 2023]"
   ]
  },
  {
   "cell_type": "code",
   "execution_count": 156,
   "id": "39475725",
   "metadata": {
    "scrolled": true
   },
   "outputs": [],
   "source": [
    "df3= df3.reset_index()\n",
    "df3 = df3.drop(columns=['index'])\n"
   ]
  },
  {
   "cell_type": "code",
   "execution_count": 159,
   "id": "c7147dbd",
   "metadata": {},
   "outputs": [
    {
     "data": {
      "text/html": [
       "<div>\n",
       "<style scoped>\n",
       "    .dataframe tbody tr th:only-of-type {\n",
       "        vertical-align: middle;\n",
       "    }\n",
       "\n",
       "    .dataframe tbody tr th {\n",
       "        vertical-align: top;\n",
       "    }\n",
       "\n",
       "    .dataframe thead th {\n",
       "        text-align: right;\n",
       "    }\n",
       "</style>\n",
       "<table border=\"1\" class=\"dataframe\">\n",
       "  <thead>\n",
       "    <tr style=\"text-align: right;\">\n",
       "      <th></th>\n",
       "      <th>population_growth</th>\n",
       "      <th>population_growth_rate</th>\n",
       "      <th>year</th>\n",
       "    </tr>\n",
       "  </thead>\n",
       "  <tbody>\n",
       "    <tr>\n",
       "      <th>0</th>\n",
       "      <td>651072.0</td>\n",
       "      <td>0.023375</td>\n",
       "      <td>2035</td>\n",
       "    </tr>\n",
       "    <tr>\n",
       "      <th>1</th>\n",
       "      <td>623526.0</td>\n",
       "      <td>0.022899</td>\n",
       "      <td>2034</td>\n",
       "    </tr>\n",
       "    <tr>\n",
       "      <th>2</th>\n",
       "      <td>596806.0</td>\n",
       "      <td>0.022409</td>\n",
       "      <td>2033</td>\n",
       "    </tr>\n",
       "    <tr>\n",
       "      <th>3</th>\n",
       "      <td>570172.0</td>\n",
       "      <td>0.021877</td>\n",
       "      <td>2032</td>\n",
       "    </tr>\n",
       "    <tr>\n",
       "      <th>4</th>\n",
       "      <td>546080.0</td>\n",
       "      <td>0.021401</td>\n",
       "      <td>2031</td>\n",
       "    </tr>\n",
       "    <tr>\n",
       "      <th>5</th>\n",
       "      <td>523188.0</td>\n",
       "      <td>0.020933</td>\n",
       "      <td>2030</td>\n",
       "    </tr>\n",
       "    <tr>\n",
       "      <th>6</th>\n",
       "      <td>502746.0</td>\n",
       "      <td>0.020528</td>\n",
       "      <td>2029</td>\n",
       "    </tr>\n",
       "    <tr>\n",
       "      <th>7</th>\n",
       "      <td>484948.0</td>\n",
       "      <td>0.020201</td>\n",
       "      <td>2028</td>\n",
       "    </tr>\n",
       "    <tr>\n",
       "      <th>8</th>\n",
       "      <td>471202.0</td>\n",
       "      <td>0.020022</td>\n",
       "      <td>2027</td>\n",
       "    </tr>\n",
       "    <tr>\n",
       "      <th>9</th>\n",
       "      <td>460388.0</td>\n",
       "      <td>0.019952</td>\n",
       "      <td>2026</td>\n",
       "    </tr>\n",
       "    <tr>\n",
       "      <th>10</th>\n",
       "      <td>450350.0</td>\n",
       "      <td>0.019906</td>\n",
       "      <td>2025</td>\n",
       "    </tr>\n",
       "    <tr>\n",
       "      <th>11</th>\n",
       "      <td>440674.0</td>\n",
       "      <td>0.019865</td>\n",
       "      <td>2024</td>\n",
       "    </tr>\n",
       "    <tr>\n",
       "      <th>12</th>\n",
       "      <td>433180.0</td>\n",
       "      <td>0.019916</td>\n",
       "      <td>2023</td>\n",
       "    </tr>\n",
       "  </tbody>\n",
       "</table>\n",
       "</div>"
      ],
      "text/plain": [
       "    population_growth  population_growth_rate  year\n",
       "0            651072.0                0.023375  2035\n",
       "1            623526.0                0.022899  2034\n",
       "2            596806.0                0.022409  2033\n",
       "3            570172.0                0.021877  2032\n",
       "4            546080.0                0.021401  2031\n",
       "5            523188.0                0.020933  2030\n",
       "6            502746.0                0.020528  2029\n",
       "7            484948.0                0.020201  2028\n",
       "8            471202.0                0.020022  2027\n",
       "9            460388.0                0.019952  2026\n",
       "10           450350.0                0.019906  2025\n",
       "11           440674.0                0.019865  2024\n",
       "12           433180.0                0.019916  2023"
      ]
     },
     "execution_count": 159,
     "metadata": {},
     "output_type": "execute_result"
    }
   ],
   "source": [
    "Xtest = df3[['population_growth','population_growth_rate','year']]\n",
    "Xtest"
   ]
  },
  {
   "cell_type": "code",
   "execution_count": 160,
   "id": "f4d8cab9",
   "metadata": {},
   "outputs": [
    {
     "data": {
      "text/html": [
       "<div>\n",
       "<style scoped>\n",
       "    .dataframe tbody tr th:only-of-type {\n",
       "        vertical-align: middle;\n",
       "    }\n",
       "\n",
       "    .dataframe tbody tr th {\n",
       "        vertical-align: top;\n",
       "    }\n",
       "\n",
       "    .dataframe thead th {\n",
       "        text-align: right;\n",
       "    }\n",
       "</style>\n",
       "<table border=\"1\" class=\"dataframe\">\n",
       "  <thead>\n",
       "    <tr style=\"text-align: right;\">\n",
       "      <th></th>\n",
       "      <th>population</th>\n",
       "      <th>year</th>\n",
       "    </tr>\n",
       "  </thead>\n",
       "  <tbody>\n",
       "    <tr>\n",
       "      <th>0</th>\n",
       "      <td>28504352.0</td>\n",
       "      <td>2035</td>\n",
       "    </tr>\n",
       "    <tr>\n",
       "      <th>1</th>\n",
       "      <td>27853280.0</td>\n",
       "      <td>2034</td>\n",
       "    </tr>\n",
       "    <tr>\n",
       "      <th>2</th>\n",
       "      <td>27229754.0</td>\n",
       "      <td>2033</td>\n",
       "    </tr>\n",
       "    <tr>\n",
       "      <th>3</th>\n",
       "      <td>26632948.0</td>\n",
       "      <td>2032</td>\n",
       "    </tr>\n",
       "    <tr>\n",
       "      <th>4</th>\n",
       "      <td>26062776.0</td>\n",
       "      <td>2031</td>\n",
       "    </tr>\n",
       "    <tr>\n",
       "      <th>5</th>\n",
       "      <td>25516696.0</td>\n",
       "      <td>2030</td>\n",
       "    </tr>\n",
       "    <tr>\n",
       "      <th>6</th>\n",
       "      <td>24993508.0</td>\n",
       "      <td>2029</td>\n",
       "    </tr>\n",
       "    <tr>\n",
       "      <th>7</th>\n",
       "      <td>24490762.0</td>\n",
       "      <td>2028</td>\n",
       "    </tr>\n",
       "    <tr>\n",
       "      <th>8</th>\n",
       "      <td>24005814.0</td>\n",
       "      <td>2027</td>\n",
       "    </tr>\n",
       "    <tr>\n",
       "      <th>9</th>\n",
       "      <td>23534612.0</td>\n",
       "      <td>2026</td>\n",
       "    </tr>\n",
       "    <tr>\n",
       "      <th>10</th>\n",
       "      <td>23074224.0</td>\n",
       "      <td>2025</td>\n",
       "    </tr>\n",
       "    <tr>\n",
       "      <th>11</th>\n",
       "      <td>22623874.0</td>\n",
       "      <td>2024</td>\n",
       "    </tr>\n",
       "    <tr>\n",
       "      <th>12</th>\n",
       "      <td>22183200.0</td>\n",
       "      <td>2023</td>\n",
       "    </tr>\n",
       "  </tbody>\n",
       "</table>\n",
       "</div>"
      ],
      "text/plain": [
       "    population  year\n",
       "0   28504352.0  2035\n",
       "1   27853280.0  2034\n",
       "2   27229754.0  2033\n",
       "3   26632948.0  2032\n",
       "4   26062776.0  2031\n",
       "5   25516696.0  2030\n",
       "6   24993508.0  2029\n",
       "7   24490762.0  2028\n",
       "8   24005814.0  2027\n",
       "9   23534612.0  2026\n",
       "10  23074224.0  2025\n",
       "11  22623874.0  2024\n",
       "12  22183200.0  2023"
      ]
     },
     "execution_count": 160,
     "metadata": {},
     "output_type": "execute_result"
    }
   ],
   "source": [
    "y_pop=df3[['population','year']]\n",
    "y_pop"
   ]
  },
  {
   "cell_type": "code",
   "execution_count": 161,
   "id": "5a86c4a6",
   "metadata": {},
   "outputs": [],
   "source": [
    "Y_test_linear=model.predict(Xtest)"
   ]
  },
  {
   "cell_type": "code",
   "execution_count": 162,
   "id": "7ccbded9",
   "metadata": {},
   "outputs": [
    {
     "data": {
      "text/plain": [
       "array([22723604.07138538, 22565061.85144663, 22399803.49305642,\n",
       "       22231257.60306656, 22048374.81984746, 21857546.38387227,\n",
       "       21653498.15749013, 21435848.62421882, 21199107.54827499,\n",
       "       20948809.61797464, 20694500.05716813, 20438009.03800941,\n",
       "       20172052.0701263 ])"
      ]
     },
     "execution_count": 162,
     "metadata": {},
     "output_type": "execute_result"
    }
   ],
   "source": [
    "Y_test_linear"
   ]
  },
  {
   "cell_type": "code",
   "execution_count": 163,
   "id": "7ff0979b",
   "metadata": {},
   "outputs": [],
   "source": [
    "predicted = pd.DataFrame(Y_test_linear,columns=['predicted'])"
   ]
  },
  {
   "cell_type": "code",
   "execution_count": 164,
   "id": "99fe11c0",
   "metadata": {},
   "outputs": [],
   "source": [
    "df_linear_regression = pd.merge(y_pop,predicted,how = 'left',left_index = True, right_index = True)"
   ]
  },
  {
   "cell_type": "code",
   "execution_count": 165,
   "id": "407e0e06",
   "metadata": {},
   "outputs": [
    {
     "data": {
      "text/html": [
       "<div>\n",
       "<style scoped>\n",
       "    .dataframe tbody tr th:only-of-type {\n",
       "        vertical-align: middle;\n",
       "    }\n",
       "\n",
       "    .dataframe tbody tr th {\n",
       "        vertical-align: top;\n",
       "    }\n",
       "\n",
       "    .dataframe thead th {\n",
       "        text-align: right;\n",
       "    }\n",
       "</style>\n",
       "<table border=\"1\" class=\"dataframe\">\n",
       "  <thead>\n",
       "    <tr style=\"text-align: right;\">\n",
       "      <th></th>\n",
       "      <th>population</th>\n",
       "      <th>year</th>\n",
       "      <th>predicted</th>\n",
       "    </tr>\n",
       "  </thead>\n",
       "  <tbody>\n",
       "    <tr>\n",
       "      <th>0</th>\n",
       "      <td>28504352.0</td>\n",
       "      <td>2035</td>\n",
       "      <td>2.272360e+07</td>\n",
       "    </tr>\n",
       "    <tr>\n",
       "      <th>1</th>\n",
       "      <td>27853280.0</td>\n",
       "      <td>2034</td>\n",
       "      <td>2.256506e+07</td>\n",
       "    </tr>\n",
       "    <tr>\n",
       "      <th>2</th>\n",
       "      <td>27229754.0</td>\n",
       "      <td>2033</td>\n",
       "      <td>2.239980e+07</td>\n",
       "    </tr>\n",
       "    <tr>\n",
       "      <th>3</th>\n",
       "      <td>26632948.0</td>\n",
       "      <td>2032</td>\n",
       "      <td>2.223126e+07</td>\n",
       "    </tr>\n",
       "    <tr>\n",
       "      <th>4</th>\n",
       "      <td>26062776.0</td>\n",
       "      <td>2031</td>\n",
       "      <td>2.204837e+07</td>\n",
       "    </tr>\n",
       "    <tr>\n",
       "      <th>5</th>\n",
       "      <td>25516696.0</td>\n",
       "      <td>2030</td>\n",
       "      <td>2.185755e+07</td>\n",
       "    </tr>\n",
       "    <tr>\n",
       "      <th>6</th>\n",
       "      <td>24993508.0</td>\n",
       "      <td>2029</td>\n",
       "      <td>2.165350e+07</td>\n",
       "    </tr>\n",
       "    <tr>\n",
       "      <th>7</th>\n",
       "      <td>24490762.0</td>\n",
       "      <td>2028</td>\n",
       "      <td>2.143585e+07</td>\n",
       "    </tr>\n",
       "    <tr>\n",
       "      <th>8</th>\n",
       "      <td>24005814.0</td>\n",
       "      <td>2027</td>\n",
       "      <td>2.119911e+07</td>\n",
       "    </tr>\n",
       "    <tr>\n",
       "      <th>9</th>\n",
       "      <td>23534612.0</td>\n",
       "      <td>2026</td>\n",
       "      <td>2.094881e+07</td>\n",
       "    </tr>\n",
       "    <tr>\n",
       "      <th>10</th>\n",
       "      <td>23074224.0</td>\n",
       "      <td>2025</td>\n",
       "      <td>2.069450e+07</td>\n",
       "    </tr>\n",
       "    <tr>\n",
       "      <th>11</th>\n",
       "      <td>22623874.0</td>\n",
       "      <td>2024</td>\n",
       "      <td>2.043801e+07</td>\n",
       "    </tr>\n",
       "    <tr>\n",
       "      <th>12</th>\n",
       "      <td>22183200.0</td>\n",
       "      <td>2023</td>\n",
       "      <td>2.017205e+07</td>\n",
       "    </tr>\n",
       "  </tbody>\n",
       "</table>\n",
       "</div>"
      ],
      "text/plain": [
       "    population  year     predicted\n",
       "0   28504352.0  2035  2.272360e+07\n",
       "1   27853280.0  2034  2.256506e+07\n",
       "2   27229754.0  2033  2.239980e+07\n",
       "3   26632948.0  2032  2.223126e+07\n",
       "4   26062776.0  2031  2.204837e+07\n",
       "5   25516696.0  2030  2.185755e+07\n",
       "6   24993508.0  2029  2.165350e+07\n",
       "7   24490762.0  2028  2.143585e+07\n",
       "8   24005814.0  2027  2.119911e+07\n",
       "9   23534612.0  2026  2.094881e+07\n",
       "10  23074224.0  2025  2.069450e+07\n",
       "11  22623874.0  2024  2.043801e+07\n",
       "12  22183200.0  2023  2.017205e+07"
      ]
     },
     "execution_count": 165,
     "metadata": {},
     "output_type": "execute_result"
    }
   ],
   "source": [
    "df_linear_regression"
   ]
  },
  {
   "cell_type": "code",
   "execution_count": 166,
   "id": "efffbfeb",
   "metadata": {},
   "outputs": [
    {
     "data": {
      "image/png": "[encoded data removed]",
      "text/plain": [
       "<Figure size 640x480 with 1 Axes>"
      ]
     },
     "metadata": {},
     "output_type": "display_data"
    }
   ],
   "source": [
    "plt.plot(df_linear_regression['year'],predicted, color='blue',linestyle='dashed', label='Predicted')\n",
    "plt.plot(df_linear_regression['year'],df_linear_regression['population'], color='red', label='Actual')\n",
    "plt.title(\"Population of Cario over time\")\n",
    "plt.xlabel(\"Year\")\n",
    "plt.ylabel(\"Population\")\n",
    "plt.legend()\n",
    "plt.show()"
   ]
  },
  {
   "cell_type": "code",
   "execution_count": 167,
   "id": "ab608a56",
   "metadata": {},
   "outputs": [],
   "source": [
    "Y_test_random=regressor1.predict(Xtest)\n"
   ]
  },
  {
   "cell_type": "code",
   "execution_count": 168,
   "id": "5eaaba2e",
   "metadata": {},
   "outputs": [],
   "source": [
    "predicted_random = pd.DataFrame(Y_test_random,columns=['predicted_random'])"
   ]
  },
  {
   "cell_type": "code",
   "execution_count": 169,
   "id": "49b9573c",
   "metadata": {},
   "outputs": [
    {
     "data": {
      "text/html": [
       "<div>\n",
       "<style scoped>\n",
       "    .dataframe tbody tr th:only-of-type {\n",
       "        vertical-align: middle;\n",
       "    }\n",
       "\n",
       "    .dataframe tbody tr th {\n",
       "        vertical-align: top;\n",
       "    }\n",
       "\n",
       "    .dataframe thead th {\n",
       "        text-align: right;\n",
       "    }\n",
       "</style>\n",
       "<table border=\"1\" class=\"dataframe\">\n",
       "  <thead>\n",
       "    <tr style=\"text-align: right;\">\n",
       "      <th></th>\n",
       "      <th>predicted_random</th>\n",
       "    </tr>\n",
       "  </thead>\n",
       "  <tbody>\n",
       "    <tr>\n",
       "      <th>0</th>\n",
       "      <td>20749557.4</td>\n",
       "    </tr>\n",
       "    <tr>\n",
       "      <th>1</th>\n",
       "      <td>20749557.4</td>\n",
       "    </tr>\n",
       "    <tr>\n",
       "      <th>2</th>\n",
       "      <td>20749557.4</td>\n",
       "    </tr>\n",
       "    <tr>\n",
       "      <th>3</th>\n",
       "      <td>20749557.4</td>\n",
       "    </tr>\n",
       "    <tr>\n",
       "      <th>4</th>\n",
       "      <td>20749557.4</td>\n",
       "    </tr>\n",
       "    <tr>\n",
       "      <th>5</th>\n",
       "      <td>21252289.6</td>\n",
       "    </tr>\n",
       "    <tr>\n",
       "      <th>6</th>\n",
       "      <td>21463009.4</td>\n",
       "    </tr>\n",
       "    <tr>\n",
       "      <th>7</th>\n",
       "      <td>21463009.4</td>\n",
       "    </tr>\n",
       "    <tr>\n",
       "      <th>8</th>\n",
       "      <td>21972480.2</td>\n",
       "    </tr>\n",
       "    <tr>\n",
       "      <th>9</th>\n",
       "      <td>21972480.2</td>\n",
       "    </tr>\n",
       "    <tr>\n",
       "      <th>10</th>\n",
       "      <td>21972480.2</td>\n",
       "    </tr>\n",
       "    <tr>\n",
       "      <th>11</th>\n",
       "      <td>21972480.2</td>\n",
       "    </tr>\n",
       "    <tr>\n",
       "      <th>12</th>\n",
       "      <td>21972480.2</td>\n",
       "    </tr>\n",
       "  </tbody>\n",
       "</table>\n",
       "</div>"
      ],
      "text/plain": [
       "    predicted_random\n",
       "0         20749557.4\n",
       "1         20749557.4\n",
       "2         20749557.4\n",
       "3         20749557.4\n",
       "4         20749557.4\n",
       "5         21252289.6\n",
       "6         21463009.4\n",
       "7         21463009.4\n",
       "8         21972480.2\n",
       "9         21972480.2\n",
       "10        21972480.2\n",
       "11        21972480.2\n",
       "12        21972480.2"
      ]
     },
     "execution_count": 169,
     "metadata": {},
     "output_type": "execute_result"
    }
   ],
   "source": [
    "predicted_random"
   ]
  },
  {
   "cell_type": "code",
   "execution_count": 170,
   "id": "6b28f896",
   "metadata": {},
   "outputs": [],
   "source": [
    "df_random_forest = pd.merge(y_pop,predicted_random,how = 'left',left_index = True, right_index = True)"
   ]
  },
  {
   "cell_type": "code",
   "execution_count": 171,
   "id": "2ec28b68",
   "metadata": {},
   "outputs": [
    {
     "data": {
      "text/html": [
       "<div>\n",
       "<style scoped>\n",
       "    .dataframe tbody tr th:only-of-type {\n",
       "        vertical-align: middle;\n",
       "    }\n",
       "\n",
       "    .dataframe tbody tr th {\n",
       "        vertical-align: top;\n",
       "    }\n",
       "\n",
       "    .dataframe thead th {\n",
       "        text-align: right;\n",
       "    }\n",
       "</style>\n",
       "<table border=\"1\" class=\"dataframe\">\n",
       "  <thead>\n",
       "    <tr style=\"text-align: right;\">\n",
       "      <th></th>\n",
       "      <th>population</th>\n",
       "      <th>year</th>\n",
       "      <th>predicted_random</th>\n",
       "    </tr>\n",
       "  </thead>\n",
       "  <tbody>\n",
       "    <tr>\n",
       "      <th>0</th>\n",
       "      <td>28504352.0</td>\n",
       "      <td>2035</td>\n",
       "      <td>20749557.4</td>\n",
       "    </tr>\n",
       "    <tr>\n",
       "      <th>1</th>\n",
       "      <td>27853280.0</td>\n",
       "      <td>2034</td>\n",
       "      <td>20749557.4</td>\n",
       "    </tr>\n",
       "    <tr>\n",
       "      <th>2</th>\n",
       "      <td>27229754.0</td>\n",
       "      <td>2033</td>\n",
       "      <td>20749557.4</td>\n",
       "    </tr>\n",
       "    <tr>\n",
       "      <th>3</th>\n",
       "      <td>26632948.0</td>\n",
       "      <td>2032</td>\n",
       "      <td>20749557.4</td>\n",
       "    </tr>\n",
       "    <tr>\n",
       "      <th>4</th>\n",
       "      <td>26062776.0</td>\n",
       "      <td>2031</td>\n",
       "      <td>20749557.4</td>\n",
       "    </tr>\n",
       "    <tr>\n",
       "      <th>5</th>\n",
       "      <td>25516696.0</td>\n",
       "      <td>2030</td>\n",
       "      <td>21252289.6</td>\n",
       "    </tr>\n",
       "    <tr>\n",
       "      <th>6</th>\n",
       "      <td>24993508.0</td>\n",
       "      <td>2029</td>\n",
       "      <td>21463009.4</td>\n",
       "    </tr>\n",
       "    <tr>\n",
       "      <th>7</th>\n",
       "      <td>24490762.0</td>\n",
       "      <td>2028</td>\n",
       "      <td>21463009.4</td>\n",
       "    </tr>\n",
       "    <tr>\n",
       "      <th>8</th>\n",
       "      <td>24005814.0</td>\n",
       "      <td>2027</td>\n",
       "      <td>21972480.2</td>\n",
       "    </tr>\n",
       "    <tr>\n",
       "      <th>9</th>\n",
       "      <td>23534612.0</td>\n",
       "      <td>2026</td>\n",
       "      <td>21972480.2</td>\n",
       "    </tr>\n",
       "    <tr>\n",
       "      <th>10</th>\n",
       "      <td>23074224.0</td>\n",
       "      <td>2025</td>\n",
       "      <td>21972480.2</td>\n",
       "    </tr>\n",
       "    <tr>\n",
       "      <th>11</th>\n",
       "      <td>22623874.0</td>\n",
       "      <td>2024</td>\n",
       "      <td>21972480.2</td>\n",
       "    </tr>\n",
       "    <tr>\n",
       "      <th>12</th>\n",
       "      <td>22183200.0</td>\n",
       "      <td>2023</td>\n",
       "      <td>21972480.2</td>\n",
       "    </tr>\n",
       "  </tbody>\n",
       "</table>\n",
       "</div>"
      ],
      "text/plain": [
       "    population  year  predicted_random\n",
       "0   28504352.0  2035        20749557.4\n",
       "1   27853280.0  2034        20749557.4\n",
       "2   27229754.0  2033        20749557.4\n",
       "3   26632948.0  2032        20749557.4\n",
       "4   26062776.0  2031        20749557.4\n",
       "5   25516696.0  2030        21252289.6\n",
       "6   24993508.0  2029        21463009.4\n",
       "7   24490762.0  2028        21463009.4\n",
       "8   24005814.0  2027        21972480.2\n",
       "9   23534612.0  2026        21972480.2\n",
       "10  23074224.0  2025        21972480.2\n",
       "11  22623874.0  2024        21972480.2\n",
       "12  22183200.0  2023        21972480.2"
      ]
     },
     "execution_count": 171,
     "metadata": {},
     "output_type": "execute_result"
    }
   ],
   "source": [
    "df_random_forest"
   ]
  },
  {
   "cell_type": "code",
   "execution_count": 172,
   "id": "02daabca",
   "metadata": {
    "scrolled": true
   },
   "outputs": [
    {
     "data": {
      "image/png": "[encoded data removed]",
      "text/plain": [
       "<Figure size 640x480 with 1 Axes>"
      ]
     },
     "metadata": {},
     "output_type": "display_data"
    }
   ],
   "source": [
    "plt.plot(df_random_forest['year'],predicted, color='blue',linestyle='dashed', label='Predicted')\n",
    "plt.plot(df_random_forest['year'],df_random_forest['population'], color='red', label='Actual')\n",
    "plt.title(\"Population of Cario over time\")\n",
    "plt.xlabel(\"Year\")\n",
    "plt.ylabel(\"Population\")\n",
    "plt.legend()\n",
    "plt.show()"
   ]
  },
  {
   "cell_type": "markdown",
   "id": "c5111562",
   "metadata": {},
   "source": []
  },
  {
   "cell_type": "code",
   "execution_count": null,
   "id": "4eae1812",
   "metadata": {},
   "outputs": [],
   "source": []
  },
  {
   "cell_type": "code",
   "execution_count": null,
   "id": "61caaaa0",
   "metadata": {},
   "outputs": [],
   "source": []
  },
  {
   "cell_type": "code",
   "execution_count": null,
   "id": "6e7c3fc7",
   "metadata": {},
   "outputs": [],
   "source": []
  }
 ],
 "metadata": {
  "kernelspec": {
   "display_name": "Python 3 (ipykernel)",
   "language": "python",
   "name": "python3"
  },
  "language_info": {
   "codemirror_mode": {
    "name": "ipython",
    "version": 3
   },
   "file_extension": ".py",
   "mimetype": "text/x-python",
   "name": "python",
   "nbconvert_exporter": "python",
   "pygments_lexer": "ipython3",
   "version": "3.9.13"
  }
 },
 "nbformat": 4,
 "nbformat_minor": 5
}

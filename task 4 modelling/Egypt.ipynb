{
 "cells": [
  {
   "cell_type": "code",
   "execution_count": 1,
   "id": "f1ba2089",
   "metadata": {},
   "outputs": [],
   "source": [
    "import pandas as pd"
   ]
  },
  {
   "cell_type": "code",
   "execution_count": 2,
   "id": "a3878b1e",
   "metadata": {},
   "outputs": [],
   "source": [
    "df = pd.read_csv('UN_city_pop_projections_long.csv')"
   ]
  },
  {
   "cell_type": "code",
   "execution_count": 3,
   "id": "5229e1dd",
   "metadata": {},
   "outputs": [
    {
     "data": {
      "text/html": [
       "<div>\n",
       "<style scoped>\n",
       "    .dataframe tbody tr th:only-of-type {\n",
       "        vertical-align: middle;\n",
       "    }\n",
       "\n",
       "    .dataframe tbody tr th {\n",
       "        vertical-align: top;\n",
       "    }\n",
       "\n",
       "    .dataframe thead th {\n",
       "        text-align: right;\n",
       "    }\n",
       "</style>\n",
       "<table border=\"1\" class=\"dataframe\">\n",
       "  <thead>\n",
       "    <tr style=\"text-align: right;\">\n",
       "      <th></th>\n",
       "      <th>Unnamed: 0</th>\n",
       "      <th>Region</th>\n",
       "      <th>Country_Code</th>\n",
       "      <th>Country_or_area</th>\n",
       "      <th>City_Code</th>\n",
       "      <th>City</th>\n",
       "      <th>City_Definition</th>\n",
       "      <th>Latitude</th>\n",
       "      <th>Longitude</th>\n",
       "      <th>year</th>\n",
       "      <th>population</th>\n",
       "    </tr>\n",
       "  </thead>\n",
       "  <tbody>\n",
       "    <tr>\n",
       "      <th>0</th>\n",
       "      <td>0</td>\n",
       "      <td>Africa</td>\n",
       "      <td>12</td>\n",
       "      <td>Algeria</td>\n",
       "      <td>20009</td>\n",
       "      <td>Annaba</td>\n",
       "      <td>Urban Agglomeration</td>\n",
       "      <td>36.900000</td>\n",
       "      <td>7.766670</td>\n",
       "      <td>1950</td>\n",
       "      <td>99.741</td>\n",
       "    </tr>\n",
       "    <tr>\n",
       "      <th>1</th>\n",
       "      <td>1</td>\n",
       "      <td>Africa</td>\n",
       "      <td>12</td>\n",
       "      <td>Algeria</td>\n",
       "      <td>20011</td>\n",
       "      <td>Batna</td>\n",
       "      <td>City Proper</td>\n",
       "      <td>35.555970</td>\n",
       "      <td>6.174140</td>\n",
       "      <td>1950</td>\n",
       "      <td>13.046</td>\n",
       "    </tr>\n",
       "    <tr>\n",
       "      <th>2</th>\n",
       "      <td>2</td>\n",
       "      <td>Africa</td>\n",
       "      <td>12</td>\n",
       "      <td>Algeria</td>\n",
       "      <td>20015</td>\n",
       "      <td>Blida</td>\n",
       "      <td>Urban Agglomeration</td>\n",
       "      <td>36.480781</td>\n",
       "      <td>2.831943</td>\n",
       "      <td>1950</td>\n",
       "      <td>33.970</td>\n",
       "    </tr>\n",
       "    <tr>\n",
       "      <th>3</th>\n",
       "      <td>3</td>\n",
       "      <td>Africa</td>\n",
       "      <td>12</td>\n",
       "      <td>Algeria</td>\n",
       "      <td>20006</td>\n",
       "      <td>El Djazaïr  (Algiers)</td>\n",
       "      <td>Urban Agglomeration</td>\n",
       "      <td>36.752500</td>\n",
       "      <td>3.041970</td>\n",
       "      <td>1950</td>\n",
       "      <td>516.450</td>\n",
       "    </tr>\n",
       "    <tr>\n",
       "      <th>4</th>\n",
       "      <td>4</td>\n",
       "      <td>Africa</td>\n",
       "      <td>12</td>\n",
       "      <td>Algeria</td>\n",
       "      <td>20020</td>\n",
       "      <td>El Djelfa</td>\n",
       "      <td>Urban Agglomeration</td>\n",
       "      <td>34.672790</td>\n",
       "      <td>3.263000</td>\n",
       "      <td>1950</td>\n",
       "      <td>10.450</td>\n",
       "    </tr>\n",
       "    <tr>\n",
       "      <th>...</th>\n",
       "      <td>...</td>\n",
       "      <td>...</td>\n",
       "      <td>...</td>\n",
       "      <td>...</td>\n",
       "      <td>...</td>\n",
       "      <td>...</td>\n",
       "      <td>...</td>\n",
       "      <td>...</td>\n",
       "      <td>...</td>\n",
       "      <td>...</td>\n",
       "      <td>...</td>\n",
       "    </tr>\n",
       "    <tr>\n",
       "      <th>19001</th>\n",
       "      <td>19001</td>\n",
       "      <td>Africa</td>\n",
       "      <td>894</td>\n",
       "      <td>Zambia</td>\n",
       "      <td>23277</td>\n",
       "      <td>Lusaka</td>\n",
       "      <td>Urban Agglomeration</td>\n",
       "      <td>-15.413374</td>\n",
       "      <td>28.277148</td>\n",
       "      <td>2035</td>\n",
       "      <td>5182.669</td>\n",
       "    </tr>\n",
       "    <tr>\n",
       "      <th>19002</th>\n",
       "      <td>19002</td>\n",
       "      <td>Africa</td>\n",
       "      <td>894</td>\n",
       "      <td>Zambia</td>\n",
       "      <td>23279</td>\n",
       "      <td>Ndola</td>\n",
       "      <td>City Proper</td>\n",
       "      <td>-12.958670</td>\n",
       "      <td>28.636590</td>\n",
       "      <td>2035</td>\n",
       "      <td>925.726</td>\n",
       "    </tr>\n",
       "    <tr>\n",
       "      <th>19003</th>\n",
       "      <td>19003</td>\n",
       "      <td>Africa</td>\n",
       "      <td>716</td>\n",
       "      <td>Zimbabwe</td>\n",
       "      <td>22510</td>\n",
       "      <td>Bulawayo</td>\n",
       "      <td>City Proper</td>\n",
       "      <td>-20.150000</td>\n",
       "      <td>28.583330</td>\n",
       "      <td>2035</td>\n",
       "      <td>874.479</td>\n",
       "    </tr>\n",
       "    <tr>\n",
       "      <th>19004</th>\n",
       "      <td>19004</td>\n",
       "      <td>Africa</td>\n",
       "      <td>716</td>\n",
       "      <td>Zimbabwe</td>\n",
       "      <td>22511</td>\n",
       "      <td>Chitungwiza</td>\n",
       "      <td>City Proper</td>\n",
       "      <td>-18.012740</td>\n",
       "      <td>31.075550</td>\n",
       "      <td>2035</td>\n",
       "      <td>552.027</td>\n",
       "    </tr>\n",
       "    <tr>\n",
       "      <th>19005</th>\n",
       "      <td>19005</td>\n",
       "      <td>Africa</td>\n",
       "      <td>716</td>\n",
       "      <td>Zimbabwe</td>\n",
       "      <td>22513</td>\n",
       "      <td>Harare</td>\n",
       "      <td>City Proper</td>\n",
       "      <td>-17.829350</td>\n",
       "      <td>31.053890</td>\n",
       "      <td>2035</td>\n",
       "      <td>2141.738</td>\n",
       "    </tr>\n",
       "  </tbody>\n",
       "</table>\n",
       "<p>19006 rows × 11 columns</p>\n",
       "</div>"
      ],
      "text/plain": [
       "       Unnamed: 0  Region  Country_Code Country_or_area  City_Code  \\\n",
       "0               0  Africa            12         Algeria      20009   \n",
       "1               1  Africa            12         Algeria      20011   \n",
       "2               2  Africa            12         Algeria      20015   \n",
       "3               3  Africa            12         Algeria      20006   \n",
       "4               4  Africa            12         Algeria      20020   \n",
       "...           ...     ...           ...             ...        ...   \n",
       "19001       19001  Africa           894          Zambia      23277   \n",
       "19002       19002  Africa           894          Zambia      23279   \n",
       "19003       19003  Africa           716        Zimbabwe      22510   \n",
       "19004       19004  Africa           716        Zimbabwe      22511   \n",
       "19005       19005  Africa           716        Zimbabwe      22513   \n",
       "\n",
       "                        City      City_Definition   Latitude  Longitude  year  \\\n",
       "0                     Annaba  Urban Agglomeration  36.900000   7.766670  1950   \n",
       "1                      Batna          City Proper  35.555970   6.174140  1950   \n",
       "2                      Blida  Urban Agglomeration  36.480781   2.831943  1950   \n",
       "3      El Djazaïr  (Algiers)  Urban Agglomeration  36.752500   3.041970  1950   \n",
       "4                  El Djelfa  Urban Agglomeration  34.672790   3.263000  1950   \n",
       "...                      ...                  ...        ...        ...   ...   \n",
       "19001                 Lusaka  Urban Agglomeration -15.413374  28.277148  2035   \n",
       "19002                  Ndola          City Proper -12.958670  28.636590  2035   \n",
       "19003               Bulawayo          City Proper -20.150000  28.583330  2035   \n",
       "19004            Chitungwiza          City Proper -18.012740  31.075550  2035   \n",
       "19005                 Harare          City Proper -17.829350  31.053890  2035   \n",
       "\n",
       "       population  \n",
       "0          99.741  \n",
       "1          13.046  \n",
       "2          33.970  \n",
       "3         516.450  \n",
       "4          10.450  \n",
       "...           ...  \n",
       "19001    5182.669  \n",
       "19002     925.726  \n",
       "19003     874.479  \n",
       "19004     552.027  \n",
       "19005    2141.738  \n",
       "\n",
       "[19006 rows x 11 columns]"
      ]
     },
     "execution_count": 3,
     "metadata": {},
     "output_type": "execute_result"
    }
   ],
   "source": [
    "df"
   ]
  },
  {
   "cell_type": "code",
   "execution_count": 4,
   "id": "0f270ab7",
   "metadata": {},
   "outputs": [
    {
     "data": {
      "text/plain": [
       "array(['Algeria', 'Angola', 'Benin', 'Burkina Faso', 'Burundi',\n",
       "       'Cameroon', 'Central African Republic', 'Chad', 'Congo',\n",
       "       \"Côte d'Ivoire\", 'Democratic Republic of the Congo', 'Djibouti',\n",
       "       'Egypt', 'Equatorial Guinea', 'Eritrea', 'Ethiopia', 'Gabon',\n",
       "       'Gambia', 'Ghana', 'Guinea', 'Guinea-Bissau', 'Kenya', 'Liberia',\n",
       "       'Libya', 'Madagascar', 'Malawi', 'Mali', 'Mauritania', 'Morocco',\n",
       "       'Mozambique', 'Namibia', 'Niger', 'Nigeria', 'Rwanda', 'Senegal',\n",
       "       'Sierra Leone', 'Somalia', 'South Africa', 'South Sudan', 'Sudan',\n",
       "       'Togo', 'Tunisia', 'Uganda', 'United Republic of Tanzania',\n",
       "       'Zambia', 'Zimbabwe'], dtype=object)"
      ]
     },
     "execution_count": 4,
     "metadata": {},
     "output_type": "execute_result"
    }
   ],
   "source": [
    "df.Country_or_area.unique()"
   ]
  },
  {
   "cell_type": "code",
   "execution_count": 5,
   "id": "a92a5d9b",
   "metadata": {},
   "outputs": [],
   "source": [
    "df = df[df['Country_or_area']=='Egypt']"
   ]
  },
  {
   "cell_type": "code",
   "execution_count": 6,
   "id": "8228d8a6",
   "metadata": {},
   "outputs": [
    {
     "data": {
      "text/html": [
       "<div>\n",
       "<style scoped>\n",
       "    .dataframe tbody tr th:only-of-type {\n",
       "        vertical-align: middle;\n",
       "    }\n",
       "\n",
       "    .dataframe tbody tr th {\n",
       "        vertical-align: top;\n",
       "    }\n",
       "\n",
       "    .dataframe thead th {\n",
       "        text-align: right;\n",
       "    }\n",
       "</style>\n",
       "<table border=\"1\" class=\"dataframe\">\n",
       "  <thead>\n",
       "    <tr style=\"text-align: right;\">\n",
       "      <th></th>\n",
       "      <th>Unnamed: 0</th>\n",
       "      <th>Region</th>\n",
       "      <th>Country_Code</th>\n",
       "      <th>Country_or_area</th>\n",
       "      <th>City_Code</th>\n",
       "      <th>City</th>\n",
       "      <th>City_Definition</th>\n",
       "      <th>Latitude</th>\n",
       "      <th>Longitude</th>\n",
       "      <th>year</th>\n",
       "      <th>population</th>\n",
       "    </tr>\n",
       "  </thead>\n",
       "  <tbody>\n",
       "    <tr>\n",
       "      <th>54</th>\n",
       "      <td>54</td>\n",
       "      <td>Africa</td>\n",
       "      <td>818</td>\n",
       "      <td>Egypt</td>\n",
       "      <td>22814</td>\n",
       "      <td>Al-Fayyum</td>\n",
       "      <td>City Proper</td>\n",
       "      <td>29.309950</td>\n",
       "      <td>30.841800</td>\n",
       "      <td>1950</td>\n",
       "      <td>62.905</td>\n",
       "    </tr>\n",
       "    <tr>\n",
       "      <th>55</th>\n",
       "      <td>55</td>\n",
       "      <td>Africa</td>\n",
       "      <td>818</td>\n",
       "      <td>Egypt</td>\n",
       "      <td>22804</td>\n",
       "      <td>Al-Iskandariyah (Alexandria)</td>\n",
       "      <td>City Proper</td>\n",
       "      <td>31.192471</td>\n",
       "      <td>29.904596</td>\n",
       "      <td>1950</td>\n",
       "      <td>1037.462</td>\n",
       "    </tr>\n",
       "    <tr>\n",
       "      <th>56</th>\n",
       "      <td>56</td>\n",
       "      <td>Africa</td>\n",
       "      <td>818</td>\n",
       "      <td>Egypt</td>\n",
       "      <td>22815</td>\n",
       "      <td>Al-Ismailiyah</td>\n",
       "      <td>City Proper</td>\n",
       "      <td>30.604270</td>\n",
       "      <td>32.272250</td>\n",
       "      <td>1950</td>\n",
       "      <td>77.633</td>\n",
       "    </tr>\n",
       "    <tr>\n",
       "      <th>57</th>\n",
       "      <td>57</td>\n",
       "      <td>Africa</td>\n",
       "      <td>818</td>\n",
       "      <td>Egypt</td>\n",
       "      <td>22806</td>\n",
       "      <td>Al-Mahallah al-Kubra</td>\n",
       "      <td>City Proper</td>\n",
       "      <td>30.974500</td>\n",
       "      <td>31.164990</td>\n",
       "      <td>1950</td>\n",
       "      <td>128.518</td>\n",
       "    </tr>\n",
       "    <tr>\n",
       "      <th>58</th>\n",
       "      <td>58</td>\n",
       "      <td>Africa</td>\n",
       "      <td>818</td>\n",
       "      <td>Egypt</td>\n",
       "      <td>22819</td>\n",
       "      <td>Al-Mansurah</td>\n",
       "      <td>City Proper</td>\n",
       "      <td>31.036370</td>\n",
       "      <td>31.380690</td>\n",
       "      <td>1950</td>\n",
       "      <td>112.169</td>\n",
       "    </tr>\n",
       "    <tr>\n",
       "      <th>...</th>\n",
       "      <td>...</td>\n",
       "      <td>...</td>\n",
       "      <td>...</td>\n",
       "      <td>...</td>\n",
       "      <td>...</td>\n",
       "      <td>...</td>\n",
       "      <td>...</td>\n",
       "      <td>...</td>\n",
       "      <td>...</td>\n",
       "      <td>...</td>\n",
       "      <td>...</td>\n",
       "    </tr>\n",
       "    <tr>\n",
       "      <th>18847</th>\n",
       "      <td>18847</td>\n",
       "      <td>Africa</td>\n",
       "      <td>818</td>\n",
       "      <td>Egypt</td>\n",
       "      <td>22807</td>\n",
       "      <td>Asyut</td>\n",
       "      <td>City Proper</td>\n",
       "      <td>27.180960</td>\n",
       "      <td>31.183680</td>\n",
       "      <td>2035</td>\n",
       "      <td>611.292</td>\n",
       "    </tr>\n",
       "    <tr>\n",
       "      <th>18848</th>\n",
       "      <td>18848</td>\n",
       "      <td>Africa</td>\n",
       "      <td>818</td>\n",
       "      <td>Egypt</td>\n",
       "      <td>22829</td>\n",
       "      <td>Az-Zaqazig</td>\n",
       "      <td>City Proper</td>\n",
       "      <td>30.587500</td>\n",
       "      <td>31.501944</td>\n",
       "      <td>2035</td>\n",
       "      <td>475.146</td>\n",
       "    </tr>\n",
       "    <tr>\n",
       "      <th>18849</th>\n",
       "      <td>18849</td>\n",
       "      <td>Africa</td>\n",
       "      <td>818</td>\n",
       "      <td>Egypt</td>\n",
       "      <td>22823</td>\n",
       "      <td>Bur Sa'id</td>\n",
       "      <td>City Proper</td>\n",
       "      <td>31.256540</td>\n",
       "      <td>32.284120</td>\n",
       "      <td>2035</td>\n",
       "      <td>997.059</td>\n",
       "    </tr>\n",
       "    <tr>\n",
       "      <th>18850</th>\n",
       "      <td>18850</td>\n",
       "      <td>Africa</td>\n",
       "      <td>818</td>\n",
       "      <td>Egypt</td>\n",
       "      <td>22816</td>\n",
       "      <td>Kafr-ad-Dawwar</td>\n",
       "      <td>City Proper</td>\n",
       "      <td>31.133850</td>\n",
       "      <td>30.128430</td>\n",
       "      <td>2035</td>\n",
       "      <td>461.678</td>\n",
       "    </tr>\n",
       "    <tr>\n",
       "      <th>18851</th>\n",
       "      <td>18851</td>\n",
       "      <td>Africa</td>\n",
       "      <td>818</td>\n",
       "      <td>Egypt</td>\n",
       "      <td>22828</td>\n",
       "      <td>Tanta</td>\n",
       "      <td>City Proper</td>\n",
       "      <td>30.787176</td>\n",
       "      <td>30.999539</td>\n",
       "      <td>2035</td>\n",
       "      <td>665.112</td>\n",
       "    </tr>\n",
       "  </tbody>\n",
       "</table>\n",
       "<p>1118 rows × 11 columns</p>\n",
       "</div>"
      ],
      "text/plain": [
       "       Unnamed: 0  Region  Country_Code Country_or_area  City_Code  \\\n",
       "54             54  Africa           818           Egypt      22814   \n",
       "55             55  Africa           818           Egypt      22804   \n",
       "56             56  Africa           818           Egypt      22815   \n",
       "57             57  Africa           818           Egypt      22806   \n",
       "58             58  Africa           818           Egypt      22819   \n",
       "...           ...     ...           ...             ...        ...   \n",
       "18847       18847  Africa           818           Egypt      22807   \n",
       "18848       18848  Africa           818           Egypt      22829   \n",
       "18849       18849  Africa           818           Egypt      22823   \n",
       "18850       18850  Africa           818           Egypt      22816   \n",
       "18851       18851  Africa           818           Egypt      22828   \n",
       "\n",
       "                               City City_Definition   Latitude  Longitude  \\\n",
       "54                        Al-Fayyum     City Proper  29.309950  30.841800   \n",
       "55     Al-Iskandariyah (Alexandria)     City Proper  31.192471  29.904596   \n",
       "56                    Al-Ismailiyah     City Proper  30.604270  32.272250   \n",
       "57             Al-Mahallah al-Kubra     City Proper  30.974500  31.164990   \n",
       "58                      Al-Mansurah     City Proper  31.036370  31.380690   \n",
       "...                             ...             ...        ...        ...   \n",
       "18847                         Asyut     City Proper  27.180960  31.183680   \n",
       "18848                    Az-Zaqazig     City Proper  30.587500  31.501944   \n",
       "18849                     Bur Sa'id     City Proper  31.256540  32.284120   \n",
       "18850                Kafr-ad-Dawwar     City Proper  31.133850  30.128430   \n",
       "18851                         Tanta     City Proper  30.787176  30.999539   \n",
       "\n",
       "       year  population  \n",
       "54     1950      62.905  \n",
       "55     1950    1037.462  \n",
       "56     1950      77.633  \n",
       "57     1950     128.518  \n",
       "58     1950     112.169  \n",
       "...     ...         ...  \n",
       "18847  2035     611.292  \n",
       "18848  2035     475.146  \n",
       "18849  2035     997.059  \n",
       "18850  2035     461.678  \n",
       "18851  2035     665.112  \n",
       "\n",
       "[1118 rows x 11 columns]"
      ]
     },
     "execution_count": 6,
     "metadata": {},
     "output_type": "execute_result"
    }
   ],
   "source": [
    "df"
   ]
  },
  {
   "cell_type": "code",
   "execution_count": 7,
   "id": "3d7d5c38",
   "metadata": {},
   "outputs": [],
   "source": [
    "df = df.reset_index()"
   ]
  },
  {
   "cell_type": "code",
   "execution_count": 8,
   "id": "886897f2",
   "metadata": {},
   "outputs": [],
   "source": [
    "df = df.drop(columns=['index','Unnamed: 0','Region','Country_Code','City_Code','Country_or_area','City_Definition'])"
   ]
  },
  {
   "cell_type": "code",
   "execution_count": 9,
   "id": "9fc6645b",
   "metadata": {},
   "outputs": [
    {
     "data": {
      "text/plain": [
       "[<matplotlib.lines.Line2D at 0x1c494cef2e0>]"
      ]
     },
     "execution_count": 9,
     "metadata": {},
     "output_type": "execute_result"
    },
    {
     "data": {
      "image/png": "[encoded data removed]",
      "text/plain": [
       "<Figure size 640x480 with 1 Axes>"
      ]
     },
     "metadata": {},
     "output_type": "display_data"
    }
   ],
   "source": [
    "from matplotlib import pyplot as plt\n",
    "plt.plot(df['year'],df['population'])"
   ]
  },
  {
   "cell_type": "code",
   "execution_count": 10,
   "id": "71497e07",
   "metadata": {},
   "outputs": [],
   "source": [
    "train = df[(df['year'] >= 1950) & (df['year'] < 2018)]\n",
    "test = df[(df['year'] >= 2018) & (df['year'] <= 2035)]"
   ]
  },
  {
   "cell_type": "code",
   "execution_count": 11,
   "id": "24806307",
   "metadata": {},
   "outputs": [],
   "source": [
    "x_train = train[['Latitude','Longitude','year','City']]\n",
    "y_train = train[['population']]"
   ]
  },
  {
   "cell_type": "code",
   "execution_count": 12,
   "id": "1135b403",
   "metadata": {},
   "outputs": [],
   "source": [
    "x_test = test[['Latitude','Longitude','year','City']]\n",
    "y_test = test[['population']]"
   ]
  },
  {
   "cell_type": "code",
   "execution_count": 13,
   "id": "c2331e49",
   "metadata": {},
   "outputs": [
    {
     "name": "stdout",
     "output_type": "stream",
     "text": [
      "(884, 4)\n",
      "(884, 1)\n",
      "(234, 4)\n",
      "(234, 1)\n"
     ]
    }
   ],
   "source": [
    "print(x_train.shape)\n",
    "print(y_train.shape)\n",
    "print(x_test.shape)\n",
    "print(y_test.shape)"
   ]
  },
  {
   "cell_type": "code",
   "execution_count": 15,
   "id": "62001fe8",
   "metadata": {},
   "outputs": [
    {
     "name": "stderr",
     "output_type": "stream",
     "text": [
      "C:\\Users\\ASUS\\anaconda3\\lib\\site-packages\\sklearn\\preprocessing\\_label.py:116: DataConversionWarning: A column-vector y was passed when a 1d array was expected. Please change the shape of y to (n_samples, ), for example using ravel().\n",
      "  y = column_or_1d(y, warn=True)\n",
      "C:\\Users\\ASUS\\AppData\\Local\\Temp\\ipykernel_288\\1267850018.py:3: SettingWithCopyWarning: \n",
      "A value is trying to be set on a copy of a slice from a DataFrame.\n",
      "Try using .loc[row_indexer,col_indexer] = value instead\n",
      "\n",
      "See the caveats in the documentation: https://pandas.pydata.org/pandas-docs/stable/user_guide/indexing.html#returning-a-view-versus-a-copy\n",
      "  x_train['City'] = encoding.fit_transform(x_train[['City']])\n",
      "C:\\Users\\ASUS\\anaconda3\\lib\\site-packages\\sklearn\\preprocessing\\_label.py:116: DataConversionWarning: A column-vector y was passed when a 1d array was expected. Please change the shape of y to (n_samples, ), for example using ravel().\n",
      "  y = column_or_1d(y, warn=True)\n",
      "C:\\Users\\ASUS\\AppData\\Local\\Temp\\ipykernel_288\\1267850018.py:4: SettingWithCopyWarning: \n",
      "A value is trying to be set on a copy of a slice from a DataFrame.\n",
      "Try using .loc[row_indexer,col_indexer] = value instead\n",
      "\n",
      "See the caveats in the documentation: https://pandas.pydata.org/pandas-docs/stable/user_guide/indexing.html#returning-a-view-versus-a-copy\n",
      "  x_test['City'] = encoding.fit_transform(x_test[['City']])\n"
     ]
    }
   ],
   "source": [
    "from sklearn.preprocessing import LabelEncoder\n",
    "encoding  = LabelEncoder()\n",
    "x_train['City'] = encoding.fit_transform(x_train[['City']])\n",
    "x_test['City'] = encoding.fit_transform(x_test[['City']])"
   ]
  },
  {
   "cell_type": "code",
   "execution_count": 16,
   "id": "d1e44069",
   "metadata": {},
   "outputs": [],
   "source": [
    "from sklearn.linear_model import LinearRegression"
   ]
  },
  {
   "cell_type": "code",
   "execution_count": 17,
   "id": "d3075d48",
   "metadata": {},
   "outputs": [],
   "source": [
    "reg = LinearRegression()"
   ]
  },
  {
   "cell_type": "code",
   "execution_count": 18,
   "id": "8e66b40c",
   "metadata": {},
   "outputs": [
    {
     "data": {
      "text/html": [
       "<style>#sk-container-id-1 {color: black;background-color: white;}#sk-container-id-1 pre{padding: 0;}#sk-container-id-1 div.sk-toggleable {background-color: white;}#sk-container-id-1 label.sk-toggleable__label {cursor: pointer;display: block;width: 100%;margin-bottom: 0;padding: 0.3em;box-sizing: border-box;text-align: center;}#sk-container-id-1 label.sk-toggleable__label-arrow:before {content: \"▸\";float: left;margin-right: 0.25em;color: #696969;}#sk-container-id-1 label.sk-toggleable__label-arrow:hover:before {color: black;}#sk-container-id-1 div.sk-estimator:hover label.sk-toggleable__label-arrow:before {color: black;}#sk-container-id-1 div.sk-toggleable__content {max-height: 0;max-width: 0;overflow: hidden;text-align: left;background-color: #f0f8ff;}#sk-container-id-1 div.sk-toggleable__content pre {margin: 0.2em;color: black;border-radius: 0.25em;background-color: #f0f8ff;}#sk-container-id-1 input.sk-toggleable__control:checked~div.sk-toggleable__content {max-height: 200px;max-width: 100%;overflow: auto;}#sk-container-id-1 input.sk-toggleable__control:checked~label.sk-toggleable__label-arrow:before {content: \"▾\";}#sk-container-id-1 div.sk-estimator input.sk-toggleable__control:checked~label.sk-toggleable__label {background-color: #d4ebff;}#sk-container-id-1 div.sk-label input.sk-toggleable__control:checked~label.sk-toggleable__label {background-color: #d4ebff;}#sk-container-id-1 input.sk-hidden--visually {border: 0;clip: rect(1px 1px 1px 1px);clip: rect(1px, 1px, 1px, 1px);height: 1px;margin: -1px;overflow: hidden;padding: 0;position: absolute;width: 1px;}#sk-container-id-1 div.sk-estimator {font-family: monospace;background-color: #f0f8ff;border: 1px dotted black;border-radius: 0.25em;box-sizing: border-box;margin-bottom: 0.5em;}#sk-container-id-1 div.sk-estimator:hover {background-color: #d4ebff;}#sk-container-id-1 div.sk-parallel-item::after {content: \"\";width: 100%;border-bottom: 1px solid gray;flex-grow: 1;}#sk-container-id-1 div.sk-label:hover label.sk-toggleable__label {background-color: #d4ebff;}#sk-container-id-1 div.sk-serial::before {content: \"\";position: absolute;border-left: 1px solid gray;box-sizing: border-box;top: 0;bottom: 0;left: 50%;z-index: 0;}#sk-container-id-1 div.sk-serial {display: flex;flex-direction: column;align-items: center;background-color: white;padding-right: 0.2em;padding-left: 0.2em;position: relative;}#sk-container-id-1 div.sk-item {position: relative;z-index: 1;}#sk-container-id-1 div.sk-parallel {display: flex;align-items: stretch;justify-content: center;background-color: white;position: relative;}#sk-container-id-1 div.sk-item::before, #sk-container-id-1 div.sk-parallel-item::before {content: \"\";position: absolute;border-left: 1px solid gray;box-sizing: border-box;top: 0;bottom: 0;left: 50%;z-index: -1;}#sk-container-id-1 div.sk-parallel-item {display: flex;flex-direction: column;z-index: 1;position: relative;background-color: white;}#sk-container-id-1 div.sk-parallel-item:first-child::after {align-self: flex-end;width: 50%;}#sk-container-id-1 div.sk-parallel-item:last-child::after {align-self: flex-start;width: 50%;}#sk-container-id-1 div.sk-parallel-item:only-child::after {width: 0;}#sk-container-id-1 div.sk-dashed-wrapped {border: 1px dashed gray;margin: 0 0.4em 0.5em 0.4em;box-sizing: border-box;padding-bottom: 0.4em;background-color: white;}#sk-container-id-1 div.sk-label label {font-family: monospace;font-weight: bold;display: inline-block;line-height: 1.2em;}#sk-container-id-1 div.sk-label-container {text-align: center;}#sk-container-id-1 div.sk-container {/* jupyter's `normalize.less` sets `[hidden] { display: none; }` but bootstrap.min.css set `[hidden] { display: none !important; }` so we also need the `!important` here to be able to override the default hidden behavior on the sphinx rendered scikit-learn.org. See: https://github.com/scikit-learn/scikit-learn/issues/21755 */display: inline-block !important;position: relative;}#sk-container-id-1 div.sk-text-repr-fallback {display: none;}</style><div id=\"sk-container-id-1\" class=\"sk-top-container\"><div class=\"sk-text-repr-fallback\"><pre>LinearRegression()</pre><b>In a Jupyter environment, please rerun this cell to show the HTML representation or trust the notebook. <br />On GitHub, the HTML representation is unable to render, please try loading this page with nbviewer.org.</b></div><div class=\"sk-container\" hidden><div class=\"sk-item\"><div class=\"sk-estimator sk-toggleable\"><input class=\"sk-toggleable__control sk-hidden--visually\" id=\"sk-estimator-id-1\" type=\"checkbox\" checked><label for=\"sk-estimator-id-1\" class=\"sk-toggleable__label sk-toggleable__label-arrow\">LinearRegression</label><div class=\"sk-toggleable__content\"><pre>LinearRegression()</pre></div></div></div></div></div>"
      ],
      "text/plain": [
       "LinearRegression()"
      ]
     },
     "execution_count": 18,
     "metadata": {},
     "output_type": "execute_result"
    }
   ],
   "source": [
    "reg.fit(x_train,y_train)"
   ]
  },
  {
   "cell_type": "code",
   "execution_count": 19,
   "id": "894cbdc7",
   "metadata": {},
   "outputs": [],
   "source": [
    "predict_test = reg.predict(x_test)\n",
    "predict_train = reg.predict(x_train)"
   ]
  },
  {
   "cell_type": "code",
   "execution_count": 20,
   "id": "d88cf7e5",
   "metadata": {},
   "outputs": [],
   "source": [
    "from sklearn.metrics import mean_squared_error,r2_score"
   ]
  },
  {
   "cell_type": "code",
   "execution_count": 21,
   "id": "0e200292",
   "metadata": {},
   "outputs": [
    {
     "data": {
      "text/plain": [
       "38844812.13870463"
      ]
     },
     "execution_count": 21,
     "metadata": {},
     "output_type": "execute_result"
    }
   ],
   "source": [
    "mean_squared_error(y_test,predict_test)"
   ]
  },
  {
   "cell_type": "code",
   "execution_count": 22,
   "id": "ecafa6ec",
   "metadata": {},
   "outputs": [
    {
     "data": {
      "text/plain": [
       "7481300.127365268"
      ]
     },
     "execution_count": 22,
     "metadata": {},
     "output_type": "execute_result"
    }
   ],
   "source": [
    "mean_squared_error(y_train,predict_train)"
   ]
  },
  {
   "cell_type": "code",
   "execution_count": 23,
   "id": "a1a06bb6",
   "metadata": {},
   "outputs": [
    {
     "data": {
      "text/plain": [
       "0.03167912122191896"
      ]
     },
     "execution_count": 23,
     "metadata": {},
     "output_type": "execute_result"
    }
   ],
   "source": [
    "r2_score(y_test,predict_test)"
   ]
  },
  {
   "cell_type": "code",
   "execution_count": 24,
   "id": "de1c3d1e",
   "metadata": {},
   "outputs": [
    {
     "data": {
      "text/plain": [
       "0.08368223419702714"
      ]
     },
     "execution_count": 24,
     "metadata": {},
     "output_type": "execute_result"
    }
   ],
   "source": [
    "r2_score(y_train,predict_train)"
   ]
  },
  {
   "cell_type": "code",
   "execution_count": 25,
   "id": "50ae9bc4",
   "metadata": {},
   "outputs": [],
   "source": [
    "from sklearn.ensemble import GradientBoostingRegressor"
   ]
  },
  {
   "cell_type": "code",
   "execution_count": 26,
   "id": "484588d1",
   "metadata": {},
   "outputs": [],
   "source": [
    "gbr = GradientBoostingRegressor()"
   ]
  },
  {
   "cell_type": "code",
   "execution_count": 27,
   "id": "7f9a49a8",
   "metadata": {},
   "outputs": [
    {
     "name": "stderr",
     "output_type": "stream",
     "text": [
      "C:\\Users\\ASUS\\anaconda3\\lib\\site-packages\\sklearn\\ensemble\\_gb.py:437: DataConversionWarning: A column-vector y was passed when a 1d array was expected. Please change the shape of y to (n_samples, ), for example using ravel().\n",
      "  y = column_or_1d(y, warn=True)\n"
     ]
    },
    {
     "data": {
      "text/html": [
       "<style>#sk-container-id-2 {color: black;background-color: white;}#sk-container-id-2 pre{padding: 0;}#sk-container-id-2 div.sk-toggleable {background-color: white;}#sk-container-id-2 label.sk-toggleable__label {cursor: pointer;display: block;width: 100%;margin-bottom: 0;padding: 0.3em;box-sizing: border-box;text-align: center;}#sk-container-id-2 label.sk-toggleable__label-arrow:before {content: \"▸\";float: left;margin-right: 0.25em;color: #696969;}#sk-container-id-2 label.sk-toggleable__label-arrow:hover:before {color: black;}#sk-container-id-2 div.sk-estimator:hover label.sk-toggleable__label-arrow:before {color: black;}#sk-container-id-2 div.sk-toggleable__content {max-height: 0;max-width: 0;overflow: hidden;text-align: left;background-color: #f0f8ff;}#sk-container-id-2 div.sk-toggleable__content pre {margin: 0.2em;color: black;border-radius: 0.25em;background-color: #f0f8ff;}#sk-container-id-2 input.sk-toggleable__control:checked~div.sk-toggleable__content {max-height: 200px;max-width: 100%;overflow: auto;}#sk-container-id-2 input.sk-toggleable__control:checked~label.sk-toggleable__label-arrow:before {content: \"▾\";}#sk-container-id-2 div.sk-estimator input.sk-toggleable__control:checked~label.sk-toggleable__label {background-color: #d4ebff;}#sk-container-id-2 div.sk-label input.sk-toggleable__control:checked~label.sk-toggleable__label {background-color: #d4ebff;}#sk-container-id-2 input.sk-hidden--visually {border: 0;clip: rect(1px 1px 1px 1px);clip: rect(1px, 1px, 1px, 1px);height: 1px;margin: -1px;overflow: hidden;padding: 0;position: absolute;width: 1px;}#sk-container-id-2 div.sk-estimator {font-family: monospace;background-color: #f0f8ff;border: 1px dotted black;border-radius: 0.25em;box-sizing: border-box;margin-bottom: 0.5em;}#sk-container-id-2 div.sk-estimator:hover {background-color: #d4ebff;}#sk-container-id-2 div.sk-parallel-item::after {content: \"\";width: 100%;border-bottom: 1px solid gray;flex-grow: 1;}#sk-container-id-2 div.sk-label:hover label.sk-toggleable__label {background-color: #d4ebff;}#sk-container-id-2 div.sk-serial::before {content: \"\";position: absolute;border-left: 1px solid gray;box-sizing: border-box;top: 0;bottom: 0;left: 50%;z-index: 0;}#sk-container-id-2 div.sk-serial {display: flex;flex-direction: column;align-items: center;background-color: white;padding-right: 0.2em;padding-left: 0.2em;position: relative;}#sk-container-id-2 div.sk-item {position: relative;z-index: 1;}#sk-container-id-2 div.sk-parallel {display: flex;align-items: stretch;justify-content: center;background-color: white;position: relative;}#sk-container-id-2 div.sk-item::before, #sk-container-id-2 div.sk-parallel-item::before {content: \"\";position: absolute;border-left: 1px solid gray;box-sizing: border-box;top: 0;bottom: 0;left: 50%;z-index: -1;}#sk-container-id-2 div.sk-parallel-item {display: flex;flex-direction: column;z-index: 1;position: relative;background-color: white;}#sk-container-id-2 div.sk-parallel-item:first-child::after {align-self: flex-end;width: 50%;}#sk-container-id-2 div.sk-parallel-item:last-child::after {align-self: flex-start;width: 50%;}#sk-container-id-2 div.sk-parallel-item:only-child::after {width: 0;}#sk-container-id-2 div.sk-dashed-wrapped {border: 1px dashed gray;margin: 0 0.4em 0.5em 0.4em;box-sizing: border-box;padding-bottom: 0.4em;background-color: white;}#sk-container-id-2 div.sk-label label {font-family: monospace;font-weight: bold;display: inline-block;line-height: 1.2em;}#sk-container-id-2 div.sk-label-container {text-align: center;}#sk-container-id-2 div.sk-container {/* jupyter's `normalize.less` sets `[hidden] { display: none; }` but bootstrap.min.css set `[hidden] { display: none !important; }` so we also need the `!important` here to be able to override the default hidden behavior on the sphinx rendered scikit-learn.org. See: https://github.com/scikit-learn/scikit-learn/issues/21755 */display: inline-block !important;position: relative;}#sk-container-id-2 div.sk-text-repr-fallback {display: none;}</style><div id=\"sk-container-id-2\" class=\"sk-top-container\"><div class=\"sk-text-repr-fallback\"><pre>GradientBoostingRegressor()</pre><b>In a Jupyter environment, please rerun this cell to show the HTML representation or trust the notebook. <br />On GitHub, the HTML representation is unable to render, please try loading this page with nbviewer.org.</b></div><div class=\"sk-container\" hidden><div class=\"sk-item\"><div class=\"sk-estimator sk-toggleable\"><input class=\"sk-toggleable__control sk-hidden--visually\" id=\"sk-estimator-id-2\" type=\"checkbox\" checked><label for=\"sk-estimator-id-2\" class=\"sk-toggleable__label sk-toggleable__label-arrow\">GradientBoostingRegressor</label><div class=\"sk-toggleable__content\"><pre>GradientBoostingRegressor()</pre></div></div></div></div></div>"
      ],
      "text/plain": [
       "GradientBoostingRegressor()"
      ]
     },
     "execution_count": 27,
     "metadata": {},
     "output_type": "execute_result"
    }
   ],
   "source": [
    "gbr.fit(x_train,y_train)"
   ]
  },
  {
   "cell_type": "code",
   "execution_count": 29,
   "id": "5b46da4e",
   "metadata": {},
   "outputs": [],
   "source": [
    "prediction_train = gbr.predict(x_train)"
   ]
  },
  {
   "cell_type": "code",
   "execution_count": 30,
   "id": "e79c84a6",
   "metadata": {},
   "outputs": [],
   "source": [
    "prediction_test = gbr.predict(x_test)"
   ]
  },
  {
   "cell_type": "code",
   "execution_count": 31,
   "id": "d6eb4bf5",
   "metadata": {},
   "outputs": [
    {
     "data": {
      "text/plain": [
       "0.9423341643711375"
      ]
     },
     "execution_count": 31,
     "metadata": {},
     "output_type": "execute_result"
    }
   ],
   "source": [
    "r2_score(y_test,prediction_test)"
   ]
  },
  {
   "cell_type": "code",
   "execution_count": 33,
   "id": "1bab09e5",
   "metadata": {},
   "outputs": [
    {
     "data": {
      "text/plain": [
       "0.9993291240907487"
      ]
     },
     "execution_count": 33,
     "metadata": {},
     "output_type": "execute_result"
    }
   ],
   "source": [
    "r2_score(y_train,prediction_train)"
   ]
  },
  {
   "cell_type": "code",
   "execution_count": 38,
   "id": "e85c3e6a",
   "metadata": {},
   "outputs": [],
   "source": [
    "y_test = y_test.values"
   ]
  },
  {
   "cell_type": "code",
   "execution_count": 42,
   "id": "e855a2f6",
   "metadata": {},
   "outputs": [],
   "source": [
    "final_data = pd.DataFrame(zip(y_test, prediction_test),columns=['Actual', 'predicted'])"
   ]
  },
  {
   "cell_type": "code",
   "execution_count": 43,
   "id": "67762a8a",
   "metadata": {},
   "outputs": [
    {
     "name": "stderr",
     "output_type": "stream",
     "text": [
      "C:\\Users\\ASUS\\AppData\\Local\\Temp\\ipykernel_288\\4214225479.py:1: FutureWarning: The default value of regex will change from True to False in a future version.\n",
      "  final_data['Actual'] = final_data['Actual'].astype(str).str.replace('\\[|\\]', '')\n"
     ]
    }
   ],
   "source": [
    "final_data['Actual'] = final_data['Actual'].astype(str).str.replace('\\[|\\]', '')\n",
    "final_data['Actual'] = pd.to_numeric(final_data['Actual'])"
   ]
  },
  {
   "cell_type": "code",
   "execution_count": 44,
   "id": "94656ed4",
   "metadata": {},
   "outputs": [
    {
     "data": {
      "text/html": [
       "<div>\n",
       "<style scoped>\n",
       "    .dataframe tbody tr th:only-of-type {\n",
       "        vertical-align: middle;\n",
       "    }\n",
       "\n",
       "    .dataframe tbody tr th {\n",
       "        vertical-align: top;\n",
       "    }\n",
       "\n",
       "    .dataframe thead th {\n",
       "        text-align: right;\n",
       "    }\n",
       "</style>\n",
       "<table border=\"1\" class=\"dataframe\">\n",
       "  <thead>\n",
       "    <tr style=\"text-align: right;\">\n",
       "      <th></th>\n",
       "      <th>Actual</th>\n",
       "      <th>predicted</th>\n",
       "    </tr>\n",
       "  </thead>\n",
       "  <tbody>\n",
       "    <tr>\n",
       "      <th>0</th>\n",
       "      <td>395.086</td>\n",
       "      <td>446.392433</td>\n",
       "    </tr>\n",
       "    <tr>\n",
       "      <th>1</th>\n",
       "      <td>5086.240</td>\n",
       "      <td>4847.317572</td>\n",
       "    </tr>\n",
       "    <tr>\n",
       "      <th>2</th>\n",
       "      <td>344.788</td>\n",
       "      <td>380.139697</td>\n",
       "    </tr>\n",
       "    <tr>\n",
       "      <th>3</th>\n",
       "      <td>506.405</td>\n",
       "      <td>517.243025</td>\n",
       "    </tr>\n",
       "    <tr>\n",
       "      <th>4</th>\n",
       "      <td>537.804</td>\n",
       "      <td>533.602796</td>\n",
       "    </tr>\n",
       "    <tr>\n",
       "      <th>...</th>\n",
       "      <td>...</td>\n",
       "      <td>...</td>\n",
       "    </tr>\n",
       "    <tr>\n",
       "      <th>229</th>\n",
       "      <td>611.292</td>\n",
       "      <td>457.459735</td>\n",
       "    </tr>\n",
       "    <tr>\n",
       "      <th>230</th>\n",
       "      <td>475.146</td>\n",
       "      <td>369.013673</td>\n",
       "    </tr>\n",
       "    <tr>\n",
       "      <th>231</th>\n",
       "      <td>997.059</td>\n",
       "      <td>671.803395</td>\n",
       "    </tr>\n",
       "    <tr>\n",
       "      <th>232</th>\n",
       "      <td>461.678</td>\n",
       "      <td>366.276158</td>\n",
       "    </tr>\n",
       "    <tr>\n",
       "      <th>233</th>\n",
       "      <td>665.112</td>\n",
       "      <td>452.985488</td>\n",
       "    </tr>\n",
       "  </tbody>\n",
       "</table>\n",
       "<p>234 rows × 2 columns</p>\n",
       "</div>"
      ],
      "text/plain": [
       "       Actual    predicted\n",
       "0     395.086   446.392433\n",
       "1    5086.240  4847.317572\n",
       "2     344.788   380.139697\n",
       "3     506.405   517.243025\n",
       "4     537.804   533.602796\n",
       "..        ...          ...\n",
       "229   611.292   457.459735\n",
       "230   475.146   369.013673\n",
       "231   997.059   671.803395\n",
       "232   461.678   366.276158\n",
       "233   665.112   452.985488\n",
       "\n",
       "[234 rows x 2 columns]"
      ]
     },
     "execution_count": 44,
     "metadata": {},
     "output_type": "execute_result"
    }
   ],
   "source": [
    "final_data"
   ]
  },
  {
   "cell_type": "code",
   "execution_count": null,
   "id": "9a633dad",
   "metadata": {},
   "outputs": [],
   "source": []
  }
 ],
 "metadata": {
  "kernelspec": {
   "display_name": "Python 3 (ipykernel)",
   "language": "python",
   "name": "python3"
  },
  "language_info": {
   "codemirror_mode": {
    "name": "ipython",
    "version": 3
   },
   "file_extension": ".py",
   "mimetype": "text/x-python",
   "name": "python",
   "nbconvert_exporter": "python",
   "pygments_lexer": "ipython3",
   "version": "3.9.13"
  }
 },
 "nbformat": 4,
 "nbformat_minor": 5
}

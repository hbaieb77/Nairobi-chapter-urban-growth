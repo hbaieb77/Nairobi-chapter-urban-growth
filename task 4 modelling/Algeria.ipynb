{
 "cells": [
  {
   "cell_type": "code",
   "execution_count": 2,
   "id": "0fcf30c2",
   "metadata": {},
   "outputs": [],
   "source": [
    "import pandas as pd\n",
    "from matplotlib import pyplot as plt\n",
    "from statsmodels.tsa.arima.model import ARIMA"
   ]
  },
  {
   "cell_type": "code",
   "execution_count": 3,
   "id": "d2a3e676",
   "metadata": {},
   "outputs": [],
   "source": [
    "df = pd.read_csv('UN_city_pop_projections_long.csv')"
   ]
  },
  {
   "cell_type": "code",
   "execution_count": 4,
   "id": "d3c226af",
   "metadata": {},
   "outputs": [],
   "source": [
    "df = df[df['Country_or_area']=='Algeria']"
   ]
  },
  {
   "cell_type": "code",
   "execution_count": 5,
   "id": "17545953",
   "metadata": {},
   "outputs": [],
   "source": [
    "df = df.reset_index()"
   ]
  },
  {
   "cell_type": "code",
   "execution_count": 6,
   "id": "f3cc289a",
   "metadata": {},
   "outputs": [],
   "source": [
    "df = df.drop(columns=['index','Unnamed: 0','Region','Country_Code','City_Code','Country_or_area','City_Definition','Latitude','Longitude'])"
   ]
  },
  {
   "cell_type": "code",
   "execution_count": 7,
   "id": "f011e242",
   "metadata": {},
   "outputs": [
    {
     "data": {
      "text/html": [
       "<div>\n",
       "<style scoped>\n",
       "    .dataframe tbody tr th:only-of-type {\n",
       "        vertical-align: middle;\n",
       "    }\n",
       "\n",
       "    .dataframe tbody tr th {\n",
       "        vertical-align: top;\n",
       "    }\n",
       "\n",
       "    .dataframe thead th {\n",
       "        text-align: right;\n",
       "    }\n",
       "</style>\n",
       "<table border=\"1\" class=\"dataframe\">\n",
       "  <thead>\n",
       "    <tr style=\"text-align: right;\">\n",
       "      <th></th>\n",
       "      <th>City</th>\n",
       "      <th>year</th>\n",
       "      <th>population</th>\n",
       "    </tr>\n",
       "  </thead>\n",
       "  <tbody>\n",
       "    <tr>\n",
       "      <th>0</th>\n",
       "      <td>Annaba</td>\n",
       "      <td>1950</td>\n",
       "      <td>99.741</td>\n",
       "    </tr>\n",
       "    <tr>\n",
       "      <th>1</th>\n",
       "      <td>Batna</td>\n",
       "      <td>1950</td>\n",
       "      <td>13.046</td>\n",
       "    </tr>\n",
       "    <tr>\n",
       "      <th>2</th>\n",
       "      <td>Blida</td>\n",
       "      <td>1950</td>\n",
       "      <td>33.970</td>\n",
       "    </tr>\n",
       "    <tr>\n",
       "      <th>3</th>\n",
       "      <td>El Djazaïr  (Algiers)</td>\n",
       "      <td>1950</td>\n",
       "      <td>516.450</td>\n",
       "    </tr>\n",
       "    <tr>\n",
       "      <th>4</th>\n",
       "      <td>El Djelfa</td>\n",
       "      <td>1950</td>\n",
       "      <td>10.450</td>\n",
       "    </tr>\n",
       "    <tr>\n",
       "      <th>...</th>\n",
       "      <td>...</td>\n",
       "      <td>...</td>\n",
       "      <td>...</td>\n",
       "    </tr>\n",
       "    <tr>\n",
       "      <th>683</th>\n",
       "      <td>El Djazaïr  (Algiers)</td>\n",
       "      <td>2035</td>\n",
       "      <td>3495.835</td>\n",
       "    </tr>\n",
       "    <tr>\n",
       "      <th>684</th>\n",
       "      <td>El Djelfa</td>\n",
       "      <td>2035</td>\n",
       "      <td>719.812</td>\n",
       "    </tr>\n",
       "    <tr>\n",
       "      <th>685</th>\n",
       "      <td>Qacentina</td>\n",
       "      <td>2035</td>\n",
       "      <td>491.992</td>\n",
       "    </tr>\n",
       "    <tr>\n",
       "      <th>686</th>\n",
       "      <td>Sétif</td>\n",
       "      <td>2035</td>\n",
       "      <td>402.034</td>\n",
       "    </tr>\n",
       "    <tr>\n",
       "      <th>687</th>\n",
       "      <td>Wahran (Oran)</td>\n",
       "      <td>2035</td>\n",
       "      <td>1122.702</td>\n",
       "    </tr>\n",
       "  </tbody>\n",
       "</table>\n",
       "<p>688 rows × 3 columns</p>\n",
       "</div>"
      ],
      "text/plain": [
       "                      City  year  population\n",
       "0                   Annaba  1950      99.741\n",
       "1                    Batna  1950      13.046\n",
       "2                    Blida  1950      33.970\n",
       "3    El Djazaïr  (Algiers)  1950     516.450\n",
       "4                El Djelfa  1950      10.450\n",
       "..                     ...   ...         ...\n",
       "683  El Djazaïr  (Algiers)  2035    3495.835\n",
       "684              El Djelfa  2035     719.812\n",
       "685              Qacentina  2035     491.992\n",
       "686                  Sétif  2035     402.034\n",
       "687          Wahran (Oran)  2035    1122.702\n",
       "\n",
       "[688 rows x 3 columns]"
      ]
     },
     "execution_count": 7,
     "metadata": {},
     "output_type": "execute_result"
    }
   ],
   "source": [
    "df"
   ]
  },
  {
   "cell_type": "code",
   "execution_count": 8,
   "id": "ca110bf7",
   "metadata": {},
   "outputs": [
    {
     "data": {
      "text/plain": [
       "[<matplotlib.lines.Line2D at 0x1890a36a760>]"
      ]
     },
     "execution_count": 8,
     "metadata": {},
     "output_type": "execute_result"
    },
    {
     "data": {
      "image/png": "[encoded data removed]",
      "text/plain": [
       "<Figure size 640x480 with 1 Axes>"
      ]
     },
     "metadata": {},
     "output_type": "display_data"
    }
   ],
   "source": [
    "from matplotlib import pyplot as plt\n",
    "plt.plot(df['year'],df['population'])"
   ]
  },
  {
   "cell_type": "code",
   "execution_count": 9,
   "id": "91d1c192",
   "metadata": {},
   "outputs": [
    {
     "name": "stderr",
     "output_type": "stream",
     "text": [
      "C:\\Users\\DELL\\anaconda3\\lib\\site-packages\\sklearn\\preprocessing\\_label.py:115: DataConversionWarning: A column-vector y was passed when a 1d array was expected. Please change the shape of y to (n_samples, ), for example using ravel().\n",
      "  y = column_or_1d(y, warn=True)\n",
      "C:\\Users\\DELL\\anaconda3\\lib\\site-packages\\sklearn\\preprocessing\\_label.py:115: DataConversionWarning: A column-vector y was passed when a 1d array was expected. Please change the shape of y to (n_samples, ), for example using ravel().\n",
      "  y = column_or_1d(y, warn=True)\n"
     ]
    }
   ],
   "source": [
    "from sklearn.preprocessing import LabelEncoder\n",
    "encoding  = LabelEncoder()\n",
    "df['City'] = encoding.fit_transform(df[['City']])\n",
    "df['City'] = encoding.fit_transform(df[['City']])"
   ]
  },
  {
   "cell_type": "code",
   "execution_count": 10,
   "id": "637cf0a5",
   "metadata": {},
   "outputs": [
    {
     "data": {
      "text/html": [
       "<div>\n",
       "<style scoped>\n",
       "    .dataframe tbody tr th:only-of-type {\n",
       "        vertical-align: middle;\n",
       "    }\n",
       "\n",
       "    .dataframe tbody tr th {\n",
       "        vertical-align: top;\n",
       "    }\n",
       "\n",
       "    .dataframe thead th {\n",
       "        text-align: right;\n",
       "    }\n",
       "</style>\n",
       "<table border=\"1\" class=\"dataframe\">\n",
       "  <thead>\n",
       "    <tr style=\"text-align: right;\">\n",
       "      <th></th>\n",
       "      <th>City</th>\n",
       "      <th>year</th>\n",
       "      <th>population</th>\n",
       "    </tr>\n",
       "  </thead>\n",
       "  <tbody>\n",
       "    <tr>\n",
       "      <th>0</th>\n",
       "      <td>0</td>\n",
       "      <td>1950</td>\n",
       "      <td>99.741</td>\n",
       "    </tr>\n",
       "    <tr>\n",
       "      <th>1</th>\n",
       "      <td>1</td>\n",
       "      <td>1950</td>\n",
       "      <td>13.046</td>\n",
       "    </tr>\n",
       "    <tr>\n",
       "      <th>2</th>\n",
       "      <td>2</td>\n",
       "      <td>1950</td>\n",
       "      <td>33.970</td>\n",
       "    </tr>\n",
       "    <tr>\n",
       "      <th>3</th>\n",
       "      <td>3</td>\n",
       "      <td>1950</td>\n",
       "      <td>516.450</td>\n",
       "    </tr>\n",
       "    <tr>\n",
       "      <th>4</th>\n",
       "      <td>4</td>\n",
       "      <td>1950</td>\n",
       "      <td>10.450</td>\n",
       "    </tr>\n",
       "    <tr>\n",
       "      <th>...</th>\n",
       "      <td>...</td>\n",
       "      <td>...</td>\n",
       "      <td>...</td>\n",
       "    </tr>\n",
       "    <tr>\n",
       "      <th>683</th>\n",
       "      <td>3</td>\n",
       "      <td>2035</td>\n",
       "      <td>3495.835</td>\n",
       "    </tr>\n",
       "    <tr>\n",
       "      <th>684</th>\n",
       "      <td>4</td>\n",
       "      <td>2035</td>\n",
       "      <td>719.812</td>\n",
       "    </tr>\n",
       "    <tr>\n",
       "      <th>685</th>\n",
       "      <td>5</td>\n",
       "      <td>2035</td>\n",
       "      <td>491.992</td>\n",
       "    </tr>\n",
       "    <tr>\n",
       "      <th>686</th>\n",
       "      <td>6</td>\n",
       "      <td>2035</td>\n",
       "      <td>402.034</td>\n",
       "    </tr>\n",
       "    <tr>\n",
       "      <th>687</th>\n",
       "      <td>7</td>\n",
       "      <td>2035</td>\n",
       "      <td>1122.702</td>\n",
       "    </tr>\n",
       "  </tbody>\n",
       "</table>\n",
       "<p>688 rows × 3 columns</p>\n",
       "</div>"
      ],
      "text/plain": [
       "     City  year  population\n",
       "0       0  1950      99.741\n",
       "1       1  1950      13.046\n",
       "2       2  1950      33.970\n",
       "3       3  1950     516.450\n",
       "4       4  1950      10.450\n",
       "..    ...   ...         ...\n",
       "683     3  2035    3495.835\n",
       "684     4  2035     719.812\n",
       "685     5  2035     491.992\n",
       "686     6  2035     402.034\n",
       "687     7  2035    1122.702\n",
       "\n",
       "[688 rows x 3 columns]"
      ]
     },
     "execution_count": 10,
     "metadata": {},
     "output_type": "execute_result"
    }
   ],
   "source": [
    "df"
   ]
  },
  {
   "cell_type": "code",
   "execution_count": 11,
   "id": "c0b16dbb",
   "metadata": {},
   "outputs": [],
   "source": [
    "\n",
    "df2 = df[df['year'] <= 2023]\n",
    "\n",
    "df2 = df2.reset_index()\n",
    "df2[\"year\"]= pd.to_datetime(df2.year, format='%Y')"
   ]
  },
  {
   "cell_type": "code",
   "execution_count": 12,
   "id": "cdb17efa",
   "metadata": {},
   "outputs": [],
   "source": [
    "train_df= df2.drop(columns=['index'])"
   ]
  },
  {
   "cell_type": "code",
   "execution_count": 13,
   "id": "73b0af04",
   "metadata": {},
   "outputs": [
    {
     "data": {
      "text/html": [
       "<div>\n",
       "<style scoped>\n",
       "    .dataframe tbody tr th:only-of-type {\n",
       "        vertical-align: middle;\n",
       "    }\n",
       "\n",
       "    .dataframe tbody tr th {\n",
       "        vertical-align: top;\n",
       "    }\n",
       "\n",
       "    .dataframe thead th {\n",
       "        text-align: right;\n",
       "    }\n",
       "</style>\n",
       "<table border=\"1\" class=\"dataframe\">\n",
       "  <thead>\n",
       "    <tr style=\"text-align: right;\">\n",
       "      <th></th>\n",
       "      <th>City</th>\n",
       "      <th>year</th>\n",
       "      <th>population</th>\n",
       "    </tr>\n",
       "  </thead>\n",
       "  <tbody>\n",
       "    <tr>\n",
       "      <th>0</th>\n",
       "      <td>0</td>\n",
       "      <td>1950-01-01</td>\n",
       "      <td>99.741</td>\n",
       "    </tr>\n",
       "    <tr>\n",
       "      <th>1</th>\n",
       "      <td>1</td>\n",
       "      <td>1950-01-01</td>\n",
       "      <td>13.046</td>\n",
       "    </tr>\n",
       "    <tr>\n",
       "      <th>2</th>\n",
       "      <td>2</td>\n",
       "      <td>1950-01-01</td>\n",
       "      <td>33.970</td>\n",
       "    </tr>\n",
       "    <tr>\n",
       "      <th>3</th>\n",
       "      <td>3</td>\n",
       "      <td>1950-01-01</td>\n",
       "      <td>516.450</td>\n",
       "    </tr>\n",
       "    <tr>\n",
       "      <th>4</th>\n",
       "      <td>4</td>\n",
       "      <td>1950-01-01</td>\n",
       "      <td>10.450</td>\n",
       "    </tr>\n",
       "    <tr>\n",
       "      <th>...</th>\n",
       "      <td>...</td>\n",
       "      <td>...</td>\n",
       "      <td>...</td>\n",
       "    </tr>\n",
       "    <tr>\n",
       "      <th>587</th>\n",
       "      <td>3</td>\n",
       "      <td>2023-01-01</td>\n",
       "      <td>2901.810</td>\n",
       "    </tr>\n",
       "    <tr>\n",
       "      <th>588</th>\n",
       "      <td>4</td>\n",
       "      <td>2023-01-01</td>\n",
       "      <td>570.543</td>\n",
       "    </tr>\n",
       "    <tr>\n",
       "      <th>589</th>\n",
       "      <td>5</td>\n",
       "      <td>2023-01-01</td>\n",
       "      <td>417.768</td>\n",
       "    </tr>\n",
       "    <tr>\n",
       "      <th>590</th>\n",
       "      <td>6</td>\n",
       "      <td>2023-01-01</td>\n",
       "      <td>331.801</td>\n",
       "    </tr>\n",
       "    <tr>\n",
       "      <th>591</th>\n",
       "      <td>7</td>\n",
       "      <td>2023-01-01</td>\n",
       "      <td>935.947</td>\n",
       "    </tr>\n",
       "  </tbody>\n",
       "</table>\n",
       "<p>592 rows × 3 columns</p>\n",
       "</div>"
      ],
      "text/plain": [
       "     City       year  population\n",
       "0       0 1950-01-01      99.741\n",
       "1       1 1950-01-01      13.046\n",
       "2       2 1950-01-01      33.970\n",
       "3       3 1950-01-01     516.450\n",
       "4       4 1950-01-01      10.450\n",
       "..    ...        ...         ...\n",
       "587     3 2023-01-01    2901.810\n",
       "588     4 2023-01-01     570.543\n",
       "589     5 2023-01-01     417.768\n",
       "590     6 2023-01-01     331.801\n",
       "591     7 2023-01-01     935.947\n",
       "\n",
       "[592 rows x 3 columns]"
      ]
     },
     "execution_count": 13,
     "metadata": {},
     "output_type": "execute_result"
    }
   ],
   "source": [
    "train_df"
   ]
  },
  {
   "cell_type": "code",
   "execution_count": 14,
   "id": "d22e3e5f",
   "metadata": {},
   "outputs": [],
   "source": [
    "df3 = df[df['year'] > 2023]\n",
    "\n",
    "df3 = df3.reset_index()\n",
    "df3[\"year\"]= pd.to_datetime(df3.year, format='%Y')"
   ]
  },
  {
   "cell_type": "code",
   "execution_count": 15,
   "id": "e90daf89",
   "metadata": {},
   "outputs": [],
   "source": [
    "test_df = df3.drop(columns=['index'])"
   ]
  },
  {
   "cell_type": "code",
   "execution_count": 16,
   "id": "a31b352b",
   "metadata": {},
   "outputs": [
    {
     "data": {
      "text/html": [
       "<div>\n",
       "<style scoped>\n",
       "    .dataframe tbody tr th:only-of-type {\n",
       "        vertical-align: middle;\n",
       "    }\n",
       "\n",
       "    .dataframe tbody tr th {\n",
       "        vertical-align: top;\n",
       "    }\n",
       "\n",
       "    .dataframe thead th {\n",
       "        text-align: right;\n",
       "    }\n",
       "</style>\n",
       "<table border=\"1\" class=\"dataframe\">\n",
       "  <thead>\n",
       "    <tr style=\"text-align: right;\">\n",
       "      <th></th>\n",
       "      <th>City</th>\n",
       "      <th>year</th>\n",
       "      <th>population</th>\n",
       "    </tr>\n",
       "  </thead>\n",
       "  <tbody>\n",
       "    <tr>\n",
       "      <th>0</th>\n",
       "      <td>0</td>\n",
       "      <td>2024-01-01</td>\n",
       "      <td>373.779</td>\n",
       "    </tr>\n",
       "    <tr>\n",
       "      <th>1</th>\n",
       "      <td>1</td>\n",
       "      <td>2024-01-01</td>\n",
       "      <td>352.163</td>\n",
       "    </tr>\n",
       "    <tr>\n",
       "      <th>2</th>\n",
       "      <td>2</td>\n",
       "      <td>2024-01-01</td>\n",
       "      <td>523.920</td>\n",
       "    </tr>\n",
       "    <tr>\n",
       "      <th>3</th>\n",
       "      <td>3</td>\n",
       "      <td>2024-01-01</td>\n",
       "      <td>2952.115</td>\n",
       "    </tr>\n",
       "    <tr>\n",
       "      <th>4</th>\n",
       "      <td>4</td>\n",
       "      <td>2024-01-01</td>\n",
       "      <td>589.697</td>\n",
       "    </tr>\n",
       "    <tr>\n",
       "      <th>...</th>\n",
       "      <td>...</td>\n",
       "      <td>...</td>\n",
       "      <td>...</td>\n",
       "    </tr>\n",
       "    <tr>\n",
       "      <th>91</th>\n",
       "      <td>3</td>\n",
       "      <td>2035-01-01</td>\n",
       "      <td>3495.835</td>\n",
       "    </tr>\n",
       "    <tr>\n",
       "      <th>92</th>\n",
       "      <td>4</td>\n",
       "      <td>2035-01-01</td>\n",
       "      <td>719.812</td>\n",
       "    </tr>\n",
       "    <tr>\n",
       "      <th>93</th>\n",
       "      <td>5</td>\n",
       "      <td>2035-01-01</td>\n",
       "      <td>491.992</td>\n",
       "    </tr>\n",
       "    <tr>\n",
       "      <th>94</th>\n",
       "      <td>6</td>\n",
       "      <td>2035-01-01</td>\n",
       "      <td>402.034</td>\n",
       "    </tr>\n",
       "    <tr>\n",
       "      <th>95</th>\n",
       "      <td>7</td>\n",
       "      <td>2035-01-01</td>\n",
       "      <td>1122.702</td>\n",
       "    </tr>\n",
       "  </tbody>\n",
       "</table>\n",
       "<p>96 rows × 3 columns</p>\n",
       "</div>"
      ],
      "text/plain": [
       "    City       year  population\n",
       "0      0 2024-01-01     373.779\n",
       "1      1 2024-01-01     352.163\n",
       "2      2 2024-01-01     523.920\n",
       "3      3 2024-01-01    2952.115\n",
       "4      4 2024-01-01     589.697\n",
       "..   ...        ...         ...\n",
       "91     3 2035-01-01    3495.835\n",
       "92     4 2035-01-01     719.812\n",
       "93     5 2035-01-01     491.992\n",
       "94     6 2035-01-01     402.034\n",
       "95     7 2035-01-01    1122.702\n",
       "\n",
       "[96 rows x 3 columns]"
      ]
     },
     "execution_count": 16,
     "metadata": {},
     "output_type": "execute_result"
    }
   ],
   "source": [
    "test_df"
   ]
  },
  {
   "cell_type": "code",
   "execution_count": 17,
   "id": "cc8bac8e",
   "metadata": {},
   "outputs": [
    {
     "data": {
      "text/plain": [
       "[<matplotlib.lines.Line2D at 0x1890a9d53a0>]"
      ]
     },
     "execution_count": 17,
     "metadata": {},
     "output_type": "execute_result"
    },
    {
     "data": {
      "image/png": "[encoded data removed]",
      "text/plain": [
       "<Figure size 640x480 with 1 Axes>"
      ]
     },
     "metadata": {},
     "output_type": "display_data"
    }
   ],
   "source": [
    "plt.plot(train_df['year'],train_df['population'])"
   ]
  },
  {
   "cell_type": "code",
   "execution_count": 18,
   "id": "a70f1299",
   "metadata": {},
   "outputs": [],
   "source": [
    "test_population_values = test_df['population'].values"
   ]
  },
  {
   "cell_type": "code",
   "execution_count": 20,
   "id": "d549cacd",
   "metadata": {},
   "outputs": [
    {
     "name": "stdout",
     "output_type": "stream",
     "text": [
      "Requirement already satisfied: pmdarima in c:\\users\\dell\\anaconda3\\lib\\site-packages (2.0.3)\n",
      "Requirement already satisfied: numpy>=1.21.2 in c:\\users\\dell\\anaconda3\\lib\\site-packages (from pmdarima) (1.21.5)\n",
      "Requirement already satisfied: statsmodels>=0.13.2 in c:\\users\\dell\\anaconda3\\lib\\site-packages (from pmdarima) (0.13.2)\n",
      "Requirement already satisfied: scipy>=1.3.2 in c:\\users\\dell\\anaconda3\\lib\\site-packages (from pmdarima) (1.9.1)\n",
      "Requirement already satisfied: setuptools!=50.0.0,>=38.6.0 in c:\\users\\dell\\anaconda3\\lib\\site-packages (from pmdarima) (63.4.1)\n",
      "Requirement already satisfied: joblib>=0.11 in c:\\users\\dell\\anaconda3\\lib\\site-packages (from pmdarima) (1.1.0)\n",
      "Requirement already satisfied: urllib3 in c:\\users\\dell\\anaconda3\\lib\\site-packages (from pmdarima) (1.26.11)\n",
      "Requirement already satisfied: pandas>=0.19 in c:\\users\\dell\\anaconda3\\lib\\site-packages (from pmdarima) (1.4.4)\n",
      "Requirement already satisfied: scikit-learn>=0.22 in c:\\users\\dell\\anaconda3\\lib\\site-packages (from pmdarima) (1.0.2)\n",
      "Requirement already satisfied: Cython!=0.29.18,!=0.29.31,>=0.29 in c:\\users\\dell\\anaconda3\\lib\\site-packages (from pmdarima) (0.29.32)\n",
      "Requirement already satisfied: python-dateutil>=2.8.1 in c:\\users\\dell\\anaconda3\\lib\\site-packages (from pandas>=0.19->pmdarima) (2.8.2)\n",
      "Requirement already satisfied: pytz>=2020.1 in c:\\users\\dell\\anaconda3\\lib\\site-packages (from pandas>=0.19->pmdarima) (2022.1)\n",
      "Requirement already satisfied: threadpoolctl>=2.0.0 in c:\\users\\dell\\anaconda3\\lib\\site-packages (from scikit-learn>=0.22->pmdarima) (2.2.0)\n",
      "Requirement already satisfied: patsy>=0.5.2 in c:\\users\\dell\\anaconda3\\lib\\site-packages (from statsmodels>=0.13.2->pmdarima) (0.5.2)\n",
      "Requirement already satisfied: packaging>=21.3 in c:\\users\\dell\\anaconda3\\lib\\site-packages (from statsmodels>=0.13.2->pmdarima) (21.3)\n",
      "Requirement already satisfied: pyparsing!=3.0.5,>=2.0.2 in c:\\users\\dell\\anaconda3\\lib\\site-packages (from packaging>=21.3->statsmodels>=0.13.2->pmdarima) (3.0.9)\n",
      "Requirement already satisfied: six in c:\\users\\dell\\anaconda3\\lib\\site-packages (from patsy>=0.5.2->statsmodels>=0.13.2->pmdarima) (1.16.0)\n"
     ]
    }
   ],
   "source": [
    "!pip install pmdarima\n",
    "  \n",
    "# Import the library\n",
    "from pmdarima import auto_arima\n",
    "                             # set to stepwise\n",
    "  "
   ]
  },
  {
   "cell_type": "code",
   "execution_count": 21,
   "id": "4ddc8dd6",
   "metadata": {},
   "outputs": [
    {
     "name": "stdout",
     "output_type": "stream",
     "text": [
      "Performing stepwise search to minimize aic\n",
      " ARIMA(1,0,1)(0,1,1)[12] intercept   : AIC=inf, Time=4.86 sec\n",
      " ARIMA(0,0,0)(0,1,0)[12] intercept   : AIC=9125.258, Time=0.07 sec\n",
      " ARIMA(1,0,0)(1,1,0)[12] intercept   : AIC=inf, Time=2.96 sec\n",
      " ARIMA(0,0,1)(0,1,1)[12] intercept   : AIC=inf, Time=1.92 sec\n",
      " ARIMA(0,0,0)(0,1,0)[12]             : AIC=9123.462, Time=0.06 sec\n",
      " ARIMA(0,0,0)(1,1,0)[12] intercept   : AIC=inf, Time=2.64 sec\n",
      " ARIMA(0,0,0)(0,1,1)[12] intercept   : AIC=inf, Time=1.83 sec\n",
      " ARIMA(0,0,0)(1,1,1)[12] intercept   : AIC=5737.791, Time=2.73 sec\n",
      " ARIMA(0,0,0)(2,1,1)[12] intercept   : AIC=inf, Time=18.57 sec\n",
      " ARIMA(0,0,0)(1,1,2)[12] intercept   : AIC=inf, Time=16.55 sec\n",
      " ARIMA(0,0,0)(0,1,2)[12] intercept   : AIC=inf, Time=6.14 sec\n",
      " ARIMA(0,0,0)(2,1,0)[12] intercept   : AIC=inf, Time=11.02 sec\n",
      " ARIMA(0,0,0)(2,1,2)[12] intercept   : AIC=inf, Time=19.03 sec\n",
      " ARIMA(1,0,0)(1,1,1)[12] intercept   : AIC=5738.045, Time=5.22 sec\n",
      " ARIMA(0,0,1)(1,1,1)[12] intercept   : AIC=5737.063, Time=5.40 sec\n",
      " ARIMA(0,0,1)(1,1,0)[12] intercept   : AIC=5735.081, Time=1.95 sec\n",
      " ARIMA(0,0,1)(0,1,0)[12] intercept   : AIC=9125.723, Time=0.17 sec\n",
      " ARIMA(0,0,1)(2,1,0)[12] intercept   : AIC=5736.929, Time=9.74 sec\n",
      " ARIMA(0,0,1)(2,1,1)[12] intercept   : AIC=inf, Time=15.79 sec\n",
      " ARIMA(1,0,1)(1,1,0)[12] intercept   : AIC=5706.423, Time=4.71 sec\n",
      " ARIMA(1,0,1)(0,1,0)[12] intercept   : AIC=9127.729, Time=0.16 sec\n",
      " ARIMA(1,0,1)(2,1,0)[12] intercept   : AIC=5707.878, Time=25.68 sec\n",
      " ARIMA(1,0,1)(1,1,1)[12] intercept   : AIC=inf, Time=7.15 sec\n",
      " ARIMA(1,0,1)(2,1,1)[12] intercept   : AIC=inf, Time=25.57 sec\n",
      " ARIMA(2,0,1)(1,1,0)[12] intercept   : AIC=inf, Time=10.06 sec\n",
      " ARIMA(1,0,2)(1,1,0)[12] intercept   : AIC=inf, Time=11.41 sec\n",
      " ARIMA(0,0,2)(1,1,0)[12] intercept   : AIC=inf, Time=5.28 sec\n",
      " ARIMA(2,0,0)(1,1,0)[12] intercept   : AIC=inf, Time=10.29 sec\n",
      " ARIMA(2,0,2)(1,1,0)[12] intercept   : AIC=inf, Time=6.10 sec\n",
      " ARIMA(1,0,1)(1,1,0)[12]             : AIC=inf, Time=4.25 sec\n",
      "\n",
      "Best model:  ARIMA(1,0,1)(1,1,0)[12] intercept\n",
      "Total fit time: 237.391 seconds\n"
     ]
    },
    {
     "data": {
      "text/html": [
       "<table class=\"simpletable\">\n",
       "<caption>SARIMAX Results</caption>\n",
       "<tr>\n",
       "  <th>Dep. Variable:</th>                  <td>y</td>                <th>  No. Observations:  </th>    <td>592</td>   \n",
       "</tr>\n",
       "<tr>\n",
       "  <th>Model:</th>           <td>SARIMAX(1, 0, 1)x(1, 1, [], 12)</td> <th>  Log Likelihood     </th> <td>-2848.212</td>\n",
       "</tr>\n",
       "<tr>\n",
       "  <th>Date:</th>                   <td>Tue, 02 May 2023</td>         <th>  AIC                </th> <td>5706.423</td> \n",
       "</tr>\n",
       "<tr>\n",
       "  <th>Time:</th>                       <td>18:09:42</td>             <th>  BIC                </th> <td>5728.238</td> \n",
       "</tr>\n",
       "<tr>\n",
       "  <th>Sample:</th>                         <td>0</td>                <th>  HQIC               </th> <td>5714.928</td> \n",
       "</tr>\n",
       "<tr>\n",
       "  <th></th>                             <td> - 592</td>              <th>                     </th>     <td> </td>    \n",
       "</tr>\n",
       "<tr>\n",
       "  <th>Covariance Type:</th>               <td>opg</td>               <th>                     </th>     <td> </td>    \n",
       "</tr>\n",
       "</table>\n",
       "<table class=\"simpletable\">\n",
       "<tr>\n",
       "      <td></td>         <th>coef</th>     <th>std err</th>      <th>z</th>      <th>P>|z|</th>  <th>[0.025</th>    <th>0.975]</th>  \n",
       "</tr>\n",
       "<tr>\n",
       "  <th>intercept</th> <td>   13.2906</td> <td>    4.297</td> <td>    3.093</td> <td> 0.002</td> <td>    4.868</td> <td>   21.713</td>\n",
       "</tr>\n",
       "<tr>\n",
       "  <th>ar.L1</th>     <td>    0.5129</td> <td>    0.147</td> <td>    3.498</td> <td> 0.000</td> <td>    0.225</td> <td>    0.800</td>\n",
       "</tr>\n",
       "<tr>\n",
       "  <th>ma.L1</th>     <td>   -0.7268</td> <td>    0.115</td> <td>   -6.295</td> <td> 0.000</td> <td>   -0.953</td> <td>   -0.501</td>\n",
       "</tr>\n",
       "<tr>\n",
       "  <th>ar.S.L12</th>  <td>   -1.0000</td> <td>    0.000</td> <td>-4042.655</td> <td> 0.000</td> <td>   -1.000</td> <td>   -1.000</td>\n",
       "</tr>\n",
       "<tr>\n",
       "  <th>sigma2</th>    <td>  952.7663</td> <td>   74.447</td> <td>   12.798</td> <td> 0.000</td> <td>  806.853</td> <td> 1098.679</td>\n",
       "</tr>\n",
       "</table>\n",
       "<table class=\"simpletable\">\n",
       "<tr>\n",
       "  <th>Ljung-Box (L1) (Q):</th>     <td>3.89</td> <th>  Jarque-Bera (JB):  </th> <td>632.63</td>\n",
       "</tr>\n",
       "<tr>\n",
       "  <th>Prob(Q):</th>                <td>0.05</td> <th>  Prob(JB):          </th>  <td>0.00</td> \n",
       "</tr>\n",
       "<tr>\n",
       "  <th>Heteroskedasticity (H):</th> <td>0.81</td> <th>  Skew:              </th>  <td>1.94</td> \n",
       "</tr>\n",
       "<tr>\n",
       "  <th>Prob(H) (two-sided):</th>    <td>0.14</td> <th>  Kurtosis:          </th>  <td>6.33</td> \n",
       "</tr>\n",
       "</table><br/><br/>Warnings:<br/>[1] Covariance matrix calculated using the outer product of gradients (complex-step)."
      ],
      "text/plain": [
       "<class 'statsmodels.iolib.summary.Summary'>\n",
       "\"\"\"\n",
       "                                      SARIMAX Results                                      \n",
       "===========================================================================================\n",
       "Dep. Variable:                                   y   No. Observations:                  592\n",
       "Model:             SARIMAX(1, 0, 1)x(1, 1, [], 12)   Log Likelihood               -2848.212\n",
       "Date:                             Tue, 02 May 2023   AIC                           5706.423\n",
       "Time:                                     18:09:42   BIC                           5728.238\n",
       "Sample:                                          0   HQIC                          5714.928\n",
       "                                             - 592                                         \n",
       "Covariance Type:                               opg                                         \n",
       "==============================================================================\n",
       "                 coef    std err          z      P>|z|      [0.025      0.975]\n",
       "------------------------------------------------------------------------------\n",
       "intercept     13.2906      4.297      3.093      0.002       4.868      21.713\n",
       "ar.L1          0.5129      0.147      3.498      0.000       0.225       0.800\n",
       "ma.L1         -0.7268      0.115     -6.295      0.000      -0.953      -0.501\n",
       "ar.S.L12      -1.0000      0.000  -4042.655      0.000      -1.000      -1.000\n",
       "sigma2       952.7663     74.447     12.798      0.000     806.853    1098.679\n",
       "===================================================================================\n",
       "Ljung-Box (L1) (Q):                   3.89   Jarque-Bera (JB):               632.63\n",
       "Prob(Q):                              0.05   Prob(JB):                         0.00\n",
       "Heteroskedasticity (H):               0.81   Skew:                             1.94\n",
       "Prob(H) (two-sided):                  0.14   Kurtosis:                         6.33\n",
       "===================================================================================\n",
       "\n",
       "Warnings:\n",
       "[1] Covariance matrix calculated using the outer product of gradients (complex-step).\n",
       "\"\"\""
      ]
     },
     "execution_count": 21,
     "metadata": {},
     "output_type": "execute_result"
    }
   ],
   "source": [
    " stepwise=auto_arima(train_df['population'], start_p = 1, start_q = 1,\n",
    "                          max_p = 3, max_q = 3, m = 12,\n",
    "                          start_P = 0, seasonal = True,\n",
    "                          d = None, D = 1, trace = True,\n",
    "                          error_action ='ignore',   # we don't want to know if an order does not work\n",
    "                          suppress_warnings = True,\n",
    "                          stepwise = True)# we don't want convergence warnings\n",
    "          \n",
    "# To print the summary\n",
    "stepwise.summary()"
   ]
  },
  {
   "cell_type": "code",
   "execution_count": null,
   "id": "085b565c",
   "metadata": {},
   "outputs": [],
   "source": []
  },
  {
   "cell_type": "code",
   "execution_count": 23,
   "id": "135d1a23",
   "metadata": {},
   "outputs": [
    {
     "name": "stderr",
     "output_type": "stream",
     "text": [
      "C:\\Users\\DELL\\anaconda3\\lib\\site-packages\\statsmodels\\tsa\\statespace\\sarimax.py:997: UserWarning: Non-stationary starting seasonal autoregressive Using zeros as starting parameters.\n",
      "  warn('Non-stationary starting seasonal autoregressive'\n"
     ]
    },
    {
     "data": {
      "text/html": [
       "<table class=\"simpletable\">\n",
       "<caption>SARIMAX Results</caption>\n",
       "<tr>\n",
       "  <th>Dep. Variable:</th>             <td>population</td>            <th>  No. Observations:  </th>    <td>592</td>   \n",
       "</tr>\n",
       "<tr>\n",
       "  <th>Model:</th>           <td>SARIMAX(1, 0, 1)x(1, 1, [], 12)</td> <th>  Log Likelihood     </th> <td>-3037.484</td>\n",
       "</tr>\n",
       "<tr>\n",
       "  <th>Date:</th>                   <td>Tue, 02 May 2023</td>         <th>  AIC                </th> <td>6082.968</td> \n",
       "</tr>\n",
       "<tr>\n",
       "  <th>Time:</th>                       <td>18:10:17</td>             <th>  BIC                </th> <td>6100.420</td> \n",
       "</tr>\n",
       "<tr>\n",
       "  <th>Sample:</th>                         <td>0</td>                <th>  HQIC               </th> <td>6089.772</td> \n",
       "</tr>\n",
       "<tr>\n",
       "  <th></th>                             <td> - 592</td>              <th>                     </th>     <td> </td>    \n",
       "</tr>\n",
       "<tr>\n",
       "  <th>Covariance Type:</th>               <td>opg</td>               <th>                     </th>     <td> </td>    \n",
       "</tr>\n",
       "</table>\n",
       "<table class=\"simpletable\">\n",
       "<tr>\n",
       "      <td></td>        <th>coef</th>     <th>std err</th>      <th>z</th>      <th>P>|z|</th>  <th>[0.025</th>    <th>0.975]</th>  \n",
       "</tr>\n",
       "<tr>\n",
       "  <th>ar.L1</th>    <td>    0.9995</td> <td>    0.036</td> <td>   27.865</td> <td> 0.000</td> <td>    0.929</td> <td>    1.070</td>\n",
       "</tr>\n",
       "<tr>\n",
       "  <th>ma.L1</th>    <td>   -0.9997</td> <td>    0.037</td> <td>  -26.844</td> <td> 0.000</td> <td>   -1.073</td> <td>   -0.927</td>\n",
       "</tr>\n",
       "<tr>\n",
       "  <th>ar.S.L12</th> <td>   -1.0000</td> <td>    0.001</td> <td>-1613.861</td> <td> 0.000</td> <td>   -1.001</td> <td>   -0.999</td>\n",
       "</tr>\n",
       "<tr>\n",
       "  <th>sigma2</th>   <td> 2245.4949</td> <td>  124.219</td> <td>   18.077</td> <td> 0.000</td> <td> 2002.031</td> <td> 2488.959</td>\n",
       "</tr>\n",
       "</table>\n",
       "<table class=\"simpletable\">\n",
       "<tr>\n",
       "  <th>Ljung-Box (L1) (Q):</th>     <td>1.48</td> <th>  Jarque-Bera (JB):  </th> <td>777.00</td>\n",
       "</tr>\n",
       "<tr>\n",
       "  <th>Prob(Q):</th>                <td>0.22</td> <th>  Prob(JB):          </th>  <td>0.00</td> \n",
       "</tr>\n",
       "<tr>\n",
       "  <th>Heteroskedasticity (H):</th> <td>0.89</td> <th>  Skew:              </th>  <td>2.08</td> \n",
       "</tr>\n",
       "<tr>\n",
       "  <th>Prob(H) (two-sided):</th>    <td>0.41</td> <th>  Kurtosis:          </th>  <td>6.85</td> \n",
       "</tr>\n",
       "</table><br/><br/>Warnings:<br/>[1] Covariance matrix calculated using the outer product of gradients (complex-step)."
      ],
      "text/plain": [
       "<class 'statsmodels.iolib.summary.Summary'>\n",
       "\"\"\"\n",
       "                                      SARIMAX Results                                      \n",
       "===========================================================================================\n",
       "Dep. Variable:                          population   No. Observations:                  592\n",
       "Model:             SARIMAX(1, 0, 1)x(1, 1, [], 12)   Log Likelihood               -3037.484\n",
       "Date:                             Tue, 02 May 2023   AIC                           6082.968\n",
       "Time:                                     18:10:17   BIC                           6100.420\n",
       "Sample:                                          0   HQIC                          6089.772\n",
       "                                             - 592                                         \n",
       "Covariance Type:                               opg                                         \n",
       "==============================================================================\n",
       "                 coef    std err          z      P>|z|      [0.025      0.975]\n",
       "------------------------------------------------------------------------------\n",
       "ar.L1          0.9995      0.036     27.865      0.000       0.929       1.070\n",
       "ma.L1         -0.9997      0.037    -26.844      0.000      -1.073      -0.927\n",
       "ar.S.L12      -1.0000      0.001  -1613.861      0.000      -1.001      -0.999\n",
       "sigma2      2245.4949    124.219     18.077      0.000    2002.031    2488.959\n",
       "===================================================================================\n",
       "Ljung-Box (L1) (Q):                   1.48   Jarque-Bera (JB):               777.00\n",
       "Prob(Q):                              0.22   Prob(JB):                         0.00\n",
       "Heteroskedasticity (H):               0.89   Skew:                             2.08\n",
       "Prob(H) (two-sided):                  0.41   Kurtosis:                         6.85\n",
       "===================================================================================\n",
       "\n",
       "Warnings:\n",
       "[1] Covariance matrix calculated using the outer product of gradients (complex-step).\n",
       "\"\"\""
      ]
     },
     "execution_count": 23,
     "metadata": {},
     "output_type": "execute_result"
    }
   ],
   "source": [
    "from statsmodels.tsa.statespace.sarimax import SARIMAX\n",
    "  \n",
    "model =  SARIMAX(train_df['population'], \n",
    "                order = (1, 0, 1), \n",
    "                seasonal_order =(1, 1, 0, 12))\n",
    "  \n",
    "result = model.fit()\n",
    "result.summary()"
   ]
  },
  {
   "cell_type": "code",
   "execution_count": 24,
   "id": "61e8b2d7",
   "metadata": {},
   "outputs": [
    {
     "data": {
      "text/plain": [
       "<AxesSubplot:>"
      ]
     },
     "execution_count": 24,
     "metadata": {},
     "output_type": "execute_result"
    },
    {
     "data": {
      "image/png": "[encoded data removed]",
      "text/plain": [
       "<Figure size 640x480 with 1 Axes>"
      ]
     },
     "metadata": {},
     "output_type": "display_data"
    }
   ],
   "source": [
    "start = len(train_df)\n",
    "end = len(train_df) + len(test_df) - 1\n",
    "  \n",
    "# Predictions for one-year against the test set\n",
    "predictions = result.predict(start, end,\n",
    "                             typ = 'levels').rename(\"Predictions\")\n",
    "  \n",
    "# plot predictions and actual values\n",
    "predictions.plot(legend = True)\n",
    "test_df['population'].plot(legend = True)"
   ]
  },
  {
   "cell_type": "code",
   "execution_count": 25,
   "id": "9845613a",
   "metadata": {},
   "outputs": [
    {
     "data": {
      "text/plain": [
       "592     358.798987\n",
       "593     332.379645\n",
       "594     483.769789\n",
       "595    2806.984187\n",
       "596     524.866947\n",
       "          ...     \n",
       "683    2893.333048\n",
       "684     562.097862\n",
       "685     409.329035\n",
       "686     323.370008\n",
       "687     927.547275\n",
       "Name: Predictions, Length: 96, dtype: float64"
      ]
     },
     "execution_count": 25,
     "metadata": {},
     "output_type": "execute_result"
    }
   ],
   "source": [
    "predictions"
   ]
  },
  {
   "cell_type": "code",
   "execution_count": 26,
   "id": "afa84ab2",
   "metadata": {},
   "outputs": [],
   "source": [
    "final=pd.DataFrame({'Actual':test_population_values,'Prediction':predictions})"
   ]
  },
  {
   "cell_type": "code",
   "execution_count": 27,
   "id": "f4da2f3b",
   "metadata": {},
   "outputs": [
    {
     "data": {
      "text/plain": [
       "169.00501089688282"
      ]
     },
     "execution_count": 27,
     "metadata": {},
     "output_type": "execute_result"
    }
   ],
   "source": [
    "from sklearn.metrics import mean_squared_error\n",
    "from statsmodels.tools.eval_measures import rmse\n",
    "  \n",
    "# Calculate root mean squared error\n",
    "rmse(test_df[\"population\"], predictions)\n",
    "  \n",
    "# Calculate mean squared error\n"
   ]
  },
  {
   "cell_type": "code",
   "execution_count": 28,
   "id": "a8bc3990",
   "metadata": {},
   "outputs": [
    {
     "data": {
      "text/plain": [
       "28562.69370825548"
      ]
     },
     "execution_count": 28,
     "metadata": {},
     "output_type": "execute_result"
    }
   ],
   "source": [
    "# Calculate root mean squared error\n",
    "mean_squared_error(test_df[\"population\"], predictions)"
   ]
  },
  {
   "cell_type": "code",
   "execution_count": 29,
   "id": "ecfcbbce",
   "metadata": {},
   "outputs": [
    {
     "data": {
      "text/plain": [
       "<AxesSubplot:>"
      ]
     },
     "execution_count": 29,
     "metadata": {},
     "output_type": "execute_result"
    },
    {
     "data": {
      "image/png": "[encoded data removed]",
      "text/plain": [
       "<Figure size 640x480 with 1 Axes>"
      ]
     },
     "metadata": {},
     "output_type": "display_data"
    }
   ],
   "source": [
    "final.plot(legend = True)"
   ]
  },
  {
   "cell_type": "code",
   "execution_count": 30,
   "id": "d57284fb",
   "metadata": {},
   "outputs": [
    {
     "data": {
      "text/html": [
       "<div>\n",
       "<style scoped>\n",
       "    .dataframe tbody tr th:only-of-type {\n",
       "        vertical-align: middle;\n",
       "    }\n",
       "\n",
       "    .dataframe tbody tr th {\n",
       "        vertical-align: top;\n",
       "    }\n",
       "\n",
       "    .dataframe thead th {\n",
       "        text-align: right;\n",
       "    }\n",
       "</style>\n",
       "<table border=\"1\" class=\"dataframe\">\n",
       "  <thead>\n",
       "    <tr style=\"text-align: right;\">\n",
       "      <th></th>\n",
       "      <th>Actual</th>\n",
       "      <th>Prediction</th>\n",
       "    </tr>\n",
       "  </thead>\n",
       "  <tbody>\n",
       "    <tr>\n",
       "      <th>592</th>\n",
       "      <td>373.779</td>\n",
       "      <td>358.798987</td>\n",
       "    </tr>\n",
       "    <tr>\n",
       "      <th>593</th>\n",
       "      <td>352.163</td>\n",
       "      <td>332.379645</td>\n",
       "    </tr>\n",
       "    <tr>\n",
       "      <th>594</th>\n",
       "      <td>523.920</td>\n",
       "      <td>483.769789</td>\n",
       "    </tr>\n",
       "    <tr>\n",
       "      <th>595</th>\n",
       "      <td>2952.115</td>\n",
       "      <td>2806.984187</td>\n",
       "    </tr>\n",
       "    <tr>\n",
       "      <th>596</th>\n",
       "      <td>589.697</td>\n",
       "      <td>524.866947</td>\n",
       "    </tr>\n",
       "    <tr>\n",
       "      <th>...</th>\n",
       "      <td>...</td>\n",
       "      <td>...</td>\n",
       "    </tr>\n",
       "    <tr>\n",
       "      <th>683</th>\n",
       "      <td>3495.835</td>\n",
       "      <td>2893.333048</td>\n",
       "    </tr>\n",
       "    <tr>\n",
       "      <th>684</th>\n",
       "      <td>719.812</td>\n",
       "      <td>562.097862</td>\n",
       "    </tr>\n",
       "    <tr>\n",
       "      <th>685</th>\n",
       "      <td>491.992</td>\n",
       "      <td>409.329035</td>\n",
       "    </tr>\n",
       "    <tr>\n",
       "      <th>686</th>\n",
       "      <td>402.034</td>\n",
       "      <td>323.370008</td>\n",
       "    </tr>\n",
       "    <tr>\n",
       "      <th>687</th>\n",
       "      <td>1122.702</td>\n",
       "      <td>927.547275</td>\n",
       "    </tr>\n",
       "  </tbody>\n",
       "</table>\n",
       "<p>96 rows × 2 columns</p>\n",
       "</div>"
      ],
      "text/plain": [
       "       Actual   Prediction\n",
       "592   373.779   358.798987\n",
       "593   352.163   332.379645\n",
       "594   523.920   483.769789\n",
       "595  2952.115  2806.984187\n",
       "596   589.697   524.866947\n",
       "..        ...          ...\n",
       "683  3495.835  2893.333048\n",
       "684   719.812   562.097862\n",
       "685   491.992   409.329035\n",
       "686   402.034   323.370008\n",
       "687  1122.702   927.547275\n",
       "\n",
       "[96 rows x 2 columns]"
      ]
     },
     "execution_count": 30,
     "metadata": {},
     "output_type": "execute_result"
    }
   ],
   "source": [
    "final"
   ]
  },
  {
   "cell_type": "code",
   "execution_count": null,
   "id": "5bff09c0",
   "metadata": {},
   "outputs": [],
   "source": []
  }
 ],
 "metadata": {
  "kernelspec": {
   "display_name": "Python 3 (ipykernel)",
   "language": "python",
   "name": "python3"
  },
  "language_info": {
   "codemirror_mode": {
    "name": "ipython",
    "version": 3
   },
   "file_extension": ".py",
   "mimetype": "text/x-python",
   "name": "python",
   "nbconvert_exporter": "python",
   "pygments_lexer": "ipython3",
   "version": "3.9.13"
  }
 },
 "nbformat": 4,
 "nbformat_minor": 5
}

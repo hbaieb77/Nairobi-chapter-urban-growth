{
 "cells": [
  {
   "cell_type": "code",
   "execution_count": 234,
   "id": "4cc9d8bc",
   "metadata": {},
   "outputs": [],
   "source": [
    "import pandas as pd"
   ]
  },
  {
   "cell_type": "code",
   "execution_count": 235,
   "id": "fd72fecb",
   "metadata": {},
   "outputs": [],
   "source": [
    "df = pd.read_csv('UN_city_pop_projections_long.csv')"
   ]
  },
  {
   "cell_type": "code",
   "execution_count": 236,
   "id": "80af41a6",
   "metadata": {},
   "outputs": [
    {
     "data": {
      "text/html": [
       "<div>\n",
       "<style scoped>\n",
       "    .dataframe tbody tr th:only-of-type {\n",
       "        vertical-align: middle;\n",
       "    }\n",
       "\n",
       "    .dataframe tbody tr th {\n",
       "        vertical-align: top;\n",
       "    }\n",
       "\n",
       "    .dataframe thead th {\n",
       "        text-align: right;\n",
       "    }\n",
       "</style>\n",
       "<table border=\"1\" class=\"dataframe\">\n",
       "  <thead>\n",
       "    <tr style=\"text-align: right;\">\n",
       "      <th></th>\n",
       "      <th>Unnamed: 0</th>\n",
       "      <th>Region</th>\n",
       "      <th>Country_Code</th>\n",
       "      <th>Country_or_area</th>\n",
       "      <th>City_Code</th>\n",
       "      <th>City</th>\n",
       "      <th>City_Definition</th>\n",
       "      <th>Latitude</th>\n",
       "      <th>Longitude</th>\n",
       "      <th>year</th>\n",
       "      <th>population</th>\n",
       "    </tr>\n",
       "  </thead>\n",
       "  <tbody>\n",
       "    <tr>\n",
       "      <th>0</th>\n",
       "      <td>0</td>\n",
       "      <td>Africa</td>\n",
       "      <td>12</td>\n",
       "      <td>Algeria</td>\n",
       "      <td>20009</td>\n",
       "      <td>Annaba</td>\n",
       "      <td>Urban Agglomeration</td>\n",
       "      <td>36.900000</td>\n",
       "      <td>7.766670</td>\n",
       "      <td>1950</td>\n",
       "      <td>99.741</td>\n",
       "    </tr>\n",
       "    <tr>\n",
       "      <th>1</th>\n",
       "      <td>1</td>\n",
       "      <td>Africa</td>\n",
       "      <td>12</td>\n",
       "      <td>Algeria</td>\n",
       "      <td>20011</td>\n",
       "      <td>Batna</td>\n",
       "      <td>City Proper</td>\n",
       "      <td>35.555970</td>\n",
       "      <td>6.174140</td>\n",
       "      <td>1950</td>\n",
       "      <td>13.046</td>\n",
       "    </tr>\n",
       "    <tr>\n",
       "      <th>2</th>\n",
       "      <td>2</td>\n",
       "      <td>Africa</td>\n",
       "      <td>12</td>\n",
       "      <td>Algeria</td>\n",
       "      <td>20015</td>\n",
       "      <td>Blida</td>\n",
       "      <td>Urban Agglomeration</td>\n",
       "      <td>36.480781</td>\n",
       "      <td>2.831943</td>\n",
       "      <td>1950</td>\n",
       "      <td>33.970</td>\n",
       "    </tr>\n",
       "    <tr>\n",
       "      <th>3</th>\n",
       "      <td>3</td>\n",
       "      <td>Africa</td>\n",
       "      <td>12</td>\n",
       "      <td>Algeria</td>\n",
       "      <td>20006</td>\n",
       "      <td>El Djazaïr  (Algiers)</td>\n",
       "      <td>Urban Agglomeration</td>\n",
       "      <td>36.752500</td>\n",
       "      <td>3.041970</td>\n",
       "      <td>1950</td>\n",
       "      <td>516.450</td>\n",
       "    </tr>\n",
       "    <tr>\n",
       "      <th>4</th>\n",
       "      <td>4</td>\n",
       "      <td>Africa</td>\n",
       "      <td>12</td>\n",
       "      <td>Algeria</td>\n",
       "      <td>20020</td>\n",
       "      <td>El Djelfa</td>\n",
       "      <td>Urban Agglomeration</td>\n",
       "      <td>34.672790</td>\n",
       "      <td>3.263000</td>\n",
       "      <td>1950</td>\n",
       "      <td>10.450</td>\n",
       "    </tr>\n",
       "    <tr>\n",
       "      <th>...</th>\n",
       "      <td>...</td>\n",
       "      <td>...</td>\n",
       "      <td>...</td>\n",
       "      <td>...</td>\n",
       "      <td>...</td>\n",
       "      <td>...</td>\n",
       "      <td>...</td>\n",
       "      <td>...</td>\n",
       "      <td>...</td>\n",
       "      <td>...</td>\n",
       "      <td>...</td>\n",
       "    </tr>\n",
       "    <tr>\n",
       "      <th>19001</th>\n",
       "      <td>19001</td>\n",
       "      <td>Africa</td>\n",
       "      <td>894</td>\n",
       "      <td>Zambia</td>\n",
       "      <td>23277</td>\n",
       "      <td>Lusaka</td>\n",
       "      <td>Urban Agglomeration</td>\n",
       "      <td>-15.413374</td>\n",
       "      <td>28.277148</td>\n",
       "      <td>2035</td>\n",
       "      <td>5182.669</td>\n",
       "    </tr>\n",
       "    <tr>\n",
       "      <th>19002</th>\n",
       "      <td>19002</td>\n",
       "      <td>Africa</td>\n",
       "      <td>894</td>\n",
       "      <td>Zambia</td>\n",
       "      <td>23279</td>\n",
       "      <td>Ndola</td>\n",
       "      <td>City Proper</td>\n",
       "      <td>-12.958670</td>\n",
       "      <td>28.636590</td>\n",
       "      <td>2035</td>\n",
       "      <td>925.726</td>\n",
       "    </tr>\n",
       "    <tr>\n",
       "      <th>19003</th>\n",
       "      <td>19003</td>\n",
       "      <td>Africa</td>\n",
       "      <td>716</td>\n",
       "      <td>Zimbabwe</td>\n",
       "      <td>22510</td>\n",
       "      <td>Bulawayo</td>\n",
       "      <td>City Proper</td>\n",
       "      <td>-20.150000</td>\n",
       "      <td>28.583330</td>\n",
       "      <td>2035</td>\n",
       "      <td>874.479</td>\n",
       "    </tr>\n",
       "    <tr>\n",
       "      <th>19004</th>\n",
       "      <td>19004</td>\n",
       "      <td>Africa</td>\n",
       "      <td>716</td>\n",
       "      <td>Zimbabwe</td>\n",
       "      <td>22511</td>\n",
       "      <td>Chitungwiza</td>\n",
       "      <td>City Proper</td>\n",
       "      <td>-18.012740</td>\n",
       "      <td>31.075550</td>\n",
       "      <td>2035</td>\n",
       "      <td>552.027</td>\n",
       "    </tr>\n",
       "    <tr>\n",
       "      <th>19005</th>\n",
       "      <td>19005</td>\n",
       "      <td>Africa</td>\n",
       "      <td>716</td>\n",
       "      <td>Zimbabwe</td>\n",
       "      <td>22513</td>\n",
       "      <td>Harare</td>\n",
       "      <td>City Proper</td>\n",
       "      <td>-17.829350</td>\n",
       "      <td>31.053890</td>\n",
       "      <td>2035</td>\n",
       "      <td>2141.738</td>\n",
       "    </tr>\n",
       "  </tbody>\n",
       "</table>\n",
       "<p>19006 rows × 11 columns</p>\n",
       "</div>"
      ],
      "text/plain": [
       "       Unnamed: 0  Region  Country_Code Country_or_area  City_Code  \\\n",
       "0               0  Africa            12         Algeria      20009   \n",
       "1               1  Africa            12         Algeria      20011   \n",
       "2               2  Africa            12         Algeria      20015   \n",
       "3               3  Africa            12         Algeria      20006   \n",
       "4               4  Africa            12         Algeria      20020   \n",
       "...           ...     ...           ...             ...        ...   \n",
       "19001       19001  Africa           894          Zambia      23277   \n",
       "19002       19002  Africa           894          Zambia      23279   \n",
       "19003       19003  Africa           716        Zimbabwe      22510   \n",
       "19004       19004  Africa           716        Zimbabwe      22511   \n",
       "19005       19005  Africa           716        Zimbabwe      22513   \n",
       "\n",
       "                        City      City_Definition   Latitude  Longitude  year  \\\n",
       "0                     Annaba  Urban Agglomeration  36.900000   7.766670  1950   \n",
       "1                      Batna          City Proper  35.555970   6.174140  1950   \n",
       "2                      Blida  Urban Agglomeration  36.480781   2.831943  1950   \n",
       "3      El Djazaïr  (Algiers)  Urban Agglomeration  36.752500   3.041970  1950   \n",
       "4                  El Djelfa  Urban Agglomeration  34.672790   3.263000  1950   \n",
       "...                      ...                  ...        ...        ...   ...   \n",
       "19001                 Lusaka  Urban Agglomeration -15.413374  28.277148  2035   \n",
       "19002                  Ndola          City Proper -12.958670  28.636590  2035   \n",
       "19003               Bulawayo          City Proper -20.150000  28.583330  2035   \n",
       "19004            Chitungwiza          City Proper -18.012740  31.075550  2035   \n",
       "19005                 Harare          City Proper -17.829350  31.053890  2035   \n",
       "\n",
       "       population  \n",
       "0          99.741  \n",
       "1          13.046  \n",
       "2          33.970  \n",
       "3         516.450  \n",
       "4          10.450  \n",
       "...           ...  \n",
       "19001    5182.669  \n",
       "19002     925.726  \n",
       "19003     874.479  \n",
       "19004     552.027  \n",
       "19005    2141.738  \n",
       "\n",
       "[19006 rows x 11 columns]"
      ]
     },
     "execution_count": 236,
     "metadata": {},
     "output_type": "execute_result"
    }
   ],
   "source": [
    "df"
   ]
  },
  {
   "cell_type": "code",
   "execution_count": 237,
   "id": "a89597f4",
   "metadata": {},
   "outputs": [
    {
     "data": {
      "text/plain": [
       "array(['Algeria', 'Angola', 'Benin', 'Burkina Faso', 'Burundi',\n",
       "       'Cameroon', 'Central African Republic', 'Chad', 'Congo',\n",
       "       \"Côte d'Ivoire\", 'Democratic Republic of the Congo', 'Djibouti',\n",
       "       'Egypt', 'Equatorial Guinea', 'Eritrea', 'Ethiopia', 'Gabon',\n",
       "       'Gambia', 'Ghana', 'Guinea', 'Guinea-Bissau', 'Kenya', 'Liberia',\n",
       "       'Libya', 'Madagascar', 'Malawi', 'Mali', 'Mauritania', 'Morocco',\n",
       "       'Mozambique', 'Namibia', 'Niger', 'Nigeria', 'Rwanda', 'Senegal',\n",
       "       'Sierra Leone', 'Somalia', 'South Africa', 'South Sudan', 'Sudan',\n",
       "       'Togo', 'Tunisia', 'Uganda', 'United Republic of Tanzania',\n",
       "       'Zambia', 'Zimbabwe'], dtype=object)"
      ]
     },
     "execution_count": 237,
     "metadata": {},
     "output_type": "execute_result"
    }
   ],
   "source": [
    "df.Country_or_area.unique()"
   ]
  },
  {
   "cell_type": "code",
   "execution_count": 238,
   "id": "cebb659d",
   "metadata": {},
   "outputs": [],
   "source": [
    "df = df[df['Country_or_area']=='Burundi']"
   ]
  },
  {
   "cell_type": "code",
   "execution_count": 239,
   "id": "7973f7d4",
   "metadata": {},
   "outputs": [
    {
     "data": {
      "text/html": [
       "<div>\n",
       "<style scoped>\n",
       "    .dataframe tbody tr th:only-of-type {\n",
       "        vertical-align: middle;\n",
       "    }\n",
       "\n",
       "    .dataframe tbody tr th {\n",
       "        vertical-align: top;\n",
       "    }\n",
       "\n",
       "    .dataframe thead th {\n",
       "        text-align: right;\n",
       "    }\n",
       "</style>\n",
       "<table border=\"1\" class=\"dataframe\">\n",
       "  <thead>\n",
       "    <tr style=\"text-align: right;\">\n",
       "      <th></th>\n",
       "      <th>Unnamed: 0</th>\n",
       "      <th>Region</th>\n",
       "      <th>Country_Code</th>\n",
       "      <th>Country_or_area</th>\n",
       "      <th>City_Code</th>\n",
       "      <th>City</th>\n",
       "      <th>City_Definition</th>\n",
       "      <th>Latitude</th>\n",
       "      <th>Longitude</th>\n",
       "      <th>year</th>\n",
       "      <th>population</th>\n",
       "    </tr>\n",
       "  </thead>\n",
       "  <tbody>\n",
       "    <tr>\n",
       "      <th>23</th>\n",
       "      <td>23</td>\n",
       "      <td>Africa</td>\n",
       "      <td>108</td>\n",
       "      <td>Burundi</td>\n",
       "      <td>20340</td>\n",
       "      <td>Bujumbura</td>\n",
       "      <td>City Proper</td>\n",
       "      <td>-3.3822</td>\n",
       "      <td>29.3644</td>\n",
       "      <td>1950</td>\n",
       "      <td>18.825</td>\n",
       "    </tr>\n",
       "    <tr>\n",
       "      <th>244</th>\n",
       "      <td>244</td>\n",
       "      <td>Africa</td>\n",
       "      <td>108</td>\n",
       "      <td>Burundi</td>\n",
       "      <td>20340</td>\n",
       "      <td>Bujumbura</td>\n",
       "      <td>City Proper</td>\n",
       "      <td>-3.3822</td>\n",
       "      <td>29.3644</td>\n",
       "      <td>1951</td>\n",
       "      <td>20.565</td>\n",
       "    </tr>\n",
       "    <tr>\n",
       "      <th>465</th>\n",
       "      <td>465</td>\n",
       "      <td>Africa</td>\n",
       "      <td>108</td>\n",
       "      <td>Burundi</td>\n",
       "      <td>20340</td>\n",
       "      <td>Bujumbura</td>\n",
       "      <td>City Proper</td>\n",
       "      <td>-3.3822</td>\n",
       "      <td>29.3644</td>\n",
       "      <td>1952</td>\n",
       "      <td>22.467</td>\n",
       "    </tr>\n",
       "    <tr>\n",
       "      <th>686</th>\n",
       "      <td>686</td>\n",
       "      <td>Africa</td>\n",
       "      <td>108</td>\n",
       "      <td>Burundi</td>\n",
       "      <td>20340</td>\n",
       "      <td>Bujumbura</td>\n",
       "      <td>City Proper</td>\n",
       "      <td>-3.3822</td>\n",
       "      <td>29.3644</td>\n",
       "      <td>1953</td>\n",
       "      <td>24.541</td>\n",
       "    </tr>\n",
       "    <tr>\n",
       "      <th>907</th>\n",
       "      <td>907</td>\n",
       "      <td>Africa</td>\n",
       "      <td>108</td>\n",
       "      <td>Burundi</td>\n",
       "      <td>20340</td>\n",
       "      <td>Bujumbura</td>\n",
       "      <td>City Proper</td>\n",
       "      <td>-3.3822</td>\n",
       "      <td>29.3644</td>\n",
       "      <td>1954</td>\n",
       "      <td>26.808</td>\n",
       "    </tr>\n",
       "    <tr>\n",
       "      <th>...</th>\n",
       "      <td>...</td>\n",
       "      <td>...</td>\n",
       "      <td>...</td>\n",
       "      <td>...</td>\n",
       "      <td>...</td>\n",
       "      <td>...</td>\n",
       "      <td>...</td>\n",
       "      <td>...</td>\n",
       "      <td>...</td>\n",
       "      <td>...</td>\n",
       "      <td>...</td>\n",
       "    </tr>\n",
       "    <tr>\n",
       "      <th>17924</th>\n",
       "      <td>17924</td>\n",
       "      <td>Africa</td>\n",
       "      <td>108</td>\n",
       "      <td>Burundi</td>\n",
       "      <td>20340</td>\n",
       "      <td>Bujumbura</td>\n",
       "      <td>City Proper</td>\n",
       "      <td>-3.3822</td>\n",
       "      <td>29.3644</td>\n",
       "      <td>2031</td>\n",
       "      <td>1852.331</td>\n",
       "    </tr>\n",
       "    <tr>\n",
       "      <th>18145</th>\n",
       "      <td>18145</td>\n",
       "      <td>Africa</td>\n",
       "      <td>108</td>\n",
       "      <td>Burundi</td>\n",
       "      <td>20340</td>\n",
       "      <td>Bujumbura</td>\n",
       "      <td>City Proper</td>\n",
       "      <td>-3.3822</td>\n",
       "      <td>29.3644</td>\n",
       "      <td>2032</td>\n",
       "      <td>1948.421</td>\n",
       "    </tr>\n",
       "    <tr>\n",
       "      <th>18366</th>\n",
       "      <td>18366</td>\n",
       "      <td>Africa</td>\n",
       "      <td>108</td>\n",
       "      <td>Burundi</td>\n",
       "      <td>20340</td>\n",
       "      <td>Bujumbura</td>\n",
       "      <td>City Proper</td>\n",
       "      <td>-3.3822</td>\n",
       "      <td>29.3644</td>\n",
       "      <td>2033</td>\n",
       "      <td>2048.783</td>\n",
       "    </tr>\n",
       "    <tr>\n",
       "      <th>18587</th>\n",
       "      <td>18587</td>\n",
       "      <td>Africa</td>\n",
       "      <td>108</td>\n",
       "      <td>Burundi</td>\n",
       "      <td>20340</td>\n",
       "      <td>Bujumbura</td>\n",
       "      <td>City Proper</td>\n",
       "      <td>-3.3822</td>\n",
       "      <td>29.3644</td>\n",
       "      <td>2034</td>\n",
       "      <td>2153.470</td>\n",
       "    </tr>\n",
       "    <tr>\n",
       "      <th>18808</th>\n",
       "      <td>18808</td>\n",
       "      <td>Africa</td>\n",
       "      <td>108</td>\n",
       "      <td>Burundi</td>\n",
       "      <td>20340</td>\n",
       "      <td>Bujumbura</td>\n",
       "      <td>City Proper</td>\n",
       "      <td>-3.3822</td>\n",
       "      <td>29.3644</td>\n",
       "      <td>2035</td>\n",
       "      <td>2262.634</td>\n",
       "    </tr>\n",
       "  </tbody>\n",
       "</table>\n",
       "<p>86 rows × 11 columns</p>\n",
       "</div>"
      ],
      "text/plain": [
       "       Unnamed: 0  Region  Country_Code Country_or_area  City_Code       City  \\\n",
       "23             23  Africa           108         Burundi      20340  Bujumbura   \n",
       "244           244  Africa           108         Burundi      20340  Bujumbura   \n",
       "465           465  Africa           108         Burundi      20340  Bujumbura   \n",
       "686           686  Africa           108         Burundi      20340  Bujumbura   \n",
       "907           907  Africa           108         Burundi      20340  Bujumbura   \n",
       "...           ...     ...           ...             ...        ...        ...   \n",
       "17924       17924  Africa           108         Burundi      20340  Bujumbura   \n",
       "18145       18145  Africa           108         Burundi      20340  Bujumbura   \n",
       "18366       18366  Africa           108         Burundi      20340  Bujumbura   \n",
       "18587       18587  Africa           108         Burundi      20340  Bujumbura   \n",
       "18808       18808  Africa           108         Burundi      20340  Bujumbura   \n",
       "\n",
       "      City_Definition  Latitude  Longitude  year  population  \n",
       "23        City Proper   -3.3822    29.3644  1950      18.825  \n",
       "244       City Proper   -3.3822    29.3644  1951      20.565  \n",
       "465       City Proper   -3.3822    29.3644  1952      22.467  \n",
       "686       City Proper   -3.3822    29.3644  1953      24.541  \n",
       "907       City Proper   -3.3822    29.3644  1954      26.808  \n",
       "...               ...       ...        ...   ...         ...  \n",
       "17924     City Proper   -3.3822    29.3644  2031    1852.331  \n",
       "18145     City Proper   -3.3822    29.3644  2032    1948.421  \n",
       "18366     City Proper   -3.3822    29.3644  2033    2048.783  \n",
       "18587     City Proper   -3.3822    29.3644  2034    2153.470  \n",
       "18808     City Proper   -3.3822    29.3644  2035    2262.634  \n",
       "\n",
       "[86 rows x 11 columns]"
      ]
     },
     "execution_count": 239,
     "metadata": {},
     "output_type": "execute_result"
    }
   ],
   "source": [
    "df"
   ]
  },
  {
   "cell_type": "code",
   "execution_count": 240,
   "id": "69e3e76d",
   "metadata": {},
   "outputs": [],
   "source": [
    "from matplotlib import pyplot as plt "
   ]
  },
  {
   "cell_type": "code",
   "execution_count": 241,
   "id": "ef553638",
   "metadata": {},
   "outputs": [
    {
     "data": {
      "text/plain": [
       "[<matplotlib.lines.Line2D at 0x228a1f7e880>]"
      ]
     },
     "execution_count": 241,
     "metadata": {},
     "output_type": "execute_result"
    },
    {
     "data": {
      "image/png": "[encoded data removed]",
      "text/plain": [
       "<Figure size 640x480 with 1 Axes>"
      ]
     },
     "metadata": {},
     "output_type": "display_data"
    }
   ],
   "source": [
    "plt.plot(df['year'],df['population'])"
   ]
  },
  {
   "cell_type": "code",
   "execution_count": 242,
   "id": "5502fc1e",
   "metadata": {},
   "outputs": [],
   "source": [
    "df = df.reset_index()"
   ]
  },
  {
   "cell_type": "code",
   "execution_count": 243,
   "id": "ce9b06a4",
   "metadata": {},
   "outputs": [],
   "source": [
    "df = df.drop(columns=['index','Unnamed: 0','Region','Country_Code','City_Code','Country_or_area','City_Definition'])"
   ]
  },
  {
   "cell_type": "code",
   "execution_count": 244,
   "id": "52cd12c3",
   "metadata": {},
   "outputs": [
    {
     "data": {
      "text/html": [
       "<div>\n",
       "<style scoped>\n",
       "    .dataframe tbody tr th:only-of-type {\n",
       "        vertical-align: middle;\n",
       "    }\n",
       "\n",
       "    .dataframe tbody tr th {\n",
       "        vertical-align: top;\n",
       "    }\n",
       "\n",
       "    .dataframe thead th {\n",
       "        text-align: right;\n",
       "    }\n",
       "</style>\n",
       "<table border=\"1\" class=\"dataframe\">\n",
       "  <thead>\n",
       "    <tr style=\"text-align: right;\">\n",
       "      <th></th>\n",
       "      <th>City</th>\n",
       "      <th>Latitude</th>\n",
       "      <th>Longitude</th>\n",
       "      <th>year</th>\n",
       "      <th>population</th>\n",
       "    </tr>\n",
       "  </thead>\n",
       "  <tbody>\n",
       "    <tr>\n",
       "      <th>0</th>\n",
       "      <td>Bujumbura</td>\n",
       "      <td>-3.3822</td>\n",
       "      <td>29.3644</td>\n",
       "      <td>1950</td>\n",
       "      <td>18.825</td>\n",
       "    </tr>\n",
       "    <tr>\n",
       "      <th>1</th>\n",
       "      <td>Bujumbura</td>\n",
       "      <td>-3.3822</td>\n",
       "      <td>29.3644</td>\n",
       "      <td>1951</td>\n",
       "      <td>20.565</td>\n",
       "    </tr>\n",
       "    <tr>\n",
       "      <th>2</th>\n",
       "      <td>Bujumbura</td>\n",
       "      <td>-3.3822</td>\n",
       "      <td>29.3644</td>\n",
       "      <td>1952</td>\n",
       "      <td>22.467</td>\n",
       "    </tr>\n",
       "    <tr>\n",
       "      <th>3</th>\n",
       "      <td>Bujumbura</td>\n",
       "      <td>-3.3822</td>\n",
       "      <td>29.3644</td>\n",
       "      <td>1953</td>\n",
       "      <td>24.541</td>\n",
       "    </tr>\n",
       "    <tr>\n",
       "      <th>4</th>\n",
       "      <td>Bujumbura</td>\n",
       "      <td>-3.3822</td>\n",
       "      <td>29.3644</td>\n",
       "      <td>1954</td>\n",
       "      <td>26.808</td>\n",
       "    </tr>\n",
       "    <tr>\n",
       "      <th>...</th>\n",
       "      <td>...</td>\n",
       "      <td>...</td>\n",
       "      <td>...</td>\n",
       "      <td>...</td>\n",
       "      <td>...</td>\n",
       "    </tr>\n",
       "    <tr>\n",
       "      <th>81</th>\n",
       "      <td>Bujumbura</td>\n",
       "      <td>-3.3822</td>\n",
       "      <td>29.3644</td>\n",
       "      <td>2031</td>\n",
       "      <td>1852.331</td>\n",
       "    </tr>\n",
       "    <tr>\n",
       "      <th>82</th>\n",
       "      <td>Bujumbura</td>\n",
       "      <td>-3.3822</td>\n",
       "      <td>29.3644</td>\n",
       "      <td>2032</td>\n",
       "      <td>1948.421</td>\n",
       "    </tr>\n",
       "    <tr>\n",
       "      <th>83</th>\n",
       "      <td>Bujumbura</td>\n",
       "      <td>-3.3822</td>\n",
       "      <td>29.3644</td>\n",
       "      <td>2033</td>\n",
       "      <td>2048.783</td>\n",
       "    </tr>\n",
       "    <tr>\n",
       "      <th>84</th>\n",
       "      <td>Bujumbura</td>\n",
       "      <td>-3.3822</td>\n",
       "      <td>29.3644</td>\n",
       "      <td>2034</td>\n",
       "      <td>2153.470</td>\n",
       "    </tr>\n",
       "    <tr>\n",
       "      <th>85</th>\n",
       "      <td>Bujumbura</td>\n",
       "      <td>-3.3822</td>\n",
       "      <td>29.3644</td>\n",
       "      <td>2035</td>\n",
       "      <td>2262.634</td>\n",
       "    </tr>\n",
       "  </tbody>\n",
       "</table>\n",
       "<p>86 rows × 5 columns</p>\n",
       "</div>"
      ],
      "text/plain": [
       "         City  Latitude  Longitude  year  population\n",
       "0   Bujumbura   -3.3822    29.3644  1950      18.825\n",
       "1   Bujumbura   -3.3822    29.3644  1951      20.565\n",
       "2   Bujumbura   -3.3822    29.3644  1952      22.467\n",
       "3   Bujumbura   -3.3822    29.3644  1953      24.541\n",
       "4   Bujumbura   -3.3822    29.3644  1954      26.808\n",
       "..        ...       ...        ...   ...         ...\n",
       "81  Bujumbura   -3.3822    29.3644  2031    1852.331\n",
       "82  Bujumbura   -3.3822    29.3644  2032    1948.421\n",
       "83  Bujumbura   -3.3822    29.3644  2033    2048.783\n",
       "84  Bujumbura   -3.3822    29.3644  2034    2153.470\n",
       "85  Bujumbura   -3.3822    29.3644  2035    2262.634\n",
       "\n",
       "[86 rows x 5 columns]"
      ]
     },
     "execution_count": 244,
     "metadata": {},
     "output_type": "execute_result"
    }
   ],
   "source": [
    "df"
   ]
  },
  {
   "cell_type": "code",
   "execution_count": 245,
   "id": "a71383aa",
   "metadata": {},
   "outputs": [
    {
     "data": {
      "text/plain": [
       "array(['Bujumbura'], dtype=object)"
      ]
     },
     "execution_count": 245,
     "metadata": {},
     "output_type": "execute_result"
    }
   ],
   "source": [
    "df['City'].unique()"
   ]
  },
  {
   "cell_type": "code",
   "execution_count": 246,
   "id": "51c4c8f5",
   "metadata": {},
   "outputs": [],
   "source": [
    "df = df.drop(columns=['City'])"
   ]
  },
  {
   "cell_type": "code",
   "execution_count": 247,
   "id": "5dfb1d82",
   "metadata": {},
   "outputs": [
    {
     "data": {
      "text/html": [
       "<div>\n",
       "<style scoped>\n",
       "    .dataframe tbody tr th:only-of-type {\n",
       "        vertical-align: middle;\n",
       "    }\n",
       "\n",
       "    .dataframe tbody tr th {\n",
       "        vertical-align: top;\n",
       "    }\n",
       "\n",
       "    .dataframe thead th {\n",
       "        text-align: right;\n",
       "    }\n",
       "</style>\n",
       "<table border=\"1\" class=\"dataframe\">\n",
       "  <thead>\n",
       "    <tr style=\"text-align: right;\">\n",
       "      <th></th>\n",
       "      <th>Latitude</th>\n",
       "      <th>Longitude</th>\n",
       "      <th>year</th>\n",
       "      <th>population</th>\n",
       "    </tr>\n",
       "  </thead>\n",
       "  <tbody>\n",
       "    <tr>\n",
       "      <th>0</th>\n",
       "      <td>-3.3822</td>\n",
       "      <td>29.3644</td>\n",
       "      <td>1950</td>\n",
       "      <td>18.825</td>\n",
       "    </tr>\n",
       "    <tr>\n",
       "      <th>1</th>\n",
       "      <td>-3.3822</td>\n",
       "      <td>29.3644</td>\n",
       "      <td>1951</td>\n",
       "      <td>20.565</td>\n",
       "    </tr>\n",
       "    <tr>\n",
       "      <th>2</th>\n",
       "      <td>-3.3822</td>\n",
       "      <td>29.3644</td>\n",
       "      <td>1952</td>\n",
       "      <td>22.467</td>\n",
       "    </tr>\n",
       "    <tr>\n",
       "      <th>3</th>\n",
       "      <td>-3.3822</td>\n",
       "      <td>29.3644</td>\n",
       "      <td>1953</td>\n",
       "      <td>24.541</td>\n",
       "    </tr>\n",
       "    <tr>\n",
       "      <th>4</th>\n",
       "      <td>-3.3822</td>\n",
       "      <td>29.3644</td>\n",
       "      <td>1954</td>\n",
       "      <td>26.808</td>\n",
       "    </tr>\n",
       "    <tr>\n",
       "      <th>...</th>\n",
       "      <td>...</td>\n",
       "      <td>...</td>\n",
       "      <td>...</td>\n",
       "      <td>...</td>\n",
       "    </tr>\n",
       "    <tr>\n",
       "      <th>81</th>\n",
       "      <td>-3.3822</td>\n",
       "      <td>29.3644</td>\n",
       "      <td>2031</td>\n",
       "      <td>1852.331</td>\n",
       "    </tr>\n",
       "    <tr>\n",
       "      <th>82</th>\n",
       "      <td>-3.3822</td>\n",
       "      <td>29.3644</td>\n",
       "      <td>2032</td>\n",
       "      <td>1948.421</td>\n",
       "    </tr>\n",
       "    <tr>\n",
       "      <th>83</th>\n",
       "      <td>-3.3822</td>\n",
       "      <td>29.3644</td>\n",
       "      <td>2033</td>\n",
       "      <td>2048.783</td>\n",
       "    </tr>\n",
       "    <tr>\n",
       "      <th>84</th>\n",
       "      <td>-3.3822</td>\n",
       "      <td>29.3644</td>\n",
       "      <td>2034</td>\n",
       "      <td>2153.470</td>\n",
       "    </tr>\n",
       "    <tr>\n",
       "      <th>85</th>\n",
       "      <td>-3.3822</td>\n",
       "      <td>29.3644</td>\n",
       "      <td>2035</td>\n",
       "      <td>2262.634</td>\n",
       "    </tr>\n",
       "  </tbody>\n",
       "</table>\n",
       "<p>86 rows × 4 columns</p>\n",
       "</div>"
      ],
      "text/plain": [
       "    Latitude  Longitude  year  population\n",
       "0    -3.3822    29.3644  1950      18.825\n",
       "1    -3.3822    29.3644  1951      20.565\n",
       "2    -3.3822    29.3644  1952      22.467\n",
       "3    -3.3822    29.3644  1953      24.541\n",
       "4    -3.3822    29.3644  1954      26.808\n",
       "..       ...        ...   ...         ...\n",
       "81   -3.3822    29.3644  2031    1852.331\n",
       "82   -3.3822    29.3644  2032    1948.421\n",
       "83   -3.3822    29.3644  2033    2048.783\n",
       "84   -3.3822    29.3644  2034    2153.470\n",
       "85   -3.3822    29.3644  2035    2262.634\n",
       "\n",
       "[86 rows x 4 columns]"
      ]
     },
     "execution_count": 247,
     "metadata": {},
     "output_type": "execute_result"
    }
   ],
   "source": [
    "df"
   ]
  },
  {
   "cell_type": "code",
   "execution_count": 248,
   "id": "c2d8f0fb",
   "metadata": {},
   "outputs": [],
   "source": [
    "train = df[(df['year'] >= 1950) & (df['year'] < 2023)]\n",
    "test = df[(df['year'] >= 2023) & (df['year'] <= 2035)]"
   ]
  },
  {
   "cell_type": "code",
   "execution_count": 249,
   "id": "8e6677c3",
   "metadata": {},
   "outputs": [],
   "source": [
    "x_train = train[['Latitude','Longitude','year']]\n",
    "y_train = train[['population']]"
   ]
  },
  {
   "cell_type": "code",
   "execution_count": 250,
   "id": "ae151367",
   "metadata": {},
   "outputs": [],
   "source": [
    "x_test = test[['Latitude','Longitude','year']]\n",
    "y_test = test[['population']]"
   ]
  },
  {
   "cell_type": "code",
   "execution_count": 251,
   "id": "327c241c",
   "metadata": {},
   "outputs": [
    {
     "name": "stdout",
     "output_type": "stream",
     "text": [
      "(73, 3)\n",
      "(73, 1)\n",
      "(13, 3)\n",
      "(13, 1)\n"
     ]
    }
   ],
   "source": [
    "print(x_train.shape)\n",
    "print(y_train.shape)\n",
    "print(x_test.shape)\n",
    "print(y_test.shape)"
   ]
  },
  {
   "cell_type": "code",
   "execution_count": 252,
   "id": "633537d3",
   "metadata": {},
   "outputs": [],
   "source": [
    "from sklearn.preprocessing import StandardScaler\n",
    "scaler = StandardScaler()"
   ]
  },
  {
   "cell_type": "code",
   "execution_count": 253,
   "id": "bc20aed4",
   "metadata": {},
   "outputs": [],
   "source": [
    "x_train = scaler.fit_transform(x_train)\n",
    "y_train = scaler.fit_transform(y_train)\n",
    "x_test= scaler.fit_transform(x_test)\n",
    "y_test = scaler.fit_transform(y_test)"
   ]
  },
  {
   "cell_type": "code",
   "execution_count": 254,
   "id": "963c2ddf",
   "metadata": {},
   "outputs": [],
   "source": [
    "from sklearn.linear_model import LinearRegression\n"
   ]
  },
  {
   "cell_type": "code",
   "execution_count": 255,
   "id": "ce7f8468",
   "metadata": {},
   "outputs": [
    {
     "data": {
      "text/html": [
       "<style>#sk-container-id-13 {color: black;background-color: white;}#sk-container-id-13 pre{padding: 0;}#sk-container-id-13 div.sk-toggleable {background-color: white;}#sk-container-id-13 label.sk-toggleable__label {cursor: pointer;display: block;width: 100%;margin-bottom: 0;padding: 0.3em;box-sizing: border-box;text-align: center;}#sk-container-id-13 label.sk-toggleable__label-arrow:before {content: \"▸\";float: left;margin-right: 0.25em;color: #696969;}#sk-container-id-13 label.sk-toggleable__label-arrow:hover:before {color: black;}#sk-container-id-13 div.sk-estimator:hover label.sk-toggleable__label-arrow:before {color: black;}#sk-container-id-13 div.sk-toggleable__content {max-height: 0;max-width: 0;overflow: hidden;text-align: left;background-color: #f0f8ff;}#sk-container-id-13 div.sk-toggleable__content pre {margin: 0.2em;color: black;border-radius: 0.25em;background-color: #f0f8ff;}#sk-container-id-13 input.sk-toggleable__control:checked~div.sk-toggleable__content {max-height: 200px;max-width: 100%;overflow: auto;}#sk-container-id-13 input.sk-toggleable__control:checked~label.sk-toggleable__label-arrow:before {content: \"▾\";}#sk-container-id-13 div.sk-estimator input.sk-toggleable__control:checked~label.sk-toggleable__label {background-color: #d4ebff;}#sk-container-id-13 div.sk-label input.sk-toggleable__control:checked~label.sk-toggleable__label {background-color: #d4ebff;}#sk-container-id-13 input.sk-hidden--visually {border: 0;clip: rect(1px 1px 1px 1px);clip: rect(1px, 1px, 1px, 1px);height: 1px;margin: -1px;overflow: hidden;padding: 0;position: absolute;width: 1px;}#sk-container-id-13 div.sk-estimator {font-family: monospace;background-color: #f0f8ff;border: 1px dotted black;border-radius: 0.25em;box-sizing: border-box;margin-bottom: 0.5em;}#sk-container-id-13 div.sk-estimator:hover {background-color: #d4ebff;}#sk-container-id-13 div.sk-parallel-item::after {content: \"\";width: 100%;border-bottom: 1px solid gray;flex-grow: 1;}#sk-container-id-13 div.sk-label:hover label.sk-toggleable__label {background-color: #d4ebff;}#sk-container-id-13 div.sk-serial::before {content: \"\";position: absolute;border-left: 1px solid gray;box-sizing: border-box;top: 0;bottom: 0;left: 50%;z-index: 0;}#sk-container-id-13 div.sk-serial {display: flex;flex-direction: column;align-items: center;background-color: white;padding-right: 0.2em;padding-left: 0.2em;position: relative;}#sk-container-id-13 div.sk-item {position: relative;z-index: 1;}#sk-container-id-13 div.sk-parallel {display: flex;align-items: stretch;justify-content: center;background-color: white;position: relative;}#sk-container-id-13 div.sk-item::before, #sk-container-id-13 div.sk-parallel-item::before {content: \"\";position: absolute;border-left: 1px solid gray;box-sizing: border-box;top: 0;bottom: 0;left: 50%;z-index: -1;}#sk-container-id-13 div.sk-parallel-item {display: flex;flex-direction: column;z-index: 1;position: relative;background-color: white;}#sk-container-id-13 div.sk-parallel-item:first-child::after {align-self: flex-end;width: 50%;}#sk-container-id-13 div.sk-parallel-item:last-child::after {align-self: flex-start;width: 50%;}#sk-container-id-13 div.sk-parallel-item:only-child::after {width: 0;}#sk-container-id-13 div.sk-dashed-wrapped {border: 1px dashed gray;margin: 0 0.4em 0.5em 0.4em;box-sizing: border-box;padding-bottom: 0.4em;background-color: white;}#sk-container-id-13 div.sk-label label {font-family: monospace;font-weight: bold;display: inline-block;line-height: 1.2em;}#sk-container-id-13 div.sk-label-container {text-align: center;}#sk-container-id-13 div.sk-container {/* jupyter's `normalize.less` sets `[hidden] { display: none; }` but bootstrap.min.css set `[hidden] { display: none !important; }` so we also need the `!important` here to be able to override the default hidden behavior on the sphinx rendered scikit-learn.org. See: https://github.com/scikit-learn/scikit-learn/issues/21755 */display: inline-block !important;position: relative;}#sk-container-id-13 div.sk-text-repr-fallback {display: none;}</style><div id=\"sk-container-id-13\" class=\"sk-top-container\"><div class=\"sk-text-repr-fallback\"><pre>LinearRegression()</pre><b>In a Jupyter environment, please rerun this cell to show the HTML representation or trust the notebook. <br />On GitHub, the HTML representation is unable to render, please try loading this page with nbviewer.org.</b></div><div class=\"sk-container\" hidden><div class=\"sk-item\"><div class=\"sk-estimator sk-toggleable\"><input class=\"sk-toggleable__control sk-hidden--visually\" id=\"sk-estimator-id-13\" type=\"checkbox\" checked><label for=\"sk-estimator-id-13\" class=\"sk-toggleable__label sk-toggleable__label-arrow\">LinearRegression</label><div class=\"sk-toggleable__content\"><pre>LinearRegression()</pre></div></div></div></div></div>"
      ],
      "text/plain": [
       "LinearRegression()"
      ]
     },
     "execution_count": 255,
     "metadata": {},
     "output_type": "execute_result"
    }
   ],
   "source": [
    "reg = LinearRegression()\n",
    "reg.fit(x_train, y_train)"
   ]
  },
  {
   "cell_type": "code",
   "execution_count": 256,
   "id": "67d97be5",
   "metadata": {},
   "outputs": [],
   "source": [
    "prediction_train = reg.predict(x_train)\n",
    "prediction_test = reg.predict(x_test)"
   ]
  },
  {
   "cell_type": "code",
   "execution_count": 257,
   "id": "dca7aa46",
   "metadata": {},
   "outputs": [
    {
     "data": {
      "text/plain": [
       "0.013694448116357415"
      ]
     },
     "execution_count": 257,
     "metadata": {},
     "output_type": "execute_result"
    }
   ],
   "source": [
    "from sklearn.metrics import mean_squared_error,r2_score\n",
    "mean_squared_error(y_test, prediction_test)\n"
   ]
  },
  {
   "cell_type": "code",
   "execution_count": 258,
   "id": "b2cd1807",
   "metadata": {},
   "outputs": [
    {
     "data": {
      "text/plain": [
       "0.1875250277881414"
      ]
     },
     "execution_count": 258,
     "metadata": {},
     "output_type": "execute_result"
    }
   ],
   "source": [
    "mean_squared_error(y_train, prediction_train)\n"
   ]
  },
  {
   "cell_type": "code",
   "execution_count": 259,
   "id": "a144a4ee",
   "metadata": {},
   "outputs": [
    {
     "data": {
      "text/plain": [
       "0.9863055518836426"
      ]
     },
     "execution_count": 259,
     "metadata": {},
     "output_type": "execute_result"
    }
   ],
   "source": [
    "r2_score(y_test, prediction_test)"
   ]
  },
  {
   "cell_type": "code",
   "execution_count": 260,
   "id": "94757bf5",
   "metadata": {},
   "outputs": [
    {
     "data": {
      "text/plain": [
       "0.8124749722118586"
      ]
     },
     "execution_count": 260,
     "metadata": {},
     "output_type": "execute_result"
    }
   ],
   "source": [
    "r2_score(y_train, prediction_train)"
   ]
  },
  {
   "cell_type": "code",
   "execution_count": 261,
   "id": "e1599e36",
   "metadata": {},
   "outputs": [],
   "source": [
    "y_test_reshaped = y_test.reshape(-1, 1)\n",
    "prediction_test_reshaped = prediction_test.reshape(-1, 1)\n"
   ]
  },
  {
   "cell_type": "code",
   "execution_count": 262,
   "id": "81adf8ad",
   "metadata": {},
   "outputs": [
    {
     "data": {
      "text/html": [
       "<div>\n",
       "<style scoped>\n",
       "    .dataframe tbody tr th:only-of-type {\n",
       "        vertical-align: middle;\n",
       "    }\n",
       "\n",
       "    .dataframe tbody tr th {\n",
       "        vertical-align: top;\n",
       "    }\n",
       "\n",
       "    .dataframe thead th {\n",
       "        text-align: right;\n",
       "    }\n",
       "</style>\n",
       "<table border=\"1\" class=\"dataframe\">\n",
       "  <thead>\n",
       "    <tr style=\"text-align: right;\">\n",
       "      <th></th>\n",
       "      <th>Actual</th>\n",
       "      <th>Predicted</th>\n",
       "    </tr>\n",
       "  </thead>\n",
       "  <tbody>\n",
       "    <tr>\n",
       "      <th>0</th>\n",
       "      <td>[1206.767]</td>\n",
       "      <td>[1221.1163604158544]</td>\n",
       "    </tr>\n",
       "    <tr>\n",
       "      <th>1</th>\n",
       "      <td>[1277.05]</td>\n",
       "      <td>[1300.272531115776]</td>\n",
       "    </tr>\n",
       "    <tr>\n",
       "      <th>2</th>\n",
       "      <td>[1350.147]</td>\n",
       "      <td>[1379.4287018156979]</td>\n",
       "    </tr>\n",
       "    <tr>\n",
       "      <th>3</th>\n",
       "      <td>[1426.044]</td>\n",
       "      <td>[1458.5848725156195]</td>\n",
       "    </tr>\n",
       "    <tr>\n",
       "      <th>4</th>\n",
       "      <td>[1504.812]</td>\n",
       "      <td>[1537.7410432155414]</td>\n",
       "    </tr>\n",
       "    <tr>\n",
       "      <th>5</th>\n",
       "      <td>[1586.55]</td>\n",
       "      <td>[1616.897213915463]</td>\n",
       "    </tr>\n",
       "    <tr>\n",
       "      <th>6</th>\n",
       "      <td>[1671.586]</td>\n",
       "      <td>[1696.0533846153849]</td>\n",
       "    </tr>\n",
       "    <tr>\n",
       "      <th>7</th>\n",
       "      <td>[1760.099]</td>\n",
       "      <td>[1775.2095553153065]</td>\n",
       "    </tr>\n",
       "    <tr>\n",
       "      <th>8</th>\n",
       "      <td>[1852.331]</td>\n",
       "      <td>[1854.3657260152283]</td>\n",
       "    </tr>\n",
       "    <tr>\n",
       "      <th>9</th>\n",
       "      <td>[1948.421]</td>\n",
       "      <td>[1933.52189671515]</td>\n",
       "    </tr>\n",
       "    <tr>\n",
       "      <th>10</th>\n",
       "      <td>[2048.783]</td>\n",
       "      <td>[2012.6780674150718]</td>\n",
       "    </tr>\n",
       "    <tr>\n",
       "      <th>11</th>\n",
       "      <td>[2153.47]</td>\n",
       "      <td>[2091.8342381149937]</td>\n",
       "    </tr>\n",
       "    <tr>\n",
       "      <th>12</th>\n",
       "      <td>[2262.634]</td>\n",
       "      <td>[2170.990408814915]</td>\n",
       "    </tr>\n",
       "  </tbody>\n",
       "</table>\n",
       "</div>"
      ],
      "text/plain": [
       "        Actual             Predicted\n",
       "0   [1206.767]  [1221.1163604158544]\n",
       "1    [1277.05]   [1300.272531115776]\n",
       "2   [1350.147]  [1379.4287018156979]\n",
       "3   [1426.044]  [1458.5848725156195]\n",
       "4   [1504.812]  [1537.7410432155414]\n",
       "5    [1586.55]   [1616.897213915463]\n",
       "6   [1671.586]  [1696.0533846153849]\n",
       "7   [1760.099]  [1775.2095553153065]\n",
       "8   [1852.331]  [1854.3657260152283]\n",
       "9   [1948.421]    [1933.52189671515]\n",
       "10  [2048.783]  [2012.6780674150718]\n",
       "11   [2153.47]  [2091.8342381149937]\n",
       "12  [2262.634]   [2170.990408814915]"
      ]
     },
     "execution_count": 262,
     "metadata": {},
     "output_type": "execute_result"
    }
   ],
   "source": [
    "y_test_inverse = scaler.inverse_transform(y_test_reshaped)\n",
    "prediction_test_inverse = scaler.inverse_transform(prediction_test_reshaped)\n",
    "\n",
    "pd.DataFrame(list(zip(y_test_inverse, prediction_test_inverse)), columns=['Actual', 'Predicted'])"
   ]
  },
  {
   "cell_type": "code",
   "execution_count": 263,
   "id": "7824a3a0",
   "metadata": {},
   "outputs": [],
   "source": [
    "final_data = pd.DataFrame(list(zip(y_test_inverse, prediction_test_inverse)), columns=['Actual', 'Predicted'])"
   ]
  },
  {
   "cell_type": "code",
   "execution_count": 264,
   "id": "c332fbc1",
   "metadata": {},
   "outputs": [
    {
     "name": "stderr",
     "output_type": "stream",
     "text": [
      "C:\\Users\\ASUS\\AppData\\Local\\Temp\\ipykernel_21716\\4214225479.py:1: FutureWarning: The default value of regex will change from True to False in a future version.\n",
      "  final_data['Actual'] = final_data['Actual'].astype(str).str.replace('\\[|\\]', '')\n"
     ]
    }
   ],
   "source": [
    "final_data['Actual'] = final_data['Actual'].astype(str).str.replace('\\[|\\]', '')\n",
    "final_data['Actual'] = pd.to_numeric(final_data['Actual'])"
   ]
  },
  {
   "cell_type": "code",
   "execution_count": 265,
   "id": "c2281b4d",
   "metadata": {},
   "outputs": [
    {
     "name": "stderr",
     "output_type": "stream",
     "text": [
      "C:\\Users\\ASUS\\AppData\\Local\\Temp\\ipykernel_21716\\844696107.py:1: FutureWarning: The default value of regex will change from True to False in a future version.\n",
      "  final_data['Predicted'] = final_data['Predicted'].astype(str).str.replace('\\[|\\]', '')\n"
     ]
    }
   ],
   "source": [
    "final_data['Predicted'] = final_data['Predicted'].astype(str).str.replace('\\[|\\]', '')\n",
    "final_data['Predicted'] = pd.to_numeric(final_data['Predicted'])"
   ]
  },
  {
   "cell_type": "code",
   "execution_count": 266,
   "id": "a19d52e9",
   "metadata": {},
   "outputs": [
    {
     "data": {
      "text/html": [
       "<div>\n",
       "<style scoped>\n",
       "    .dataframe tbody tr th:only-of-type {\n",
       "        vertical-align: middle;\n",
       "    }\n",
       "\n",
       "    .dataframe tbody tr th {\n",
       "        vertical-align: top;\n",
       "    }\n",
       "\n",
       "    .dataframe thead th {\n",
       "        text-align: right;\n",
       "    }\n",
       "</style>\n",
       "<table border=\"1\" class=\"dataframe\">\n",
       "  <thead>\n",
       "    <tr style=\"text-align: right;\">\n",
       "      <th></th>\n",
       "      <th>Actual</th>\n",
       "      <th>Predicted</th>\n",
       "    </tr>\n",
       "  </thead>\n",
       "  <tbody>\n",
       "    <tr>\n",
       "      <th>0</th>\n",
       "      <td>1206.767</td>\n",
       "      <td>1221.116360</td>\n",
       "    </tr>\n",
       "    <tr>\n",
       "      <th>1</th>\n",
       "      <td>1277.050</td>\n",
       "      <td>1300.272531</td>\n",
       "    </tr>\n",
       "    <tr>\n",
       "      <th>2</th>\n",
       "      <td>1350.147</td>\n",
       "      <td>1379.428702</td>\n",
       "    </tr>\n",
       "    <tr>\n",
       "      <th>3</th>\n",
       "      <td>1426.044</td>\n",
       "      <td>1458.584873</td>\n",
       "    </tr>\n",
       "    <tr>\n",
       "      <th>4</th>\n",
       "      <td>1504.812</td>\n",
       "      <td>1537.741043</td>\n",
       "    </tr>\n",
       "    <tr>\n",
       "      <th>5</th>\n",
       "      <td>1586.550</td>\n",
       "      <td>1616.897214</td>\n",
       "    </tr>\n",
       "    <tr>\n",
       "      <th>6</th>\n",
       "      <td>1671.586</td>\n",
       "      <td>1696.053385</td>\n",
       "    </tr>\n",
       "    <tr>\n",
       "      <th>7</th>\n",
       "      <td>1760.099</td>\n",
       "      <td>1775.209555</td>\n",
       "    </tr>\n",
       "    <tr>\n",
       "      <th>8</th>\n",
       "      <td>1852.331</td>\n",
       "      <td>1854.365726</td>\n",
       "    </tr>\n",
       "    <tr>\n",
       "      <th>9</th>\n",
       "      <td>1948.421</td>\n",
       "      <td>1933.521897</td>\n",
       "    </tr>\n",
       "    <tr>\n",
       "      <th>10</th>\n",
       "      <td>2048.783</td>\n",
       "      <td>2012.678067</td>\n",
       "    </tr>\n",
       "    <tr>\n",
       "      <th>11</th>\n",
       "      <td>2153.470</td>\n",
       "      <td>2091.834238</td>\n",
       "    </tr>\n",
       "    <tr>\n",
       "      <th>12</th>\n",
       "      <td>2262.634</td>\n",
       "      <td>2170.990409</td>\n",
       "    </tr>\n",
       "  </tbody>\n",
       "</table>\n",
       "</div>"
      ],
      "text/plain": [
       "      Actual    Predicted\n",
       "0   1206.767  1221.116360\n",
       "1   1277.050  1300.272531\n",
       "2   1350.147  1379.428702\n",
       "3   1426.044  1458.584873\n",
       "4   1504.812  1537.741043\n",
       "5   1586.550  1616.897214\n",
       "6   1671.586  1696.053385\n",
       "7   1760.099  1775.209555\n",
       "8   1852.331  1854.365726\n",
       "9   1948.421  1933.521897\n",
       "10  2048.783  2012.678067\n",
       "11  2153.470  2091.834238\n",
       "12  2262.634  2170.990409"
      ]
     },
     "execution_count": 266,
     "metadata": {},
     "output_type": "execute_result"
    }
   ],
   "source": [
    "final_data"
   ]
  },
  {
   "cell_type": "code",
   "execution_count": 267,
   "id": "ab4ba79d",
   "metadata": {},
   "outputs": [
    {
     "data": {
      "image/png": "[encoded data removed]",
      "text/plain": [
       "<Figure size 640x480 with 1 Axes>"
      ]
     },
     "metadata": {},
     "output_type": "display_data"
    }
   ],
   "source": [
    "plt.plot(test['year'],y_test_inverse, label='Actual Population')\n",
    "plt.plot(test['year'], prediction_test_inverse, label='Predicted Population')\n",
    "plt.xlabel('Year')\n",
    "plt.ylabel('Population')\n",
    "plt.legend()\n",
    "plt.show()"
   ]
  },
  {
   "cell_type": "code",
   "execution_count": null,
   "id": "a01e26d4",
   "metadata": {},
   "outputs": [],
   "source": []
  },
  {
   "cell_type": "code",
   "execution_count": null,
   "id": "35791b25",
   "metadata": {},
   "outputs": [],
   "source": []
  }
 ],
 "metadata": {
  "kernelspec": {
   "display_name": "Python 3 (ipykernel)",
   "language": "python",
   "name": "python3"
  },
  "language_info": {
   "codemirror_mode": {
    "name": "ipython",
    "version": 3
   },
   "file_extension": ".py",
   "mimetype": "text/x-python",
   "name": "python",
   "nbconvert_exporter": "python",
   "pygments_lexer": "ipython3",
   "version": "3.9.13"
  }
 },
 "nbformat": 4,
 "nbformat_minor": 5
}

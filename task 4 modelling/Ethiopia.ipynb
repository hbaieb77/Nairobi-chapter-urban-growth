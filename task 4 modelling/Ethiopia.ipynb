{
 "cells": [
  {
   "cell_type": "code",
   "execution_count": 117,
   "id": "a166a22a",
   "metadata": {},
   "outputs": [],
   "source": [
    "import pandas as pd"
   ]
  },
  {
   "cell_type": "code",
   "execution_count": 118,
   "id": "b8381ad5",
   "metadata": {},
   "outputs": [],
   "source": [
    "df = pd.read_csv('UN_city_pop_projections_long.csv')"
   ]
  },
  {
   "cell_type": "code",
   "execution_count": 119,
   "id": "06735a08",
   "metadata": {},
   "outputs": [
    {
     "data": {
      "text/html": [
       "<div>\n",
       "<style scoped>\n",
       "    .dataframe tbody tr th:only-of-type {\n",
       "        vertical-align: middle;\n",
       "    }\n",
       "\n",
       "    .dataframe tbody tr th {\n",
       "        vertical-align: top;\n",
       "    }\n",
       "\n",
       "    .dataframe thead th {\n",
       "        text-align: right;\n",
       "    }\n",
       "</style>\n",
       "<table border=\"1\" class=\"dataframe\">\n",
       "  <thead>\n",
       "    <tr style=\"text-align: right;\">\n",
       "      <th></th>\n",
       "      <th>Unnamed: 0</th>\n",
       "      <th>Region</th>\n",
       "      <th>Country_Code</th>\n",
       "      <th>Country_or_area</th>\n",
       "      <th>City_Code</th>\n",
       "      <th>City</th>\n",
       "      <th>City_Definition</th>\n",
       "      <th>Latitude</th>\n",
       "      <th>Longitude</th>\n",
       "      <th>year</th>\n",
       "      <th>population</th>\n",
       "    </tr>\n",
       "  </thead>\n",
       "  <tbody>\n",
       "    <tr>\n",
       "      <th>0</th>\n",
       "      <td>0</td>\n",
       "      <td>Africa</td>\n",
       "      <td>12</td>\n",
       "      <td>Algeria</td>\n",
       "      <td>20009</td>\n",
       "      <td>Annaba</td>\n",
       "      <td>Urban Agglomeration</td>\n",
       "      <td>36.900000</td>\n",
       "      <td>7.766670</td>\n",
       "      <td>1950</td>\n",
       "      <td>99.741</td>\n",
       "    </tr>\n",
       "    <tr>\n",
       "      <th>1</th>\n",
       "      <td>1</td>\n",
       "      <td>Africa</td>\n",
       "      <td>12</td>\n",
       "      <td>Algeria</td>\n",
       "      <td>20011</td>\n",
       "      <td>Batna</td>\n",
       "      <td>City Proper</td>\n",
       "      <td>35.555970</td>\n",
       "      <td>6.174140</td>\n",
       "      <td>1950</td>\n",
       "      <td>13.046</td>\n",
       "    </tr>\n",
       "    <tr>\n",
       "      <th>2</th>\n",
       "      <td>2</td>\n",
       "      <td>Africa</td>\n",
       "      <td>12</td>\n",
       "      <td>Algeria</td>\n",
       "      <td>20015</td>\n",
       "      <td>Blida</td>\n",
       "      <td>Urban Agglomeration</td>\n",
       "      <td>36.480781</td>\n",
       "      <td>2.831943</td>\n",
       "      <td>1950</td>\n",
       "      <td>33.970</td>\n",
       "    </tr>\n",
       "    <tr>\n",
       "      <th>3</th>\n",
       "      <td>3</td>\n",
       "      <td>Africa</td>\n",
       "      <td>12</td>\n",
       "      <td>Algeria</td>\n",
       "      <td>20006</td>\n",
       "      <td>El Djazaïr  (Algiers)</td>\n",
       "      <td>Urban Agglomeration</td>\n",
       "      <td>36.752500</td>\n",
       "      <td>3.041970</td>\n",
       "      <td>1950</td>\n",
       "      <td>516.450</td>\n",
       "    </tr>\n",
       "    <tr>\n",
       "      <th>4</th>\n",
       "      <td>4</td>\n",
       "      <td>Africa</td>\n",
       "      <td>12</td>\n",
       "      <td>Algeria</td>\n",
       "      <td>20020</td>\n",
       "      <td>El Djelfa</td>\n",
       "      <td>Urban Agglomeration</td>\n",
       "      <td>34.672790</td>\n",
       "      <td>3.263000</td>\n",
       "      <td>1950</td>\n",
       "      <td>10.450</td>\n",
       "    </tr>\n",
       "    <tr>\n",
       "      <th>...</th>\n",
       "      <td>...</td>\n",
       "      <td>...</td>\n",
       "      <td>...</td>\n",
       "      <td>...</td>\n",
       "      <td>...</td>\n",
       "      <td>...</td>\n",
       "      <td>...</td>\n",
       "      <td>...</td>\n",
       "      <td>...</td>\n",
       "      <td>...</td>\n",
       "      <td>...</td>\n",
       "    </tr>\n",
       "    <tr>\n",
       "      <th>19001</th>\n",
       "      <td>19001</td>\n",
       "      <td>Africa</td>\n",
       "      <td>894</td>\n",
       "      <td>Zambia</td>\n",
       "      <td>23277</td>\n",
       "      <td>Lusaka</td>\n",
       "      <td>Urban Agglomeration</td>\n",
       "      <td>-15.413374</td>\n",
       "      <td>28.277148</td>\n",
       "      <td>2035</td>\n",
       "      <td>5182.669</td>\n",
       "    </tr>\n",
       "    <tr>\n",
       "      <th>19002</th>\n",
       "      <td>19002</td>\n",
       "      <td>Africa</td>\n",
       "      <td>894</td>\n",
       "      <td>Zambia</td>\n",
       "      <td>23279</td>\n",
       "      <td>Ndola</td>\n",
       "      <td>City Proper</td>\n",
       "      <td>-12.958670</td>\n",
       "      <td>28.636590</td>\n",
       "      <td>2035</td>\n",
       "      <td>925.726</td>\n",
       "    </tr>\n",
       "    <tr>\n",
       "      <th>19003</th>\n",
       "      <td>19003</td>\n",
       "      <td>Africa</td>\n",
       "      <td>716</td>\n",
       "      <td>Zimbabwe</td>\n",
       "      <td>22510</td>\n",
       "      <td>Bulawayo</td>\n",
       "      <td>City Proper</td>\n",
       "      <td>-20.150000</td>\n",
       "      <td>28.583330</td>\n",
       "      <td>2035</td>\n",
       "      <td>874.479</td>\n",
       "    </tr>\n",
       "    <tr>\n",
       "      <th>19004</th>\n",
       "      <td>19004</td>\n",
       "      <td>Africa</td>\n",
       "      <td>716</td>\n",
       "      <td>Zimbabwe</td>\n",
       "      <td>22511</td>\n",
       "      <td>Chitungwiza</td>\n",
       "      <td>City Proper</td>\n",
       "      <td>-18.012740</td>\n",
       "      <td>31.075550</td>\n",
       "      <td>2035</td>\n",
       "      <td>552.027</td>\n",
       "    </tr>\n",
       "    <tr>\n",
       "      <th>19005</th>\n",
       "      <td>19005</td>\n",
       "      <td>Africa</td>\n",
       "      <td>716</td>\n",
       "      <td>Zimbabwe</td>\n",
       "      <td>22513</td>\n",
       "      <td>Harare</td>\n",
       "      <td>City Proper</td>\n",
       "      <td>-17.829350</td>\n",
       "      <td>31.053890</td>\n",
       "      <td>2035</td>\n",
       "      <td>2141.738</td>\n",
       "    </tr>\n",
       "  </tbody>\n",
       "</table>\n",
       "<p>19006 rows × 11 columns</p>\n",
       "</div>"
      ],
      "text/plain": [
       "       Unnamed: 0  Region  Country_Code Country_or_area  City_Code  \\\n",
       "0               0  Africa            12         Algeria      20009   \n",
       "1               1  Africa            12         Algeria      20011   \n",
       "2               2  Africa            12         Algeria      20015   \n",
       "3               3  Africa            12         Algeria      20006   \n",
       "4               4  Africa            12         Algeria      20020   \n",
       "...           ...     ...           ...             ...        ...   \n",
       "19001       19001  Africa           894          Zambia      23277   \n",
       "19002       19002  Africa           894          Zambia      23279   \n",
       "19003       19003  Africa           716        Zimbabwe      22510   \n",
       "19004       19004  Africa           716        Zimbabwe      22511   \n",
       "19005       19005  Africa           716        Zimbabwe      22513   \n",
       "\n",
       "                        City      City_Definition   Latitude  Longitude  year  \\\n",
       "0                     Annaba  Urban Agglomeration  36.900000   7.766670  1950   \n",
       "1                      Batna          City Proper  35.555970   6.174140  1950   \n",
       "2                      Blida  Urban Agglomeration  36.480781   2.831943  1950   \n",
       "3      El Djazaïr  (Algiers)  Urban Agglomeration  36.752500   3.041970  1950   \n",
       "4                  El Djelfa  Urban Agglomeration  34.672790   3.263000  1950   \n",
       "...                      ...                  ...        ...        ...   ...   \n",
       "19001                 Lusaka  Urban Agglomeration -15.413374  28.277148  2035   \n",
       "19002                  Ndola          City Proper -12.958670  28.636590  2035   \n",
       "19003               Bulawayo          City Proper -20.150000  28.583330  2035   \n",
       "19004            Chitungwiza          City Proper -18.012740  31.075550  2035   \n",
       "19005                 Harare          City Proper -17.829350  31.053890  2035   \n",
       "\n",
       "       population  \n",
       "0          99.741  \n",
       "1          13.046  \n",
       "2          33.970  \n",
       "3         516.450  \n",
       "4          10.450  \n",
       "...           ...  \n",
       "19001    5182.669  \n",
       "19002     925.726  \n",
       "19003     874.479  \n",
       "19004     552.027  \n",
       "19005    2141.738  \n",
       "\n",
       "[19006 rows x 11 columns]"
      ]
     },
     "execution_count": 119,
     "metadata": {},
     "output_type": "execute_result"
    }
   ],
   "source": [
    "df"
   ]
  },
  {
   "cell_type": "code",
   "execution_count": 120,
   "id": "82eb925a",
   "metadata": {},
   "outputs": [
    {
     "data": {
      "text/plain": [
       "array(['Algeria', 'Angola', 'Benin', 'Burkina Faso', 'Burundi',\n",
       "       'Cameroon', 'Central African Republic', 'Chad', 'Congo',\n",
       "       \"Côte d'Ivoire\", 'Democratic Republic of the Congo', 'Djibouti',\n",
       "       'Egypt', 'Equatorial Guinea', 'Eritrea', 'Ethiopia', 'Gabon',\n",
       "       'Gambia', 'Ghana', 'Guinea', 'Guinea-Bissau', 'Kenya', 'Liberia',\n",
       "       'Libya', 'Madagascar', 'Malawi', 'Mali', 'Mauritania', 'Morocco',\n",
       "       'Mozambique', 'Namibia', 'Niger', 'Nigeria', 'Rwanda', 'Senegal',\n",
       "       'Sierra Leone', 'Somalia', 'South Africa', 'South Sudan', 'Sudan',\n",
       "       'Togo', 'Tunisia', 'Uganda', 'United Republic of Tanzania',\n",
       "       'Zambia', 'Zimbabwe'], dtype=object)"
      ]
     },
     "execution_count": 120,
     "metadata": {},
     "output_type": "execute_result"
    }
   ],
   "source": [
    "df.Country_or_area.unique()"
   ]
  },
  {
   "cell_type": "code",
   "execution_count": 121,
   "id": "318fb5c4",
   "metadata": {},
   "outputs": [],
   "source": [
    "df = df[df['Country_or_area']=='Ethiopia']"
   ]
  },
  {
   "cell_type": "code",
   "execution_count": 122,
   "id": "02412cee",
   "metadata": {},
   "outputs": [
    {
     "data": {
      "text/html": [
       "<div>\n",
       "<style scoped>\n",
       "    .dataframe tbody tr th:only-of-type {\n",
       "        vertical-align: middle;\n",
       "    }\n",
       "\n",
       "    .dataframe tbody tr th {\n",
       "        vertical-align: top;\n",
       "    }\n",
       "\n",
       "    .dataframe thead th {\n",
       "        text-align: right;\n",
       "    }\n",
       "</style>\n",
       "<table border=\"1\" class=\"dataframe\">\n",
       "  <thead>\n",
       "    <tr style=\"text-align: right;\">\n",
       "      <th></th>\n",
       "      <th>Unnamed: 0</th>\n",
       "      <th>Region</th>\n",
       "      <th>Country_Code</th>\n",
       "      <th>Country_or_area</th>\n",
       "      <th>City_Code</th>\n",
       "      <th>City</th>\n",
       "      <th>City_Definition</th>\n",
       "      <th>Latitude</th>\n",
       "      <th>Longitude</th>\n",
       "      <th>year</th>\n",
       "      <th>population</th>\n",
       "    </tr>\n",
       "  </thead>\n",
       "  <tbody>\n",
       "    <tr>\n",
       "      <th>69</th>\n",
       "      <td>69</td>\n",
       "      <td>Africa</td>\n",
       "      <td>231</td>\n",
       "      <td>Ethiopia</td>\n",
       "      <td>20921</td>\n",
       "      <td>Addis Ababa</td>\n",
       "      <td>City Proper</td>\n",
       "      <td>9.024970</td>\n",
       "      <td>38.746890</td>\n",
       "      <td>1950</td>\n",
       "      <td>392.000</td>\n",
       "    </tr>\n",
       "    <tr>\n",
       "      <th>70</th>\n",
       "      <td>70</td>\n",
       "      <td>Africa</td>\n",
       "      <td>231</td>\n",
       "      <td>Ethiopia</td>\n",
       "      <td>20925</td>\n",
       "      <td>Dire Dawa</td>\n",
       "      <td>City Proper</td>\n",
       "      <td>9.593060</td>\n",
       "      <td>41.866110</td>\n",
       "      <td>1950</td>\n",
       "      <td>18.176</td>\n",
       "    </tr>\n",
       "    <tr>\n",
       "      <th>71</th>\n",
       "      <td>71</td>\n",
       "      <td>Africa</td>\n",
       "      <td>231</td>\n",
       "      <td>Ethiopia</td>\n",
       "      <td>20926</td>\n",
       "      <td>Gondar</td>\n",
       "      <td>City Proper</td>\n",
       "      <td>12.600000</td>\n",
       "      <td>37.466670</td>\n",
       "      <td>1950</td>\n",
       "      <td>27.900</td>\n",
       "    </tr>\n",
       "    <tr>\n",
       "      <th>72</th>\n",
       "      <td>72</td>\n",
       "      <td>Africa</td>\n",
       "      <td>231</td>\n",
       "      <td>Ethiopia</td>\n",
       "      <td>20929</td>\n",
       "      <td>Mekele</td>\n",
       "      <td>City Proper</td>\n",
       "      <td>13.496670</td>\n",
       "      <td>39.475280</td>\n",
       "      <td>1950</td>\n",
       "      <td>14.107</td>\n",
       "    </tr>\n",
       "    <tr>\n",
       "      <th>73</th>\n",
       "      <td>73</td>\n",
       "      <td>Africa</td>\n",
       "      <td>231</td>\n",
       "      <td>Ethiopia</td>\n",
       "      <td>20930</td>\n",
       "      <td>Nazret</td>\n",
       "      <td>City Proper</td>\n",
       "      <td>8.540869</td>\n",
       "      <td>39.271569</td>\n",
       "      <td>1950</td>\n",
       "      <td>14.257</td>\n",
       "    </tr>\n",
       "    <tr>\n",
       "      <th>...</th>\n",
       "      <td>...</td>\n",
       "      <td>...</td>\n",
       "      <td>...</td>\n",
       "      <td>...</td>\n",
       "      <td>...</td>\n",
       "      <td>...</td>\n",
       "      <td>...</td>\n",
       "      <td>...</td>\n",
       "      <td>...</td>\n",
       "      <td>...</td>\n",
       "      <td>...</td>\n",
       "    </tr>\n",
       "    <tr>\n",
       "      <th>18854</th>\n",
       "      <td>18854</td>\n",
       "      <td>Africa</td>\n",
       "      <td>231</td>\n",
       "      <td>Ethiopia</td>\n",
       "      <td>20921</td>\n",
       "      <td>Addis Ababa</td>\n",
       "      <td>City Proper</td>\n",
       "      <td>9.024970</td>\n",
       "      <td>38.746890</td>\n",
       "      <td>2035</td>\n",
       "      <td>8938.683</td>\n",
       "    </tr>\n",
       "    <tr>\n",
       "      <th>18855</th>\n",
       "      <td>18855</td>\n",
       "      <td>Africa</td>\n",
       "      <td>231</td>\n",
       "      <td>Ethiopia</td>\n",
       "      <td>20925</td>\n",
       "      <td>Dire Dawa</td>\n",
       "      <td>City Proper</td>\n",
       "      <td>9.593060</td>\n",
       "      <td>41.866110</td>\n",
       "      <td>2035</td>\n",
       "      <td>760.963</td>\n",
       "    </tr>\n",
       "    <tr>\n",
       "      <th>18856</th>\n",
       "      <td>18856</td>\n",
       "      <td>Africa</td>\n",
       "      <td>231</td>\n",
       "      <td>Ethiopia</td>\n",
       "      <td>20926</td>\n",
       "      <td>Gondar</td>\n",
       "      <td>City Proper</td>\n",
       "      <td>12.600000</td>\n",
       "      <td>37.466670</td>\n",
       "      <td>2035</td>\n",
       "      <td>675.651</td>\n",
       "    </tr>\n",
       "    <tr>\n",
       "      <th>18857</th>\n",
       "      <td>18857</td>\n",
       "      <td>Africa</td>\n",
       "      <td>231</td>\n",
       "      <td>Ethiopia</td>\n",
       "      <td>20929</td>\n",
       "      <td>Mekele</td>\n",
       "      <td>City Proper</td>\n",
       "      <td>13.496670</td>\n",
       "      <td>39.475280</td>\n",
       "      <td>2035</td>\n",
       "      <td>952.550</td>\n",
       "    </tr>\n",
       "    <tr>\n",
       "      <th>18858</th>\n",
       "      <td>18858</td>\n",
       "      <td>Africa</td>\n",
       "      <td>231</td>\n",
       "      <td>Ethiopia</td>\n",
       "      <td>20930</td>\n",
       "      <td>Nazret</td>\n",
       "      <td>City Proper</td>\n",
       "      <td>8.540869</td>\n",
       "      <td>39.271569</td>\n",
       "      <td>2035</td>\n",
       "      <td>701.185</td>\n",
       "    </tr>\n",
       "  </tbody>\n",
       "</table>\n",
       "<p>430 rows × 11 columns</p>\n",
       "</div>"
      ],
      "text/plain": [
       "       Unnamed: 0  Region  Country_Code Country_or_area  City_Code  \\\n",
       "69             69  Africa           231        Ethiopia      20921   \n",
       "70             70  Africa           231        Ethiopia      20925   \n",
       "71             71  Africa           231        Ethiopia      20926   \n",
       "72             72  Africa           231        Ethiopia      20929   \n",
       "73             73  Africa           231        Ethiopia      20930   \n",
       "...           ...     ...           ...             ...        ...   \n",
       "18854       18854  Africa           231        Ethiopia      20921   \n",
       "18855       18855  Africa           231        Ethiopia      20925   \n",
       "18856       18856  Africa           231        Ethiopia      20926   \n",
       "18857       18857  Africa           231        Ethiopia      20929   \n",
       "18858       18858  Africa           231        Ethiopia      20930   \n",
       "\n",
       "              City City_Definition   Latitude  Longitude  year  population  \n",
       "69     Addis Ababa     City Proper   9.024970  38.746890  1950     392.000  \n",
       "70       Dire Dawa     City Proper   9.593060  41.866110  1950      18.176  \n",
       "71          Gondar     City Proper  12.600000  37.466670  1950      27.900  \n",
       "72          Mekele     City Proper  13.496670  39.475280  1950      14.107  \n",
       "73          Nazret     City Proper   8.540869  39.271569  1950      14.257  \n",
       "...            ...             ...        ...        ...   ...         ...  \n",
       "18854  Addis Ababa     City Proper   9.024970  38.746890  2035    8938.683  \n",
       "18855    Dire Dawa     City Proper   9.593060  41.866110  2035     760.963  \n",
       "18856       Gondar     City Proper  12.600000  37.466670  2035     675.651  \n",
       "18857       Mekele     City Proper  13.496670  39.475280  2035     952.550  \n",
       "18858       Nazret     City Proper   8.540869  39.271569  2035     701.185  \n",
       "\n",
       "[430 rows x 11 columns]"
      ]
     },
     "execution_count": 122,
     "metadata": {},
     "output_type": "execute_result"
    }
   ],
   "source": [
    "df"
   ]
  },
  {
   "cell_type": "code",
   "execution_count": 123,
   "id": "64dbb810",
   "metadata": {},
   "outputs": [],
   "source": [
    "df = df.reset_index()"
   ]
  },
  {
   "cell_type": "code",
   "execution_count": 124,
   "id": "9947187a",
   "metadata": {},
   "outputs": [],
   "source": [
    "df = df.drop(columns=['index','Unnamed: 0','Region','Country_Code','City_Code','Country_or_area','City_Definition'])"
   ]
  },
  {
   "cell_type": "code",
   "execution_count": 125,
   "id": "f1bfa7fd",
   "metadata": {},
   "outputs": [
    {
     "data": {
      "text/plain": [
       "[<matplotlib.lines.Line2D at 0x2764cc7d100>]"
      ]
     },
     "execution_count": 125,
     "metadata": {},
     "output_type": "execute_result"
    },
    {
     "data": {
      "image/png": "[encoded data removed]",
      "text/plain": [
       "<Figure size 640x480 with 1 Axes>"
      ]
     },
     "metadata": {},
     "output_type": "display_data"
    }
   ],
   "source": [
    "from matplotlib import pyplot as plt\n",
    "plt.plot(df['year'],df['population'])"
   ]
  },
  {
   "cell_type": "code",
   "execution_count": 126,
   "id": "25d2607a",
   "metadata": {},
   "outputs": [],
   "source": [
    "train = df[(df['year'] >= 1950) & (df['year'] < 2018)]\n",
    "test = df[(df['year'] >= 2018) & (df['year'] <= 2035)]"
   ]
  },
  {
   "cell_type": "code",
   "execution_count": 127,
   "id": "4cc717d6",
   "metadata": {},
   "outputs": [],
   "source": [
    "x_train = train[['Latitude','Longitude','year','City']]\n",
    "y_train = train[['population']]"
   ]
  },
  {
   "cell_type": "code",
   "execution_count": 128,
   "id": "37af5efe",
   "metadata": {},
   "outputs": [],
   "source": [
    "x_test = test[['Latitude','Longitude','year','City']]\n",
    "y_test = test[['population']]"
   ]
  },
  {
   "cell_type": "code",
   "execution_count": 129,
   "id": "b7dbdf01",
   "metadata": {},
   "outputs": [
    {
     "name": "stdout",
     "output_type": "stream",
     "text": [
      "(340, 4)\n",
      "(340, 1)\n",
      "(90, 4)\n",
      "(90, 1)\n"
     ]
    }
   ],
   "source": [
    "print(x_train.shape)\n",
    "print(y_train.shape)\n",
    "print(x_test.shape)\n",
    "print(y_test.shape)"
   ]
  },
  {
   "cell_type": "code",
   "execution_count": 130,
   "id": "a25a96d5",
   "metadata": {},
   "outputs": [
    {
     "name": "stderr",
     "output_type": "stream",
     "text": [
      "C:\\Users\\ASUS\\anaconda3\\lib\\site-packages\\sklearn\\preprocessing\\_label.py:116: DataConversionWarning: A column-vector y was passed when a 1d array was expected. Please change the shape of y to (n_samples, ), for example using ravel().\n",
      "  y = column_or_1d(y, warn=True)\n",
      "C:\\Users\\ASUS\\AppData\\Local\\Temp\\ipykernel_16540\\1267850018.py:3: SettingWithCopyWarning: \n",
      "A value is trying to be set on a copy of a slice from a DataFrame.\n",
      "Try using .loc[row_indexer,col_indexer] = value instead\n",
      "\n",
      "See the caveats in the documentation: https://pandas.pydata.org/pandas-docs/stable/user_guide/indexing.html#returning-a-view-versus-a-copy\n",
      "  x_train['City'] = encoding.fit_transform(x_train[['City']])\n",
      "C:\\Users\\ASUS\\anaconda3\\lib\\site-packages\\sklearn\\preprocessing\\_label.py:116: DataConversionWarning: A column-vector y was passed when a 1d array was expected. Please change the shape of y to (n_samples, ), for example using ravel().\n",
      "  y = column_or_1d(y, warn=True)\n",
      "C:\\Users\\ASUS\\AppData\\Local\\Temp\\ipykernel_16540\\1267850018.py:4: SettingWithCopyWarning: \n",
      "A value is trying to be set on a copy of a slice from a DataFrame.\n",
      "Try using .loc[row_indexer,col_indexer] = value instead\n",
      "\n",
      "See the caveats in the documentation: https://pandas.pydata.org/pandas-docs/stable/user_guide/indexing.html#returning-a-view-versus-a-copy\n",
      "  x_test['City'] = encoding.fit_transform(x_test[['City']])\n"
     ]
    }
   ],
   "source": [
    "from sklearn.preprocessing import LabelEncoder\n",
    "encoding  = LabelEncoder()\n",
    "x_train['City'] = encoding.fit_transform(x_train[['City']])\n",
    "x_test['City'] = encoding.fit_transform(x_test[['City']])"
   ]
  },
  {
   "cell_type": "code",
   "execution_count": 131,
   "id": "c1d71b01",
   "metadata": {},
   "outputs": [],
   "source": [
    "from sklearn.linear_model import LinearRegression,Ridge\n",
    "reg = LinearRegression()"
   ]
  },
  {
   "cell_type": "code",
   "execution_count": 132,
   "id": "85eb0cb7",
   "metadata": {},
   "outputs": [
    {
     "data": {
      "text/html": [
       "<style>#sk-container-id-6 {color: black;background-color: white;}#sk-container-id-6 pre{padding: 0;}#sk-container-id-6 div.sk-toggleable {background-color: white;}#sk-container-id-6 label.sk-toggleable__label {cursor: pointer;display: block;width: 100%;margin-bottom: 0;padding: 0.3em;box-sizing: border-box;text-align: center;}#sk-container-id-6 label.sk-toggleable__label-arrow:before {content: \"▸\";float: left;margin-right: 0.25em;color: #696969;}#sk-container-id-6 label.sk-toggleable__label-arrow:hover:before {color: black;}#sk-container-id-6 div.sk-estimator:hover label.sk-toggleable__label-arrow:before {color: black;}#sk-container-id-6 div.sk-toggleable__content {max-height: 0;max-width: 0;overflow: hidden;text-align: left;background-color: #f0f8ff;}#sk-container-id-6 div.sk-toggleable__content pre {margin: 0.2em;color: black;border-radius: 0.25em;background-color: #f0f8ff;}#sk-container-id-6 input.sk-toggleable__control:checked~div.sk-toggleable__content {max-height: 200px;max-width: 100%;overflow: auto;}#sk-container-id-6 input.sk-toggleable__control:checked~label.sk-toggleable__label-arrow:before {content: \"▾\";}#sk-container-id-6 div.sk-estimator input.sk-toggleable__control:checked~label.sk-toggleable__label {background-color: #d4ebff;}#sk-container-id-6 div.sk-label input.sk-toggleable__control:checked~label.sk-toggleable__label {background-color: #d4ebff;}#sk-container-id-6 input.sk-hidden--visually {border: 0;clip: rect(1px 1px 1px 1px);clip: rect(1px, 1px, 1px, 1px);height: 1px;margin: -1px;overflow: hidden;padding: 0;position: absolute;width: 1px;}#sk-container-id-6 div.sk-estimator {font-family: monospace;background-color: #f0f8ff;border: 1px dotted black;border-radius: 0.25em;box-sizing: border-box;margin-bottom: 0.5em;}#sk-container-id-6 div.sk-estimator:hover {background-color: #d4ebff;}#sk-container-id-6 div.sk-parallel-item::after {content: \"\";width: 100%;border-bottom: 1px solid gray;flex-grow: 1;}#sk-container-id-6 div.sk-label:hover label.sk-toggleable__label {background-color: #d4ebff;}#sk-container-id-6 div.sk-serial::before {content: \"\";position: absolute;border-left: 1px solid gray;box-sizing: border-box;top: 0;bottom: 0;left: 50%;z-index: 0;}#sk-container-id-6 div.sk-serial {display: flex;flex-direction: column;align-items: center;background-color: white;padding-right: 0.2em;padding-left: 0.2em;position: relative;}#sk-container-id-6 div.sk-item {position: relative;z-index: 1;}#sk-container-id-6 div.sk-parallel {display: flex;align-items: stretch;justify-content: center;background-color: white;position: relative;}#sk-container-id-6 div.sk-item::before, #sk-container-id-6 div.sk-parallel-item::before {content: \"\";position: absolute;border-left: 1px solid gray;box-sizing: border-box;top: 0;bottom: 0;left: 50%;z-index: -1;}#sk-container-id-6 div.sk-parallel-item {display: flex;flex-direction: column;z-index: 1;position: relative;background-color: white;}#sk-container-id-6 div.sk-parallel-item:first-child::after {align-self: flex-end;width: 50%;}#sk-container-id-6 div.sk-parallel-item:last-child::after {align-self: flex-start;width: 50%;}#sk-container-id-6 div.sk-parallel-item:only-child::after {width: 0;}#sk-container-id-6 div.sk-dashed-wrapped {border: 1px dashed gray;margin: 0 0.4em 0.5em 0.4em;box-sizing: border-box;padding-bottom: 0.4em;background-color: white;}#sk-container-id-6 div.sk-label label {font-family: monospace;font-weight: bold;display: inline-block;line-height: 1.2em;}#sk-container-id-6 div.sk-label-container {text-align: center;}#sk-container-id-6 div.sk-container {/* jupyter's `normalize.less` sets `[hidden] { display: none; }` but bootstrap.min.css set `[hidden] { display: none !important; }` so we also need the `!important` here to be able to override the default hidden behavior on the sphinx rendered scikit-learn.org. See: https://github.com/scikit-learn/scikit-learn/issues/21755 */display: inline-block !important;position: relative;}#sk-container-id-6 div.sk-text-repr-fallback {display: none;}</style><div id=\"sk-container-id-6\" class=\"sk-top-container\"><div class=\"sk-text-repr-fallback\"><pre>LinearRegression()</pre><b>In a Jupyter environment, please rerun this cell to show the HTML representation or trust the notebook. <br />On GitHub, the HTML representation is unable to render, please try loading this page with nbviewer.org.</b></div><div class=\"sk-container\" hidden><div class=\"sk-item\"><div class=\"sk-estimator sk-toggleable\"><input class=\"sk-toggleable__control sk-hidden--visually\" id=\"sk-estimator-id-6\" type=\"checkbox\" checked><label for=\"sk-estimator-id-6\" class=\"sk-toggleable__label sk-toggleable__label-arrow\">LinearRegression</label><div class=\"sk-toggleable__content\"><pre>LinearRegression()</pre></div></div></div></div></div>"
      ],
      "text/plain": [
       "LinearRegression()"
      ]
     },
     "execution_count": 132,
     "metadata": {},
     "output_type": "execute_result"
    }
   ],
   "source": [
    "reg.fit(x_train,y_train)"
   ]
  },
  {
   "cell_type": "code",
   "execution_count": 133,
   "id": "4d77e7f5",
   "metadata": {},
   "outputs": [],
   "source": [
    "predict_test = reg.predict(x_test)\n",
    "predict_train = reg.predict(x_train)"
   ]
  },
  {
   "cell_type": "code",
   "execution_count": 134,
   "id": "f9e9e319",
   "metadata": {},
   "outputs": [],
   "source": [
    "from sklearn.metrics import mean_squared_error,r2_score"
   ]
  },
  {
   "cell_type": "code",
   "execution_count": 135,
   "id": "ad52e0f6",
   "metadata": {},
   "outputs": [
    {
     "data": {
      "text/plain": [
       "4640566.937254586"
      ]
     },
     "execution_count": 135,
     "metadata": {},
     "output_type": "execute_result"
    }
   ],
   "source": [
    "mean_squared_error(y_test,predict_test)"
   ]
  },
  {
   "cell_type": "code",
   "execution_count": 136,
   "id": "68ea0490",
   "metadata": {},
   "outputs": [
    {
     "data": {
      "text/plain": [
       "249834.7766087024"
      ]
     },
     "execution_count": 136,
     "metadata": {},
     "output_type": "execute_result"
    }
   ],
   "source": [
    "mean_squared_error(y_train,predict_train)"
   ]
  },
  {
   "cell_type": "code",
   "execution_count": 137,
   "id": "922dd814",
   "metadata": {},
   "outputs": [
    {
     "data": {
      "text/plain": [
       "0.22594067604049006"
      ]
     },
     "execution_count": 137,
     "metadata": {},
     "output_type": "execute_result"
    }
   ],
   "source": [
    "r2_score(y_test,predict_test)"
   ]
  },
  {
   "cell_type": "code",
   "execution_count": 138,
   "id": "d54fc64b",
   "metadata": {},
   "outputs": [
    {
     "data": {
      "text/plain": [
       "0.5829150841964644"
      ]
     },
     "execution_count": 138,
     "metadata": {},
     "output_type": "execute_result"
    }
   ],
   "source": [
    "r2_score(y_train,predict_train)"
   ]
  },
  {
   "cell_type": "code",
   "execution_count": 139,
   "id": "fbe2acf5",
   "metadata": {},
   "outputs": [],
   "source": [
    "from sklearn.ensemble import GradientBoostingRegressor"
   ]
  },
  {
   "cell_type": "code",
   "execution_count": 140,
   "id": "9649670b",
   "metadata": {},
   "outputs": [],
   "source": [
    "gbr = GradientBoostingRegressor(learning_rate= 0.05, loss= 'huber', max_depth= 4, n_estimators= 300, subsample= 0.8)"
   ]
  },
  {
   "cell_type": "code",
   "execution_count": 141,
   "id": "6d32e520",
   "metadata": {},
   "outputs": [
    {
     "name": "stderr",
     "output_type": "stream",
     "text": [
      "C:\\Users\\ASUS\\anaconda3\\lib\\site-packages\\sklearn\\ensemble\\_gb.py:437: DataConversionWarning: A column-vector y was passed when a 1d array was expected. Please change the shape of y to (n_samples, ), for example using ravel().\n",
      "  y = column_or_1d(y, warn=True)\n"
     ]
    },
    {
     "data": {
      "text/html": [
       "<style>#sk-container-id-7 {color: black;background-color: white;}#sk-container-id-7 pre{padding: 0;}#sk-container-id-7 div.sk-toggleable {background-color: white;}#sk-container-id-7 label.sk-toggleable__label {cursor: pointer;display: block;width: 100%;margin-bottom: 0;padding: 0.3em;box-sizing: border-box;text-align: center;}#sk-container-id-7 label.sk-toggleable__label-arrow:before {content: \"▸\";float: left;margin-right: 0.25em;color: #696969;}#sk-container-id-7 label.sk-toggleable__label-arrow:hover:before {color: black;}#sk-container-id-7 div.sk-estimator:hover label.sk-toggleable__label-arrow:before {color: black;}#sk-container-id-7 div.sk-toggleable__content {max-height: 0;max-width: 0;overflow: hidden;text-align: left;background-color: #f0f8ff;}#sk-container-id-7 div.sk-toggleable__content pre {margin: 0.2em;color: black;border-radius: 0.25em;background-color: #f0f8ff;}#sk-container-id-7 input.sk-toggleable__control:checked~div.sk-toggleable__content {max-height: 200px;max-width: 100%;overflow: auto;}#sk-container-id-7 input.sk-toggleable__control:checked~label.sk-toggleable__label-arrow:before {content: \"▾\";}#sk-container-id-7 div.sk-estimator input.sk-toggleable__control:checked~label.sk-toggleable__label {background-color: #d4ebff;}#sk-container-id-7 div.sk-label input.sk-toggleable__control:checked~label.sk-toggleable__label {background-color: #d4ebff;}#sk-container-id-7 input.sk-hidden--visually {border: 0;clip: rect(1px 1px 1px 1px);clip: rect(1px, 1px, 1px, 1px);height: 1px;margin: -1px;overflow: hidden;padding: 0;position: absolute;width: 1px;}#sk-container-id-7 div.sk-estimator {font-family: monospace;background-color: #f0f8ff;border: 1px dotted black;border-radius: 0.25em;box-sizing: border-box;margin-bottom: 0.5em;}#sk-container-id-7 div.sk-estimator:hover {background-color: #d4ebff;}#sk-container-id-7 div.sk-parallel-item::after {content: \"\";width: 100%;border-bottom: 1px solid gray;flex-grow: 1;}#sk-container-id-7 div.sk-label:hover label.sk-toggleable__label {background-color: #d4ebff;}#sk-container-id-7 div.sk-serial::before {content: \"\";position: absolute;border-left: 1px solid gray;box-sizing: border-box;top: 0;bottom: 0;left: 50%;z-index: 0;}#sk-container-id-7 div.sk-serial {display: flex;flex-direction: column;align-items: center;background-color: white;padding-right: 0.2em;padding-left: 0.2em;position: relative;}#sk-container-id-7 div.sk-item {position: relative;z-index: 1;}#sk-container-id-7 div.sk-parallel {display: flex;align-items: stretch;justify-content: center;background-color: white;position: relative;}#sk-container-id-7 div.sk-item::before, #sk-container-id-7 div.sk-parallel-item::before {content: \"\";position: absolute;border-left: 1px solid gray;box-sizing: border-box;top: 0;bottom: 0;left: 50%;z-index: -1;}#sk-container-id-7 div.sk-parallel-item {display: flex;flex-direction: column;z-index: 1;position: relative;background-color: white;}#sk-container-id-7 div.sk-parallel-item:first-child::after {align-self: flex-end;width: 50%;}#sk-container-id-7 div.sk-parallel-item:last-child::after {align-self: flex-start;width: 50%;}#sk-container-id-7 div.sk-parallel-item:only-child::after {width: 0;}#sk-container-id-7 div.sk-dashed-wrapped {border: 1px dashed gray;margin: 0 0.4em 0.5em 0.4em;box-sizing: border-box;padding-bottom: 0.4em;background-color: white;}#sk-container-id-7 div.sk-label label {font-family: monospace;font-weight: bold;display: inline-block;line-height: 1.2em;}#sk-container-id-7 div.sk-label-container {text-align: center;}#sk-container-id-7 div.sk-container {/* jupyter's `normalize.less` sets `[hidden] { display: none; }` but bootstrap.min.css set `[hidden] { display: none !important; }` so we also need the `!important` here to be able to override the default hidden behavior on the sphinx rendered scikit-learn.org. See: https://github.com/scikit-learn/scikit-learn/issues/21755 */display: inline-block !important;position: relative;}#sk-container-id-7 div.sk-text-repr-fallback {display: none;}</style><div id=\"sk-container-id-7\" class=\"sk-top-container\"><div class=\"sk-text-repr-fallback\"><pre>GradientBoostingRegressor(learning_rate=0.05, loss=&#x27;huber&#x27;, max_depth=4,\n",
       "                          n_estimators=300, subsample=0.8)</pre><b>In a Jupyter environment, please rerun this cell to show the HTML representation or trust the notebook. <br />On GitHub, the HTML representation is unable to render, please try loading this page with nbviewer.org.</b></div><div class=\"sk-container\" hidden><div class=\"sk-item\"><div class=\"sk-estimator sk-toggleable\"><input class=\"sk-toggleable__control sk-hidden--visually\" id=\"sk-estimator-id-7\" type=\"checkbox\" checked><label for=\"sk-estimator-id-7\" class=\"sk-toggleable__label sk-toggleable__label-arrow\">GradientBoostingRegressor</label><div class=\"sk-toggleable__content\"><pre>GradientBoostingRegressor(learning_rate=0.05, loss=&#x27;huber&#x27;, max_depth=4,\n",
       "                          n_estimators=300, subsample=0.8)</pre></div></div></div></div></div>"
      ],
      "text/plain": [
       "GradientBoostingRegressor(learning_rate=0.05, loss='huber', max_depth=4,\n",
       "                          n_estimators=300, subsample=0.8)"
      ]
     },
     "execution_count": 141,
     "metadata": {},
     "output_type": "execute_result"
    }
   ],
   "source": [
    "gbr.fit(x_train,y_train)"
   ]
  },
  {
   "cell_type": "code",
   "execution_count": 142,
   "id": "ea23d266",
   "metadata": {},
   "outputs": [],
   "source": [
    "prediction_train = gbr.predict(x_train)"
   ]
  },
  {
   "cell_type": "code",
   "execution_count": 143,
   "id": "aedba4b0",
   "metadata": {},
   "outputs": [],
   "source": [
    "prediction_test=  gbr.predict(x_test)"
   ]
  },
  {
   "cell_type": "code",
   "execution_count": 144,
   "id": "0ad3a1ec",
   "metadata": {},
   "outputs": [],
   "source": [
    "from sklearn.metrics import mean_squared_error,r2_score"
   ]
  },
  {
   "cell_type": "code",
   "execution_count": 145,
   "id": "fdbaf41b",
   "metadata": {},
   "outputs": [
    {
     "data": {
      "text/plain": [
       "17.794486991559253"
      ]
     },
     "execution_count": 145,
     "metadata": {},
     "output_type": "execute_result"
    }
   ],
   "source": [
    "mean_squared_error(y_train,prediction_train)"
   ]
  },
  {
   "cell_type": "code",
   "execution_count": 146,
   "id": "3bb27396",
   "metadata": {},
   "outputs": [
    {
     "data": {
      "text/plain": [
       "1461438.4234179026"
      ]
     },
     "execution_count": 146,
     "metadata": {},
     "output_type": "execute_result"
    }
   ],
   "source": [
    "mean_squared_error(y_test,prediction_test)"
   ]
  },
  {
   "cell_type": "code",
   "execution_count": 147,
   "id": "3edc70a6",
   "metadata": {},
   "outputs": [
    {
     "data": {
      "text/plain": [
       "0.9999702931184786"
      ]
     },
     "execution_count": 147,
     "metadata": {},
     "output_type": "execute_result"
    }
   ],
   "source": [
    "r2_score(y_train,prediction_train)"
   ]
  },
  {
   "cell_type": "code",
   "execution_count": 148,
   "id": "fe4c2f56",
   "metadata": {},
   "outputs": [
    {
     "data": {
      "text/plain": [
       "0.7562280528791233"
      ]
     },
     "execution_count": 148,
     "metadata": {},
     "output_type": "execute_result"
    }
   ],
   "source": [
    "r2_score(y_test,prediction_test)"
   ]
  },
  {
   "cell_type": "code",
   "execution_count": 149,
   "id": "24a8386d",
   "metadata": {},
   "outputs": [],
   "source": [
    "from sklearn.preprocessing import PolynomialFeatures\n"
   ]
  },
  {
   "cell_type": "code",
   "execution_count": 150,
   "id": "987223fa",
   "metadata": {},
   "outputs": [],
   "source": [
    "poly_features = PolynomialFeatures(degree=9)\n",
    "X_train_poly = poly_features.fit_transform(x_train)\n",
    "X_test_poly = poly_features.transform(x_test)\n",
    "reg.fit(X_train_poly, y_train)\n",
    "\n",
    "train_pred = reg.predict(X_train_poly)\n",
    "test_pred = reg.predict(X_test_poly)"
   ]
  },
  {
   "cell_type": "code",
   "execution_count": 151,
   "id": "fe30448c",
   "metadata": {},
   "outputs": [
    {
     "data": {
      "text/plain": [
       "1303.5638214905487"
      ]
     },
     "execution_count": 151,
     "metadata": {},
     "output_type": "execute_result"
    }
   ],
   "source": [
    "mean_squared_error(y_train,train_pred)"
   ]
  },
  {
   "cell_type": "code",
   "execution_count": 152,
   "id": "6dd0ad00",
   "metadata": {},
   "outputs": [
    {
     "data": {
      "text/plain": [
       "372911.6800263316"
      ]
     },
     "execution_count": 152,
     "metadata": {},
     "output_type": "execute_result"
    }
   ],
   "source": [
    "mean_squared_error(y_test,test_pred)"
   ]
  },
  {
   "cell_type": "code",
   "execution_count": 153,
   "id": "0509344d",
   "metadata": {},
   "outputs": [
    {
     "data": {
      "text/plain": [
       "0.99782377451966"
      ]
     },
     "execution_count": 153,
     "metadata": {},
     "output_type": "execute_result"
    }
   ],
   "source": [
    "r2_score(y_train,train_pred)"
   ]
  },
  {
   "cell_type": "code",
   "execution_count": 154,
   "id": "4e843adb",
   "metadata": {},
   "outputs": [
    {
     "data": {
      "text/plain": [
       "0.93779730648416"
      ]
     },
     "execution_count": 154,
     "metadata": {},
     "output_type": "execute_result"
    }
   ],
   "source": [
    "r2_score(y_test,test_pred)"
   ]
  },
  {
   "cell_type": "code",
   "execution_count": 155,
   "id": "3c085fe0",
   "metadata": {},
   "outputs": [],
   "source": [
    "y_test = y_test.values"
   ]
  },
  {
   "cell_type": "code",
   "execution_count": 156,
   "id": "8bee3af8",
   "metadata": {},
   "outputs": [
    {
     "data": {
      "text/html": [
       "<div>\n",
       "<style scoped>\n",
       "    .dataframe tbody tr th:only-of-type {\n",
       "        vertical-align: middle;\n",
       "    }\n",
       "\n",
       "    .dataframe tbody tr th {\n",
       "        vertical-align: top;\n",
       "    }\n",
       "\n",
       "    .dataframe thead th {\n",
       "        text-align: right;\n",
       "    }\n",
       "</style>\n",
       "<table border=\"1\" class=\"dataframe\">\n",
       "  <thead>\n",
       "    <tr style=\"text-align: right;\">\n",
       "      <th></th>\n",
       "      <th>Actual</th>\n",
       "      <th>predicted</th>\n",
       "    </tr>\n",
       "  </thead>\n",
       "  <tbody>\n",
       "    <tr>\n",
       "      <th>0</th>\n",
       "      <td>[4399.674]</td>\n",
       "      <td>[4129.783494591713]</td>\n",
       "    </tr>\n",
       "    <tr>\n",
       "      <th>1</th>\n",
       "      <td>[374.553]</td>\n",
       "      <td>[410.62719786167145]</td>\n",
       "    </tr>\n",
       "    <tr>\n",
       "      <th>2</th>\n",
       "      <td>[332.517]</td>\n",
       "      <td>[384.0427986383438]</td>\n",
       "    </tr>\n",
       "    <tr>\n",
       "      <th>3</th>\n",
       "      <td>[488.109]</td>\n",
       "      <td>[541.2601248025894]</td>\n",
       "    </tr>\n",
       "    <tr>\n",
       "      <th>4</th>\n",
       "      <td>[347.737]</td>\n",
       "      <td>[393.470747590065]</td>\n",
       "    </tr>\n",
       "    <tr>\n",
       "      <th>...</th>\n",
       "      <td>...</td>\n",
       "      <td>...</td>\n",
       "    </tr>\n",
       "    <tr>\n",
       "      <th>85</th>\n",
       "      <td>[8938.683]</td>\n",
       "      <td>[7009.032231926918]</td>\n",
       "    </tr>\n",
       "    <tr>\n",
       "      <th>86</th>\n",
       "      <td>[760.963]</td>\n",
       "      <td>[1328.242273926735]</td>\n",
       "    </tr>\n",
       "    <tr>\n",
       "      <th>87</th>\n",
       "      <td>[675.651]</td>\n",
       "      <td>[1338.452491402626]</td>\n",
       "    </tr>\n",
       "    <tr>\n",
       "      <th>88</th>\n",
       "      <td>[952.55]</td>\n",
       "      <td>[1897.0059267282486]</td>\n",
       "    </tr>\n",
       "    <tr>\n",
       "      <th>89</th>\n",
       "      <td>[701.185]</td>\n",
       "      <td>[1308.6246973276138]</td>\n",
       "    </tr>\n",
       "  </tbody>\n",
       "</table>\n",
       "<p>90 rows × 2 columns</p>\n",
       "</div>"
      ],
      "text/plain": [
       "        Actual             predicted\n",
       "0   [4399.674]   [4129.783494591713]\n",
       "1    [374.553]  [410.62719786167145]\n",
       "2    [332.517]   [384.0427986383438]\n",
       "3    [488.109]   [541.2601248025894]\n",
       "4    [347.737]    [393.470747590065]\n",
       "..         ...                   ...\n",
       "85  [8938.683]   [7009.032231926918]\n",
       "86   [760.963]   [1328.242273926735]\n",
       "87   [675.651]   [1338.452491402626]\n",
       "88    [952.55]  [1897.0059267282486]\n",
       "89   [701.185]  [1308.6246973276138]\n",
       "\n",
       "[90 rows x 2 columns]"
      ]
     },
     "execution_count": 156,
     "metadata": {},
     "output_type": "execute_result"
    }
   ],
   "source": [
    "pd.DataFrame(zip(y_test, test_pred),columns=['Actual', 'predicted'])"
   ]
  },
  {
   "cell_type": "code",
   "execution_count": 157,
   "id": "908aa744",
   "metadata": {},
   "outputs": [],
   "source": [
    "final = pd.DataFrame(zip(y_test, test_pred),columns=['Actual', 'predicted'])"
   ]
  },
  {
   "cell_type": "code",
   "execution_count": 158,
   "id": "358867d9",
   "metadata": {},
   "outputs": [
    {
     "name": "stderr",
     "output_type": "stream",
     "text": [
      "C:\\Users\\ASUS\\AppData\\Local\\Temp\\ipykernel_16540\\467468074.py:1: FutureWarning: The default value of regex will change from True to False in a future version.\n",
      "  final['Actual'] = final['Actual'].astype(str).str.replace('\\[|\\]', '')\n",
      "C:\\Users\\ASUS\\AppData\\Local\\Temp\\ipykernel_16540\\467468074.py:3: FutureWarning: The default value of regex will change from True to False in a future version.\n",
      "  final['predicted'] = final['predicted'].astype(str).str.replace('\\[|\\]', '')\n"
     ]
    }
   ],
   "source": [
    "final['Actual'] = final['Actual'].astype(str).str.replace('\\[|\\]', '')\n",
    "final['Actual'] = pd.to_numeric(final['Actual'])\n",
    "final['predicted'] = final['predicted'].astype(str).str.replace('\\[|\\]', '')\n",
    "final['predicted'] = pd.to_numeric(final['predicted'])"
   ]
  },
  {
   "cell_type": "code",
   "execution_count": 159,
   "id": "d216e19e",
   "metadata": {},
   "outputs": [
    {
     "data": {
      "text/html": [
       "<div>\n",
       "<style scoped>\n",
       "    .dataframe tbody tr th:only-of-type {\n",
       "        vertical-align: middle;\n",
       "    }\n",
       "\n",
       "    .dataframe tbody tr th {\n",
       "        vertical-align: top;\n",
       "    }\n",
       "\n",
       "    .dataframe thead th {\n",
       "        text-align: right;\n",
       "    }\n",
       "</style>\n",
       "<table border=\"1\" class=\"dataframe\">\n",
       "  <thead>\n",
       "    <tr style=\"text-align: right;\">\n",
       "      <th></th>\n",
       "      <th>Actual</th>\n",
       "      <th>predicted</th>\n",
       "    </tr>\n",
       "  </thead>\n",
       "  <tbody>\n",
       "    <tr>\n",
       "      <th>0</th>\n",
       "      <td>4399.674</td>\n",
       "      <td>4129.783495</td>\n",
       "    </tr>\n",
       "    <tr>\n",
       "      <th>1</th>\n",
       "      <td>374.553</td>\n",
       "      <td>410.627198</td>\n",
       "    </tr>\n",
       "    <tr>\n",
       "      <th>2</th>\n",
       "      <td>332.517</td>\n",
       "      <td>384.042799</td>\n",
       "    </tr>\n",
       "    <tr>\n",
       "      <th>3</th>\n",
       "      <td>488.109</td>\n",
       "      <td>541.260125</td>\n",
       "    </tr>\n",
       "    <tr>\n",
       "      <th>4</th>\n",
       "      <td>347.737</td>\n",
       "      <td>393.470748</td>\n",
       "    </tr>\n",
       "    <tr>\n",
       "      <th>...</th>\n",
       "      <td>...</td>\n",
       "      <td>...</td>\n",
       "    </tr>\n",
       "    <tr>\n",
       "      <th>85</th>\n",
       "      <td>8938.683</td>\n",
       "      <td>7009.032232</td>\n",
       "    </tr>\n",
       "    <tr>\n",
       "      <th>86</th>\n",
       "      <td>760.963</td>\n",
       "      <td>1328.242274</td>\n",
       "    </tr>\n",
       "    <tr>\n",
       "      <th>87</th>\n",
       "      <td>675.651</td>\n",
       "      <td>1338.452491</td>\n",
       "    </tr>\n",
       "    <tr>\n",
       "      <th>88</th>\n",
       "      <td>952.550</td>\n",
       "      <td>1897.005927</td>\n",
       "    </tr>\n",
       "    <tr>\n",
       "      <th>89</th>\n",
       "      <td>701.185</td>\n",
       "      <td>1308.624697</td>\n",
       "    </tr>\n",
       "  </tbody>\n",
       "</table>\n",
       "<p>90 rows × 2 columns</p>\n",
       "</div>"
      ],
      "text/plain": [
       "      Actual    predicted\n",
       "0   4399.674  4129.783495\n",
       "1    374.553   410.627198\n",
       "2    332.517   384.042799\n",
       "3    488.109   541.260125\n",
       "4    347.737   393.470748\n",
       "..       ...          ...\n",
       "85  8938.683  7009.032232\n",
       "86   760.963  1328.242274\n",
       "87   675.651  1338.452491\n",
       "88   952.550  1897.005927\n",
       "89   701.185  1308.624697\n",
       "\n",
       "[90 rows x 2 columns]"
      ]
     },
     "execution_count": 159,
     "metadata": {},
     "output_type": "execute_result"
    }
   ],
   "source": [
    "final"
   ]
  },
  {
   "cell_type": "code",
   "execution_count": null,
   "id": "13817924",
   "metadata": {},
   "outputs": [],
   "source": []
  }
 ],
 "metadata": {
  "kernelspec": {
   "display_name": "Python 3 (ipykernel)",
   "language": "python",
   "name": "python3"
  },
  "language_info": {
   "codemirror_mode": {
    "name": "ipython",
    "version": 3
   },
   "file_extension": ".py",
   "mimetype": "text/x-python",
   "name": "python",
   "nbconvert_exporter": "python",
   "pygments_lexer": "ipython3",
   "version": "3.9.13"
  }
 },
 "nbformat": 4,
 "nbformat_minor": 5
}

{
 "cells": [
  {
   "cell_type": "code",
   "execution_count": 1,
   "id": "e127921b",
   "metadata": {},
   "outputs": [],
   "source": [
    "import pandas as pd\n",
    "import numpy as np\n",
    "import geopandas as gpd\n",
    "import os\n",
    "from shapely.geometry import LineString\n",
    "import gemgis as gg\n",
    "import fiona"
   ]
  },
  {
   "cell_type": "code",
   "execution_count": 14,
   "id": "97345445",
   "metadata": {},
   "outputs": [
    {
     "name": "stderr",
     "output_type": "stream",
     "text": [
      "C:\\Users\\chimi\\anaconda3\\lib\\site-packages\\geopandas\\array.py:1406: UserWarning: CRS not set for some of the concatenation inputs. Setting output's CRS as WGS 84 (the single non-null crs provided).\n",
      "  warnings.warn(\n"
     ]
    }
   ],
   "source": [
    "def read_and_combine_shapefiles(base_folder_path, subfolders):\n",
    "    gdfs = []\n",
    "\n",
    "    for folder in subfolders:\n",
    "        folder_path = os.path.join(base_folder_path, folder)\n",
    "        # List all files in the folder\n",
    "        files = os.listdir(folder_path)\n",
    "\n",
    "        # Filter files that end with \".shp\"\n",
    "        shapefiles = [f for f in files if f.endswith(\".shp\")]\n",
    "\n",
    "        # Read each shapefile into a GeoDataFrame\n",
    "        for shp in shapefiles:\n",
    "            with fiona.Env(SHAPE_RESTORE_SHX='YES'):\n",
    "                gdf = gpd.read_file(os.path.join(folder_path, shp))\n",
    "                gdf['country'] = folder.replace(\"_roads\", \"\").capitalize()\n",
    "                gdfs.append(gdf)\n",
    "\n",
    "    # Check if the list of GeoDataFrames is empty\n",
    "    if not gdfs:\n",
    "        print(\"No shapefiles found in the specified folders.\")\n",
    "        return gpd.GeoDataFrame()\n",
    "\n",
    "    # Combine all GeoDataFrames into a single GeoDataFrame\n",
    "    all_data = gpd.GeoDataFrame(pd.concat(gdfs, ignore_index=True))\n",
    "\n",
    "    return all_data\n",
    "\n",
    "# Example usage:\n",
    "base_folder_path = \"C:\\\\Users\\\\chimi\\\\Desktop\\\\Python Data Science Projects\\\\Urban Modeling Project\\\\Predictive maintenance Model Data\\\\Roads\\\\World Bank Data African Countries Road\"\n",
    "subfolders = ['angola_roads','burundi_roads','cameroon_roads', 'ethiopia_roads', 'kenya_roads','southafrica_roads']\n",
    "combined_data = read_and_combine_shapefiles(base_folder_path, subfolders)\n"
   ]
  },
  {
   "cell_type": "code",
   "execution_count": 15,
   "id": "e8bedde7",
   "metadata": {},
   "outputs": [
    {
     "data": {
      "text/plain": [
       "0        LINESTRING (12.96595 -7.04167, 13.02208 -6.992...\n",
       "1        LINESTRING (13.59031 -8.58441, 13.57291 -8.565...\n",
       "2        LINESTRING (13.73075 -7.83081, 13.69675 -7.849...\n",
       "3        LINESTRING (12.97151 -7.63643, 12.95191 -7.624...\n",
       "4        LINESTRING (13.70265 -9.28427, 13.69914 -9.270...\n",
       "                               ...                        \n",
       "33902    LINESTRING (31.61474 -29.07737, 31.61465 -29.0...\n",
       "33903    LINESTRING (31.59043 -29.03055, 31.59042 -29.0...\n",
       "33904    LINESTRING (30.57513 -30.56288, 30.57521 -30.5...\n",
       "33905    LINESTRING (30.57440 -30.56321, 30.57445 -30.5...\n",
       "33906    LINESTRING (30.43110 -30.75248, 30.43117 -30.7...\n",
       "Name: geometry, Length: 33907, dtype: geometry"
      ]
     },
     "execution_count": 15,
     "metadata": {},
     "output_type": "execute_result"
    }
   ],
   "source": [
    "combined_data['geometry']"
   ]
  },
  {
   "cell_type": "code",
   "execution_count": 16,
   "id": "87e7c131",
   "metadata": {},
   "outputs": [
    {
     "data": {
      "text/plain": [
       "Index(['ET_ID', 'LINKNO', 'ROADNO', 'STARTKM', 'ENDKM', 'LENGTHKM',\n",
       "       'STARTDESC', 'ENDDESC', 'CLASS', 'REGION', 'WIDTH', 'LANES', 'SURFTYPE',\n",
       "       'CONDITION', 'AADT', 'PAVEMTYPE', 'COMMENT', 'geometry', 'country',\n",
       "       'FID', 'OBJECTID', 'UNIFORM_ID', 'ADM2_NAME', 'ADM2_ID', 'ROAD_ID',\n",
       "       'ROAD_NAME', 'START_NODE', 'END_NODE', 'LINK_NAME', 'RD_TYPE',\n",
       "       'LOCAL_CLS', 'LENGTH', 'ROAD_WIDTH', 'AADT_CODE', 'AADT_VALUE',\n",
       "       'SURF_TYPE_', 'SURF_TYPE1', 'ROAD_COND_', 'ROAD_COND1', 'LANE_NB',\n",
       "       'AICD_REG', 'Shape_len', 'Shape__Len', 'ADM3_NAME', 'ADM3_ID',\n",
       "       'AADT_SOURC', 'SURF_TYP_1', 'ROAD_CON_1', 'Shape_Leng', 'TAH',\n",
       "       'CLASSLOC', 'START_KM', 'END_KM', 'STRATDESC', 'ROADCLASS', 'TYPE',\n",
       "       'iso3', 'WB_Project', 'Kamp_Momba', 'Nairo_Addi', 'PAVETYPE'],\n",
       "      dtype='object')"
      ]
     },
     "execution_count": 16,
     "metadata": {},
     "output_type": "execute_result"
    }
   ],
   "source": [
    "combined_data.columns"
   ]
  },
  {
   "cell_type": "code",
   "execution_count": 17,
   "id": "3aeb58f4",
   "metadata": {},
   "outputs": [
    {
     "data": {
      "text/html": [
       "<div>\n",
       "<style scoped>\n",
       "    .dataframe tbody tr th:only-of-type {\n",
       "        vertical-align: middle;\n",
       "    }\n",
       "\n",
       "    .dataframe tbody tr th {\n",
       "        vertical-align: top;\n",
       "    }\n",
       "\n",
       "    .dataframe thead th {\n",
       "        text-align: right;\n",
       "    }\n",
       "</style>\n",
       "<table border=\"1\" class=\"dataframe\">\n",
       "  <thead>\n",
       "    <tr style=\"text-align: right;\">\n",
       "      <th></th>\n",
       "      <th>ET_ID</th>\n",
       "      <th>LINKNO</th>\n",
       "      <th>ROADNO</th>\n",
       "      <th>STARTKM</th>\n",
       "      <th>ENDKM</th>\n",
       "      <th>LENGTHKM</th>\n",
       "      <th>STARTDESC</th>\n",
       "      <th>ENDDESC</th>\n",
       "      <th>CLASS</th>\n",
       "      <th>REGION</th>\n",
       "      <th>...</th>\n",
       "      <th>START_KM</th>\n",
       "      <th>END_KM</th>\n",
       "      <th>STRATDESC</th>\n",
       "      <th>ROADCLASS</th>\n",
       "      <th>TYPE</th>\n",
       "      <th>iso3</th>\n",
       "      <th>WB_Project</th>\n",
       "      <th>Kamp_Momba</th>\n",
       "      <th>Nairo_Addi</th>\n",
       "      <th>PAVETYPE</th>\n",
       "    </tr>\n",
       "  </thead>\n",
       "  <tbody>\n",
       "    <tr>\n",
       "      <th>0</th>\n",
       "      <td>NaN</td>\n",
       "      <td>210-02</td>\n",
       "      <td>EN210</td>\n",
       "      <td>0.00</td>\n",
       "      <td>44.24</td>\n",
       "      <td>44.24</td>\n",
       "      <td>CASA DA TELHA</td>\n",
       "      <td>TOMBOCO</td>\n",
       "      <td>Primary</td>\n",
       "      <td>ZAIRE</td>\n",
       "      <td>...</td>\n",
       "      <td>NaN</td>\n",
       "      <td>NaN</td>\n",
       "      <td>NaN</td>\n",
       "      <td>NaN</td>\n",
       "      <td>NaN</td>\n",
       "      <td>NaN</td>\n",
       "      <td>NaN</td>\n",
       "      <td>NaN</td>\n",
       "      <td>NaN</td>\n",
       "      <td>NaN</td>\n",
       "    </tr>\n",
       "    <tr>\n",
       "      <th>1</th>\n",
       "      <td>NaN</td>\n",
       "      <td>100-10</td>\n",
       "      <td>EN100</td>\n",
       "      <td>0.00</td>\n",
       "      <td>113.30</td>\n",
       "      <td>113.30</td>\n",
       "      <td>BRIDGE FREITAS MORNA</td>\n",
       "      <td>CAXITO</td>\n",
       "      <td>Primary</td>\n",
       "      <td>BENGO</td>\n",
       "      <td>...</td>\n",
       "      <td>NaN</td>\n",
       "      <td>NaN</td>\n",
       "      <td>NaN</td>\n",
       "      <td>NaN</td>\n",
       "      <td>NaN</td>\n",
       "      <td>NaN</td>\n",
       "      <td>NaN</td>\n",
       "      <td>NaN</td>\n",
       "      <td>NaN</td>\n",
       "      <td>NaN</td>\n",
       "    </tr>\n",
       "    <tr>\n",
       "      <th>2</th>\n",
       "      <td>NaN</td>\n",
       "      <td>220-01</td>\n",
       "      <td>EN220</td>\n",
       "      <td>0.00</td>\n",
       "      <td>81.52</td>\n",
       "      <td>81.52</td>\n",
       "      <td>Ambriz</td>\n",
       "      <td>Bela Vista</td>\n",
       "      <td>Primary</td>\n",
       "      <td>BENGO</td>\n",
       "      <td>...</td>\n",
       "      <td>NaN</td>\n",
       "      <td>NaN</td>\n",
       "      <td>NaN</td>\n",
       "      <td>NaN</td>\n",
       "      <td>NaN</td>\n",
       "      <td>NaN</td>\n",
       "      <td>NaN</td>\n",
       "      <td>NaN</td>\n",
       "      <td>NaN</td>\n",
       "      <td>NaN</td>\n",
       "    </tr>\n",
       "    <tr>\n",
       "      <th>3</th>\n",
       "      <td>NaN</td>\n",
       "      <td>100-08</td>\n",
       "      <td>EN100</td>\n",
       "      <td>0.00</td>\n",
       "      <td>51.58</td>\n",
       "      <td>51.58</td>\n",
       "      <td>N'ZETO</td>\n",
       "      <td>MUSSERRA</td>\n",
       "      <td>Primary</td>\n",
       "      <td>ZAIRE</td>\n",
       "      <td>...</td>\n",
       "      <td>NaN</td>\n",
       "      <td>NaN</td>\n",
       "      <td>NaN</td>\n",
       "      <td>NaN</td>\n",
       "      <td>NaN</td>\n",
       "      <td>NaN</td>\n",
       "      <td>NaN</td>\n",
       "      <td>NaN</td>\n",
       "      <td>NaN</td>\n",
       "      <td>NaN</td>\n",
       "    </tr>\n",
       "    <tr>\n",
       "      <th>4</th>\n",
       "      <td>NaN</td>\n",
       "      <td>110-03</td>\n",
       "      <td>EN110</td>\n",
       "      <td>0.00</td>\n",
       "      <td>21.02</td>\n",
       "      <td>21.02</td>\n",
       "      <td>CATETE</td>\n",
       "      <td>CABALA</td>\n",
       "      <td>Primary</td>\n",
       "      <td>BENGO</td>\n",
       "      <td>...</td>\n",
       "      <td>NaN</td>\n",
       "      <td>NaN</td>\n",
       "      <td>NaN</td>\n",
       "      <td>NaN</td>\n",
       "      <td>NaN</td>\n",
       "      <td>NaN</td>\n",
       "      <td>NaN</td>\n",
       "      <td>NaN</td>\n",
       "      <td>NaN</td>\n",
       "      <td>NaN</td>\n",
       "    </tr>\n",
       "  </tbody>\n",
       "</table>\n",
       "<p>5 rows × 61 columns</p>\n",
       "</div>"
      ],
      "text/plain": [
       "   ET_ID  LINKNO ROADNO  STARTKM  ENDKM  LENGTHKM             STARTDESC  \\\n",
       "0    NaN  210-02  EN210     0.00  44.24     44.24         CASA DA TELHA   \n",
       "1    NaN  100-10  EN100     0.00 113.30    113.30  BRIDGE FREITAS MORNA   \n",
       "2    NaN  220-01  EN220     0.00  81.52     81.52                Ambriz   \n",
       "3    NaN  100-08  EN100     0.00  51.58     51.58                N'ZETO   \n",
       "4    NaN  110-03  EN110     0.00  21.02     21.02                CATETE   \n",
       "\n",
       "      ENDDESC    CLASS REGION  ...  START_KM  END_KM STRATDESC ROADCLASS  \\\n",
       "0     TOMBOCO  Primary  ZAIRE  ...       NaN     NaN       NaN       NaN   \n",
       "1      CAXITO  Primary  BENGO  ...       NaN     NaN       NaN       NaN   \n",
       "2  Bela Vista  Primary  BENGO  ...       NaN     NaN       NaN       NaN   \n",
       "3    MUSSERRA  Primary  ZAIRE  ...       NaN     NaN       NaN       NaN   \n",
       "4      CABALA  Primary  BENGO  ...       NaN     NaN       NaN       NaN   \n",
       "\n",
       "   TYPE iso3 WB_Project Kamp_Momba Nairo_Addi  PAVETYPE  \n",
       "0   NaN  NaN        NaN        NaN        NaN       NaN  \n",
       "1   NaN  NaN        NaN        NaN        NaN       NaN  \n",
       "2   NaN  NaN        NaN        NaN        NaN       NaN  \n",
       "3   NaN  NaN        NaN        NaN        NaN       NaN  \n",
       "4   NaN  NaN        NaN        NaN        NaN       NaN  \n",
       "\n",
       "[5 rows x 61 columns]"
      ]
     },
     "execution_count": 17,
     "metadata": {},
     "output_type": "execute_result"
    }
   ],
   "source": [
    "# Calculate slope for each country\n",
    "combined_data.head(5)"
   ]
  },
  {
   "cell_type": "code",
   "execution_count": 18,
   "id": "88246783",
   "metadata": {},
   "outputs": [
    {
     "data": {
      "text/html": [
       "<div>\n",
       "<style scoped>\n",
       "    .dataframe tbody tr th:only-of-type {\n",
       "        vertical-align: middle;\n",
       "    }\n",
       "\n",
       "    .dataframe tbody tr th {\n",
       "        vertical-align: top;\n",
       "    }\n",
       "\n",
       "    .dataframe thead th {\n",
       "        text-align: right;\n",
       "    }\n",
       "</style>\n",
       "<table border=\"1\" class=\"dataframe\">\n",
       "  <thead>\n",
       "    <tr style=\"text-align: right;\">\n",
       "      <th></th>\n",
       "      <th>ET_ID</th>\n",
       "      <th>LINKNO</th>\n",
       "      <th>ROADNO</th>\n",
       "      <th>STARTKM</th>\n",
       "      <th>ENDKM</th>\n",
       "      <th>LENGTHKM</th>\n",
       "      <th>STARTDESC</th>\n",
       "      <th>ENDDESC</th>\n",
       "      <th>CLASS</th>\n",
       "      <th>REGION</th>\n",
       "      <th>...</th>\n",
       "      <th>START_KM</th>\n",
       "      <th>END_KM</th>\n",
       "      <th>STRATDESC</th>\n",
       "      <th>ROADCLASS</th>\n",
       "      <th>TYPE</th>\n",
       "      <th>iso3</th>\n",
       "      <th>WB_Project</th>\n",
       "      <th>Kamp_Momba</th>\n",
       "      <th>Nairo_Addi</th>\n",
       "      <th>PAVETYPE</th>\n",
       "    </tr>\n",
       "  </thead>\n",
       "  <tbody>\n",
       "    <tr>\n",
       "      <th>33902</th>\n",
       "      <td>NaN</td>\n",
       "      <td>2128</td>\n",
       "      <td>R66</td>\n",
       "      <td>NaN</td>\n",
       "      <td>NaN</td>\n",
       "      <td>NaN</td>\n",
       "      <td>Gingindlovu</td>\n",
       "      <td>Nkwalini</td>\n",
       "      <td>Primary</td>\n",
       "      <td>KwaZulu-Natal</td>\n",
       "      <td>...</td>\n",
       "      <td>0.00</td>\n",
       "      <td>49.00</td>\n",
       "      <td>NaN</td>\n",
       "      <td>NaN</td>\n",
       "      <td>NaN</td>\n",
       "      <td>ZAF</td>\n",
       "      <td>NaN</td>\n",
       "      <td>NaN</td>\n",
       "      <td>NaN</td>\n",
       "      <td>FLEX</td>\n",
       "    </tr>\n",
       "    <tr>\n",
       "      <th>33903</th>\n",
       "      <td>NaN</td>\n",
       "      <td>2128</td>\n",
       "      <td>R66</td>\n",
       "      <td>NaN</td>\n",
       "      <td>NaN</td>\n",
       "      <td>NaN</td>\n",
       "      <td>Gingindlovu</td>\n",
       "      <td>Nkwalini</td>\n",
       "      <td>Primary</td>\n",
       "      <td>KwaZulu-Natal</td>\n",
       "      <td>...</td>\n",
       "      <td>0.00</td>\n",
       "      <td>49.00</td>\n",
       "      <td>NaN</td>\n",
       "      <td>NaN</td>\n",
       "      <td>NaN</td>\n",
       "      <td>ZAF</td>\n",
       "      <td>NaN</td>\n",
       "      <td>NaN</td>\n",
       "      <td>NaN</td>\n",
       "      <td>FLEX</td>\n",
       "    </tr>\n",
       "    <tr>\n",
       "      <th>33904</th>\n",
       "      <td>NaN</td>\n",
       "      <td>1196</td>\n",
       "      <td>N2</td>\n",
       "      <td>NaN</td>\n",
       "      <td>NaN</td>\n",
       "      <td>NaN</td>\n",
       "      <td>Hibberdene I/C</td>\n",
       "      <td>Mtwalume I/C</td>\n",
       "      <td>Primary</td>\n",
       "      <td>KwaZulu-Natal</td>\n",
       "      <td>...</td>\n",
       "      <td>5.00</td>\n",
       "      <td>14.00</td>\n",
       "      <td>NaN</td>\n",
       "      <td>NaN</td>\n",
       "      <td>NaN</td>\n",
       "      <td>ZAF</td>\n",
       "      <td>NaN</td>\n",
       "      <td>NaN</td>\n",
       "      <td>NaN</td>\n",
       "      <td>FLEX</td>\n",
       "    </tr>\n",
       "    <tr>\n",
       "      <th>33905</th>\n",
       "      <td>NaN</td>\n",
       "      <td>1191</td>\n",
       "      <td>N2</td>\n",
       "      <td>NaN</td>\n",
       "      <td>NaN</td>\n",
       "      <td>NaN</td>\n",
       "      <td>Hibberdene I/C</td>\n",
       "      <td>Mtwalume I/C</td>\n",
       "      <td>Primary</td>\n",
       "      <td>KwaZulu-Natal</td>\n",
       "      <td>...</td>\n",
       "      <td>5.00</td>\n",
       "      <td>14.00</td>\n",
       "      <td>NaN</td>\n",
       "      <td>NaN</td>\n",
       "      <td>NaN</td>\n",
       "      <td>ZAF</td>\n",
       "      <td>NaN</td>\n",
       "      <td>NaN</td>\n",
       "      <td>NaN</td>\n",
       "      <td>FLEX</td>\n",
       "    </tr>\n",
       "    <tr>\n",
       "      <th>33906</th>\n",
       "      <td>NaN</td>\n",
       "      <td>1187</td>\n",
       "      <td>N2</td>\n",
       "      <td>NaN</td>\n",
       "      <td>NaN</td>\n",
       "      <td>NaN</td>\n",
       "      <td>Marburg</td>\n",
       "      <td>Umtentweni I/C</td>\n",
       "      <td>Primary</td>\n",
       "      <td>KwaZulu-Natal</td>\n",
       "      <td>...</td>\n",
       "      <td>29.00</td>\n",
       "      <td>37.00</td>\n",
       "      <td>NaN</td>\n",
       "      <td>NaN</td>\n",
       "      <td>NaN</td>\n",
       "      <td>ZAF</td>\n",
       "      <td>NaN</td>\n",
       "      <td>NaN</td>\n",
       "      <td>NaN</td>\n",
       "      <td>FLEX</td>\n",
       "    </tr>\n",
       "  </tbody>\n",
       "</table>\n",
       "<p>5 rows × 61 columns</p>\n",
       "</div>"
      ],
      "text/plain": [
       "       ET_ID LINKNO ROADNO  STARTKM  ENDKM  LENGTHKM       STARTDESC  \\\n",
       "33902    NaN   2128    R66      NaN    NaN       NaN     Gingindlovu   \n",
       "33903    NaN   2128    R66      NaN    NaN       NaN     Gingindlovu   \n",
       "33904    NaN   1196     N2      NaN    NaN       NaN  Hibberdene I/C   \n",
       "33905    NaN   1191     N2      NaN    NaN       NaN  Hibberdene I/C   \n",
       "33906    NaN   1187     N2      NaN    NaN       NaN         Marburg   \n",
       "\n",
       "              ENDDESC    CLASS         REGION  ...  START_KM  END_KM  \\\n",
       "33902        Nkwalini  Primary  KwaZulu-Natal  ...      0.00   49.00   \n",
       "33903        Nkwalini  Primary  KwaZulu-Natal  ...      0.00   49.00   \n",
       "33904    Mtwalume I/C  Primary  KwaZulu-Natal  ...      5.00   14.00   \n",
       "33905    Mtwalume I/C  Primary  KwaZulu-Natal  ...      5.00   14.00   \n",
       "33906  Umtentweni I/C  Primary  KwaZulu-Natal  ...     29.00   37.00   \n",
       "\n",
       "      STRATDESC ROADCLASS  TYPE iso3 WB_Project Kamp_Momba Nairo_Addi  \\\n",
       "33902       NaN       NaN   NaN  ZAF        NaN        NaN        NaN   \n",
       "33903       NaN       NaN   NaN  ZAF        NaN        NaN        NaN   \n",
       "33904       NaN       NaN   NaN  ZAF        NaN        NaN        NaN   \n",
       "33905       NaN       NaN   NaN  ZAF        NaN        NaN        NaN   \n",
       "33906       NaN       NaN   NaN  ZAF        NaN        NaN        NaN   \n",
       "\n",
       "       PAVETYPE  \n",
       "33902      FLEX  \n",
       "33903      FLEX  \n",
       "33904      FLEX  \n",
       "33905      FLEX  \n",
       "33906      FLEX  \n",
       "\n",
       "[5 rows x 61 columns]"
      ]
     },
     "execution_count": 18,
     "metadata": {},
     "output_type": "execute_result"
    }
   ],
   "source": [
    "combined_data.tail(5)"
   ]
  },
  {
   "cell_type": "code",
   "execution_count": 19,
   "id": "6773e610",
   "metadata": {},
   "outputs": [
    {
     "data": {
      "image/svg+xml": [
       "<svg xmlns=\"http://www.w3.org/2000/svg\" xmlns:xlink=\"http://www.w3.org/1999/xlink\" width=\"100.0\" height=\"100.0\" viewBox=\"12.95415833138795 -7.053453326261913 0.3182557576547591 0.24575893910968105\" preserveAspectRatio=\"xMinYMin meet\"><g transform=\"matrix(1,0,0,-1,0,-13.861147713414145)\"><polyline fill=\"none\" stroke=\"#66cc99\" stroke-width=\"0.0063651151530951825\" points=\"12.965945581671459,-7.041666075978403 13.022075298954517,-6.992551618850339 13.066511337145991,-6.962147432868435 13.101592424636383,-6.9481147340674925 13.131996043731727,-6.9317432505434935 13.150705980972662,-6.896661492679901 13.183448356632475,-6.870934873483256 13.216190733397656,-6.856902174670277 13.237239409768407,-6.845208257985917 13.255949351614145,-6.826497988780846 13.2606268387592,-6.819481637435741\" opacity=\"0.8\" /></g></svg>"
      ],
      "text/plain": [
       "<LINESTRING (12.966 -7.042, 13.022 -6.993, 13.067 -6.962, 13.102 -6.948, 13....>"
      ]
     },
     "execution_count": 19,
     "metadata": {},
     "output_type": "execute_result"
    }
   ],
   "source": [
    "combined_data.loc[0].geometry"
   ]
  },
  {
   "cell_type": "code",
   "execution_count": 20,
   "id": "c4214521",
   "metadata": {},
   "outputs": [
    {
     "data": {
      "text/plain": [
       "'LINESTRING (12.965945581671459 -7.041666075978403, 13.022075298954517 -6.992551618850339, 13.066511337145991 -6.962147432868435, 13.101592424636383 -6.9481147340674925, 13.131996043731727 -6.9317432505434935, 13.150705980972662 -6.896661492679901, 13.183448356632475 -6.870934873483256, 13.216190733397656 -6.856902174670277, 13.237239409768407 -6.845208257985917, 13.255949351614145 -6.826497988780846, 13.2606268387592 -6.819481637435741)'"
      ]
     },
     "execution_count": 20,
     "metadata": {},
     "output_type": "execute_result"
    }
   ],
   "source": [
    "combined_data.loc[0].geometry.wkt"
   ]
  },
  {
   "cell_type": "code",
   "execution_count": 21,
   "id": "df86df40",
   "metadata": {},
   "outputs": [
    {
     "data": {
      "text/plain": [
       "shapely.geometry.linestring.LineString"
      ]
     },
     "execution_count": 21,
     "metadata": {},
     "output_type": "execute_result"
    }
   ],
   "source": [
    "type(combined_data.loc[0].geometry)"
   ]
  },
  {
   "cell_type": "code",
   "execution_count": 22,
   "id": "2cebac22",
   "metadata": {},
   "outputs": [],
   "source": [
    "geometry_types =combined_data.geometry.geom_type"
   ]
  },
  {
   "cell_type": "code",
   "execution_count": 23,
   "id": "620bc7b1",
   "metadata": {},
   "outputs": [
    {
     "data": {
      "text/plain": [
       "LineString         32879\n",
       "MultiLineString     1028\n",
       "dtype: int64"
      ]
     },
     "execution_count": 23,
     "metadata": {},
     "output_type": "execute_result"
    }
   ],
   "source": [
    "geometry_types.value_counts()"
   ]
  },
  {
   "cell_type": "code",
   "execution_count": 24,
   "id": "eb5c7fd5",
   "metadata": {},
   "outputs": [],
   "source": [
    "# Filter out multstring\n",
    "combined_data = combined_data[combined_data.geometry.geom_type == 'LineString']"
   ]
  },
  {
   "cell_type": "code",
   "execution_count": 25,
   "id": "e5872b9a",
   "metadata": {},
   "outputs": [],
   "source": [
    "combined_data.geometry = combined_data.geometry.apply(lambda x: LineString(x.coords) if x.type != 'LineString' else x)"
   ]
  },
  {
   "cell_type": "code",
   "execution_count": 26,
   "id": "029de8bd",
   "metadata": {},
   "outputs": [
    {
     "data": {
      "text/plain": [
       "0    LINESTRING (12.96595 -7.04167, 13.02208 -6.992...\n",
       "1    LINESTRING (13.59031 -8.58441, 13.57291 -8.565...\n",
       "2    LINESTRING (13.73075 -7.83081, 13.69675 -7.849...\n",
       "3    LINESTRING (12.97151 -7.63643, 12.95191 -7.624...\n",
       "4    LINESTRING (13.70265 -9.28427, 13.69914 -9.270...\n",
       "5    LINESTRING (13.63249 -9.12991, 13.63249 -9.072...\n",
       "6    LINESTRING (13.17833 -8.84399, 13.21336 -8.819...\n",
       "Name: geometry, dtype: geometry"
      ]
     },
     "execution_count": 26,
     "metadata": {},
     "output_type": "execute_result"
    }
   ],
   "source": [
    "combined_data.geometry.head(7)"
   ]
  },
  {
   "cell_type": "code",
   "execution_count": 27,
   "id": "deb4d1d3",
   "metadata": {},
   "outputs": [
    {
     "data": {
      "text/plain": [
       "Cameroon       15419\n",
       "Kenya          13866\n",
       "Southafrica     1803\n",
       "Ethiopia        1222\n",
       "Angola           406\n",
       "Burundi          163\n",
       "Name: country, dtype: int64"
      ]
     },
     "execution_count": 27,
     "metadata": {},
     "output_type": "execute_result"
    }
   ],
   "source": [
    "combined_data['country'].value_counts()"
   ]
  },
  {
   "cell_type": "code",
   "execution_count": 28,
   "id": "b8fd9edb",
   "metadata": {},
   "outputs": [],
   "source": [
    "# Get X and Y coordinates\n",
    "x_coords = []\n",
    "y_coords = []\n",
    "\n",
    "\n",
    "for geometry in combined_data.geometry:\n",
    "    if isinstance(geometry, LineString):\n",
    "        x, y = geometry.xy\n",
    "        x_coords.append(list(x))\n",
    "        y_coords.append(list(y))\n",
    "\n",
    "combined_data['X'] = pd.Series(x_coords)\n",
    "combined_data['Y'] = pd.Series(y_coords)\n"
   ]
  },
  {
   "cell_type": "code",
   "execution_count": 29,
   "id": "47f819b9",
   "metadata": {},
   "outputs": [
    {
     "name": "stdout",
     "output_type": "stream",
     "text": [
      "       ET_ID  LINKNO ROADNO  STARTKM  ENDKM  LENGTHKM             STARTDESC  \\\n",
      "0        NaN  210-02  EN210     0.00  44.24     44.24         CASA DA TELHA   \n",
      "1        NaN  100-10  EN100     0.00 113.30    113.30  BRIDGE FREITAS MORNA   \n",
      "2        NaN  220-01  EN220     0.00  81.52     81.52                Ambriz   \n",
      "3        NaN  100-08  EN100     0.00  51.58     51.58                N'ZETO   \n",
      "4        NaN  110-03  EN110     0.00  21.02     21.02                CATETE   \n",
      "...      ...     ...    ...      ...    ...       ...                   ...   \n",
      "33902    NaN    2128    R66      NaN    NaN       NaN           Gingindlovu   \n",
      "33903    NaN    2128    R66      NaN    NaN       NaN           Gingindlovu   \n",
      "33904    NaN    1196     N2      NaN    NaN       NaN        Hibberdene I/C   \n",
      "33905    NaN    1191     N2      NaN    NaN       NaN        Hibberdene I/C   \n",
      "33906    NaN    1187     N2      NaN    NaN       NaN               Marburg   \n",
      "\n",
      "              ENDDESC    CLASS         REGION  ...  STRATDESC  ROADCLASS TYPE  \\\n",
      "0             TOMBOCO  Primary          ZAIRE  ...        NaN        NaN  NaN   \n",
      "1              CAXITO  Primary          BENGO  ...        NaN        NaN  NaN   \n",
      "2          Bela Vista  Primary          BENGO  ...        NaN        NaN  NaN   \n",
      "3            MUSSERRA  Primary          ZAIRE  ...        NaN        NaN  NaN   \n",
      "4              CABALA  Primary          BENGO  ...        NaN        NaN  NaN   \n",
      "...               ...      ...            ...  ...        ...        ...  ...   \n",
      "33902        Nkwalini  Primary  KwaZulu-Natal  ...        NaN        NaN  NaN   \n",
      "33903        Nkwalini  Primary  KwaZulu-Natal  ...        NaN        NaN  NaN   \n",
      "33904    Mtwalume I/C  Primary  KwaZulu-Natal  ...        NaN        NaN  NaN   \n",
      "33905    Mtwalume I/C  Primary  KwaZulu-Natal  ...        NaN        NaN  NaN   \n",
      "33906  Umtentweni I/C  Primary  KwaZulu-Natal  ...        NaN        NaN  NaN   \n",
      "\n",
      "      iso3  WB_Project Kamp_Momba Nairo_Addi PAVETYPE  \\\n",
      "0      NaN         NaN        NaN        NaN      NaN   \n",
      "1      NaN         NaN        NaN        NaN      NaN   \n",
      "2      NaN         NaN        NaN        NaN      NaN   \n",
      "3      NaN         NaN        NaN        NaN      NaN   \n",
      "4      NaN         NaN        NaN        NaN      NaN   \n",
      "...    ...         ...        ...        ...      ...   \n",
      "33902  ZAF         NaN        NaN        NaN     FLEX   \n",
      "33903  ZAF         NaN        NaN        NaN     FLEX   \n",
      "33904  ZAF         NaN        NaN        NaN     FLEX   \n",
      "33905  ZAF         NaN        NaN        NaN     FLEX   \n",
      "33906  ZAF         NaN        NaN        NaN     FLEX   \n",
      "\n",
      "                                                       X  \\\n",
      "0      [12.965945581671459, 13.022075298954517, 13.06...   \n",
      "1      [13.59030560021181, 13.572910864447227, 13.562...   \n",
      "2      [13.7307457308967, 13.696749649503888, 13.6337...   \n",
      "3      [12.97150629518783, 12.951912808308368, 12.943...   \n",
      "4      [13.702648452544794, 13.699140335356194, 13.67...   \n",
      "...                                                  ...   \n",
      "33902                                                NaN   \n",
      "33903                                                NaN   \n",
      "33904                                                NaN   \n",
      "33905                                                NaN   \n",
      "33906                                                NaN   \n",
      "\n",
      "                                                       Y  \n",
      "0      [-7.041666075978403, -6.992551618850339, -6.96...  \n",
      "1      [-8.58441075794911, -8.565001575378949, -8.528...  \n",
      "2      [-7.830809707643678, -7.8496085295023175, -7.8...  \n",
      "3      [-7.636426183929311, -7.624900362396254, -7.60...  \n",
      "4      [-9.284267848298828, -9.270235142419494, -9.24...  \n",
      "...                                                  ...  \n",
      "33902                                                NaN  \n",
      "33903                                                NaN  \n",
      "33904                                                NaN  \n",
      "33905                                                NaN  \n",
      "33906                                                NaN  \n",
      "\n",
      "[32879 rows x 63 columns]\n"
     ]
    }
   ],
   "source": [
    "print(combined_data)"
   ]
  },
  {
   "cell_type": "code",
   "execution_count": 30,
   "id": "8a82df11",
   "metadata": {},
   "outputs": [],
   "source": [
    "# Calculate Slope \n",
    "def calculate_slopes(gdf, geometry_col='geometry'):\n",
    "    \"\"\"\n",
    "    Calculates the slope of each segment of a LineString in a GeoDataFrame\n",
    "    \"\"\"\n",
    "    # Check that the input GeoDataFrame has LineString geometries\n",
    "    if gdf.geom_type[0] != 'LineString':\n",
    "        raise ValueError('Input GeoDataFrame must contain LineString geometries')\n",
    "\n",
    "    # Check that the geometry_col parameter points to a valid column\n",
    "    if geometry_col not in gdf.columns:\n",
    "        raise ValueError(f'Invalid column name. geometry_col must be a column in the input GeoDataFrame.')\n",
    "\n",
    "    # Extract the x and y coordinates from the LineString\n",
    "    x_coords = []\n",
    "    y_coords = []\n",
    "    for geom in gdf[geometry_col]:\n",
    "        x, y = zip(*geom.coords)\n",
    "        x_coords.extend(x)\n",
    "        y_coords.extend(y)\n",
    "\n",
    "    # Calculate the slope for each segment of the LineString\n",
    "    slopes = []\n",
    "    for i in range(len(x_coords) - 1):\n",
    "        x1 = x_coords[i]\n",
    "        y1 = y_coords[i]\n",
    "        x2 = x_coords[i+1]\n",
    "        y2 = y_coords[i+1]\n",
    "        if x2 - x1 == 0:\n",
    "            slope = float('inf')\n",
    "        else:\n",
    "            slope = (y2 - y1) / (x2 - x1)\n",
    "        slopes.append(slope)\n",
    "\n",
    "    # Create a new GeoDataFrame with the slopes as a column\n",
    "    slope_gdf = gpd.GeoDataFrame(geometry=gdf[geometry_col], data={'slope': slopes})\n",
    "\n",
    "    return slope_gdf"
   ]
  },
  {
   "cell_type": "code",
   "execution_count": 31,
   "id": "d653dbfc",
   "metadata": {},
   "outputs": [],
   "source": [
    "slopes_gdf = calculate_slopes(combined_data, geometry_col='geometry')"
   ]
  },
  {
   "cell_type": "code",
   "execution_count": 32,
   "id": "822954ac",
   "metadata": {},
   "outputs": [
    {
     "data": {
      "text/html": [
       "<div>\n",
       "<style scoped>\n",
       "    .dataframe tbody tr th:only-of-type {\n",
       "        vertical-align: middle;\n",
       "    }\n",
       "\n",
       "    .dataframe tbody tr th {\n",
       "        vertical-align: top;\n",
       "    }\n",
       "\n",
       "    .dataframe thead th {\n",
       "        text-align: right;\n",
       "    }\n",
       "</style>\n",
       "<table border=\"1\" class=\"dataframe\">\n",
       "  <thead>\n",
       "    <tr style=\"text-align: right;\">\n",
       "      <th></th>\n",
       "      <th>slope</th>\n",
       "      <th>geometry</th>\n",
       "    </tr>\n",
       "  </thead>\n",
       "  <tbody>\n",
       "    <tr>\n",
       "      <th>0</th>\n",
       "      <td>0.88</td>\n",
       "      <td>LINESTRING (12.96595 -7.04167, 13.02208 -6.992...</td>\n",
       "    </tr>\n",
       "    <tr>\n",
       "      <th>1</th>\n",
       "      <td>0.68</td>\n",
       "      <td>LINESTRING (13.59031 -8.58441, 13.57291 -8.565...</td>\n",
       "    </tr>\n",
       "    <tr>\n",
       "      <th>2</th>\n",
       "      <td>0.40</td>\n",
       "      <td>LINESTRING (13.73075 -7.83081, 13.69675 -7.849...</td>\n",
       "    </tr>\n",
       "    <tr>\n",
       "      <th>3</th>\n",
       "      <td>0.54</td>\n",
       "      <td>LINESTRING (12.97151 -7.63643, 12.95191 -7.624...</td>\n",
       "    </tr>\n",
       "    <tr>\n",
       "      <th>4</th>\n",
       "      <td>1.88</td>\n",
       "      <td>LINESTRING (13.70265 -9.28427, 13.69914 -9.270...</td>\n",
       "    </tr>\n",
       "    <tr>\n",
       "      <th>...</th>\n",
       "      <td>...</td>\n",
       "      <td>...</td>\n",
       "    </tr>\n",
       "    <tr>\n",
       "      <th>15513520</th>\n",
       "      <td>6.94</td>\n",
       "      <td>None</td>\n",
       "    </tr>\n",
       "    <tr>\n",
       "      <th>15513521</th>\n",
       "      <td>7.10</td>\n",
       "      <td>None</td>\n",
       "    </tr>\n",
       "    <tr>\n",
       "      <th>15513522</th>\n",
       "      <td>6.41</td>\n",
       "      <td>None</td>\n",
       "    </tr>\n",
       "    <tr>\n",
       "      <th>15513523</th>\n",
       "      <td>6.09</td>\n",
       "      <td>None</td>\n",
       "    </tr>\n",
       "    <tr>\n",
       "      <th>15513524</th>\n",
       "      <td>6.10</td>\n",
       "      <td>None</td>\n",
       "    </tr>\n",
       "  </tbody>\n",
       "</table>\n",
       "<p>15513525 rows × 2 columns</p>\n",
       "</div>"
      ],
      "text/plain": [
       "          slope                                           geometry\n",
       "0          0.88  LINESTRING (12.96595 -7.04167, 13.02208 -6.992...\n",
       "1          0.68  LINESTRING (13.59031 -8.58441, 13.57291 -8.565...\n",
       "2          0.40  LINESTRING (13.73075 -7.83081, 13.69675 -7.849...\n",
       "3          0.54  LINESTRING (12.97151 -7.63643, 12.95191 -7.624...\n",
       "4          1.88  LINESTRING (13.70265 -9.28427, 13.69914 -9.270...\n",
       "...         ...                                                ...\n",
       "15513520   6.94                                               None\n",
       "15513521   7.10                                               None\n",
       "15513522   6.41                                               None\n",
       "15513523   6.09                                               None\n",
       "15513524   6.10                                               None\n",
       "\n",
       "[15513525 rows x 2 columns]"
      ]
     },
     "execution_count": 32,
     "metadata": {},
     "output_type": "execute_result"
    }
   ],
   "source": [
    "slopes_gdf"
   ]
  },
  {
   "cell_type": "code",
   "execution_count": 33,
   "id": "a1a5d2be",
   "metadata": {},
   "outputs": [],
   "source": [
    "# Drop slope missing values\n",
    "combined_data['slope'] = slopes_gdf['slope']"
   ]
  },
  {
   "cell_type": "code",
   "execution_count": 34,
   "id": "153dc92e",
   "metadata": {},
   "outputs": [],
   "source": [
    "slope_df = combined_data[['country','slope','geometry']]"
   ]
  },
  {
   "cell_type": "code",
   "execution_count": 35,
   "id": "e45d4efe",
   "metadata": {},
   "outputs": [
    {
     "data": {
      "text/plain": [
       "country     0\n",
       "slope       0\n",
       "geometry    0\n",
       "dtype: int64"
      ]
     },
     "execution_count": 35,
     "metadata": {},
     "output_type": "execute_result"
    }
   ],
   "source": [
    "# Check for missing data\n",
    "slope_df.isnull().sum()"
   ]
  },
  {
   "cell_type": "code",
   "execution_count": 36,
   "id": "770fb105",
   "metadata": {},
   "outputs": [],
   "source": [
    "slope_df.to_csv('countries_slope.csv',index=False)"
   ]
  }
 ],
 "metadata": {
  "kernelspec": {
   "display_name": "Python 3 (ipykernel)",
   "language": "python",
   "name": "python3"
  },
  "language_info": {
   "codemirror_mode": {
    "name": "ipython",
    "version": 3
   },
   "file_extension": ".py",
   "mimetype": "text/x-python",
   "name": "python",
   "nbconvert_exporter": "python",
   "pygments_lexer": "ipython3",
   "version": "3.9.13"
  }
 },
 "nbformat": 4,
 "nbformat_minor": 5
}

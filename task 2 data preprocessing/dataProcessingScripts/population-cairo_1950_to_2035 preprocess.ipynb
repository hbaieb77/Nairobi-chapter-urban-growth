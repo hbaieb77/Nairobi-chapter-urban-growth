{
 "cells": [
  {
   "cell_type": "code",
   "execution_count": 3,
   "id": "1fe689fb",
   "metadata": {},
   "outputs": [],
   "source": [
    "import pandas as pd\n",
    "import numpy as np\n",
    "import matplotlib.pyplot as plt\n",
    "import seaborn as sns\n",
    "import warnings\n",
    "import scipy.stats as stats\n",
    "\n",
    "warnings.filterwarnings('ignore')\n",
    "sns.set_style('whitegrid')"
   ]
  },
  {
   "cell_type": "code",
   "execution_count": 4,
   "id": "89282428",
   "metadata": {},
   "outputs": [
    {
     "data": {
      "text/html": [
       "<div>\n",
       "<style scoped>\n",
       "    .dataframe tbody tr th:only-of-type {\n",
       "        vertical-align: middle;\n",
       "    }\n",
       "\n",
       "    .dataframe tbody tr th {\n",
       "        vertical-align: top;\n",
       "    }\n",
       "\n",
       "    .dataframe thead th {\n",
       "        text-align: right;\n",
       "    }\n",
       "</style>\n",
       "<table border=\"1\" class=\"dataframe\">\n",
       "  <thead>\n",
       "    <tr style=\"text-align: right;\">\n",
       "      <th></th>\n",
       "      <th>growth</th>\n",
       "      <th>growthRate</th>\n",
       "      <th>population</th>\n",
       "      <th>year</th>\n",
       "    </tr>\n",
       "  </thead>\n",
       "  <tbody>\n",
       "    <tr>\n",
       "      <th>0</th>\n",
       "      <td>651072</td>\n",
       "      <td>0.023375</td>\n",
       "      <td>28504352</td>\n",
       "      <td>2035</td>\n",
       "    </tr>\n",
       "    <tr>\n",
       "      <th>1</th>\n",
       "      <td>623526</td>\n",
       "      <td>0.022899</td>\n",
       "      <td>27853280</td>\n",
       "      <td>2034</td>\n",
       "    </tr>\n",
       "    <tr>\n",
       "      <th>2</th>\n",
       "      <td>596806</td>\n",
       "      <td>0.022409</td>\n",
       "      <td>27229754</td>\n",
       "      <td>2033</td>\n",
       "    </tr>\n",
       "    <tr>\n",
       "      <th>3</th>\n",
       "      <td>570172</td>\n",
       "      <td>0.021877</td>\n",
       "      <td>26632948</td>\n",
       "      <td>2032</td>\n",
       "    </tr>\n",
       "    <tr>\n",
       "      <th>4</th>\n",
       "      <td>546080</td>\n",
       "      <td>0.021401</td>\n",
       "      <td>26062776</td>\n",
       "      <td>2031</td>\n",
       "    </tr>\n",
       "    <tr>\n",
       "      <th>...</th>\n",
       "      <td>...</td>\n",
       "      <td>...</td>\n",
       "      <td>...</td>\n",
       "      <td>...</td>\n",
       "    </tr>\n",
       "    <tr>\n",
       "      <th>81</th>\n",
       "      <td>111220</td>\n",
       "      <td>0.039688</td>\n",
       "      <td>2913563</td>\n",
       "      <td>1954</td>\n",
       "    </tr>\n",
       "    <tr>\n",
       "      <th>82</th>\n",
       "      <td>106830</td>\n",
       "      <td>0.039633</td>\n",
       "      <td>2802343</td>\n",
       "      <td>1953</td>\n",
       "    </tr>\n",
       "    <tr>\n",
       "      <th>83</th>\n",
       "      <td>103036</td>\n",
       "      <td>0.039744</td>\n",
       "      <td>2695513</td>\n",
       "      <td>1952</td>\n",
       "    </tr>\n",
       "    <tr>\n",
       "      <th>84</th>\n",
       "      <td>98963</td>\n",
       "      <td>0.039688</td>\n",
       "      <td>2592477</td>\n",
       "      <td>1951</td>\n",
       "    </tr>\n",
       "    <tr>\n",
       "      <th>85</th>\n",
       "      <td>0</td>\n",
       "      <td>0.000000</td>\n",
       "      <td>2493514</td>\n",
       "      <td>1950</td>\n",
       "    </tr>\n",
       "  </tbody>\n",
       "</table>\n",
       "<p>86 rows × 4 columns</p>\n",
       "</div>"
      ],
      "text/plain": [
       "    growth  growthRate  population  year\n",
       "0   651072    0.023375    28504352  2035\n",
       "1   623526    0.022899    27853280  2034\n",
       "2   596806    0.022409    27229754  2033\n",
       "3   570172    0.021877    26632948  2032\n",
       "4   546080    0.021401    26062776  2031\n",
       "..     ...         ...         ...   ...\n",
       "81  111220    0.039688     2913563  1954\n",
       "82  106830    0.039633     2802343  1953\n",
       "83  103036    0.039744     2695513  1952\n",
       "84   98963    0.039688     2592477  1951\n",
       "85       0    0.000000     2493514  1950\n",
       "\n",
       "[86 rows x 4 columns]"
      ]
     },
     "execution_count": 4,
     "metadata": {},
     "output_type": "execute_result"
    }
   ],
   "source": [
    "df = pd.read_csv(\"../../src/data/city_growth_models/population-cairo_1950_to_2035.csv\")\n",
    "df"
   ]
  },
  {
   "cell_type": "code",
   "execution_count": 5,
   "id": "03f93183",
   "metadata": {},
   "outputs": [
    {
     "name": "stdout",
     "output_type": "stream",
     "text": [
      "growth        0\n",
      "growthRate    0\n",
      "population    0\n",
      "year          0\n",
      "dtype: int64\n"
     ]
    }
   ],
   "source": [
    "print(df.isna().sum())\n"
   ]
  },
  {
   "cell_type": "code",
   "execution_count": 6,
   "id": "1f7351b9",
   "metadata": {},
   "outputs": [
    {
     "name": "stdout",
     "output_type": "stream",
     "text": [
      "<class 'pandas.core.frame.DataFrame'>\n",
      "RangeIndex: 86 entries, 0 to 85\n",
      "Data columns (total 4 columns):\n",
      " #   Column      Non-Null Count  Dtype  \n",
      "---  ------      --------------  -----  \n",
      " 0   growth      86 non-null     int64  \n",
      " 1   growthRate  86 non-null     float64\n",
      " 2   population  86 non-null     int64  \n",
      " 3   year        86 non-null     int64  \n",
      "dtypes: float64(1), int64(3)\n",
      "memory usage: 2.8 KB\n"
     ]
    }
   ],
   "source": [
    "df.info()"
   ]
  },
  {
   "cell_type": "code",
   "execution_count": 7,
   "id": "65d4ea11",
   "metadata": {},
   "outputs": [
    {
     "data": {
      "text/html": [
       "<div>\n",
       "<style scoped>\n",
       "    .dataframe tbody tr th:only-of-type {\n",
       "        vertical-align: middle;\n",
       "    }\n",
       "\n",
       "    .dataframe tbody tr th {\n",
       "        vertical-align: top;\n",
       "    }\n",
       "\n",
       "    .dataframe thead th {\n",
       "        text-align: right;\n",
       "    }\n",
       "</style>\n",
       "<table border=\"1\" class=\"dataframe\">\n",
       "  <thead>\n",
       "    <tr style=\"text-align: right;\">\n",
       "      <th></th>\n",
       "      <th>growth</th>\n",
       "      <th>growthRate</th>\n",
       "      <th>population</th>\n",
       "      <th>year</th>\n",
       "    </tr>\n",
       "  </thead>\n",
       "  <tbody>\n",
       "    <tr>\n",
       "      <th>count</th>\n",
       "      <td>86.000000</td>\n",
       "      <td>86.000000</td>\n",
       "      <td>8.600000e+01</td>\n",
       "      <td>86.000000</td>\n",
       "    </tr>\n",
       "    <tr>\n",
       "      <th>mean</th>\n",
       "      <td>302451.604651</td>\n",
       "      <td>0.028782</td>\n",
       "      <td>1.240824e+07</td>\n",
       "      <td>1992.500000</td>\n",
       "    </tr>\n",
       "    <tr>\n",
       "      <th>std</th>\n",
       "      <td>141887.524408</td>\n",
       "      <td>0.009884</td>\n",
       "      <td>7.619804e+06</td>\n",
       "      <td>24.969982</td>\n",
       "    </tr>\n",
       "    <tr>\n",
       "      <th>min</th>\n",
       "      <td>0.000000</td>\n",
       "      <td>0.000000</td>\n",
       "      <td>2.493514e+06</td>\n",
       "      <td>1950.000000</td>\n",
       "    </tr>\n",
       "    <tr>\n",
       "      <th>25%</th>\n",
       "      <td>179109.500000</td>\n",
       "      <td>0.021767</td>\n",
       "      <td>5.789828e+06</td>\n",
       "      <td>1971.250000</td>\n",
       "    </tr>\n",
       "    <tr>\n",
       "      <th>50%</th>\n",
       "      <td>306336.000000</td>\n",
       "      <td>0.025347</td>\n",
       "      <td>1.088019e+07</td>\n",
       "      <td>1992.500000</td>\n",
       "    </tr>\n",
       "    <tr>\n",
       "      <th>75%</th>\n",
       "      <td>412024.750000</td>\n",
       "      <td>0.038730</td>\n",
       "      <td>1.832104e+07</td>\n",
       "      <td>2013.750000</td>\n",
       "    </tr>\n",
       "    <tr>\n",
       "      <th>max</th>\n",
       "      <td>651072.000000</td>\n",
       "      <td>0.052484</td>\n",
       "      <td>2.850435e+07</td>\n",
       "      <td>2035.000000</td>\n",
       "    </tr>\n",
       "  </tbody>\n",
       "</table>\n",
       "</div>"
      ],
      "text/plain": [
       "              growth  growthRate    population         year\n",
       "count      86.000000   86.000000  8.600000e+01    86.000000\n",
       "mean   302451.604651    0.028782  1.240824e+07  1992.500000\n",
       "std    141887.524408    0.009884  7.619804e+06    24.969982\n",
       "min         0.000000    0.000000  2.493514e+06  1950.000000\n",
       "25%    179109.500000    0.021767  5.789828e+06  1971.250000\n",
       "50%    306336.000000    0.025347  1.088019e+07  1992.500000\n",
       "75%    412024.750000    0.038730  1.832104e+07  2013.750000\n",
       "max    651072.000000    0.052484  2.850435e+07  2035.000000"
      ]
     },
     "execution_count": 7,
     "metadata": {},
     "output_type": "execute_result"
    }
   ],
   "source": [
    "df.describe()"
   ]
  },
  {
   "cell_type": "markdown",
   "id": "8e87abea",
   "metadata": {},
   "source": [
    "### Outliers"
   ]
  },
  {
   "cell_type": "code",
   "execution_count": 8,
   "id": "8722e5d4",
   "metadata": {},
   "outputs": [
    {
     "data": {
      "image/png": "[encoded data removed]",
      "text/plain": [
       "<Figure size 720x360 with 4 Axes>"
      ]
     },
     "metadata": {},
     "output_type": "display_data"
    }
   ],
   "source": [
    "columns = ['growth','growthRate','population','year']\n",
    "fig, axs = plt.subplots(ncols=len(columns), figsize=(10, 5))\n",
    "for i, col in enumerate(columns):\n",
    "    axs[i].boxplot(df[col])\n",
    "    axs[i].set_title(col)\n",
    "    \n",
    "plt.show()"
   ]
  },
  {
   "cell_type": "markdown",
   "id": "cf5e5f5a",
   "metadata": {},
   "source": [
    "### Binning for analytics"
   ]
  },
  {
   "cell_type": "code",
   "execution_count": 9,
   "id": "b9a8d898",
   "metadata": {},
   "outputs": [
    {
     "data": {
      "text/plain": [
       "(1949.915, 1992.5]    43\n",
       "(1992.5, 2035.0]      43\n",
       "Name: year, dtype: int64"
      ]
     },
     "execution_count": 9,
     "metadata": {},
     "output_type": "execute_result"
    }
   ],
   "source": [
    "pd.cut(df['year'], bins=2).value_counts()"
   ]
  },
  {
   "cell_type": "code",
   "execution_count": 10,
   "id": "1b0bd2a4",
   "metadata": {},
   "outputs": [],
   "source": [
    "labels = ['Late 20th Century','21st Century']\n",
    "cut_bins = [1950,2000,2035]\n",
    "df['Historical'] = pd.cut(df['year'], bins=cut_bins, labels=labels)"
   ]
  },
  {
   "cell_type": "code",
   "execution_count": 11,
   "id": "bac8e68d",
   "metadata": {},
   "outputs": [
    {
     "data": {
      "text/html": [
       "<div>\n",
       "<style scoped>\n",
       "    .dataframe tbody tr th:only-of-type {\n",
       "        vertical-align: middle;\n",
       "    }\n",
       "\n",
       "    .dataframe tbody tr th {\n",
       "        vertical-align: top;\n",
       "    }\n",
       "\n",
       "    .dataframe thead th {\n",
       "        text-align: right;\n",
       "    }\n",
       "</style>\n",
       "<table border=\"1\" class=\"dataframe\">\n",
       "  <thead>\n",
       "    <tr style=\"text-align: right;\">\n",
       "      <th></th>\n",
       "      <th>growth</th>\n",
       "      <th>growthRate</th>\n",
       "      <th>population</th>\n",
       "      <th>year</th>\n",
       "      <th>Historical</th>\n",
       "    </tr>\n",
       "  </thead>\n",
       "  <tbody>\n",
       "    <tr>\n",
       "      <th>0</th>\n",
       "      <td>651072</td>\n",
       "      <td>0.023375</td>\n",
       "      <td>28504352</td>\n",
       "      <td>2035</td>\n",
       "      <td>21st Century</td>\n",
       "    </tr>\n",
       "    <tr>\n",
       "      <th>1</th>\n",
       "      <td>623526</td>\n",
       "      <td>0.022899</td>\n",
       "      <td>27853280</td>\n",
       "      <td>2034</td>\n",
       "      <td>21st Century</td>\n",
       "    </tr>\n",
       "    <tr>\n",
       "      <th>2</th>\n",
       "      <td>596806</td>\n",
       "      <td>0.022409</td>\n",
       "      <td>27229754</td>\n",
       "      <td>2033</td>\n",
       "      <td>21st Century</td>\n",
       "    </tr>\n",
       "    <tr>\n",
       "      <th>3</th>\n",
       "      <td>570172</td>\n",
       "      <td>0.021877</td>\n",
       "      <td>26632948</td>\n",
       "      <td>2032</td>\n",
       "      <td>21st Century</td>\n",
       "    </tr>\n",
       "    <tr>\n",
       "      <th>4</th>\n",
       "      <td>546080</td>\n",
       "      <td>0.021401</td>\n",
       "      <td>26062776</td>\n",
       "      <td>2031</td>\n",
       "      <td>21st Century</td>\n",
       "    </tr>\n",
       "  </tbody>\n",
       "</table>\n",
       "</div>"
      ],
      "text/plain": [
       "   growth  growthRate  population  year    Historical\n",
       "0  651072    0.023375    28504352  2035  21st Century\n",
       "1  623526    0.022899    27853280  2034  21st Century\n",
       "2  596806    0.022409    27229754  2033  21st Century\n",
       "3  570172    0.021877    26632948  2032  21st Century\n",
       "4  546080    0.021401    26062776  2031  21st Century"
      ]
     },
     "execution_count": 11,
     "metadata": {},
     "output_type": "execute_result"
    }
   ],
   "source": [
    "df.head()"
   ]
  },
  {
   "cell_type": "code",
   "execution_count": 12,
   "id": "7634cbe5",
   "metadata": {},
   "outputs": [],
   "source": [
    "df = df.drop('Historical', axis=1)"
   ]
  },
  {
   "cell_type": "code",
   "execution_count": 13,
   "id": "30903417",
   "metadata": {},
   "outputs": [],
   "source": [
    "df = df.rename(columns={'growth': 'population_growth', 'growthRate': 'population_growth_rate'})"
   ]
  },
  {
   "cell_type": "code",
   "execution_count": 14,
   "id": "3c51136b",
   "metadata": {},
   "outputs": [],
   "source": [
    "df['Country'] = 'Egypt'\n",
    "df['City'] = 'Cairo'"
   ]
  },
  {
   "cell_type": "code",
   "execution_count": 15,
   "id": "f493a855",
   "metadata": {},
   "outputs": [
    {
     "data": {
      "text/html": [
       "<div>\n",
       "<style scoped>\n",
       "    .dataframe tbody tr th:only-of-type {\n",
       "        vertical-align: middle;\n",
       "    }\n",
       "\n",
       "    .dataframe tbody tr th {\n",
       "        vertical-align: top;\n",
       "    }\n",
       "\n",
       "    .dataframe thead th {\n",
       "        text-align: right;\n",
       "    }\n",
       "</style>\n",
       "<table border=\"1\" class=\"dataframe\">\n",
       "  <thead>\n",
       "    <tr style=\"text-align: right;\">\n",
       "      <th></th>\n",
       "      <th>population_growth</th>\n",
       "      <th>population_growth_rate</th>\n",
       "      <th>population</th>\n",
       "      <th>year</th>\n",
       "      <th>Country</th>\n",
       "      <th>City</th>\n",
       "    </tr>\n",
       "  </thead>\n",
       "  <tbody>\n",
       "    <tr>\n",
       "      <th>0</th>\n",
       "      <td>651072</td>\n",
       "      <td>0.023375</td>\n",
       "      <td>28504352</td>\n",
       "      <td>2035</td>\n",
       "      <td>Egypt</td>\n",
       "      <td>Cairo</td>\n",
       "    </tr>\n",
       "    <tr>\n",
       "      <th>1</th>\n",
       "      <td>623526</td>\n",
       "      <td>0.022899</td>\n",
       "      <td>27853280</td>\n",
       "      <td>2034</td>\n",
       "      <td>Egypt</td>\n",
       "      <td>Cairo</td>\n",
       "    </tr>\n",
       "    <tr>\n",
       "      <th>2</th>\n",
       "      <td>596806</td>\n",
       "      <td>0.022409</td>\n",
       "      <td>27229754</td>\n",
       "      <td>2033</td>\n",
       "      <td>Egypt</td>\n",
       "      <td>Cairo</td>\n",
       "    </tr>\n",
       "    <tr>\n",
       "      <th>3</th>\n",
       "      <td>570172</td>\n",
       "      <td>0.021877</td>\n",
       "      <td>26632948</td>\n",
       "      <td>2032</td>\n",
       "      <td>Egypt</td>\n",
       "      <td>Cairo</td>\n",
       "    </tr>\n",
       "    <tr>\n",
       "      <th>4</th>\n",
       "      <td>546080</td>\n",
       "      <td>0.021401</td>\n",
       "      <td>26062776</td>\n",
       "      <td>2031</td>\n",
       "      <td>Egypt</td>\n",
       "      <td>Cairo</td>\n",
       "    </tr>\n",
       "    <tr>\n",
       "      <th>...</th>\n",
       "      <td>...</td>\n",
       "      <td>...</td>\n",
       "      <td>...</td>\n",
       "      <td>...</td>\n",
       "      <td>...</td>\n",
       "      <td>...</td>\n",
       "    </tr>\n",
       "    <tr>\n",
       "      <th>81</th>\n",
       "      <td>111220</td>\n",
       "      <td>0.039688</td>\n",
       "      <td>2913563</td>\n",
       "      <td>1954</td>\n",
       "      <td>Egypt</td>\n",
       "      <td>Cairo</td>\n",
       "    </tr>\n",
       "    <tr>\n",
       "      <th>82</th>\n",
       "      <td>106830</td>\n",
       "      <td>0.039633</td>\n",
       "      <td>2802343</td>\n",
       "      <td>1953</td>\n",
       "      <td>Egypt</td>\n",
       "      <td>Cairo</td>\n",
       "    </tr>\n",
       "    <tr>\n",
       "      <th>83</th>\n",
       "      <td>103036</td>\n",
       "      <td>0.039744</td>\n",
       "      <td>2695513</td>\n",
       "      <td>1952</td>\n",
       "      <td>Egypt</td>\n",
       "      <td>Cairo</td>\n",
       "    </tr>\n",
       "    <tr>\n",
       "      <th>84</th>\n",
       "      <td>98963</td>\n",
       "      <td>0.039688</td>\n",
       "      <td>2592477</td>\n",
       "      <td>1951</td>\n",
       "      <td>Egypt</td>\n",
       "      <td>Cairo</td>\n",
       "    </tr>\n",
       "    <tr>\n",
       "      <th>85</th>\n",
       "      <td>0</td>\n",
       "      <td>0.000000</td>\n",
       "      <td>2493514</td>\n",
       "      <td>1950</td>\n",
       "      <td>Egypt</td>\n",
       "      <td>Cairo</td>\n",
       "    </tr>\n",
       "  </tbody>\n",
       "</table>\n",
       "<p>86 rows × 6 columns</p>\n",
       "</div>"
      ],
      "text/plain": [
       "    population_growth  population_growth_rate  population  year Country   City\n",
       "0              651072                0.023375    28504352  2035   Egypt  Cairo\n",
       "1              623526                0.022899    27853280  2034   Egypt  Cairo\n",
       "2              596806                0.022409    27229754  2033   Egypt  Cairo\n",
       "3              570172                0.021877    26632948  2032   Egypt  Cairo\n",
       "4              546080                0.021401    26062776  2031   Egypt  Cairo\n",
       "..                ...                     ...         ...   ...     ...    ...\n",
       "81             111220                0.039688     2913563  1954   Egypt  Cairo\n",
       "82             106830                0.039633     2802343  1953   Egypt  Cairo\n",
       "83             103036                0.039744     2695513  1952   Egypt  Cairo\n",
       "84              98963                0.039688     2592477  1951   Egypt  Cairo\n",
       "85                  0                0.000000     2493514  1950   Egypt  Cairo\n",
       "\n",
       "[86 rows x 6 columns]"
      ]
     },
     "execution_count": 15,
     "metadata": {},
     "output_type": "execute_result"
    }
   ],
   "source": [
    "df"
   ]
  },
  {
   "cell_type": "code",
   "execution_count": 17,
   "id": "c85f1c6c",
   "metadata": {},
   "outputs": [],
   "source": [
    "df.rename(columns={'year':'Year' } , inplace=True )"
   ]
  },
  {
   "cell_type": "code",
   "execution_count": null,
   "id": "af8f50af",
   "metadata": {},
   "outputs": [],
   "source": [
    "df.to_csv('../../task 2 data preprocessing/processedData/population-cairo_1950_to_2035_processed.csv',index=False)\n"
   ]
  }
 ],
 "metadata": {
  "kernelspec": {
   "display_name": "Python 3 (ipykernel)",
   "language": "python",
   "name": "python3"
  },
  "language_info": {
   "codemirror_mode": {
    "name": "ipython",
    "version": 3
   },
   "file_extension": ".py",
   "mimetype": "text/x-python",
   "name": "python",
   "nbconvert_exporter": "python",
   "pygments_lexer": "ipython3",
   "version": "3.9.12"
  }
 },
 "nbformat": 4,
 "nbformat_minor": 5
}

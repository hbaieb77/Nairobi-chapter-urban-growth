{
  "cells": [
    {
      "cell_type": "markdown",
      "metadata": {
        "id": "jC19h3OA-y_v"
      },
      "source": [
        "# Preprocessing for [urbanization_population_public_services_quality_of_housing_africa_1992_2021.csv](https://github.com/OmdenaAI/nairobi-chapter-urban-growth/blob/main/src/data/city_growth_models/urbanization_population_public_services_quality_of_housing_africa_1992_2021.csv)"
      ]
    },
    {
      "cell_type": "code",
      "execution_count": 1,
      "metadata": {
        "id": "HOoNdT9i_L-l"
      },
      "outputs": [],
      "source": [
        "import pandas as pd\n",
        "import numpy as np\n",
        "import seaborn as sns\n",
        "from matplotlib import pyplot as plt \n",
        "#from fancyimpute import IterativeImputer"
      ]
    },
    {
      "cell_type": "code",
      "execution_count": 21,
      "metadata": {},
      "outputs": [],
      "source": [
        "#TODO: Add a summary block describing the file"
      ]
    },
    {
      "cell_type": "code",
      "execution_count": 2,
      "metadata": {
        "id": "fNzLdh7z_Qi7"
      },
      "outputs": [],
      "source": [
        "#TODO: I'm not familiar with using an HTTP code in readCSV, but I think it'd be better to use a relative path, such as below.\n",
        "df =  pd.read_csv('../../src/data/city_growth_models/urbanization_population_public_services_quality_of_housing_africa_1992_2021.csv')\n",
        "#df = pd.read_csv('https://raw.githubusercontent.com/OmdenaAI/nairobi-chapter-urban-growth/main/src/data/city_growth_models/urbanization_population_public_services_quality_of_housing_africa_1992_2021.csv?token=GHSAT0AAAAAAB5DZJSI757UVEE3R3BCGONSZA4Q3DQ')"
      ]
    },
    {
      "cell_type": "code",
      "execution_count": 3,
      "metadata": {
        "colab": {
          "base_uri": "https://localhost:8080/",
          "height": 331
        },
        "id": "-0PU04TwASYw",
        "outputId": "2ad51258-dafb-409f-bc31-b0e90e118c45"
      },
      "outputs": [
        {
          "data": {
            "text/html": [
              "<div>\n",
              "<style scoped>\n",
              "    .dataframe tbody tr th:only-of-type {\n",
              "        vertical-align: middle;\n",
              "    }\n",
              "\n",
              "    .dataframe tbody tr th {\n",
              "        vertical-align: top;\n",
              "    }\n",
              "\n",
              "    .dataframe thead th {\n",
              "        text-align: right;\n",
              "    }\n",
              "</style>\n",
              "<table border=\"1\" class=\"dataframe\">\n",
              "  <thead>\n",
              "    <tr style=\"text-align: right;\">\n",
              "      <th></th>\n",
              "      <th>Country</th>\n",
              "      <th>Continent</th>\n",
              "      <th>ISO_Code</th>\n",
              "      <th>Level</th>\n",
              "      <th>GDLCODE</th>\n",
              "      <th>Region</th>\n",
              "      <th>Urbanization</th>\n",
              "      <th>Area pop millions</th>\n",
              "      <th>Area pop share</th>\n",
              "      <th>% Aged 0-9</th>\n",
              "      <th>...</th>\n",
              "      <th>% Aged 90+</th>\n",
              "      <th>HH size</th>\n",
              "      <th>% Piped water</th>\n",
              "      <th>% Electricity</th>\n",
              "      <th>% Flush toilet</th>\n",
              "      <th>% 0-1 sleep room</th>\n",
              "      <th>% 2 sleep rooms</th>\n",
              "      <th>% 3+ sleep rooms</th>\n",
              "      <th>% Natural floor</th>\n",
              "      <th>% Cook on wood</th>\n",
              "    </tr>\n",
              "  </thead>\n",
              "  <tbody>\n",
              "    <tr>\n",
              "      <th>0</th>\n",
              "      <td>Algeria</td>\n",
              "      <td>Africa</td>\n",
              "      <td>DZA</td>\n",
              "      <td>National</td>\n",
              "      <td>DZAt</td>\n",
              "      <td>Total</td>\n",
              "      <td>63.4</td>\n",
              "      <td>44.70</td>\n",
              "      <td>100.00</td>\n",
              "      <td>19.9</td>\n",
              "      <td>...</td>\n",
              "      <td>0.30</td>\n",
              "      <td>4.78</td>\n",
              "      <td>NaN</td>\n",
              "      <td>99.8</td>\n",
              "      <td>NaN</td>\n",
              "      <td>19.1</td>\n",
              "      <td>35.0</td>\n",
              "      <td>45.9</td>\n",
              "      <td>NaN</td>\n",
              "      <td>5.78</td>\n",
              "    </tr>\n",
              "    <tr>\n",
              "      <th>1</th>\n",
              "      <td>Algeria</td>\n",
              "      <td>Africa</td>\n",
              "      <td>DZA</td>\n",
              "      <td>Urb/rur</td>\n",
              "      <td>DZAtu</td>\n",
              "      <td>Urban</td>\n",
              "      <td>100.0</td>\n",
              "      <td>28.30</td>\n",
              "      <td>63.40</td>\n",
              "      <td>18.6</td>\n",
              "      <td>...</td>\n",
              "      <td>0.36</td>\n",
              "      <td>4.71</td>\n",
              "      <td>NaN</td>\n",
              "      <td>99.9</td>\n",
              "      <td>NaN</td>\n",
              "      <td>16.5</td>\n",
              "      <td>35.5</td>\n",
              "      <td>48.1</td>\n",
              "      <td>NaN</td>\n",
              "      <td>0.66</td>\n",
              "    </tr>\n",
              "    <tr>\n",
              "      <th>2</th>\n",
              "      <td>Algeria</td>\n",
              "      <td>Africa</td>\n",
              "      <td>DZA</td>\n",
              "      <td>Urb/rur</td>\n",
              "      <td>DZAtr</td>\n",
              "      <td>Rural</td>\n",
              "      <td>0.0</td>\n",
              "      <td>16.40</td>\n",
              "      <td>36.60</td>\n",
              "      <td>22.3</td>\n",
              "      <td>...</td>\n",
              "      <td>0.22</td>\n",
              "      <td>4.90</td>\n",
              "      <td>NaN</td>\n",
              "      <td>99.7</td>\n",
              "      <td>NaN</td>\n",
              "      <td>23.7</td>\n",
              "      <td>34.2</td>\n",
              "      <td>42.1</td>\n",
              "      <td>NaN</td>\n",
              "      <td>8.32</td>\n",
              "    </tr>\n",
              "    <tr>\n",
              "      <th>3</th>\n",
              "      <td>Algeria</td>\n",
              "      <td>Africa</td>\n",
              "      <td>DZA</td>\n",
              "      <td>Poverty</td>\n",
              "      <td>DZAp1</td>\n",
              "      <td>Poor</td>\n",
              "      <td>15.7</td>\n",
              "      <td>0.23</td>\n",
              "      <td>0.49</td>\n",
              "      <td>24.8</td>\n",
              "      <td>...</td>\n",
              "      <td>0.57</td>\n",
              "      <td>4.56</td>\n",
              "      <td>NaN</td>\n",
              "      <td>71.0</td>\n",
              "      <td>NaN</td>\n",
              "      <td>62.5</td>\n",
              "      <td>25.3</td>\n",
              "      <td>12.2</td>\n",
              "      <td>NaN</td>\n",
              "      <td>67.80</td>\n",
              "    </tr>\n",
              "    <tr>\n",
              "      <th>4</th>\n",
              "      <td>Algeria</td>\n",
              "      <td>Africa</td>\n",
              "      <td>DZA</td>\n",
              "      <td>Poverty</td>\n",
              "      <td>DZAp0</td>\n",
              "      <td>Nonpoor</td>\n",
              "      <td>63.6</td>\n",
              "      <td>44.40</td>\n",
              "      <td>99.50</td>\n",
              "      <td>19.9</td>\n",
              "      <td>...</td>\n",
              "      <td>0.30</td>\n",
              "      <td>4.78</td>\n",
              "      <td>NaN</td>\n",
              "      <td>99.9</td>\n",
              "      <td>NaN</td>\n",
              "      <td>18.8</td>\n",
              "      <td>35.1</td>\n",
              "      <td>46.1</td>\n",
              "      <td>NaN</td>\n",
              "      <td>3.64</td>\n",
              "    </tr>\n",
              "  </tbody>\n",
              "</table>\n",
              "<p>5 rows × 28 columns</p>\n",
              "</div>"
            ],
            "text/plain": [
              "   Country Continent ISO_Code     Level GDLCODE   Region  Urbanization  \\\n",
              "0  Algeria    Africa      DZA  National    DZAt    Total          63.4   \n",
              "1  Algeria    Africa      DZA   Urb/rur   DZAtu    Urban         100.0   \n",
              "2  Algeria    Africa      DZA   Urb/rur   DZAtr    Rural           0.0   \n",
              "3  Algeria    Africa      DZA   Poverty   DZAp1     Poor          15.7   \n",
              "4  Algeria    Africa      DZA   Poverty   DZAp0  Nonpoor          63.6   \n",
              "\n",
              "   Area pop millions  Area pop share  % Aged 0-9  ...  % Aged 90+  HH size  \\\n",
              "0              44.70          100.00        19.9  ...        0.30     4.78   \n",
              "1              28.30           63.40        18.6  ...        0.36     4.71   \n",
              "2              16.40           36.60        22.3  ...        0.22     4.90   \n",
              "3               0.23            0.49        24.8  ...        0.57     4.56   \n",
              "4              44.40           99.50        19.9  ...        0.30     4.78   \n",
              "\n",
              "   % Piped water  % Electricity  % Flush toilet  % 0-1 sleep room  \\\n",
              "0            NaN           99.8             NaN              19.1   \n",
              "1            NaN           99.9             NaN              16.5   \n",
              "2            NaN           99.7             NaN              23.7   \n",
              "3            NaN           71.0             NaN              62.5   \n",
              "4            NaN           99.9             NaN              18.8   \n",
              "\n",
              "   % 2 sleep rooms  % 3+ sleep rooms  % Natural floor  % Cook on wood  \n",
              "0             35.0              45.9              NaN            5.78  \n",
              "1             35.5              48.1              NaN            0.66  \n",
              "2             34.2              42.1              NaN            8.32  \n",
              "3             25.3              12.2              NaN           67.80  \n",
              "4             35.1              46.1              NaN            3.64  \n",
              "\n",
              "[5 rows x 28 columns]"
            ]
          },
          "execution_count": 3,
          "metadata": {},
          "output_type": "execute_result"
        }
      ],
      "source": [
        "df.head()"
      ]
    },
    {
      "cell_type": "code",
      "execution_count": 5,
      "metadata": {},
      "outputs": [
        {
          "data": {
            "text/plain": [
              "Index(['Country', 'Continent', 'ISO_Code', 'Level', 'GDLCODE', 'Region',\n",
              "       'Urbanization', 'Area pop millions', 'Area pop share', '% Aged 0-9',\n",
              "       '% Aged 10-19', '% Aged 20-29', '% Aged 30-39', '% Aged 40-49',\n",
              "       '% Aged 50-59', '% Aged 60-69', '% Aged 70-79', '% Aged 80-89',\n",
              "       '% Aged 90+', 'HH size', '% Piped water', '% Electricity',\n",
              "       '% Flush toilet', '% 0-1 sleep room', '% 2 sleep rooms',\n",
              "       '% 3+ sleep rooms', '% Natural floor', '% Cook on wood'],\n",
              "      dtype='object')"
            ]
          },
          "execution_count": 5,
          "metadata": {},
          "output_type": "execute_result"
        }
      ],
      "source": [
        "df.columns "
      ]
    },
    {
      "cell_type": "code",
      "execution_count": 24,
      "metadata": {},
      "outputs": [],
      "source": [
        "#TODO: IT may be worth creating a data dictionary and also pivoting the data."
      ]
    },
    {
      "cell_type": "code",
      "execution_count": 25,
      "metadata": {
        "colab": {
          "base_uri": "https://localhost:8080/",
          "height": 428
        },
        "id": "9ld8WNCsATGX",
        "outputId": "b270c4c2-da91-49ff-a5c8-5f0d5931392f"
      },
      "outputs": [
        {
          "data": {
            "text/html": [
              "<div>\n",
              "<style scoped>\n",
              "    .dataframe tbody tr th:only-of-type {\n",
              "        vertical-align: middle;\n",
              "    }\n",
              "\n",
              "    .dataframe tbody tr th {\n",
              "        vertical-align: top;\n",
              "    }\n",
              "\n",
              "    .dataframe thead th {\n",
              "        text-align: right;\n",
              "    }\n",
              "</style>\n",
              "<table border=\"1\" class=\"dataframe\">\n",
              "  <thead>\n",
              "    <tr style=\"text-align: right;\">\n",
              "      <th></th>\n",
              "      <th>Urbanization</th>\n",
              "      <th>Area pop millions</th>\n",
              "      <th>Area pop share</th>\n",
              "      <th>% Aged 0-9</th>\n",
              "      <th>% Aged 10-19</th>\n",
              "      <th>% Aged 20-29</th>\n",
              "      <th>% Aged 30-39</th>\n",
              "      <th>% Aged 40-49</th>\n",
              "      <th>% Aged 50-59</th>\n",
              "      <th>% Aged 60-69</th>\n",
              "      <th>...</th>\n",
              "      <th>% Aged 90+</th>\n",
              "      <th>HH size</th>\n",
              "      <th>% Piped water</th>\n",
              "      <th>% Electricity</th>\n",
              "      <th>% Flush toilet</th>\n",
              "      <th>% 0-1 sleep room</th>\n",
              "      <th>% 2 sleep rooms</th>\n",
              "      <th>% 3+ sleep rooms</th>\n",
              "      <th>% Natural floor</th>\n",
              "      <th>% Cook on wood</th>\n",
              "    </tr>\n",
              "  </thead>\n",
              "  <tbody>\n",
              "    <tr>\n",
              "      <th>count</th>\n",
              "      <td>462.000000</td>\n",
              "      <td>381.000000</td>\n",
              "      <td>462.000000</td>\n",
              "      <td>462.000000</td>\n",
              "      <td>462.000000</td>\n",
              "      <td>462.000000</td>\n",
              "      <td>462.000000</td>\n",
              "      <td>462.000000</td>\n",
              "      <td>462.000000</td>\n",
              "      <td>462.000000</td>\n",
              "      <td>...</td>\n",
              "      <td>462.000000</td>\n",
              "      <td>462.000000</td>\n",
              "      <td>0.0</td>\n",
              "      <td>462.000000</td>\n",
              "      <td>0.0</td>\n",
              "      <td>462.000000</td>\n",
              "      <td>462.000000</td>\n",
              "      <td>462.000000</td>\n",
              "      <td>0.0</td>\n",
              "      <td>334.000000</td>\n",
              "    </tr>\n",
              "    <tr>\n",
              "      <th>mean</th>\n",
              "      <td>40.901732</td>\n",
              "      <td>7.280367</td>\n",
              "      <td>25.196558</td>\n",
              "      <td>30.385498</td>\n",
              "      <td>23.189048</td>\n",
              "      <td>14.097619</td>\n",
              "      <td>11.763831</td>\n",
              "      <td>7.995325</td>\n",
              "      <td>5.973766</td>\n",
              "      <td>3.888896</td>\n",
              "      <td>...</td>\n",
              "      <td>0.211775</td>\n",
              "      <td>5.927165</td>\n",
              "      <td>NaN</td>\n",
              "      <td>49.513658</td>\n",
              "      <td>NaN</td>\n",
              "      <td>31.628398</td>\n",
              "      <td>31.947294</td>\n",
              "      <td>36.478636</td>\n",
              "      <td>NaN</td>\n",
              "      <td>80.896048</td>\n",
              "    </tr>\n",
              "    <tr>\n",
              "      <th>std</th>\n",
              "      <td>32.066146</td>\n",
              "      <td>17.674267</td>\n",
              "      <td>26.216323</td>\n",
              "      <td>6.014122</td>\n",
              "      <td>3.464045</td>\n",
              "      <td>2.672996</td>\n",
              "      <td>2.369891</td>\n",
              "      <td>2.044437</td>\n",
              "      <td>1.853460</td>\n",
              "      <td>1.611753</td>\n",
              "      <td>...</td>\n",
              "      <td>0.182953</td>\n",
              "      <td>2.310432</td>\n",
              "      <td>NaN</td>\n",
              "      <td>33.790857</td>\n",
              "      <td>NaN</td>\n",
              "      <td>17.391671</td>\n",
              "      <td>8.864247</td>\n",
              "      <td>18.810235</td>\n",
              "      <td>NaN</td>\n",
              "      <td>32.811945</td>\n",
              "    </tr>\n",
              "    <tr>\n",
              "      <th>min</th>\n",
              "      <td>0.000000</td>\n",
              "      <td>0.000000</td>\n",
              "      <td>0.010000</td>\n",
              "      <td>14.600000</td>\n",
              "      <td>7.040000</td>\n",
              "      <td>6.220000</td>\n",
              "      <td>6.170000</td>\n",
              "      <td>2.750000</td>\n",
              "      <td>2.340000</td>\n",
              "      <td>0.670000</td>\n",
              "      <td>...</td>\n",
              "      <td>0.000000</td>\n",
              "      <td>1.980000</td>\n",
              "      <td>NaN</td>\n",
              "      <td>0.000000</td>\n",
              "      <td>NaN</td>\n",
              "      <td>0.010000</td>\n",
              "      <td>5.730000</td>\n",
              "      <td>0.010000</td>\n",
              "      <td>NaN</td>\n",
              "      <td>0.000000</td>\n",
              "    </tr>\n",
              "    <tr>\n",
              "      <th>25%</th>\n",
              "      <td>15.000000</td>\n",
              "      <td>0.930000</td>\n",
              "      <td>5.937500</td>\n",
              "      <td>26.725000</td>\n",
              "      <td>21.500000</td>\n",
              "      <td>12.200000</td>\n",
              "      <td>10.100000</td>\n",
              "      <td>6.495000</td>\n",
              "      <td>4.852500</td>\n",
              "      <td>2.882500</td>\n",
              "      <td>...</td>\n",
              "      <td>0.090000</td>\n",
              "      <td>4.180000</td>\n",
              "      <td>NaN</td>\n",
              "      <td>18.250000</td>\n",
              "      <td>NaN</td>\n",
              "      <td>18.100000</td>\n",
              "      <td>26.325000</td>\n",
              "      <td>22.125000</td>\n",
              "      <td>NaN</td>\n",
              "      <td>80.200000</td>\n",
              "    </tr>\n",
              "    <tr>\n",
              "      <th>50%</th>\n",
              "      <td>32.050000</td>\n",
              "      <td>2.730000</td>\n",
              "      <td>17.200000</td>\n",
              "      <td>30.450000</td>\n",
              "      <td>23.650000</td>\n",
              "      <td>13.900000</td>\n",
              "      <td>11.300000</td>\n",
              "      <td>7.595000</td>\n",
              "      <td>5.570000</td>\n",
              "      <td>3.485000</td>\n",
              "      <td>...</td>\n",
              "      <td>0.170000</td>\n",
              "      <td>5.270000</td>\n",
              "      <td>NaN</td>\n",
              "      <td>47.900000</td>\n",
              "      <td>NaN</td>\n",
              "      <td>28.600000</td>\n",
              "      <td>31.800000</td>\n",
              "      <td>35.150000</td>\n",
              "      <td>NaN</td>\n",
              "      <td>98.700000</td>\n",
              "    </tr>\n",
              "    <tr>\n",
              "      <th>75%</th>\n",
              "      <td>65.100000</td>\n",
              "      <td>6.150000</td>\n",
              "      <td>27.900000</td>\n",
              "      <td>35.075000</td>\n",
              "      <td>25.500000</td>\n",
              "      <td>15.700000</td>\n",
              "      <td>13.200000</td>\n",
              "      <td>9.097500</td>\n",
              "      <td>6.525000</td>\n",
              "      <td>4.397500</td>\n",
              "      <td>...</td>\n",
              "      <td>0.290000</td>\n",
              "      <td>7.537500</td>\n",
              "      <td>NaN</td>\n",
              "      <td>82.575000</td>\n",
              "      <td>NaN</td>\n",
              "      <td>42.750000</td>\n",
              "      <td>38.975000</td>\n",
              "      <td>48.100000</td>\n",
              "      <td>NaN</td>\n",
              "      <td>99.800000</td>\n",
              "    </tr>\n",
              "    <tr>\n",
              "      <th>max</th>\n",
              "      <td>100.000000</td>\n",
              "      <td>210.000000</td>\n",
              "      <td>100.000000</td>\n",
              "      <td>43.300000</td>\n",
              "      <td>30.700000</td>\n",
              "      <td>22.400000</td>\n",
              "      <td>20.300000</td>\n",
              "      <td>14.500000</td>\n",
              "      <td>14.900000</td>\n",
              "      <td>14.500000</td>\n",
              "      <td>...</td>\n",
              "      <td>1.430000</td>\n",
              "      <td>17.900000</td>\n",
              "      <td>NaN</td>\n",
              "      <td>100.000000</td>\n",
              "      <td>NaN</td>\n",
              "      <td>92.300000</td>\n",
              "      <td>56.500000</td>\n",
              "      <td>92.000000</td>\n",
              "      <td>NaN</td>\n",
              "      <td>100.000000</td>\n",
              "    </tr>\n",
              "  </tbody>\n",
              "</table>\n",
              "<p>8 rows × 22 columns</p>\n",
              "</div>"
            ],
            "text/plain": [
              "       Urbanization  Area pop millions  Area pop share  % Aged 0-9  \\\n",
              "count    462.000000         381.000000      462.000000  462.000000   \n",
              "mean      40.901732           7.280367       25.196558   30.385498   \n",
              "std       32.066146          17.674267       26.216323    6.014122   \n",
              "min        0.000000           0.000000        0.010000   14.600000   \n",
              "25%       15.000000           0.930000        5.937500   26.725000   \n",
              "50%       32.050000           2.730000       17.200000   30.450000   \n",
              "75%       65.100000           6.150000       27.900000   35.075000   \n",
              "max      100.000000         210.000000      100.000000   43.300000   \n",
              "\n",
              "       % Aged 10-19  % Aged 20-29  % Aged 30-39  % Aged 40-49  % Aged 50-59  \\\n",
              "count    462.000000    462.000000    462.000000    462.000000    462.000000   \n",
              "mean      23.189048     14.097619     11.763831      7.995325      5.973766   \n",
              "std        3.464045      2.672996      2.369891      2.044437      1.853460   \n",
              "min        7.040000      6.220000      6.170000      2.750000      2.340000   \n",
              "25%       21.500000     12.200000     10.100000      6.495000      4.852500   \n",
              "50%       23.650000     13.900000     11.300000      7.595000      5.570000   \n",
              "75%       25.500000     15.700000     13.200000      9.097500      6.525000   \n",
              "max       30.700000     22.400000     20.300000     14.500000     14.900000   \n",
              "\n",
              "       % Aged 60-69  ...  % Aged 90+     HH size  % Piped water  \\\n",
              "count    462.000000  ...  462.000000  462.000000            0.0   \n",
              "mean       3.888896  ...    0.211775    5.927165            NaN   \n",
              "std        1.611753  ...    0.182953    2.310432            NaN   \n",
              "min        0.670000  ...    0.000000    1.980000            NaN   \n",
              "25%        2.882500  ...    0.090000    4.180000            NaN   \n",
              "50%        3.485000  ...    0.170000    5.270000            NaN   \n",
              "75%        4.397500  ...    0.290000    7.537500            NaN   \n",
              "max       14.500000  ...    1.430000   17.900000            NaN   \n",
              "\n",
              "       % Electricity  % Flush toilet  % 0-1 sleep room  % 2 sleep rooms  \\\n",
              "count     462.000000             0.0        462.000000       462.000000   \n",
              "mean       49.513658             NaN         31.628398        31.947294   \n",
              "std        33.790857             NaN         17.391671         8.864247   \n",
              "min         0.000000             NaN          0.010000         5.730000   \n",
              "25%        18.250000             NaN         18.100000        26.325000   \n",
              "50%        47.900000             NaN         28.600000        31.800000   \n",
              "75%        82.575000             NaN         42.750000        38.975000   \n",
              "max       100.000000             NaN         92.300000        56.500000   \n",
              "\n",
              "       % 3+ sleep rooms  % Natural floor  % Cook on wood  \n",
              "count        462.000000              0.0      334.000000  \n",
              "mean          36.478636              NaN       80.896048  \n",
              "std           18.810235              NaN       32.811945  \n",
              "min            0.010000              NaN        0.000000  \n",
              "25%           22.125000              NaN       80.200000  \n",
              "50%           35.150000              NaN       98.700000  \n",
              "75%           48.100000              NaN       99.800000  \n",
              "max           92.000000              NaN      100.000000  \n",
              "\n",
              "[8 rows x 22 columns]"
            ]
          },
          "execution_count": 25,
          "metadata": {},
          "output_type": "execute_result"
        }
      ],
      "source": [
        "df.describe()"
      ]
    },
    {
      "cell_type": "code",
      "execution_count": 26,
      "metadata": {
        "colab": {
          "base_uri": "https://localhost:8080/"
        },
        "id": "iG1OOdKLAdbB",
        "outputId": "21e28ad6-874c-4516-aa50-97a6e2487161"
      },
      "outputs": [
        {
          "name": "stdout",
          "output_type": "stream",
          "text": [
            "<class 'pandas.core.frame.DataFrame'>\n",
            "RangeIndex: 462 entries, 0 to 461\n",
            "Data columns (total 28 columns):\n",
            " #   Column             Non-Null Count  Dtype  \n",
            "---  ------             --------------  -----  \n",
            " 0   Country            462 non-null    object \n",
            " 1   Continent          462 non-null    object \n",
            " 2   ISO_Code           462 non-null    object \n",
            " 3   Level              462 non-null    object \n",
            " 4   GDLCODE            462 non-null    object \n",
            " 5   Region             462 non-null    object \n",
            " 6   Urbanization       462 non-null    float64\n",
            " 7   Area pop millions  381 non-null    float64\n",
            " 8   Area pop share     462 non-null    float64\n",
            " 9   % Aged 0-9         462 non-null    float64\n",
            " 10  % Aged 10-19       462 non-null    float64\n",
            " 11  % Aged 20-29       462 non-null    float64\n",
            " 12  % Aged 30-39       462 non-null    float64\n",
            " 13  % Aged 40-49       462 non-null    float64\n",
            " 14  % Aged 50-59       462 non-null    float64\n",
            " 15  % Aged 60-69       462 non-null    float64\n",
            " 16  % Aged 70-79       462 non-null    float64\n",
            " 17  % Aged 80-89       462 non-null    float64\n",
            " 18  % Aged 90+         462 non-null    float64\n",
            " 19  HH size            462 non-null    float64\n",
            " 20  % Piped water      0 non-null      float64\n",
            " 21  % Electricity      462 non-null    float64\n",
            " 22  % Flush toilet     0 non-null      float64\n",
            " 23  % 0-1 sleep room   462 non-null    float64\n",
            " 24  % 2 sleep rooms    462 non-null    float64\n",
            " 25  % 3+ sleep rooms   462 non-null    float64\n",
            " 26  % Natural floor    0 non-null      float64\n",
            " 27  % Cook on wood     334 non-null    float64\n",
            "dtypes: float64(22), object(6)\n",
            "memory usage: 101.2+ KB\n"
          ]
        }
      ],
      "source": [
        "df.info()"
      ]
    },
    {
      "cell_type": "code",
      "execution_count": 27,
      "metadata": {},
      "outputs": [
        {
          "data": {
            "text/plain": [
              "Africa    462\n",
              "Name: Continent, dtype: int64"
            ]
          },
          "execution_count": 27,
          "metadata": {},
          "output_type": "execute_result"
        }
      ],
      "source": [
        "df.Continent.value_counts()"
      ]
    },
    {
      "cell_type": "code",
      "execution_count": 28,
      "metadata": {
        "id": "2p5j0BnIsAIn"
      },
      "outputs": [],
      "source": [
        "#Dropping the continent column becasue its irelevant\n",
        "#TODO: It's a bit more verbose, but it'd be good to state that it's irrelavent (I assume) because every continent is Africa.\n",
        "df.drop('Continent', axis=1, inplace=True)"
      ]
    },
    {
      "cell_type": "code",
      "execution_count": 29,
      "metadata": {
        "colab": {
          "base_uri": "https://localhost:8080/"
        },
        "id": "sHiu6oDNs-gf",
        "outputId": "3b69e734-46a9-4597-a6b1-5c9fa40851ab"
      },
      "outputs": [
        {
          "data": {
            "text/plain": [
              "Country              0.000000\n",
              "ISO_Code             0.000000\n",
              "Level                0.000000\n",
              "GDLCODE              0.000000\n",
              "Region               0.000000\n",
              "Urbanization         0.000000\n",
              "Area pop millions    0.175325\n",
              "Area pop share       0.000000\n",
              "% Aged 0-9           0.000000\n",
              "% Aged 10-19         0.000000\n",
              "% Aged 20-29         0.000000\n",
              "% Aged 30-39         0.000000\n",
              "% Aged 40-49         0.000000\n",
              "% Aged 50-59         0.000000\n",
              "% Aged 60-69         0.000000\n",
              "% Aged 70-79         0.000000\n",
              "% Aged 80-89         0.000000\n",
              "% Aged 90+           0.000000\n",
              "HH size              0.000000\n",
              "% Piped water        1.000000\n",
              "% Electricity        0.000000\n",
              "% Flush toilet       1.000000\n",
              "% 0-1 sleep room     0.000000\n",
              "% 2 sleep rooms      0.000000\n",
              "% 3+ sleep rooms     0.000000\n",
              "% Natural floor      1.000000\n",
              "% Cook on wood       0.277056\n",
              "dtype: float64"
            ]
          },
          "execution_count": 29,
          "metadata": {},
          "output_type": "execute_result"
        }
      ],
      "source": [
        "df.isnull().sum()/len(df)"
      ]
    },
    {
      "cell_type": "code",
      "execution_count": 30,
      "metadata": {
        "id": "OJwLtWyE9Zyt"
      },
      "outputs": [],
      "source": [
        "#TODO: Good find! It'd be good to to find out, from the Data Collection Team, the data source, or elsewhere, why these rows are all 0.\n",
        "# Each contain %100 null values\n",
        "df.drop(['% Piped water', '% Flush toilet', '% Natural floor'], axis=1, inplace=True) "
      ]
    },
    {
      "cell_type": "code",
      "execution_count": 31,
      "metadata": {
        "colab": {
          "base_uri": "https://localhost:8080/"
        },
        "id": "DnlsVdV19qu3",
        "outputId": "ccc7c143-2de5-42fb-d4e9-77bcb820f56b"
      },
      "outputs": [
        {
          "data": {
            "text/plain": [
              "Nigeria                         46\n",
              "Madagascar                      37\n",
              "Liberia                         24\n",
              "Sierra Leone                    23\n",
              "Malawi                          22\n",
              "Mauritania                      21\n",
              "Congo Democratic Republic       20\n",
              "Lesotho                         19\n",
              "Senegal                         19\n",
              "Zimbabwe                        19\n",
              "Cameroon                        19\n",
              "Guinea Bissau                   18\n",
              "Zambia                          18\n",
              "Guinea                          17\n",
              "Mali                            17\n",
              "Gambia                          17\n",
              "Chad                            17\n",
              "Tunisia                         16\n",
              "Algeria                         16\n",
              "Benin                           15\n",
              "Central African Republic CAR    15\n",
              "Rwanda                          14\n",
              "Sao Tome & Principe             13\n",
              "Name: Country, dtype: int64"
            ]
          },
          "execution_count": 31,
          "metadata": {},
          "output_type": "execute_result"
        }
      ],
      "source": [
        "df['Country'].value_counts()"
      ]
    },
    {
      "cell_type": "code",
      "execution_count": 32,
      "metadata": {
        "colab": {
          "base_uri": "https://localhost:8080/"
        },
        "id": "7QT2EJQb90i1",
        "outputId": "43682035-24f8-4e95-c370-ed20e2641bfc"
      },
      "outputs": [
        {
          "data": {
            "text/plain": [
              "NGA    46\n",
              "MDG    37\n",
              "LBR    24\n",
              "SLE    23\n",
              "MWI    22\n",
              "MRT    21\n",
              "COD    20\n",
              "LSO    19\n",
              "SEN    19\n",
              "ZWE    19\n",
              "CMR    19\n",
              "GNB    18\n",
              "ZMB    18\n",
              "GIN    17\n",
              "MLI    17\n",
              "GMB    17\n",
              "TCD    17\n",
              "TUN    16\n",
              "DZA    16\n",
              "BEN    15\n",
              "CAF    15\n",
              "RWA    14\n",
              "STP    13\n",
              "Name: ISO_Code, dtype: int64"
            ]
          },
          "execution_count": 32,
          "metadata": {},
          "output_type": "execute_result"
        }
      ],
      "source": [
        "df['ISO_Code'].value_counts()"
      ]
    },
    {
      "cell_type": "code",
      "execution_count": 33,
      "metadata": {
        "colab": {
          "base_uri": "https://localhost:8080/",
          "height": 423
        },
        "id": "TGwYT0n497Ka",
        "outputId": "d26b8876-fee6-440f-b9ff-1402e10ac060"
      },
      "outputs": [
        {
          "data": {
            "text/html": [
              "<div>\n",
              "<style scoped>\n",
              "    .dataframe tbody tr th:only-of-type {\n",
              "        vertical-align: middle;\n",
              "    }\n",
              "\n",
              "    .dataframe tbody tr th {\n",
              "        vertical-align: top;\n",
              "    }\n",
              "\n",
              "    .dataframe thead th {\n",
              "        text-align: right;\n",
              "    }\n",
              "</style>\n",
              "<table border=\"1\" class=\"dataframe\">\n",
              "  <thead>\n",
              "    <tr style=\"text-align: right;\">\n",
              "      <th></th>\n",
              "      <th>ISO_Code</th>\n",
              "      <th>Country</th>\n",
              "    </tr>\n",
              "  </thead>\n",
              "  <tbody>\n",
              "    <tr>\n",
              "      <th>0</th>\n",
              "      <td>DZA</td>\n",
              "      <td>Algeria</td>\n",
              "    </tr>\n",
              "    <tr>\n",
              "      <th>1</th>\n",
              "      <td>DZA</td>\n",
              "      <td>Algeria</td>\n",
              "    </tr>\n",
              "    <tr>\n",
              "      <th>2</th>\n",
              "      <td>DZA</td>\n",
              "      <td>Algeria</td>\n",
              "    </tr>\n",
              "    <tr>\n",
              "      <th>3</th>\n",
              "      <td>DZA</td>\n",
              "      <td>Algeria</td>\n",
              "    </tr>\n",
              "    <tr>\n",
              "      <th>4</th>\n",
              "      <td>DZA</td>\n",
              "      <td>Algeria</td>\n",
              "    </tr>\n",
              "    <tr>\n",
              "      <th>...</th>\n",
              "      <td>...</td>\n",
              "      <td>...</td>\n",
              "    </tr>\n",
              "    <tr>\n",
              "      <th>457</th>\n",
              "      <td>ZWE</td>\n",
              "      <td>Zimbabwe</td>\n",
              "    </tr>\n",
              "    <tr>\n",
              "      <th>458</th>\n",
              "      <td>ZWE</td>\n",
              "      <td>Zimbabwe</td>\n",
              "    </tr>\n",
              "    <tr>\n",
              "      <th>459</th>\n",
              "      <td>ZWE</td>\n",
              "      <td>Zimbabwe</td>\n",
              "    </tr>\n",
              "    <tr>\n",
              "      <th>460</th>\n",
              "      <td>ZWE</td>\n",
              "      <td>Zimbabwe</td>\n",
              "    </tr>\n",
              "    <tr>\n",
              "      <th>461</th>\n",
              "      <td>ZWE</td>\n",
              "      <td>Zimbabwe</td>\n",
              "    </tr>\n",
              "  </tbody>\n",
              "</table>\n",
              "<p>462 rows × 2 columns</p>\n",
              "</div>"
            ],
            "text/plain": [
              "    ISO_Code   Country\n",
              "0        DZA   Algeria\n",
              "1        DZA   Algeria\n",
              "2        DZA   Algeria\n",
              "3        DZA   Algeria\n",
              "4        DZA   Algeria\n",
              "..       ...       ...\n",
              "457      ZWE  Zimbabwe\n",
              "458      ZWE  Zimbabwe\n",
              "459      ZWE  Zimbabwe\n",
              "460      ZWE  Zimbabwe\n",
              "461      ZWE  Zimbabwe\n",
              "\n",
              "[462 rows x 2 columns]"
            ]
          },
          "execution_count": 33,
          "metadata": {},
          "output_type": "execute_result"
        }
      ],
      "source": [
        "df[['ISO_Code', 'Country']]"
      ]
    },
    {
      "cell_type": "code",
      "execution_count": 34,
      "metadata": {
        "id": "6ObEkZpt-GYP"
      },
      "outputs": [],
      "source": [
        "# GDLCODE is 100% correlated with Country column\n",
        "#TODO: So, this is probably true, but I don't think that you 100% proved this for sure, unless I'm missing something? A way to prove it would be using a groupby or pivot table operation.\n",
        "df.drop('ISO_Code', axis=1, inplace = True)"
      ]
    },
    {
      "cell_type": "code",
      "execution_count": 35,
      "metadata": {
        "colab": {
          "base_uri": "https://localhost:8080/"
        },
        "id": "TNLiNomK-pEA",
        "outputId": "ae6dd13e-20e1-40ff-c135-215f78845dac"
      },
      "outputs": [
        {
          "data": {
            "text/plain": [
              "Subnat              255\n",
              "Wealth quartiles     92\n",
              "Urb/rur              46\n",
              "Poverty              46\n",
              "National             23\n",
              "Name: Level, dtype: int64"
            ]
          },
          "execution_count": 35,
          "metadata": {},
          "output_type": "execute_result"
        }
      ],
      "source": [
        "df['Level'].value_counts()"
      ]
    },
    {
      "cell_type": "code",
      "execution_count": 36,
      "metadata": {
        "colab": {
          "base_uri": "https://localhost:8080/"
        },
        "id": "7ODGMJi6-u5X",
        "outputId": "65dc67f8-821b-4566-fac2-5e89956e96d8"
      },
      "outputs": [
        {
          "data": {
            "text/plain": [
              "DZAt       1\n",
              "NGAr124    1\n",
              "NGAr104    1\n",
              "NGAr132    1\n",
              "NGAr123    1\n",
              "          ..\n",
              "GNBr107    1\n",
              "GNBr108    1\n",
              "GNBr105    1\n",
              "GNBr109    1\n",
              "ZWEr107    1\n",
              "Name: GDLCODE, Length: 462, dtype: int64"
            ]
          },
          "execution_count": 36,
          "metadata": {},
          "output_type": "execute_result"
        }
      ],
      "source": [
        "df['GDLCODE'].value_counts()"
      ]
    },
    {
      "cell_type": "code",
      "execution_count": 37,
      "metadata": {
        "id": "guQlYpbb-2pJ"
      },
      "outputs": [],
      "source": [
        "df.drop('GDLCODE', axis=1, inplace=True)"
      ]
    },
    {
      "cell_type": "code",
      "execution_count": 38,
      "metadata": {
        "colab": {
          "base_uri": "https://localhost:8080/"
        },
        "id": "TjPeXYyf_Feu",
        "outputId": "595a3156-c485-4f27-e24c-68e64e7d4f48"
      },
      "outputs": [
        {
          "data": {
            "text/plain": [
              "Total          23\n",
              "Lowest 25%     23\n",
              "Highest 25%    23\n",
              "Third 25%      23\n",
              "Second 25%     23\n",
              "               ..\n",
              "Grand Gedeh     1\n",
              "Grand Kru       1\n",
              "Lofa            1\n",
              "Margibi         1\n",
              "Midlands        1\n",
              "Name: Region, Length: 264, dtype: int64"
            ]
          },
          "execution_count": 38,
          "metadata": {},
          "output_type": "execute_result"
        }
      ],
      "source": [
        "df['Region'].value_counts()"
      ]
    },
    {
      "cell_type": "code",
      "execution_count": 39,
      "metadata": {
        "colab": {
          "base_uri": "https://localhost:8080/"
        },
        "id": "uL8f-dQhvB-h",
        "outputId": "a30effa1-c6ec-43d6-d271-928fb5a60c37"
      },
      "outputs": [
        {
          "data": {
            "text/plain": [
              "Index(['Country', 'Level', 'Region', 'Urbanization', 'Area pop millions',\n",
              "       'Area pop share', '% Aged 0-9', '% Aged 10-19', '% Aged 20-29',\n",
              "       '% Aged 30-39', '% Aged 40-49', '% Aged 50-59', '% Aged 60-69',\n",
              "       '% Aged 70-79', '% Aged 80-89', '% Aged 90+', 'HH size',\n",
              "       '% Electricity', '% 0-1 sleep room', '% 2 sleep rooms',\n",
              "       '% 3+ sleep rooms', '% Cook on wood'],\n",
              "      dtype='object')"
            ]
          },
          "execution_count": 39,
          "metadata": {},
          "output_type": "execute_result"
        }
      ],
      "source": [
        "df.columns"
      ]
    },
    {
      "cell_type": "code",
      "execution_count": 40,
      "metadata": {
        "id": "5SviSUJu_LpC"
      },
      "outputs": [],
      "source": [
        "df.drop(['Region', 'Area pop share'], axis=1, inplace=True)"
      ]
    },
    {
      "cell_type": "code",
      "execution_count": 41,
      "metadata": {
        "colab": {
          "base_uri": "https://localhost:8080/"
        },
        "id": "9JuhlcHZEf-M",
        "outputId": "235d5e9c-0699-4dc6-f87b-6f1b050ee29a"
      },
      "outputs": [
        {
          "name": "stdout",
          "output_type": "stream",
          "text": [
            "<class 'pandas.core.frame.DataFrame'>\n",
            "RangeIndex: 462 entries, 0 to 461\n",
            "Data columns (total 20 columns):\n",
            " #   Column             Non-Null Count  Dtype  \n",
            "---  ------             --------------  -----  \n",
            " 0   Country            462 non-null    object \n",
            " 1   Level              462 non-null    object \n",
            " 2   Urbanization       462 non-null    float64\n",
            " 3   Area pop millions  381 non-null    float64\n",
            " 4   % Aged 0-9         462 non-null    float64\n",
            " 5   % Aged 10-19       462 non-null    float64\n",
            " 6   % Aged 20-29       462 non-null    float64\n",
            " 7   % Aged 30-39       462 non-null    float64\n",
            " 8   % Aged 40-49       462 non-null    float64\n",
            " 9   % Aged 50-59       462 non-null    float64\n",
            " 10  % Aged 60-69       462 non-null    float64\n",
            " 11  % Aged 70-79       462 non-null    float64\n",
            " 12  % Aged 80-89       462 non-null    float64\n",
            " 13  % Aged 90+         462 non-null    float64\n",
            " 14  HH size            462 non-null    float64\n",
            " 15  % Electricity      462 non-null    float64\n",
            " 16  % 0-1 sleep room   462 non-null    float64\n",
            " 17  % 2 sleep rooms    462 non-null    float64\n",
            " 18  % 3+ sleep rooms   462 non-null    float64\n",
            " 19  % Cook on wood     334 non-null    float64\n",
            "dtypes: float64(18), object(2)\n",
            "memory usage: 72.3+ KB\n"
          ]
        }
      ],
      "source": [
        "df.info()"
      ]
    },
    {
      "cell_type": "code",
      "execution_count": 42,
      "metadata": {
        "colab": {
          "base_uri": "https://localhost:8080/"
        },
        "id": "OANJ80UpEncH",
        "outputId": "3b37d5c7-9580-4e03-c010-031e9bb9e0db"
      },
      "outputs": [
        {
          "data": {
            "text/plain": [
              "Country              0.000000\n",
              "Level                0.000000\n",
              "Urbanization         0.000000\n",
              "Area pop millions    0.175325\n",
              "% Aged 0-9           0.000000\n",
              "% Aged 10-19         0.000000\n",
              "% Aged 20-29         0.000000\n",
              "% Aged 30-39         0.000000\n",
              "% Aged 40-49         0.000000\n",
              "% Aged 50-59         0.000000\n",
              "% Aged 60-69         0.000000\n",
              "% Aged 70-79         0.000000\n",
              "% Aged 80-89         0.000000\n",
              "% Aged 90+           0.000000\n",
              "HH size              0.000000\n",
              "% Electricity        0.000000\n",
              "% 0-1 sleep room     0.000000\n",
              "% 2 sleep rooms      0.000000\n",
              "% 3+ sleep rooms     0.000000\n",
              "% Cook on wood       0.277056\n",
              "dtype: float64"
            ]
          },
          "execution_count": 42,
          "metadata": {},
          "output_type": "execute_result"
        }
      ],
      "source": [
        "df.isnull().sum()/len(df)"
      ]
    },
    {
      "cell_type": "code",
      "execution_count": 55,
      "metadata": {},
      "outputs": [],
      "source": [
        "#TODO: I'm not sure what this figure is doing. I guess it's a density plot of % cook on wood. But why explore this column?\n",
        "    # Please provide some commentary"
      ]
    },
    {
      "cell_type": "code",
      "execution_count": 43,
      "metadata": {
        "colab": {
          "base_uri": "https://localhost:8080/",
          "height": 650
        },
        "id": "_hIu-wY5f1-X",
        "outputId": "105cc0df-b7f5-42e4-8a86-1970652d0549"
      },
      "outputs": [
        {
          "name": "stderr",
          "output_type": "stream",
          "text": [
            "C:\\Users\\tkjoh\\AppData\\Local\\Temp\\ipykernel_21400\\2794563522.py:2: UserWarning: \n",
            "\n",
            "`distplot` is a deprecated function and will be removed in seaborn v0.14.0.\n",
            "\n",
            "Please adapt your code to use either `displot` (a figure-level function with\n",
            "similar flexibility) or `histplot` (an axes-level function for histograms).\n",
            "\n",
            "For a guide to updating your code to use the new functions, please see\n",
            "https://gist.github.com/mwaskom/de44147ed2974457ad6372750bbe5751\n",
            "\n",
            "  sns.distplot(df['% Cook on wood'], kde=True)\n"
          ]
        },
        {
          "data": {
            "text/plain": [
              "(0.0, 100.0)"
            ]
          },
          "execution_count": 43,
          "metadata": {},
          "output_type": "execute_result"
        },
        {
          "data": {
            "image/png": "[encoded data removed]",
            "text/plain": [
              "<Figure size 1200x700 with 1 Axes>"
            ]
          },
          "metadata": {},
          "output_type": "display_data"
        }
      ],
      "source": [
        "plt.figure(figsize=(12,7))\n",
        "sns.distplot(df['% Cook on wood'], kde=True)\n",
        "plt.xlim(0, 100)"
      ]
    },
    {
      "cell_type": "code",
      "execution_count": 44,
      "metadata": {
        "id": "6dV2C3WHFmkc"
      },
      "outputs": [],
      "source": [
        "# I replaced the missing values for the % of people who cook on wood with a median since the data is heavily skewed \n",
        "#TODO: That's good. I would make sure that this is made clear to the data exploration team. There's been some...contention about how much\n",
        "    #we're going to replace. During the last meeting, Preneeth, I believe, mentioned that we'd be keeping things sparse.\n",
        "df['% Cook on wood'].fillna(df['% Cook on wood'].median(), inplace=True)"
      ]
    },
    {
      "cell_type": "code",
      "execution_count": 45,
      "metadata": {
        "colab": {
          "base_uri": "https://localhost:8080/"
        },
        "id": "CvXMe2e4F2wl",
        "outputId": "8722b43e-726d-4757-ab59-dd93a8e36d19"
      },
      "outputs": [
        {
          "data": {
            "text/plain": [
              "Country              0.000000\n",
              "Level                0.000000\n",
              "Urbanization         0.000000\n",
              "Area pop millions    0.175325\n",
              "% Aged 0-9           0.000000\n",
              "% Aged 10-19         0.000000\n",
              "% Aged 20-29         0.000000\n",
              "% Aged 30-39         0.000000\n",
              "% Aged 40-49         0.000000\n",
              "% Aged 50-59         0.000000\n",
              "% Aged 60-69         0.000000\n",
              "% Aged 70-79         0.000000\n",
              "% Aged 80-89         0.000000\n",
              "% Aged 90+           0.000000\n",
              "HH size              0.000000\n",
              "% Electricity        0.000000\n",
              "% 0-1 sleep room     0.000000\n",
              "% 2 sleep rooms      0.000000\n",
              "% 3+ sleep rooms     0.000000\n",
              "% Cook on wood       0.000000\n",
              "dtype: float64"
            ]
          },
          "execution_count": 45,
          "metadata": {},
          "output_type": "execute_result"
        }
      ],
      "source": [
        "df.isnull().sum()/len(df)"
      ]
    },
    {
      "cell_type": "code",
      "execution_count": 46,
      "metadata": {
        "id": "EV_GXC7FRlTU"
      },
      "outputs": [],
      "source": [
        "# The two remaining categorical features of interest, Country and Level, are converted into dummy variables\n",
        "one_hot_df = pd.get_dummies(df[['Country', 'Level']], drop_first=True)"
      ]
    },
    {
      "cell_type": "code",
      "execution_count": 47,
      "metadata": {
        "colab": {
          "base_uri": "https://localhost:8080/",
          "height": 522
        },
        "id": "J2shZ5QaRqSv",
        "outputId": "e370019c-e583-4cf9-ade6-15e929453cb8"
      },
      "outputs": [
        {
          "data": {
            "text/html": [
              "<div>\n",
              "<style scoped>\n",
              "    .dataframe tbody tr th:only-of-type {\n",
              "        vertical-align: middle;\n",
              "    }\n",
              "\n",
              "    .dataframe tbody tr th {\n",
              "        vertical-align: top;\n",
              "    }\n",
              "\n",
              "    .dataframe thead th {\n",
              "        text-align: right;\n",
              "    }\n",
              "</style>\n",
              "<table border=\"1\" class=\"dataframe\">\n",
              "  <thead>\n",
              "    <tr style=\"text-align: right;\">\n",
              "      <th></th>\n",
              "      <th>Country_Benin</th>\n",
              "      <th>Country_Cameroon</th>\n",
              "      <th>Country_Central African Republic CAR</th>\n",
              "      <th>Country_Chad</th>\n",
              "      <th>Country_Congo Democratic Republic</th>\n",
              "      <th>Country_Gambia</th>\n",
              "      <th>Country_Guinea</th>\n",
              "      <th>Country_Guinea Bissau</th>\n",
              "      <th>Country_Lesotho</th>\n",
              "      <th>Country_Liberia</th>\n",
              "      <th>...</th>\n",
              "      <th>Country_Sao Tome &amp; Principe</th>\n",
              "      <th>Country_Senegal</th>\n",
              "      <th>Country_Sierra Leone</th>\n",
              "      <th>Country_Tunisia</th>\n",
              "      <th>Country_Zambia</th>\n",
              "      <th>Country_Zimbabwe</th>\n",
              "      <th>Level_Poverty</th>\n",
              "      <th>Level_Subnat</th>\n",
              "      <th>Level_Urb/rur</th>\n",
              "      <th>Level_Wealth quartiles</th>\n",
              "    </tr>\n",
              "  </thead>\n",
              "  <tbody>\n",
              "    <tr>\n",
              "      <th>0</th>\n",
              "      <td>0</td>\n",
              "      <td>0</td>\n",
              "      <td>0</td>\n",
              "      <td>0</td>\n",
              "      <td>0</td>\n",
              "      <td>0</td>\n",
              "      <td>0</td>\n",
              "      <td>0</td>\n",
              "      <td>0</td>\n",
              "      <td>0</td>\n",
              "      <td>...</td>\n",
              "      <td>0</td>\n",
              "      <td>0</td>\n",
              "      <td>0</td>\n",
              "      <td>0</td>\n",
              "      <td>0</td>\n",
              "      <td>0</td>\n",
              "      <td>0</td>\n",
              "      <td>0</td>\n",
              "      <td>0</td>\n",
              "      <td>0</td>\n",
              "    </tr>\n",
              "    <tr>\n",
              "      <th>1</th>\n",
              "      <td>0</td>\n",
              "      <td>0</td>\n",
              "      <td>0</td>\n",
              "      <td>0</td>\n",
              "      <td>0</td>\n",
              "      <td>0</td>\n",
              "      <td>0</td>\n",
              "      <td>0</td>\n",
              "      <td>0</td>\n",
              "      <td>0</td>\n",
              "      <td>...</td>\n",
              "      <td>0</td>\n",
              "      <td>0</td>\n",
              "      <td>0</td>\n",
              "      <td>0</td>\n",
              "      <td>0</td>\n",
              "      <td>0</td>\n",
              "      <td>0</td>\n",
              "      <td>0</td>\n",
              "      <td>1</td>\n",
              "      <td>0</td>\n",
              "    </tr>\n",
              "    <tr>\n",
              "      <th>2</th>\n",
              "      <td>0</td>\n",
              "      <td>0</td>\n",
              "      <td>0</td>\n",
              "      <td>0</td>\n",
              "      <td>0</td>\n",
              "      <td>0</td>\n",
              "      <td>0</td>\n",
              "      <td>0</td>\n",
              "      <td>0</td>\n",
              "      <td>0</td>\n",
              "      <td>...</td>\n",
              "      <td>0</td>\n",
              "      <td>0</td>\n",
              "      <td>0</td>\n",
              "      <td>0</td>\n",
              "      <td>0</td>\n",
              "      <td>0</td>\n",
              "      <td>0</td>\n",
              "      <td>0</td>\n",
              "      <td>1</td>\n",
              "      <td>0</td>\n",
              "    </tr>\n",
              "    <tr>\n",
              "      <th>3</th>\n",
              "      <td>0</td>\n",
              "      <td>0</td>\n",
              "      <td>0</td>\n",
              "      <td>0</td>\n",
              "      <td>0</td>\n",
              "      <td>0</td>\n",
              "      <td>0</td>\n",
              "      <td>0</td>\n",
              "      <td>0</td>\n",
              "      <td>0</td>\n",
              "      <td>...</td>\n",
              "      <td>0</td>\n",
              "      <td>0</td>\n",
              "      <td>0</td>\n",
              "      <td>0</td>\n",
              "      <td>0</td>\n",
              "      <td>0</td>\n",
              "      <td>1</td>\n",
              "      <td>0</td>\n",
              "      <td>0</td>\n",
              "      <td>0</td>\n",
              "    </tr>\n",
              "    <tr>\n",
              "      <th>4</th>\n",
              "      <td>0</td>\n",
              "      <td>0</td>\n",
              "      <td>0</td>\n",
              "      <td>0</td>\n",
              "      <td>0</td>\n",
              "      <td>0</td>\n",
              "      <td>0</td>\n",
              "      <td>0</td>\n",
              "      <td>0</td>\n",
              "      <td>0</td>\n",
              "      <td>...</td>\n",
              "      <td>0</td>\n",
              "      <td>0</td>\n",
              "      <td>0</td>\n",
              "      <td>0</td>\n",
              "      <td>0</td>\n",
              "      <td>0</td>\n",
              "      <td>1</td>\n",
              "      <td>0</td>\n",
              "      <td>0</td>\n",
              "      <td>0</td>\n",
              "    </tr>\n",
              "    <tr>\n",
              "      <th>...</th>\n",
              "      <td>...</td>\n",
              "      <td>...</td>\n",
              "      <td>...</td>\n",
              "      <td>...</td>\n",
              "      <td>...</td>\n",
              "      <td>...</td>\n",
              "      <td>...</td>\n",
              "      <td>...</td>\n",
              "      <td>...</td>\n",
              "      <td>...</td>\n",
              "      <td>...</td>\n",
              "      <td>...</td>\n",
              "      <td>...</td>\n",
              "      <td>...</td>\n",
              "      <td>...</td>\n",
              "      <td>...</td>\n",
              "      <td>...</td>\n",
              "      <td>...</td>\n",
              "      <td>...</td>\n",
              "      <td>...</td>\n",
              "      <td>...</td>\n",
              "    </tr>\n",
              "    <tr>\n",
              "      <th>457</th>\n",
              "      <td>0</td>\n",
              "      <td>0</td>\n",
              "      <td>0</td>\n",
              "      <td>0</td>\n",
              "      <td>0</td>\n",
              "      <td>0</td>\n",
              "      <td>0</td>\n",
              "      <td>0</td>\n",
              "      <td>0</td>\n",
              "      <td>0</td>\n",
              "      <td>...</td>\n",
              "      <td>0</td>\n",
              "      <td>0</td>\n",
              "      <td>0</td>\n",
              "      <td>0</td>\n",
              "      <td>0</td>\n",
              "      <td>1</td>\n",
              "      <td>0</td>\n",
              "      <td>1</td>\n",
              "      <td>0</td>\n",
              "      <td>0</td>\n",
              "    </tr>\n",
              "    <tr>\n",
              "      <th>458</th>\n",
              "      <td>0</td>\n",
              "      <td>0</td>\n",
              "      <td>0</td>\n",
              "      <td>0</td>\n",
              "      <td>0</td>\n",
              "      <td>0</td>\n",
              "      <td>0</td>\n",
              "      <td>0</td>\n",
              "      <td>0</td>\n",
              "      <td>0</td>\n",
              "      <td>...</td>\n",
              "      <td>0</td>\n",
              "      <td>0</td>\n",
              "      <td>0</td>\n",
              "      <td>0</td>\n",
              "      <td>0</td>\n",
              "      <td>1</td>\n",
              "      <td>0</td>\n",
              "      <td>1</td>\n",
              "      <td>0</td>\n",
              "      <td>0</td>\n",
              "    </tr>\n",
              "    <tr>\n",
              "      <th>459</th>\n",
              "      <td>0</td>\n",
              "      <td>0</td>\n",
              "      <td>0</td>\n",
              "      <td>0</td>\n",
              "      <td>0</td>\n",
              "      <td>0</td>\n",
              "      <td>0</td>\n",
              "      <td>0</td>\n",
              "      <td>0</td>\n",
              "      <td>0</td>\n",
              "      <td>...</td>\n",
              "      <td>0</td>\n",
              "      <td>0</td>\n",
              "      <td>0</td>\n",
              "      <td>0</td>\n",
              "      <td>0</td>\n",
              "      <td>1</td>\n",
              "      <td>0</td>\n",
              "      <td>1</td>\n",
              "      <td>0</td>\n",
              "      <td>0</td>\n",
              "    </tr>\n",
              "    <tr>\n",
              "      <th>460</th>\n",
              "      <td>0</td>\n",
              "      <td>0</td>\n",
              "      <td>0</td>\n",
              "      <td>0</td>\n",
              "      <td>0</td>\n",
              "      <td>0</td>\n",
              "      <td>0</td>\n",
              "      <td>0</td>\n",
              "      <td>0</td>\n",
              "      <td>0</td>\n",
              "      <td>...</td>\n",
              "      <td>0</td>\n",
              "      <td>0</td>\n",
              "      <td>0</td>\n",
              "      <td>0</td>\n",
              "      <td>0</td>\n",
              "      <td>1</td>\n",
              "      <td>0</td>\n",
              "      <td>1</td>\n",
              "      <td>0</td>\n",
              "      <td>0</td>\n",
              "    </tr>\n",
              "    <tr>\n",
              "      <th>461</th>\n",
              "      <td>0</td>\n",
              "      <td>0</td>\n",
              "      <td>0</td>\n",
              "      <td>0</td>\n",
              "      <td>0</td>\n",
              "      <td>0</td>\n",
              "      <td>0</td>\n",
              "      <td>0</td>\n",
              "      <td>0</td>\n",
              "      <td>0</td>\n",
              "      <td>...</td>\n",
              "      <td>0</td>\n",
              "      <td>0</td>\n",
              "      <td>0</td>\n",
              "      <td>0</td>\n",
              "      <td>0</td>\n",
              "      <td>1</td>\n",
              "      <td>0</td>\n",
              "      <td>1</td>\n",
              "      <td>0</td>\n",
              "      <td>0</td>\n",
              "    </tr>\n",
              "  </tbody>\n",
              "</table>\n",
              "<p>462 rows × 26 columns</p>\n",
              "</div>"
            ],
            "text/plain": [
              "     Country_Benin  Country_Cameroon  Country_Central African Republic CAR  \\\n",
              "0                0                 0                                     0   \n",
              "1                0                 0                                     0   \n",
              "2                0                 0                                     0   \n",
              "3                0                 0                                     0   \n",
              "4                0                 0                                     0   \n",
              "..             ...               ...                                   ...   \n",
              "457              0                 0                                     0   \n",
              "458              0                 0                                     0   \n",
              "459              0                 0                                     0   \n",
              "460              0                 0                                     0   \n",
              "461              0                 0                                     0   \n",
              "\n",
              "     Country_Chad  Country_Congo Democratic Republic  Country_Gambia  \\\n",
              "0               0                                  0               0   \n",
              "1               0                                  0               0   \n",
              "2               0                                  0               0   \n",
              "3               0                                  0               0   \n",
              "4               0                                  0               0   \n",
              "..            ...                                ...             ...   \n",
              "457             0                                  0               0   \n",
              "458             0                                  0               0   \n",
              "459             0                                  0               0   \n",
              "460             0                                  0               0   \n",
              "461             0                                  0               0   \n",
              "\n",
              "     Country_Guinea  Country_Guinea Bissau  Country_Lesotho  Country_Liberia  \\\n",
              "0                 0                      0                0                0   \n",
              "1                 0                      0                0                0   \n",
              "2                 0                      0                0                0   \n",
              "3                 0                      0                0                0   \n",
              "4                 0                      0                0                0   \n",
              "..              ...                    ...              ...              ...   \n",
              "457               0                      0                0                0   \n",
              "458               0                      0                0                0   \n",
              "459               0                      0                0                0   \n",
              "460               0                      0                0                0   \n",
              "461               0                      0                0                0   \n",
              "\n",
              "     ...  Country_Sao Tome & Principe  Country_Senegal  Country_Sierra Leone  \\\n",
              "0    ...                            0                0                     0   \n",
              "1    ...                            0                0                     0   \n",
              "2    ...                            0                0                     0   \n",
              "3    ...                            0                0                     0   \n",
              "4    ...                            0                0                     0   \n",
              "..   ...                          ...              ...                   ...   \n",
              "457  ...                            0                0                     0   \n",
              "458  ...                            0                0                     0   \n",
              "459  ...                            0                0                     0   \n",
              "460  ...                            0                0                     0   \n",
              "461  ...                            0                0                     0   \n",
              "\n",
              "     Country_Tunisia  Country_Zambia  Country_Zimbabwe  Level_Poverty  \\\n",
              "0                  0               0                 0              0   \n",
              "1                  0               0                 0              0   \n",
              "2                  0               0                 0              0   \n",
              "3                  0               0                 0              1   \n",
              "4                  0               0                 0              1   \n",
              "..               ...             ...               ...            ...   \n",
              "457                0               0                 1              0   \n",
              "458                0               0                 1              0   \n",
              "459                0               0                 1              0   \n",
              "460                0               0                 1              0   \n",
              "461                0               0                 1              0   \n",
              "\n",
              "     Level_Subnat  Level_Urb/rur  Level_Wealth quartiles  \n",
              "0               0              0                       0  \n",
              "1               0              1                       0  \n",
              "2               0              1                       0  \n",
              "3               0              0                       0  \n",
              "4               0              0                       0  \n",
              "..            ...            ...                     ...  \n",
              "457             1              0                       0  \n",
              "458             1              0                       0  \n",
              "459             1              0                       0  \n",
              "460             1              0                       0  \n",
              "461             1              0                       0  \n",
              "\n",
              "[462 rows x 26 columns]"
            ]
          },
          "execution_count": 47,
          "metadata": {},
          "output_type": "execute_result"
        }
      ],
      "source": [
        "one_hot_df"
      ]
    },
    {
      "cell_type": "code",
      "execution_count": 48,
      "metadata": {
        "id": "_nVTUG7TTw_1"
      },
      "outputs": [],
      "source": [
        "# The 2 dataframes are concatenated and the original non-encoded features are dropped\n",
        "df = pd.concat([df, one_hot_df], axis=1)\n",
        "df.drop(['Country', 'Level'], axis=1, inplace=True)"
      ]
    },
    {
      "cell_type": "code",
      "execution_count": 49,
      "metadata": {
        "colab": {
          "base_uri": "https://localhost:8080/"
        },
        "id": "AVuUnWILT6kO",
        "outputId": "e17201f1-986f-4ca0-adbd-652c06e52b16"
      },
      "outputs": [
        {
          "name": "stdout",
          "output_type": "stream",
          "text": [
            "<class 'pandas.core.frame.DataFrame'>\n",
            "RangeIndex: 462 entries, 0 to 461\n",
            "Data columns (total 44 columns):\n",
            " #   Column                                Non-Null Count  Dtype  \n",
            "---  ------                                --------------  -----  \n",
            " 0   Urbanization                          462 non-null    float64\n",
            " 1   Area pop millions                     381 non-null    float64\n",
            " 2   % Aged 0-9                            462 non-null    float64\n",
            " 3   % Aged 10-19                          462 non-null    float64\n",
            " 4   % Aged 20-29                          462 non-null    float64\n",
            " 5   % Aged 30-39                          462 non-null    float64\n",
            " 6   % Aged 40-49                          462 non-null    float64\n",
            " 7   % Aged 50-59                          462 non-null    float64\n",
            " 8   % Aged 60-69                          462 non-null    float64\n",
            " 9   % Aged 70-79                          462 non-null    float64\n",
            " 10  % Aged 80-89                          462 non-null    float64\n",
            " 11  % Aged 90+                            462 non-null    float64\n",
            " 12  HH size                               462 non-null    float64\n",
            " 13  % Electricity                         462 non-null    float64\n",
            " 14  % 0-1 sleep room                      462 non-null    float64\n",
            " 15  % 2 sleep rooms                       462 non-null    float64\n",
            " 16  % 3+ sleep rooms                      462 non-null    float64\n",
            " 17  % Cook on wood                        462 non-null    float64\n",
            " 18  Country_Benin                         462 non-null    uint8  \n",
            " 19  Country_Cameroon                      462 non-null    uint8  \n",
            " 20  Country_Central African Republic CAR  462 non-null    uint8  \n",
            " 21  Country_Chad                          462 non-null    uint8  \n",
            " 22  Country_Congo Democratic Republic     462 non-null    uint8  \n",
            " 23  Country_Gambia                        462 non-null    uint8  \n",
            " 24  Country_Guinea                        462 non-null    uint8  \n",
            " 25  Country_Guinea Bissau                 462 non-null    uint8  \n",
            " 26  Country_Lesotho                       462 non-null    uint8  \n",
            " 27  Country_Liberia                       462 non-null    uint8  \n",
            " 28  Country_Madagascar                    462 non-null    uint8  \n",
            " 29  Country_Malawi                        462 non-null    uint8  \n",
            " 30  Country_Mali                          462 non-null    uint8  \n",
            " 31  Country_Mauritania                    462 non-null    uint8  \n",
            " 32  Country_Nigeria                       462 non-null    uint8  \n",
            " 33  Country_Rwanda                        462 non-null    uint8  \n",
            " 34  Country_Sao Tome & Principe           462 non-null    uint8  \n",
            " 35  Country_Senegal                       462 non-null    uint8  \n",
            " 36  Country_Sierra Leone                  462 non-null    uint8  \n",
            " 37  Country_Tunisia                       462 non-null    uint8  \n",
            " 38  Country_Zambia                        462 non-null    uint8  \n",
            " 39  Country_Zimbabwe                      462 non-null    uint8  \n",
            " 40  Level_Poverty                         462 non-null    uint8  \n",
            " 41  Level_Subnat                          462 non-null    uint8  \n",
            " 42  Level_Urb/rur                         462 non-null    uint8  \n",
            " 43  Level_Wealth quartiles                462 non-null    uint8  \n",
            "dtypes: float64(18), uint8(26)\n",
            "memory usage: 76.8 KB\n"
          ]
        }
      ],
      "source": [
        "#TODO: It may be better to group the like columns and pivot the dataframe.\n",
        "df.info()"
      ]
    },
    {
      "attachments": {},
      "cell_type": "markdown",
      "metadata": {
        "id": "mGGlzv89aO5R"
      },
      "source": [
        "### Imputing missing values with IterativeImputer\n",
        "In this code below, we use IterativeImputer from fancyimpute to impute missing values using multiple imputation. The fit_transform method returns an array, which we convert back to a DataFrame and assign column names."
      ]
    },
    {
      "cell_type": "code",
      "execution_count": null,
      "metadata": {},
      "outputs": [],
      "source": [
        "#TODO: Originally, the import statement for iterative imputer was somewhere around here. It should probably be up top with the other import statements, so I moved it. That way, a person will know if they need to install anything from running that first cell."
      ]
    },
    {
      "cell_type": "code",
      "execution_count": null,
      "metadata": {},
      "outputs": [],
      "source": [
        "#TODO: I'm not familiar with this .corr() method. Some commentary would be great, but running correlations would probably fall under Task 3, not us."
      ]
    },
    {
      "cell_type": "code",
      "execution_count": 50,
      "metadata": {
        "colab": {
          "base_uri": "https://localhost:8080/"
        },
        "id": "LUHcrzK2eLO0",
        "outputId": "51743944-9cf2-4abc-d475-7d5541321b49"
      },
      "outputs": [
        {
          "data": {
            "text/plain": [
              "Urbanization                            0.029720\n",
              "Area pop millions                       1.000000\n",
              "% Aged 0-9                              0.102284\n",
              "% Aged 10-19                           -0.093201\n",
              "% Aged 20-29                           -0.098146\n",
              "% Aged 30-39                            0.055660\n",
              "% Aged 40-49                           -0.008093\n",
              "% Aged 50-59                            0.002075\n",
              "% Aged 60-69                           -0.040401\n",
              "% Aged 70-79                           -0.032810\n",
              "% Aged 80-89                           -0.071942\n",
              "% Aged 90+                             -0.092020\n",
              "HH size                                -0.006927\n",
              "% Electricity                           0.036946\n",
              "% 0-1 sleep room                        0.013210\n",
              "% 2 sleep rooms                         0.123889\n",
              "% 3+ sleep rooms                       -0.069495\n",
              "% Cook on wood                          0.022382\n",
              "Country_Benin                          -0.036247\n",
              "Country_Cameroon                       -0.002047\n",
              "Country_Central African Republic CAR   -0.065081\n",
              "Country_Chad                           -0.028416\n",
              "Country_Congo Democratic Republic       0.208587\n",
              "Country_Gambia                         -0.080242\n",
              "Country_Guinea                         -0.041250\n",
              "Country_Guinea Bissau                  -0.084803\n",
              "Country_Lesotho                        -0.087137\n",
              "Country_Liberia                              NaN\n",
              "Country_Madagascar                     -0.050435\n",
              "Country_Malawi                               NaN\n",
              "Country_Mali                           -0.015338\n",
              "Country_Mauritania                           NaN\n",
              "Country_Nigeria                         0.327012\n",
              "Country_Rwanda                               NaN\n",
              "Country_Sao Tome & Principe            -0.076614\n",
              "Country_Senegal                        -0.031005\n",
              "Country_Sierra Leone                   -0.079116\n",
              "Country_Tunisia                        -0.042106\n",
              "Country_Zambia                         -0.025860\n",
              "Country_Zimbabwe                       -0.043062\n",
              "Level_Poverty                           0.134637\n",
              "Level_Subnat                           -0.283000\n",
              "Level_Urb/rur                           0.134528\n",
              "Level_Wealth quartiles                 -0.001975\n",
              "Name: Area pop millions, dtype: float64"
            ]
          },
          "execution_count": 50,
          "metadata": {},
          "output_type": "execute_result"
        }
      ],
      "source": [
        "df.corr()['Area pop millions']"
      ]
    },
    {
      "cell_type": "code",
      "execution_count": 56,
      "metadata": {
        "colab": {
          "base_uri": "https://localhost:8080/",
          "height": 666
        },
        "id": "F6ULzHbkeQb_",
        "outputId": "87d88296-0397-4a49-c729-fbe991d67e8c"
      },
      "outputs": [
        {
          "name": "stderr",
          "output_type": "stream",
          "text": [
            "C:\\Users\\tkjoh\\AppData\\Local\\Temp\\ipykernel_21400\\227159989.py:3: UserWarning: \n",
            "\n",
            "`distplot` is a deprecated function and will be removed in seaborn v0.14.0.\n",
            "\n",
            "Please adapt your code to use either `displot` (a figure-level function with\n",
            "similar flexibility) or `histplot` (an axes-level function for histograms).\n",
            "\n",
            "For a guide to updating your code to use the new functions, please see\n",
            "https://gist.github.com/mwaskom/de44147ed2974457ad6372750bbe5751\n",
            "\n",
            "  sns.distplot(df['Area pop millions'], kde=True)\n"
          ]
        },
        {
          "data": {
            "text/plain": [
              "<AxesSubplot: title={'center': 'Distribution Plot of Area Pop millions'}, xlabel='Area pop millions', ylabel='Density'>"
            ]
          },
          "execution_count": 56,
          "metadata": {},
          "output_type": "execute_result"
        },
        {
          "data": {
            "image/png": "[encoded data removed]",
            "text/plain": [
              "<Figure size 1200x700 with 1 Axes>"
            ]
          },
          "metadata": {},
          "output_type": "display_data"
        }
      ],
      "source": [
        "plt.figure(figsize=(12,7))\n",
        "plt.title('Distribution Plot of Area Pop millions')\n",
        "sns.distplot(df['Area pop millions'], kde=True)\n"
      ]
    },
    {
      "cell_type": "code",
      "execution_count": 57,
      "metadata": {
        "id": "m26R4b6XLOwN"
      },
      "outputs": [],
      "source": [
        "imputer = IterativeImputer()"
      ]
    },
    {
      "cell_type": "code",
      "execution_count": 58,
      "metadata": {
        "id": "cG5Cz5jlLdTH"
      },
      "outputs": [],
      "source": [
        "imputed = imputer.fit_transform(df)"
      ]
    },
    {
      "cell_type": "code",
      "execution_count": 59,
      "metadata": {
        "id": "oJTapXj9VDNx"
      },
      "outputs": [],
      "source": [
        "df = pd.DataFrame(imputed, columns=df.columns)"
      ]
    },
    {
      "cell_type": "code",
      "execution_count": 60,
      "metadata": {
        "id": "HoSfkRWFOkSj"
      },
      "outputs": [
        {
          "data": {
            "text/plain": [
              "Urbanization                            0.0\n",
              "Area pop millions                       0.0\n",
              "% Aged 0-9                              0.0\n",
              "% Aged 10-19                            0.0\n",
              "% Aged 20-29                            0.0\n",
              "% Aged 30-39                            0.0\n",
              "% Aged 40-49                            0.0\n",
              "% Aged 50-59                            0.0\n",
              "% Aged 60-69                            0.0\n",
              "% Aged 70-79                            0.0\n",
              "% Aged 80-89                            0.0\n",
              "% Aged 90+                              0.0\n",
              "HH size                                 0.0\n",
              "% Electricity                           0.0\n",
              "% 0-1 sleep room                        0.0\n",
              "% 2 sleep rooms                         0.0\n",
              "% 3+ sleep rooms                        0.0\n",
              "% Cook on wood                          0.0\n",
              "Country_Benin                           0.0\n",
              "Country_Cameroon                        0.0\n",
              "Country_Central African Republic CAR    0.0\n",
              "Country_Chad                            0.0\n",
              "Country_Congo Democratic Republic       0.0\n",
              "Country_Gambia                          0.0\n",
              "Country_Guinea                          0.0\n",
              "Country_Guinea Bissau                   0.0\n",
              "Country_Lesotho                         0.0\n",
              "Country_Liberia                         0.0\n",
              "Country_Madagascar                      0.0\n",
              "Country_Malawi                          0.0\n",
              "Country_Mali                            0.0\n",
              "Country_Mauritania                      0.0\n",
              "Country_Nigeria                         0.0\n",
              "Country_Rwanda                          0.0\n",
              "Country_Sao Tome & Principe             0.0\n",
              "Country_Senegal                         0.0\n",
              "Country_Sierra Leone                    0.0\n",
              "Country_Tunisia                         0.0\n",
              "Country_Zambia                          0.0\n",
              "Country_Zimbabwe                        0.0\n",
              "Level_Poverty                           0.0\n",
              "Level_Subnat                            0.0\n",
              "Level_Urb/rur                           0.0\n",
              "Level_Wealth quartiles                  0.0\n",
              "dtype: float64"
            ]
          },
          "execution_count": 60,
          "metadata": {},
          "output_type": "execute_result"
        }
      ],
      "source": [
        "df.isnull().sum()/len(df)"
      ]
    },
    {
      "cell_type": "markdown",
      "metadata": {
        "id": "SFZPYnyUDITs"
      },
      "source": [
        "# Detecting Outliers"
      ]
    },
    {
      "cell_type": "code",
      "execution_count": null,
      "metadata": {
        "id": "XFpQkgyyDKJQ"
      },
      "outputs": [],
      "source": [
        "df.head()"
      ]
    },
    {
      "cell_type": "code",
      "execution_count": null,
      "metadata": {
        "id": "jYHeGY7SahW3"
      },
      "outputs": [],
      "source": [
        "#TODO: Still need to print out the data file."
      ]
    }
  ],
  "metadata": {
    "colab": {
      "provenance": []
    },
    "kernelspec": {
      "display_name": "Python 3",
      "language": "python",
      "name": "python3"
    },
    "language_info": {
      "codemirror_mode": {
        "name": "ipython",
        "version": 3
      },
      "file_extension": ".py",
      "mimetype": "text/x-python",
      "name": "python",
      "nbconvert_exporter": "python",
      "pygments_lexer": "ipython3",
      "version": "3.9.12"
    },
    "vscode": {
      "interpreter": {
        "hash": "e7b774a2e76f183a714c0d517176e51b6263855b7668bdc1ba3f0ec62e502b6f"
      }
    }
  },
  "nbformat": 4,
  "nbformat_minor": 0
}

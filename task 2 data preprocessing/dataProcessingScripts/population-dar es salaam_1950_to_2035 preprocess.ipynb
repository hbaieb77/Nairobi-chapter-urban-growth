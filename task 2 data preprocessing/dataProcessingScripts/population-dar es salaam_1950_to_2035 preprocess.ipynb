{
 "cells": [
  {
   "cell_type": "code",
   "execution_count": 1,
   "id": "3bfeb6cb",
   "metadata": {},
   "outputs": [],
   "source": [
    "import pandas as pd\n",
    "import seaborn as sns\n",
    "import matplotlib.pyplot as plt\n",
    "import warnings\n",
    "import scipy.stats as stats\n",
    "warnings.filterwarnings('ignore')\n",
    "sns.set_style('whitegrid')"
   ]
  },
  {
   "cell_type": "code",
   "execution_count": 2,
   "id": "c92d9893",
   "metadata": {},
   "outputs": [],
   "source": [
    "df = pd.read_csv('../../src/data/city_growth_models/population-dar es salaam_1950_to_2035.csv')"
   ]
  },
  {
   "cell_type": "code",
   "execution_count": 3,
   "id": "cb8e3b5a",
   "metadata": {},
   "outputs": [
    {
     "name": "stdout",
     "output_type": "stream",
     "text": [
      "growth        0\n",
      "growthRate    0\n",
      "population    0\n",
      "year          0\n",
      "dtype: int64\n"
     ]
    }
   ],
   "source": [
    "print(df.isna().sum())"
   ]
  },
  {
   "cell_type": "code",
   "execution_count": 4,
   "id": "7dfac429",
   "metadata": {},
   "outputs": [
    {
     "name": "stdout",
     "output_type": "stream",
     "text": [
      "<class 'pandas.core.frame.DataFrame'>\n",
      "RangeIndex: 86 entries, 0 to 85\n",
      "Data columns (total 4 columns):\n",
      " #   Column      Non-Null Count  Dtype  \n",
      "---  ------      --------------  -----  \n",
      " 0   growth      86 non-null     int64  \n",
      " 1   growthRate  86 non-null     float64\n",
      " 2   population  86 non-null     int64  \n",
      " 3   year        86 non-null     int64  \n",
      "dtypes: float64(1), int64(3)\n",
      "memory usage: 2.8 KB\n"
     ]
    }
   ],
   "source": [
    "df.info()"
   ]
  },
  {
   "cell_type": "code",
   "execution_count": 5,
   "id": "2006fdc4",
   "metadata": {},
   "outputs": [
    {
     "data": {
      "text/html": [
       "<div>\n",
       "<style scoped>\n",
       "    .dataframe tbody tr th:only-of-type {\n",
       "        vertical-align: middle;\n",
       "    }\n",
       "\n",
       "    .dataframe tbody tr th {\n",
       "        vertical-align: top;\n",
       "    }\n",
       "\n",
       "    .dataframe thead th {\n",
       "        text-align: right;\n",
       "    }\n",
       "</style>\n",
       "<table border=\"1\" class=\"dataframe\">\n",
       "  <thead>\n",
       "    <tr style=\"text-align: right;\">\n",
       "      <th></th>\n",
       "      <th>growth</th>\n",
       "      <th>growthRate</th>\n",
       "      <th>population</th>\n",
       "      <th>year</th>\n",
       "    </tr>\n",
       "  </thead>\n",
       "  <tbody>\n",
       "    <tr>\n",
       "      <th>count</th>\n",
       "      <td>86.000000</td>\n",
       "      <td>86.000000</td>\n",
       "      <td>8.600000e+01</td>\n",
       "      <td>86.000000</td>\n",
       "    </tr>\n",
       "    <tr>\n",
       "      <th>mean</th>\n",
       "      <td>154645.558140</td>\n",
       "      <td>0.060934</td>\n",
       "      <td>3.188282e+06</td>\n",
       "      <td>1992.500000</td>\n",
       "    </tr>\n",
       "    <tr>\n",
       "      <th>std</th>\n",
       "      <td>160804.721683</td>\n",
       "      <td>0.019377</td>\n",
       "      <td>3.632333e+06</td>\n",
       "      <td>24.969982</td>\n",
       "    </tr>\n",
       "    <tr>\n",
       "      <th>min</th>\n",
       "      <td>0.000000</td>\n",
       "      <td>0.000000</td>\n",
       "      <td>8.384400e+04</td>\n",
       "      <td>1950.000000</td>\n",
       "    </tr>\n",
       "    <tr>\n",
       "      <th>25%</th>\n",
       "      <td>36151.500000</td>\n",
       "      <td>0.046886</td>\n",
       "      <td>4.017530e+05</td>\n",
       "      <td>1971.250000</td>\n",
       "    </tr>\n",
       "    <tr>\n",
       "      <th>50%</th>\n",
       "      <td>72631.000000</td>\n",
       "      <td>0.057368</td>\n",
       "      <td>1.642773e+06</td>\n",
       "      <td>1992.500000</td>\n",
       "    </tr>\n",
       "    <tr>\n",
       "      <th>75%</th>\n",
       "      <td>258934.500000</td>\n",
       "      <td>0.075375</td>\n",
       "      <td>4.772521e+06</td>\n",
       "      <td>2013.750000</td>\n",
       "    </tr>\n",
       "    <tr>\n",
       "      <th>max</th>\n",
       "      <td>547378.000000</td>\n",
       "      <td>0.108869</td>\n",
       "      <td>1.338336e+07</td>\n",
       "      <td>2035.000000</td>\n",
       "    </tr>\n",
       "  </tbody>\n",
       "</table>\n",
       "</div>"
      ],
      "text/plain": [
       "              growth  growthRate    population         year\n",
       "count      86.000000   86.000000  8.600000e+01    86.000000\n",
       "mean   154645.558140    0.060934  3.188282e+06  1992.500000\n",
       "std    160804.721683    0.019377  3.632333e+06    24.969982\n",
       "min         0.000000    0.000000  8.384400e+04  1950.000000\n",
       "25%     36151.500000    0.046886  4.017530e+05  1971.250000\n",
       "50%     72631.000000    0.057368  1.642773e+06  1992.500000\n",
       "75%    258934.500000    0.075375  4.772521e+06  2013.750000\n",
       "max    547378.000000    0.108869  1.338336e+07  2035.000000"
      ]
     },
     "execution_count": 5,
     "metadata": {},
     "output_type": "execute_result"
    }
   ],
   "source": [
    "df.describe()"
   ]
  },
  {
   "cell_type": "markdown",
   "id": "da23a933",
   "metadata": {},
   "source": [
    "### Outliers"
   ]
  },
  {
   "cell_type": "code",
   "execution_count": 6,
   "id": "79297a68",
   "metadata": {},
   "outputs": [
    {
     "data": {
      "image/png": "[encoded data removed]",
      "text/plain": [
       "<Figure size 720x360 with 4 Axes>"
      ]
     },
     "metadata": {},
     "output_type": "display_data"
    }
   ],
   "source": [
    "columns = ['growth','growthRate','population','year']\n",
    "fig, axs = plt.subplots(ncols=len(columns), figsize=(10, 5))\n",
    "for i, col in enumerate(columns):\n",
    "    axs[i].boxplot(df[col])\n",
    "    axs[i].set_title(col)\n",
    "    \n",
    "plt.show()"
   ]
  },
  {
   "cell_type": "code",
   "execution_count": 7,
   "id": "c9b640df",
   "metadata": {},
   "outputs": [],
   "source": [
    "def detect_outliers(dataset, columns):\n",
    "    df = dataset.copy()\n",
    "    df[columns] = stats.zscore(df[columns])\n",
    "    outliers = df[(df[columns] < -3) | (df[columns] > 3)]\n",
    "    print(f\"The number of outliers: {outliers.shape[0]}\")\n",
    "    df = df[(df[columns] > -3) & (df[columns] < 3)].reset_index(drop=True)\n",
    "    return df"
   ]
  },
  {
   "cell_type": "code",
   "execution_count": 8,
   "id": "41db1859",
   "metadata": {},
   "outputs": [
    {
     "name": "stdout",
     "output_type": "stream",
     "text": [
      "The number of outliers: 0\n",
      "The number of outliers: 0\n",
      "The number of outliers: 1\n",
      "The number of outliers: 0\n"
     ]
    },
    {
     "data": {
      "text/html": [
       "<div>\n",
       "<style scoped>\n",
       "    .dataframe tbody tr th:only-of-type {\n",
       "        vertical-align: middle;\n",
       "    }\n",
       "\n",
       "    .dataframe tbody tr th {\n",
       "        vertical-align: top;\n",
       "    }\n",
       "\n",
       "    .dataframe thead th {\n",
       "        text-align: right;\n",
       "    }\n",
       "</style>\n",
       "<table border=\"1\" class=\"dataframe\">\n",
       "  <thead>\n",
       "    <tr style=\"text-align: right;\">\n",
       "      <th></th>\n",
       "      <th>growth</th>\n",
       "      <th>growthRate</th>\n",
       "      <th>population</th>\n",
       "      <th>year</th>\n",
       "    </tr>\n",
       "  </thead>\n",
       "  <tbody>\n",
       "    <tr>\n",
       "      <th>0</th>\n",
       "      <td>547378</td>\n",
       "      <td>0.042644</td>\n",
       "      <td>13383362</td>\n",
       "      <td>1.712026</td>\n",
       "    </tr>\n",
       "    <tr>\n",
       "      <th>1</th>\n",
       "      <td>533494</td>\n",
       "      <td>0.043365</td>\n",
       "      <td>12835984</td>\n",
       "      <td>1.671743</td>\n",
       "    </tr>\n",
       "    <tr>\n",
       "      <th>2</th>\n",
       "      <td>519308</td>\n",
       "      <td>0.044072</td>\n",
       "      <td>12302490</td>\n",
       "      <td>1.631460</td>\n",
       "    </tr>\n",
       "    <tr>\n",
       "      <th>3</th>\n",
       "      <td>504614</td>\n",
       "      <td>0.044741</td>\n",
       "      <td>11783182</td>\n",
       "      <td>1.591178</td>\n",
       "    </tr>\n",
       "    <tr>\n",
       "      <th>4</th>\n",
       "      <td>490045</td>\n",
       "      <td>0.045423</td>\n",
       "      <td>11278568</td>\n",
       "      <td>1.550895</td>\n",
       "    </tr>\n",
       "    <tr>\n",
       "      <th>...</th>\n",
       "      <td>...</td>\n",
       "      <td>...</td>\n",
       "      <td>...</td>\n",
       "      <td>...</td>\n",
       "    </tr>\n",
       "    <tr>\n",
       "      <th>81</th>\n",
       "      <td>5462</td>\n",
       "      <td>0.051415</td>\n",
       "      <td>111696</td>\n",
       "      <td>-1.550895</td>\n",
       "    </tr>\n",
       "    <tr>\n",
       "      <th>82</th>\n",
       "      <td>5188</td>\n",
       "      <td>0.051343</td>\n",
       "      <td>106234</td>\n",
       "      <td>-1.591178</td>\n",
       "    </tr>\n",
       "    <tr>\n",
       "      <th>83</th>\n",
       "      <td>8074</td>\n",
       "      <td>0.086843</td>\n",
       "      <td>101046</td>\n",
       "      <td>-1.631460</td>\n",
       "    </tr>\n",
       "    <tr>\n",
       "      <th>84</th>\n",
       "      <td>9128</td>\n",
       "      <td>0.108869</td>\n",
       "      <td>92972</td>\n",
       "      <td>-1.671743</td>\n",
       "    </tr>\n",
       "    <tr>\n",
       "      <th>85</th>\n",
       "      <td>0</td>\n",
       "      <td>0.000000</td>\n",
       "      <td>83844</td>\n",
       "      <td>-1.712026</td>\n",
       "    </tr>\n",
       "  </tbody>\n",
       "</table>\n",
       "<p>86 rows × 4 columns</p>\n",
       "</div>"
      ],
      "text/plain": [
       "    growth  growthRate  population      year\n",
       "0   547378    0.042644    13383362  1.712026\n",
       "1   533494    0.043365    12835984  1.671743\n",
       "2   519308    0.044072    12302490  1.631460\n",
       "3   504614    0.044741    11783182  1.591178\n",
       "4   490045    0.045423    11278568  1.550895\n",
       "..     ...         ...         ...       ...\n",
       "81    5462    0.051415      111696 -1.550895\n",
       "82    5188    0.051343      106234 -1.591178\n",
       "83    8074    0.086843      101046 -1.631460\n",
       "84    9128    0.108869       92972 -1.671743\n",
       "85       0    0.000000       83844 -1.712026\n",
       "\n",
       "[86 rows x 4 columns]"
      ]
     },
     "execution_count": 8,
     "metadata": {},
     "output_type": "execute_result"
    }
   ],
   "source": [
    "detect_outliers(df,'growth')\n",
    "detect_outliers(df,'population')\n",
    "detect_outliers(df,'growthRate')\n",
    "detect_outliers(df,'year')"
   ]
  },
  {
   "cell_type": "code",
   "execution_count": 9,
   "id": "6d79505e",
   "metadata": {},
   "outputs": [],
   "source": [
    "df['City'] = 'Dar es salaam'\n",
    "df['Country'] = 'Tanzania' \n",
    "df.rename(columns={'year':'Year' } , inplace=True )\n",
    "df.rename(columns={'growth':'population_growth' , 'growthRate' : 'population_growth_Rate' } , inplace=True )"
   ]
  },
  {
   "cell_type": "code",
   "execution_count": 10,
   "id": "e8fa6893",
   "metadata": {},
   "outputs": [],
   "source": [
    "df.to_csv('../../task 2 data preprocessing/processedData/population-dar es salaam_1950_to_2035_processed.csv',index=False)\n"
   ]
  }
 ],
 "metadata": {
  "kernelspec": {
   "display_name": "Python 3 (ipykernel)",
   "language": "python",
   "name": "python3"
  },
  "language_info": {
   "codemirror_mode": {
    "name": "ipython",
    "version": 3
   },
   "file_extension": ".py",
   "mimetype": "text/x-python",
   "name": "python",
   "nbconvert_exporter": "python",
   "pygments_lexer": "ipython3",
   "version": "3.9.12"
  }
 },
 "nbformat": 4,
 "nbformat_minor": 5
}

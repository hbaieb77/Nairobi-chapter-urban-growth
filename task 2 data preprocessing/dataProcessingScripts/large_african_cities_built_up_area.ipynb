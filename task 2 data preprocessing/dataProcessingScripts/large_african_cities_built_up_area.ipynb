{
  "cells": [
    {
      "cell_type": "code",
      "execution_count": 5,
      "metadata": {
        "id": "qrSWJtosomLU"
      },
      "outputs": [],
      "source": [
        "import numpy as np\n",
        "import pandas as pd\n",
        "import seaborn as sns\n",
        "from plotly.subplots import make_subplots\n",
        "import matplotlib.pyplot as plt "
      ]
    },
    {
      "cell_type": "code",
      "execution_count": 6,
      "metadata": {
        "id": "MRQwNyZQp7Nx"
      },
      "outputs": [],
      "source": [
        "data = pd.read_csv('../../src/data/city_growth_models/large-african_cities_built_up_area.csv',encoding = 'ISO-8859-1')"
      ]
    },
    {
      "cell_type": "code",
      "execution_count": 7,
      "metadata": {
        "colab": {
          "base_uri": "https://localhost:8080/",
          "height": 650
        },
        "id": "v5-oyylHbJsd",
        "outputId": "75afedc0-b488-4100-f440-635f163bafb9"
      },
      "outputs": [
        {
          "data": {
            "text/html": [
              "<div>\n",
              "<style scoped>\n",
              "    .dataframe tbody tr th:only-of-type {\n",
              "        vertical-align: middle;\n",
              "    }\n",
              "\n",
              "    .dataframe tbody tr th {\n",
              "        vertical-align: top;\n",
              "    }\n",
              "\n",
              "    .dataframe thead th {\n",
              "        text-align: right;\n",
              "    }\n",
              "</style>\n",
              "<table border=\"1\" class=\"dataframe\">\n",
              "  <thead>\n",
              "    <tr style=\"text-align: right;\">\n",
              "      <th></th>\n",
              "      <th>COU</th>\n",
              "      <th>Country</th>\n",
              "      <th>MEAS</th>\n",
              "      <th>Measure</th>\n",
              "      <th>Large subnational region</th>\n",
              "      <th>VAR</th>\n",
              "      <th>Variable</th>\n",
              "      <th>Year</th>\n",
              "      <th>Unit Code</th>\n",
              "      <th>Unit</th>\n",
              "      <th>Value</th>\n",
              "    </tr>\n",
              "  </thead>\n",
              "  <tbody>\n",
              "    <tr>\n",
              "      <th>0</th>\n",
              "      <td>DZA</td>\n",
              "      <td>Algeria</td>\n",
              "      <td>SQKM</td>\n",
              "      <td>Square kilometers</td>\n",
              "      <td>Khenchela</td>\n",
              "      <td>BUILT_UP_BEFORE</td>\n",
              "      <td>Area built-up before</td>\n",
              "      <td>1975</td>\n",
              "      <td>KM2</td>\n",
              "      <td>Square kilometres</td>\n",
              "      <td>2.743200</td>\n",
              "    </tr>\n",
              "    <tr>\n",
              "      <th>1</th>\n",
              "      <td>DZA</td>\n",
              "      <td>Algeria</td>\n",
              "      <td>SQKM</td>\n",
              "      <td>Square kilometers</td>\n",
              "      <td>Khenchela</td>\n",
              "      <td>BUILT_UP_BEFORE</td>\n",
              "      <td>Area built-up before</td>\n",
              "      <td>1990</td>\n",
              "      <td>KM2</td>\n",
              "      <td>Square kilometres</td>\n",
              "      <td>12.910500</td>\n",
              "    </tr>\n",
              "    <tr>\n",
              "      <th>2</th>\n",
              "      <td>DZA</td>\n",
              "      <td>Algeria</td>\n",
              "      <td>SQKM</td>\n",
              "      <td>Square kilometers</td>\n",
              "      <td>Khenchela</td>\n",
              "      <td>BUILT_UP_BEFORE</td>\n",
              "      <td>Area built-up before</td>\n",
              "      <td>2000</td>\n",
              "      <td>KM2</td>\n",
              "      <td>Square kilometres</td>\n",
              "      <td>22.636800</td>\n",
              "    </tr>\n",
              "    <tr>\n",
              "      <th>3</th>\n",
              "      <td>DZA</td>\n",
              "      <td>Algeria</td>\n",
              "      <td>SQKM</td>\n",
              "      <td>Square kilometers</td>\n",
              "      <td>Khenchela</td>\n",
              "      <td>BUILT_UP_BEFORE</td>\n",
              "      <td>Area built-up before</td>\n",
              "      <td>2014</td>\n",
              "      <td>KM2</td>\n",
              "      <td>Square kilometres</td>\n",
              "      <td>30.177000</td>\n",
              "    </tr>\n",
              "    <tr>\n",
              "      <th>4</th>\n",
              "      <td>DZA</td>\n",
              "      <td>Algeria</td>\n",
              "      <td>SQKM</td>\n",
              "      <td>Square kilometers</td>\n",
              "      <td>Khenchela</td>\n",
              "      <td>BUILT_UP_SINCE_1990</td>\n",
              "      <td>Built-up since 1990</td>\n",
              "      <td>2000</td>\n",
              "      <td>KM2</td>\n",
              "      <td>Square kilometres</td>\n",
              "      <td>9.726300</td>\n",
              "    </tr>\n",
              "    <tr>\n",
              "      <th>5</th>\n",
              "      <td>DZA</td>\n",
              "      <td>Algeria</td>\n",
              "      <td>SQKM</td>\n",
              "      <td>Square kilometers</td>\n",
              "      <td>Khenchela</td>\n",
              "      <td>BUILT_UP_SINCE_1990</td>\n",
              "      <td>Built-up since 1990</td>\n",
              "      <td>2014</td>\n",
              "      <td>KM2</td>\n",
              "      <td>Square kilometres</td>\n",
              "      <td>17.266500</td>\n",
              "    </tr>\n",
              "    <tr>\n",
              "      <th>6</th>\n",
              "      <td>DZA</td>\n",
              "      <td>Algeria</td>\n",
              "      <td>SQKM</td>\n",
              "      <td>Square kilometers</td>\n",
              "      <td>Khenchela</td>\n",
              "      <td>BUILT_UP_SINCE_2000</td>\n",
              "      <td>Built-up since 2000</td>\n",
              "      <td>2014</td>\n",
              "      <td>KM2</td>\n",
              "      <td>Square kilometres</td>\n",
              "      <td>7.540200</td>\n",
              "    </tr>\n",
              "    <tr>\n",
              "      <th>7</th>\n",
              "      <td>DZA</td>\n",
              "      <td>Algeria</td>\n",
              "      <td>SQKM</td>\n",
              "      <td>Square kilometers</td>\n",
              "      <td>Khenchela</td>\n",
              "      <td>BUILT_UP_SINCE_1975</td>\n",
              "      <td>Built-up since 1975</td>\n",
              "      <td>1990</td>\n",
              "      <td>KM2</td>\n",
              "      <td>Square kilometres</td>\n",
              "      <td>10.167300</td>\n",
              "    </tr>\n",
              "    <tr>\n",
              "      <th>8</th>\n",
              "      <td>DZA</td>\n",
              "      <td>Algeria</td>\n",
              "      <td>PCNT</td>\n",
              "      <td>Percent of total land area</td>\n",
              "      <td>Khenchela</td>\n",
              "      <td>BUILT_UP_BEFORE</td>\n",
              "      <td>Area built-up before</td>\n",
              "      <td>1975</td>\n",
              "      <td>PC</td>\n",
              "      <td>Percentage</td>\n",
              "      <td>0.028587</td>\n",
              "    </tr>\n",
              "    <tr>\n",
              "      <th>9</th>\n",
              "      <td>DZA</td>\n",
              "      <td>Algeria</td>\n",
              "      <td>PCNT</td>\n",
              "      <td>Percent of total land area</td>\n",
              "      <td>Khenchela</td>\n",
              "      <td>BUILT_UP_BEFORE</td>\n",
              "      <td>Area built-up before</td>\n",
              "      <td>1990</td>\n",
              "      <td>PC</td>\n",
              "      <td>Percentage</td>\n",
              "      <td>0.134541</td>\n",
              "    </tr>\n",
              "  </tbody>\n",
              "</table>\n",
              "</div>"
            ],
            "text/plain": [
              "   COU  Country  MEAS                     Measure Large subnational region  \\\n",
              "0  DZA  Algeria  SQKM           Square kilometers                Khenchela   \n",
              "1  DZA  Algeria  SQKM           Square kilometers                Khenchela   \n",
              "2  DZA  Algeria  SQKM           Square kilometers                Khenchela   \n",
              "3  DZA  Algeria  SQKM           Square kilometers                Khenchela   \n",
              "4  DZA  Algeria  SQKM           Square kilometers                Khenchela   \n",
              "5  DZA  Algeria  SQKM           Square kilometers                Khenchela   \n",
              "6  DZA  Algeria  SQKM           Square kilometers                Khenchela   \n",
              "7  DZA  Algeria  SQKM           Square kilometers                Khenchela   \n",
              "8  DZA  Algeria  PCNT  Percent of total land area                Khenchela   \n",
              "9  DZA  Algeria  PCNT  Percent of total land area                Khenchela   \n",
              "\n",
              "                   VAR              Variable  Year Unit Code  \\\n",
              "0      BUILT_UP_BEFORE  Area built-up before  1975       KM2   \n",
              "1      BUILT_UP_BEFORE  Area built-up before  1990       KM2   \n",
              "2      BUILT_UP_BEFORE  Area built-up before  2000       KM2   \n",
              "3      BUILT_UP_BEFORE  Area built-up before  2014       KM2   \n",
              "4  BUILT_UP_SINCE_1990   Built-up since 1990  2000       KM2   \n",
              "5  BUILT_UP_SINCE_1990   Built-up since 1990  2014       KM2   \n",
              "6  BUILT_UP_SINCE_2000   Built-up since 2000  2014       KM2   \n",
              "7  BUILT_UP_SINCE_1975   Built-up since 1975  1990       KM2   \n",
              "8      BUILT_UP_BEFORE  Area built-up before  1975        PC   \n",
              "9      BUILT_UP_BEFORE  Area built-up before  1990        PC   \n",
              "\n",
              "                Unit      Value  \n",
              "0  Square kilometres   2.743200  \n",
              "1  Square kilometres  12.910500  \n",
              "2  Square kilometres  22.636800  \n",
              "3  Square kilometres  30.177000  \n",
              "4  Square kilometres   9.726300  \n",
              "5  Square kilometres  17.266500  \n",
              "6  Square kilometres   7.540200  \n",
              "7  Square kilometres  10.167300  \n",
              "8         Percentage   0.028587  \n",
              "9         Percentage   0.134541  "
            ]
          },
          "execution_count": 7,
          "metadata": {},
          "output_type": "execute_result"
        }
      ],
      "source": [
        "data.head(10)  "
      ]
    },
    {
      "cell_type": "code",
      "execution_count": 8,
      "metadata": {
        "colab": {
          "base_uri": "https://localhost:8080/"
        },
        "id": "jblsW5n5b9YQ",
        "outputId": "2e718f58-7af0-4e9d-e3eb-757e7bdff9a3"
      },
      "outputs": [
        {
          "data": {
            "text/plain": [
              "Index(['COU', 'Country', 'MEAS', 'Measure', 'Large subnational region', 'VAR',\n",
              "       'Variable', 'Year', 'Unit Code', 'Unit', 'Value'],\n",
              "      dtype='object')"
            ]
          },
          "execution_count": 8,
          "metadata": {},
          "output_type": "execute_result"
        }
      ],
      "source": [
        "data.columns"
      ]
    },
    {
      "cell_type": "code",
      "execution_count": 9,
      "metadata": {
        "colab": {
          "base_uri": "https://localhost:8080/"
        },
        "id": "vjwwPkqpddlW",
        "outputId": "00866e47-4bb5-4d21-96f7-03d0edd1f45b"
      },
      "outputs": [
        {
          "data": {
            "text/plain": [
              "(13564, 11)"
            ]
          },
          "execution_count": 9,
          "metadata": {},
          "output_type": "execute_result"
        }
      ],
      "source": [
        "data.shape"
      ]
    },
    {
      "cell_type": "code",
      "execution_count": 10,
      "metadata": {
        "id": "JGXeKARHdgo7"
      },
      "outputs": [],
      "source": [
        "df = data.copy()"
      ]
    },
    {
      "cell_type": "markdown",
      "metadata": {
        "id": "eBDWOcr6qIM1"
      },
      "source": [
        "Droping coloumns that are of no use"
      ]
    },
    {
      "cell_type": "code",
      "execution_count": 11,
      "metadata": {
        "id": "5Y6lgenKdmMj"
      },
      "outputs": [],
      "source": [
        "df.drop(['COU','MEAS','VAR', 'Unit Code', 'Unit'], axis = 1, inplace = True)"
      ]
    },
    {
      "cell_type": "code",
      "execution_count": 12,
      "metadata": {
        "colab": {
          "base_uri": "https://localhost:8080/"
        },
        "id": "PfwVR4kPeBeV",
        "outputId": "236d259f-b2f6-49f7-ee3a-0d147ba2b038"
      },
      "outputs": [
        {
          "data": {
            "text/plain": [
              "Country                      0\n",
              "Measure                      0\n",
              "Large subnational region     0\n",
              "Variable                     0\n",
              "Year                         0\n",
              "Value                       64\n",
              "dtype: int64"
            ]
          },
          "execution_count": 12,
          "metadata": {},
          "output_type": "execute_result"
        }
      ],
      "source": [
        "df.isnull().sum()"
      ]
    },
    {
      "cell_type": "markdown",
      "metadata": {
        "id": "q5-9XCkSqRSL"
      },
      "source": [
        "Removing nan values."
      ]
    },
    {
      "cell_type": "code",
      "execution_count": 13,
      "metadata": {
        "id": "1p5fWtCWgmFE"
      },
      "outputs": [],
      "source": [
        "df = df.dropna()"
      ]
    },
    {
      "cell_type": "code",
      "execution_count": 14,
      "metadata": {
        "colab": {
          "base_uri": "https://localhost:8080/"
        },
        "id": "byUi0PXEeNLD",
        "outputId": "81b02a2a-5773-41db-b42f-b191cd29b02c"
      },
      "outputs": [
        {
          "data": {
            "text/plain": [
              "0"
            ]
          },
          "execution_count": 14,
          "metadata": {},
          "output_type": "execute_result"
        }
      ],
      "source": [
        "df.duplicated().sum()"
      ]
    },
    {
      "cell_type": "code",
      "execution_count": 15,
      "metadata": {
        "colab": {
          "base_uri": "https://localhost:8080/",
          "height": 206
        },
        "id": "GRkgxN9lfQmF",
        "outputId": "2f7c64e0-7b2f-443f-d62d-0976ea2dc393"
      },
      "outputs": [
        {
          "data": {
            "text/html": [
              "<div>\n",
              "<style scoped>\n",
              "    .dataframe tbody tr th:only-of-type {\n",
              "        vertical-align: middle;\n",
              "    }\n",
              "\n",
              "    .dataframe tbody tr th {\n",
              "        vertical-align: top;\n",
              "    }\n",
              "\n",
              "    .dataframe thead th {\n",
              "        text-align: right;\n",
              "    }\n",
              "</style>\n",
              "<table border=\"1\" class=\"dataframe\">\n",
              "  <thead>\n",
              "    <tr style=\"text-align: right;\">\n",
              "      <th></th>\n",
              "      <th>Country</th>\n",
              "      <th>Measure</th>\n",
              "      <th>Large subnational region</th>\n",
              "      <th>Variable</th>\n",
              "      <th>Year</th>\n",
              "      <th>Value</th>\n",
              "    </tr>\n",
              "  </thead>\n",
              "  <tbody>\n",
              "    <tr>\n",
              "      <th>0</th>\n",
              "      <td>Algeria</td>\n",
              "      <td>Square kilometers</td>\n",
              "      <td>Khenchela</td>\n",
              "      <td>Area built-up before</td>\n",
              "      <td>1975</td>\n",
              "      <td>2.7432</td>\n",
              "    </tr>\n",
              "    <tr>\n",
              "      <th>1</th>\n",
              "      <td>Algeria</td>\n",
              "      <td>Square kilometers</td>\n",
              "      <td>Khenchela</td>\n",
              "      <td>Area built-up before</td>\n",
              "      <td>1990</td>\n",
              "      <td>12.9105</td>\n",
              "    </tr>\n",
              "    <tr>\n",
              "      <th>2</th>\n",
              "      <td>Algeria</td>\n",
              "      <td>Square kilometers</td>\n",
              "      <td>Khenchela</td>\n",
              "      <td>Area built-up before</td>\n",
              "      <td>2000</td>\n",
              "      <td>22.6368</td>\n",
              "    </tr>\n",
              "    <tr>\n",
              "      <th>3</th>\n",
              "      <td>Algeria</td>\n",
              "      <td>Square kilometers</td>\n",
              "      <td>Khenchela</td>\n",
              "      <td>Area built-up before</td>\n",
              "      <td>2014</td>\n",
              "      <td>30.1770</td>\n",
              "    </tr>\n",
              "    <tr>\n",
              "      <th>4</th>\n",
              "      <td>Algeria</td>\n",
              "      <td>Square kilometers</td>\n",
              "      <td>Khenchela</td>\n",
              "      <td>Built-up since 1990</td>\n",
              "      <td>2000</td>\n",
              "      <td>9.7263</td>\n",
              "    </tr>\n",
              "  </tbody>\n",
              "</table>\n",
              "</div>"
            ],
            "text/plain": [
              "   Country            Measure Large subnational region              Variable  \\\n",
              "0  Algeria  Square kilometers                Khenchela  Area built-up before   \n",
              "1  Algeria  Square kilometers                Khenchela  Area built-up before   \n",
              "2  Algeria  Square kilometers                Khenchela  Area built-up before   \n",
              "3  Algeria  Square kilometers                Khenchela  Area built-up before   \n",
              "4  Algeria  Square kilometers                Khenchela   Built-up since 1990   \n",
              "\n",
              "   Year    Value  \n",
              "0  1975   2.7432  \n",
              "1  1990  12.9105  \n",
              "2  2000  22.6368  \n",
              "3  2014  30.1770  \n",
              "4  2000   9.7263  "
            ]
          },
          "execution_count": 15,
          "metadata": {},
          "output_type": "execute_result"
        }
      ],
      "source": [
        "df.head()"
      ]
    },
    {
      "cell_type": "code",
      "execution_count": 16,
      "metadata": {
        "colab": {
          "base_uri": "https://localhost:8080/",
          "height": 300
        },
        "id": "K3Ji4xmaf8Ei",
        "outputId": "134befa3-06ff-465f-9904-ffb7b4ac58bd"
      },
      "outputs": [
        {
          "data": {
            "text/html": [
              "<div>\n",
              "<style scoped>\n",
              "    .dataframe tbody tr th:only-of-type {\n",
              "        vertical-align: middle;\n",
              "    }\n",
              "\n",
              "    .dataframe tbody tr th {\n",
              "        vertical-align: top;\n",
              "    }\n",
              "\n",
              "    .dataframe thead th {\n",
              "        text-align: right;\n",
              "    }\n",
              "</style>\n",
              "<table border=\"1\" class=\"dataframe\">\n",
              "  <thead>\n",
              "    <tr style=\"text-align: right;\">\n",
              "      <th></th>\n",
              "      <th>Value</th>\n",
              "    </tr>\n",
              "  </thead>\n",
              "  <tbody>\n",
              "    <tr>\n",
              "      <th>count</th>\n",
              "      <td>13500.000000</td>\n",
              "    </tr>\n",
              "    <tr>\n",
              "      <th>mean</th>\n",
              "      <td>12.640693</td>\n",
              "    </tr>\n",
              "    <tr>\n",
              "      <th>std</th>\n",
              "      <td>52.096012</td>\n",
              "    </tr>\n",
              "    <tr>\n",
              "      <th>min</th>\n",
              "      <td>0.000000</td>\n",
              "    </tr>\n",
              "    <tr>\n",
              "      <th>25%</th>\n",
              "      <td>0.017729</td>\n",
              "    </tr>\n",
              "    <tr>\n",
              "      <th>50%</th>\n",
              "      <td>0.278093</td>\n",
              "    </tr>\n",
              "    <tr>\n",
              "      <th>75%</th>\n",
              "      <td>5.228775</td>\n",
              "    </tr>\n",
              "    <tr>\n",
              "      <th>max</th>\n",
              "      <td>1895.282100</td>\n",
              "    </tr>\n",
              "  </tbody>\n",
              "</table>\n",
              "</div>"
            ],
            "text/plain": [
              "              Value\n",
              "count  13500.000000\n",
              "mean      12.640693\n",
              "std       52.096012\n",
              "min        0.000000\n",
              "25%        0.017729\n",
              "50%        0.278093\n",
              "75%        5.228775\n",
              "max     1895.282100"
            ]
          },
          "execution_count": 16,
          "metadata": {},
          "output_type": "execute_result"
        }
      ],
      "source": [
        "df.describe()"
      ]
    },
    {
      "cell_type": "code",
      "execution_count": 17,
      "metadata": {
        "colab": {
          "base_uri": "https://localhost:8080/"
        },
        "id": "UGwHCowQeO64",
        "outputId": "bf641407-7ad0-46e0-d380-f1c2f666858c"
      },
      "outputs": [
        {
          "data": {
            "text/plain": [
              "array(['Algeria', 'Angola', 'Benin', 'Botswana', 'Burkina Faso',\n",
              "       'Burundi', 'Cameroon', 'Cabo Verde', 'Central African Republic',\n",
              "       'Chad', 'Comoros', 'Congo', \"Côte d'Ivoire\",\n",
              "       \"Democratic People's Republic of Korea\",\n",
              "       'Democratic Republic of the Congo', 'Djibouti', 'Egypt',\n",
              "       'Equatorial Guinea', 'Eritrea', 'Ethiopia', 'Gabon', 'Gambia',\n",
              "       'Ghana', 'Guinea', 'Guinea-Bissau', 'Kenya', 'Lesotho', 'Liberia',\n",
              "       'Libya', 'Madagascar', 'Malawi', 'Mali', 'Mauritania', 'Mauritius',\n",
              "       'Morocco', 'Mozambique', 'Namibia', 'Niger', 'Nigeria', 'Rwanda',\n",
              "       'Sao Tome and Principe', 'Senegal', 'Seychelles', 'Sierra Leone',\n",
              "       'Somalia', 'South Africa', 'Sudan', 'Eswatini', 'Tanzania', 'Togo',\n",
              "       'Tunisia', 'Uganda', 'Zambia', 'Zimbabwe', 'South Sudan ', 'Malta',\n",
              "       'Marshall Islands'], dtype=object)"
            ]
          },
          "execution_count": 17,
          "metadata": {},
          "output_type": "execute_result"
        }
      ],
      "source": [
        "df.Country.unique()\n"
      ]
    },
    {
      "cell_type": "code",
      "execution_count": 18,
      "metadata": {
        "colab": {
          "base_uri": "https://localhost:8080/"
        },
        "id": "hSGoZUK-et_4",
        "outputId": "125fd8f7-7721-4aef-a26f-ce8f625dcd7c"
      },
      "outputs": [
        {
          "data": {
            "text/plain": [
              "Country                      object\n",
              "Measure                      object\n",
              "Large subnational region     object\n",
              "Variable                     object\n",
              "Year                         object\n",
              "Value                       float64\n",
              "dtype: object"
            ]
          },
          "execution_count": 18,
          "metadata": {},
          "output_type": "execute_result"
        }
      ],
      "source": [
        "df.dtypes"
      ]
    },
    {
      "cell_type": "code",
      "execution_count": 19,
      "metadata": {
        "colab": {
          "base_uri": "https://localhost:8080/"
        },
        "id": "1ac2-ZQ3hqVe",
        "outputId": "89d0ca41-130a-4504-b1a6-340add7b4bcf"
      },
      "outputs": [
        {
          "data": {
            "text/plain": [
              "Area built-up before    6864\n",
              "Built-up since 1990     3382\n",
              "Built-up since 2000     1635\n",
              "Built-up since 1975     1619\n",
              "Name: Variable, dtype: int64"
            ]
          },
          "execution_count": 19,
          "metadata": {},
          "output_type": "execute_result"
        }
      ],
      "source": [
        "df.Variable.value_counts()"
      ]
    },
    {
      "cell_type": "code",
      "execution_count": 20,
      "metadata": {
        "colab": {
          "base_uri": "https://localhost:8080/"
        },
        "id": "72gC2uK_h1Go",
        "outputId": "81073109-79f3-49d8-b437-f0991c9996e9"
      },
      "outputs": [
        {
          "data": {
            "text/plain": [
              "array(['1975', '1990', '2000', '2014'], dtype=object)"
            ]
          },
          "execution_count": 20,
          "metadata": {},
          "output_type": "execute_result"
        }
      ],
      "source": [
        "df.Year.unique()"
      ]
    },
    {
      "cell_type": "code",
      "execution_count": 24,
      "metadata": {},
      "outputs": [
        {
          "data": {
            "text/html": [
              "<div>\n",
              "<style scoped>\n",
              "    .dataframe tbody tr th:only-of-type {\n",
              "        vertical-align: middle;\n",
              "    }\n",
              "\n",
              "    .dataframe tbody tr th {\n",
              "        vertical-align: top;\n",
              "    }\n",
              "\n",
              "    .dataframe thead th {\n",
              "        text-align: right;\n",
              "    }\n",
              "</style>\n",
              "<table border=\"1\" class=\"dataframe\">\n",
              "  <thead>\n",
              "    <tr style=\"text-align: right;\">\n",
              "      <th></th>\n",
              "      <th>Country</th>\n",
              "      <th>Measure</th>\n",
              "      <th>Large subnational region</th>\n",
              "      <th>Variable</th>\n",
              "      <th>Year</th>\n",
              "      <th>Value</th>\n",
              "    </tr>\n",
              "  </thead>\n",
              "  <tbody>\n",
              "    <tr>\n",
              "      <th>0</th>\n",
              "      <td>Algeria</td>\n",
              "      <td>Square kilometers</td>\n",
              "      <td>Khenchela</td>\n",
              "      <td>Area built-up before</td>\n",
              "      <td>1975</td>\n",
              "      <td>2.743200</td>\n",
              "    </tr>\n",
              "    <tr>\n",
              "      <th>1</th>\n",
              "      <td>Algeria</td>\n",
              "      <td>Square kilometers</td>\n",
              "      <td>Khenchela</td>\n",
              "      <td>Area built-up before</td>\n",
              "      <td>1990</td>\n",
              "      <td>12.910500</td>\n",
              "    </tr>\n",
              "    <tr>\n",
              "      <th>2</th>\n",
              "      <td>Algeria</td>\n",
              "      <td>Square kilometers</td>\n",
              "      <td>Khenchela</td>\n",
              "      <td>Area built-up before</td>\n",
              "      <td>2000</td>\n",
              "      <td>22.636800</td>\n",
              "    </tr>\n",
              "    <tr>\n",
              "      <th>3</th>\n",
              "      <td>Algeria</td>\n",
              "      <td>Square kilometers</td>\n",
              "      <td>Khenchela</td>\n",
              "      <td>Area built-up before</td>\n",
              "      <td>2014</td>\n",
              "      <td>30.177000</td>\n",
              "    </tr>\n",
              "    <tr>\n",
              "      <th>4</th>\n",
              "      <td>Algeria</td>\n",
              "      <td>Square kilometers</td>\n",
              "      <td>Khenchela</td>\n",
              "      <td>Built-up since 1990</td>\n",
              "      <td>2000</td>\n",
              "      <td>9.726300</td>\n",
              "    </tr>\n",
              "    <tr>\n",
              "      <th>...</th>\n",
              "      <td>...</td>\n",
              "      <td>...</td>\n",
              "      <td>...</td>\n",
              "      <td>...</td>\n",
              "      <td>...</td>\n",
              "      <td>...</td>\n",
              "    </tr>\n",
              "    <tr>\n",
              "      <th>13559</th>\n",
              "      <td>South Sudan</td>\n",
              "      <td>Square kilometers</td>\n",
              "      <td>Unity</td>\n",
              "      <td>Built-up since 1975</td>\n",
              "      <td>1990</td>\n",
              "      <td>0.031500</td>\n",
              "    </tr>\n",
              "    <tr>\n",
              "      <th>13560</th>\n",
              "      <td>South Sudan</td>\n",
              "      <td>Square kilometers</td>\n",
              "      <td>Eastern Equatoria</td>\n",
              "      <td>Built-up since 1975</td>\n",
              "      <td>1990</td>\n",
              "      <td>0.153000</td>\n",
              "    </tr>\n",
              "    <tr>\n",
              "      <th>13561</th>\n",
              "      <td>South Sudan</td>\n",
              "      <td>Square kilometers</td>\n",
              "      <td>Western Equatoria</td>\n",
              "      <td>Built-up since 2000</td>\n",
              "      <td>2014</td>\n",
              "      <td>2.411100</td>\n",
              "    </tr>\n",
              "    <tr>\n",
              "      <th>13562</th>\n",
              "      <td>South Sudan</td>\n",
              "      <td>Percent of total land area</td>\n",
              "      <td>Western Equatoria</td>\n",
              "      <td>Built-up since 2000</td>\n",
              "      <td>2014</td>\n",
              "      <td>0.003055</td>\n",
              "    </tr>\n",
              "    <tr>\n",
              "      <th>13563</th>\n",
              "      <td>South Sudan</td>\n",
              "      <td>Percent of total land area</td>\n",
              "      <td>Western Equatoria</td>\n",
              "      <td>Built-up since 1975</td>\n",
              "      <td>1990</td>\n",
              "      <td>0.001467</td>\n",
              "    </tr>\n",
              "  </tbody>\n",
              "</table>\n",
              "<p>13500 rows × 6 columns</p>\n",
              "</div>"
            ],
            "text/plain": [
              "            Country                     Measure Large subnational region  \\\n",
              "0           Algeria           Square kilometers                Khenchela   \n",
              "1           Algeria           Square kilometers                Khenchela   \n",
              "2           Algeria           Square kilometers                Khenchela   \n",
              "3           Algeria           Square kilometers                Khenchela   \n",
              "4           Algeria           Square kilometers                Khenchela   \n",
              "...             ...                         ...                      ...   \n",
              "13559  South Sudan            Square kilometers                    Unity   \n",
              "13560  South Sudan            Square kilometers        Eastern Equatoria   \n",
              "13561  South Sudan            Square kilometers        Western Equatoria   \n",
              "13562  South Sudan   Percent of total land area        Western Equatoria   \n",
              "13563  South Sudan   Percent of total land area        Western Equatoria   \n",
              "\n",
              "                   Variable  Year      Value  \n",
              "0      Area built-up before  1975   2.743200  \n",
              "1      Area built-up before  1990  12.910500  \n",
              "2      Area built-up before  2000  22.636800  \n",
              "3      Area built-up before  2014  30.177000  \n",
              "4       Built-up since 1990  2000   9.726300  \n",
              "...                     ...   ...        ...  \n",
              "13559   Built-up since 1975  1990   0.031500  \n",
              "13560   Built-up since 1975  1990   0.153000  \n",
              "13561   Built-up since 2000  2014   2.411100  \n",
              "13562   Built-up since 2000  2014   0.003055  \n",
              "13563   Built-up since 1975  1990   0.001467  \n",
              "\n",
              "[13500 rows x 6 columns]"
            ]
          },
          "execution_count": 24,
          "metadata": {},
          "output_type": "execute_result"
        }
      ],
      "source": [
        "df "
      ]
    },
    {
      "cell_type": "code",
      "execution_count": 25,
      "metadata": {},
      "outputs": [],
      "source": [
        "df.to_csv('../../task 2 data preprocessing/processedData/large-african_cities_built_up_area_processed.csv',index=False)\n"
      ]
    },
    {
      "cell_type": "code",
      "execution_count": 21,
      "metadata": {
        "id": "8U_1vTKYh6Yv"
      },
      "outputs": [],
      "source": [
        "#df1 = df.groupby(['Country', 'Large subnational region','Variable','Year'])"
      ]
    },
    {
      "cell_type": "code",
      "execution_count": 22,
      "metadata": {
        "id": "flONGRump4AV"
      },
      "outputs": [],
      "source": [
        "#table = pd.pivot_table(df, values=['Year','Value'], index=['Country', 'Large subnational region','Measure'])\n",
        "                      "
      ]
    },
    {
      "cell_type": "code",
      "execution_count": 23,
      "metadata": {
        "colab": {
          "base_uri": "https://localhost:8080/",
          "height": 455
        },
        "id": "DSZgRPUSkqpU",
        "outputId": "b1072e4b-04ab-4045-e62c-e0956a42491f"
      },
      "outputs": [],
      "source": [
        "# table"
      ]
    },
    {
      "cell_type": "code",
      "execution_count": null,
      "metadata": {
        "id": "Y7eUzGuZl2YR"
      },
      "outputs": [],
      "source": []
    }
  ],
  "metadata": {
    "colab": {
      "provenance": []
    },
    "kernelspec": {
      "display_name": "Python 3",
      "name": "python3"
    },
    "language_info": {
      "codemirror_mode": {
        "name": "ipython",
        "version": 3
      },
      "file_extension": ".py",
      "mimetype": "text/x-python",
      "name": "python",
      "nbconvert_exporter": "python",
      "pygments_lexer": "ipython3",
      "version": "3.9.12"
    }
  },
  "nbformat": 4,
  "nbformat_minor": 0
}
